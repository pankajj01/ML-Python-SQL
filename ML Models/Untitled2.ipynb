{
 "cells": [
  {
   "cell_type": "code",
   "execution_count": 1,
   "id": "3f4e9655",
   "metadata": {},
   "outputs": [],
   "source": [
    "import pandas as pd\n",
    "import numpy as np"
   ]
  },
  {
   "cell_type": "code",
   "execution_count": 23,
   "id": "23b30bb0",
   "metadata": {},
   "outputs": [],
   "source": [
    "df=pd.read_csv('movie.csv')"
   ]
  },
  {
   "cell_type": "code",
   "execution_count": 24,
   "id": "68367eae",
   "metadata": {},
   "outputs": [
    {
     "data": {
      "text/html": [
       "<div>\n",
       "<style scoped>\n",
       "    .dataframe tbody tr th:only-of-type {\n",
       "        vertical-align: middle;\n",
       "    }\n",
       "\n",
       "    .dataframe tbody tr th {\n",
       "        vertical-align: top;\n",
       "    }\n",
       "\n",
       "    .dataframe thead th {\n",
       "        text-align: right;\n",
       "    }\n",
       "</style>\n",
       "<table border=\"1\" class=\"dataframe\">\n",
       "  <thead>\n",
       "    <tr style=\"text-align: right;\">\n",
       "      <th></th>\n",
       "      <th>review</th>\n",
       "      <th>sentiment</th>\n",
       "    </tr>\n",
       "  </thead>\n",
       "  <tbody>\n",
       "    <tr>\n",
       "      <th>0</th>\n",
       "      <td>One of the other reviewers has mentioned that ...</td>\n",
       "      <td>positive</td>\n",
       "    </tr>\n",
       "    <tr>\n",
       "      <th>1</th>\n",
       "      <td>A wonderful little production. &lt;br /&gt;&lt;br /&gt;The...</td>\n",
       "      <td>positive</td>\n",
       "    </tr>\n",
       "    <tr>\n",
       "      <th>2</th>\n",
       "      <td>I thought this was a wonderful way to spend ti...</td>\n",
       "      <td>positive</td>\n",
       "    </tr>\n",
       "    <tr>\n",
       "      <th>3</th>\n",
       "      <td>Basically there's a family where a little boy ...</td>\n",
       "      <td>negative</td>\n",
       "    </tr>\n",
       "    <tr>\n",
       "      <th>4</th>\n",
       "      <td>Petter Mattei's \"Love in the Time of Money\" is...</td>\n",
       "      <td>positive</td>\n",
       "    </tr>\n",
       "  </tbody>\n",
       "</table>\n",
       "</div>"
      ],
      "text/plain": [
       "                                              review sentiment\n",
       "0  One of the other reviewers has mentioned that ...  positive\n",
       "1  A wonderful little production. <br /><br />The...  positive\n",
       "2  I thought this was a wonderful way to spend ti...  positive\n",
       "3  Basically there's a family where a little boy ...  negative\n",
       "4  Petter Mattei's \"Love in the Time of Money\" is...  positive"
      ]
     },
     "execution_count": 24,
     "metadata": {},
     "output_type": "execute_result"
    }
   ],
   "source": [
    "df.head()"
   ]
  },
  {
   "cell_type": "code",
   "execution_count": 25,
   "id": "b55d7350",
   "metadata": {},
   "outputs": [],
   "source": [
    "df=df.sample(10000)"
   ]
  },
  {
   "cell_type": "code",
   "execution_count": 26,
   "id": "b0cdc68a",
   "metadata": {},
   "outputs": [
    {
     "data": {
      "text/html": [
       "<div>\n",
       "<style scoped>\n",
       "    .dataframe tbody tr th:only-of-type {\n",
       "        vertical-align: middle;\n",
       "    }\n",
       "\n",
       "    .dataframe tbody tr th {\n",
       "        vertical-align: top;\n",
       "    }\n",
       "\n",
       "    .dataframe thead th {\n",
       "        text-align: right;\n",
       "    }\n",
       "</style>\n",
       "<table border=\"1\" class=\"dataframe\">\n",
       "  <thead>\n",
       "    <tr style=\"text-align: right;\">\n",
       "      <th></th>\n",
       "      <th>review</th>\n",
       "      <th>sentiment</th>\n",
       "    </tr>\n",
       "  </thead>\n",
       "  <tbody>\n",
       "    <tr>\n",
       "      <th>4632</th>\n",
       "      <td>&lt;br /&gt;&lt;br /&gt;I used to like some of the Hollywo...</td>\n",
       "      <td>negative</td>\n",
       "    </tr>\n",
       "    <tr>\n",
       "      <th>23297</th>\n",
       "      <td>Last time I checked in here I think there was ...</td>\n",
       "      <td>positive</td>\n",
       "    </tr>\n",
       "    <tr>\n",
       "      <th>32763</th>\n",
       "      <td>This movie is really bad. The hero can't play....</td>\n",
       "      <td>negative</td>\n",
       "    </tr>\n",
       "    <tr>\n",
       "      <th>10215</th>\n",
       "      <td>This movie makes Canadians and Brits out to be...</td>\n",
       "      <td>negative</td>\n",
       "    </tr>\n",
       "    <tr>\n",
       "      <th>39996</th>\n",
       "      <td>There is no plot. There are no central charact...</td>\n",
       "      <td>positive</td>\n",
       "    </tr>\n",
       "    <tr>\n",
       "      <th>...</th>\n",
       "      <td>...</td>\n",
       "      <td>...</td>\n",
       "    </tr>\n",
       "    <tr>\n",
       "      <th>35745</th>\n",
       "      <td>It really doesn't matter that Superman comic b...</td>\n",
       "      <td>negative</td>\n",
       "    </tr>\n",
       "    <tr>\n",
       "      <th>46311</th>\n",
       "      <td>An opera diva has an accident, which leaves th...</td>\n",
       "      <td>positive</td>\n",
       "    </tr>\n",
       "    <tr>\n",
       "      <th>2137</th>\n",
       "      <td>A gritty look at New York City and dock worker...</td>\n",
       "      <td>positive</td>\n",
       "    </tr>\n",
       "    <tr>\n",
       "      <th>20972</th>\n",
       "      <td>Shazbot, is this embarrassing. In fact, here's...</td>\n",
       "      <td>negative</td>\n",
       "    </tr>\n",
       "    <tr>\n",
       "      <th>10646</th>\n",
       "      <td>Whoever says pokemon is stupid can die. This m...</td>\n",
       "      <td>positive</td>\n",
       "    </tr>\n",
       "  </tbody>\n",
       "</table>\n",
       "<p>10000 rows × 2 columns</p>\n",
       "</div>"
      ],
      "text/plain": [
       "                                                  review sentiment\n",
       "4632   <br /><br />I used to like some of the Hollywo...  negative\n",
       "23297  Last time I checked in here I think there was ...  positive\n",
       "32763  This movie is really bad. The hero can't play....  negative\n",
       "10215  This movie makes Canadians and Brits out to be...  negative\n",
       "39996  There is no plot. There are no central charact...  positive\n",
       "...                                                  ...       ...\n",
       "35745  It really doesn't matter that Superman comic b...  negative\n",
       "46311  An opera diva has an accident, which leaves th...  positive\n",
       "2137   A gritty look at New York City and dock worker...  positive\n",
       "20972  Shazbot, is this embarrassing. In fact, here's...  negative\n",
       "10646  Whoever says pokemon is stupid can die. This m...  positive\n",
       "\n",
       "[10000 rows x 2 columns]"
      ]
     },
     "execution_count": 26,
     "metadata": {},
     "output_type": "execute_result"
    }
   ],
   "source": [
    "df"
   ]
  },
  {
   "cell_type": "code",
   "execution_count": 27,
   "id": "99208ae7",
   "metadata": {},
   "outputs": [
    {
     "data": {
      "text/html": [
       "<div>\n",
       "<style scoped>\n",
       "    .dataframe tbody tr th:only-of-type {\n",
       "        vertical-align: middle;\n",
       "    }\n",
       "\n",
       "    .dataframe tbody tr th {\n",
       "        vertical-align: top;\n",
       "    }\n",
       "\n",
       "    .dataframe thead th {\n",
       "        text-align: right;\n",
       "    }\n",
       "</style>\n",
       "<table border=\"1\" class=\"dataframe\">\n",
       "  <thead>\n",
       "    <tr style=\"text-align: right;\">\n",
       "      <th></th>\n",
       "      <th>review</th>\n",
       "      <th>sentiment</th>\n",
       "    </tr>\n",
       "  </thead>\n",
       "  <tbody>\n",
       "    <tr>\n",
       "      <th>4632</th>\n",
       "      <td>&lt;br /&gt;&lt;br /&gt;I used to like some of the Hollywo...</td>\n",
       "      <td>negative</td>\n",
       "    </tr>\n",
       "    <tr>\n",
       "      <th>23297</th>\n",
       "      <td>Last time I checked in here I think there was ...</td>\n",
       "      <td>positive</td>\n",
       "    </tr>\n",
       "    <tr>\n",
       "      <th>32763</th>\n",
       "      <td>This movie is really bad. The hero can't play....</td>\n",
       "      <td>negative</td>\n",
       "    </tr>\n",
       "    <tr>\n",
       "      <th>10215</th>\n",
       "      <td>This movie makes Canadians and Brits out to be...</td>\n",
       "      <td>negative</td>\n",
       "    </tr>\n",
       "    <tr>\n",
       "      <th>39996</th>\n",
       "      <td>There is no plot. There are no central charact...</td>\n",
       "      <td>positive</td>\n",
       "    </tr>\n",
       "  </tbody>\n",
       "</table>\n",
       "</div>"
      ],
      "text/plain": [
       "                                                  review sentiment\n",
       "4632   <br /><br />I used to like some of the Hollywo...  negative\n",
       "23297  Last time I checked in here I think there was ...  positive\n",
       "32763  This movie is really bad. The hero can't play....  negative\n",
       "10215  This movie makes Canadians and Brits out to be...  negative\n",
       "39996  There is no plot. There are no central charact...  positive"
      ]
     },
     "execution_count": 27,
     "metadata": {},
     "output_type": "execute_result"
    }
   ],
   "source": [
    "df.head()"
   ]
  },
  {
   "cell_type": "code",
   "execution_count": 28,
   "id": "b13226fe",
   "metadata": {},
   "outputs": [
    {
     "data": {
      "text/plain": [
       "(10000, 2)"
      ]
     },
     "execution_count": 28,
     "metadata": {},
     "output_type": "execute_result"
    }
   ],
   "source": [
    "df.shape"
   ]
  },
  {
   "cell_type": "code",
   "execution_count": 29,
   "id": "1ebbf67a",
   "metadata": {},
   "outputs": [],
   "source": [
    "df['sentiment'].replace({'positive':'1','negative':'0'},inplace=True)"
   ]
  },
  {
   "cell_type": "code",
   "execution_count": 30,
   "id": "a41e47b7",
   "metadata": {},
   "outputs": [
    {
     "data": {
      "text/html": [
       "<div>\n",
       "<style scoped>\n",
       "    .dataframe tbody tr th:only-of-type {\n",
       "        vertical-align: middle;\n",
       "    }\n",
       "\n",
       "    .dataframe tbody tr th {\n",
       "        vertical-align: top;\n",
       "    }\n",
       "\n",
       "    .dataframe thead th {\n",
       "        text-align: right;\n",
       "    }\n",
       "</style>\n",
       "<table border=\"1\" class=\"dataframe\">\n",
       "  <thead>\n",
       "    <tr style=\"text-align: right;\">\n",
       "      <th></th>\n",
       "      <th>review</th>\n",
       "      <th>sentiment</th>\n",
       "    </tr>\n",
       "  </thead>\n",
       "  <tbody>\n",
       "    <tr>\n",
       "      <th>4632</th>\n",
       "      <td>&lt;br /&gt;&lt;br /&gt;I used to like some of the Hollywo...</td>\n",
       "      <td>0</td>\n",
       "    </tr>\n",
       "    <tr>\n",
       "      <th>23297</th>\n",
       "      <td>Last time I checked in here I think there was ...</td>\n",
       "      <td>1</td>\n",
       "    </tr>\n",
       "    <tr>\n",
       "      <th>32763</th>\n",
       "      <td>This movie is really bad. The hero can't play....</td>\n",
       "      <td>0</td>\n",
       "    </tr>\n",
       "    <tr>\n",
       "      <th>10215</th>\n",
       "      <td>This movie makes Canadians and Brits out to be...</td>\n",
       "      <td>0</td>\n",
       "    </tr>\n",
       "    <tr>\n",
       "      <th>39996</th>\n",
       "      <td>There is no plot. There are no central charact...</td>\n",
       "      <td>1</td>\n",
       "    </tr>\n",
       "    <tr>\n",
       "      <th>...</th>\n",
       "      <td>...</td>\n",
       "      <td>...</td>\n",
       "    </tr>\n",
       "    <tr>\n",
       "      <th>35745</th>\n",
       "      <td>It really doesn't matter that Superman comic b...</td>\n",
       "      <td>0</td>\n",
       "    </tr>\n",
       "    <tr>\n",
       "      <th>46311</th>\n",
       "      <td>An opera diva has an accident, which leaves th...</td>\n",
       "      <td>1</td>\n",
       "    </tr>\n",
       "    <tr>\n",
       "      <th>2137</th>\n",
       "      <td>A gritty look at New York City and dock worker...</td>\n",
       "      <td>1</td>\n",
       "    </tr>\n",
       "    <tr>\n",
       "      <th>20972</th>\n",
       "      <td>Shazbot, is this embarrassing. In fact, here's...</td>\n",
       "      <td>0</td>\n",
       "    </tr>\n",
       "    <tr>\n",
       "      <th>10646</th>\n",
       "      <td>Whoever says pokemon is stupid can die. This m...</td>\n",
       "      <td>1</td>\n",
       "    </tr>\n",
       "  </tbody>\n",
       "</table>\n",
       "<p>10000 rows × 2 columns</p>\n",
       "</div>"
      ],
      "text/plain": [
       "                                                  review sentiment\n",
       "4632   <br /><br />I used to like some of the Hollywo...         0\n",
       "23297  Last time I checked in here I think there was ...         1\n",
       "32763  This movie is really bad. The hero can't play....         0\n",
       "10215  This movie makes Canadians and Brits out to be...         0\n",
       "39996  There is no plot. There are no central charact...         1\n",
       "...                                                  ...       ...\n",
       "35745  It really doesn't matter that Superman comic b...         0\n",
       "46311  An opera diva has an accident, which leaves th...         1\n",
       "2137   A gritty look at New York City and dock worker...         1\n",
       "20972  Shazbot, is this embarrassing. In fact, here's...         0\n",
       "10646  Whoever says pokemon is stupid can die. This m...         1\n",
       "\n",
       "[10000 rows x 2 columns]"
      ]
     },
     "execution_count": 30,
     "metadata": {},
     "output_type": "execute_result"
    }
   ],
   "source": [
    "df"
   ]
  },
  {
   "cell_type": "code",
   "execution_count": 12,
   "id": "a7c5b960",
   "metadata": {},
   "outputs": [
    {
     "data": {
      "text/plain": [
       "\"I loved the Batman tv series and was really looking forward to this. But they tried to do too much.Why they had the story of Adam West and Burt Ward trying to recover the batmobile was beyond me. I don't want to knock Burt or Adam for the way they look now.....It's been 35 years since they appeared at Batman and Robin, but to see them dressed in dress suits and fighting 'badguys' was kinda sad. I would rather of just seen the ex-stars do commentary. The batmobile side story was stupid.As for the flashback movie, I think it was too short and left out way too much. It was really just a quick overview in my opinion. I'd like more background. They showed the Penguin and Joker for about a minute each just to tell the same stuff I already knew. The Joker had a mustache under his makeup and the penguin had to smoke even though he hated it and was an ex-smoker. That was it on those 2.I'd love to read the book. I am sure it has more in it that this showed. Like why was there 2 Riddlers or why 3 Catwoman's or 3 Mister Freezes. Where was Commishioner Gordon, Cheif OHara, Alfred, Mister Freeze, King Tut, etc. the List goes on. Like I said even the ones that were in this one were barely in it.Very disappointing. And really corny.\""
      ]
     },
     "execution_count": 12,
     "metadata": {},
     "output_type": "execute_result"
    }
   ],
   "source": [
    "import re\n",
    "clean=re.compile('<.*?>')\n",
    "re.sub(clean,'',df.iloc[2].review)"
   ]
  },
  {
   "cell_type": "code",
   "execution_count": 41,
   "id": "6efa4f83",
   "metadata": {},
   "outputs": [],
   "source": [
    "def clear_html(text):\n",
    "    clean=re.compile('<./\\*?>')\n",
    "    return re.sub(clean, '', text)\n",
    "    "
   ]
  },
  {
   "cell_type": "code",
   "execution_count": 42,
   "id": "63b2279c",
   "metadata": {},
   "outputs": [],
   "source": [
    "df['review']=df['review'].apply(clear_html)"
   ]
  },
  {
   "cell_type": "code",
   "execution_count": 44,
   "id": "d581c36c",
   "metadata": {},
   "outputs": [
    {
     "data": {
      "text/plain": [
       "'Jean Renoir\\'s homage to the Paris of the late 19th century is beautiful in many ways. Not only does it appear to have been photographed by Toulouse-Lautrec and Mucha, it portrays the geographic Paris; the streets accessible only by staircases, the unpleasant end of fleeting popularity, and the sexual opportunism of men with a product to sell, in an uncompromising picture of show business that is in stark contrast with the picture painted by Hollywood. There is an obvious comparison to be made with Lloyd Bacon\\'s \"42nd Street,\" which had been made about 20 years before, featuring Ruby Keeler as a dancing sensation, a fresh-faced kid from the sticks who had come to New York to get into show business, who saves the show when the star fails--\"You\\'re going out there a kid from the chorus, but you\\'ve got to come back a STAR!!\" Warner Baxter\\'s \"Julian Marsh\" is a director who suffers for his art and is unappreciated. Jean Gabin\\'s \"Danglard\" keeps running afoul of genital politics, but when he talks about the show he is more like Knute Rockne than like Julian Marsh. He\\'s all about the game, except--for his pointy thing. He has a profitable new venture sewed up until his mistress become jealous of the woman whom she recognizes as his next mistress. His prospects rise and fall with every coital journey he takes. Danglard takes Mistress 1 (Lola de Castro, played by Maria Felix) slumming to a dive, where he sees \"Nini,\" (Françoise Arnoul) with her boyfriend and first lover, Paulo the baker, and discovers that she is a spirited dancer. He uses his charm and the prospect of money to lure Nini to studying dancing so that she may go on the stage. The prospect of money and fame charms Nini, and she become Danglard\\'s next mistress, as well as an apt student of the cancan, which Danglard has dubbed \"French Cancan,\" to cater to the current Anglophile tendency in the dance.Both \"42nd St\" and \"French Cancan\" are tributes to show business--to modern entertainment--that has is own iconography and its own conceit. \"42nd St.\" is centered around Julian Marsh, a great director of Broadway shows, which he organizes with great personal energy and dubious sexual involvement. The male juvenile is a middle-aged twit with lumbago, replaced by Dick Powell, the pretty tenor with secret wealth to hide. Danglard, on the other hand, goes from woman to woman, seducing them with the promise of fame, hooking them with what must have been a very persuasive endowment. One has no doubt that he is heterosexual and quite active. Postcoital scenes abound.Days after seducing Nini away from Paulo, he has discovered Esther, a Piaf type, and begun to prepare her for her job of singing the film\\'s theme song while he plays it on her fiddle. That of course arouses Nini\\'s jealousy just as she has aroused the jealousy of Lola. (And of course Nini had already forsworn the privilege of being a Czarina!) The whole movie is about how Danglard\\'s concupiscence has cost him money but how even his troublesome horniness is subordinate to his love for the show--how the audience demands devotion--and it is this potent combination of phallic persuasion and tempting fame that makes Danglard the hero, while asserting that a true lover of the show will never profit as much as the money men. At the movie\\'s conclusion, Danglard, having outfoxed the creditors and the jealous babes, approaches a new attraction watching the incredible (and believe me, it IS incredible) performance of the cancan. \"Have you ever thought about being on the stage?\" he asks, and the curtain descends. Meanwhile, poor Julian is sitting of the fire escape of the theatre listening to Peggy Sawyer\\'s new fans disparage his contribution to the show\\'s success. (I won\\'t even go into \"42nd Street\"\\'s central line, \"Oh, Guy, it was GRAND of you to COME!\") Furthermore, I won\\'t go into the glimpse one gets of legendary Parisian entertainers, including a brief vision of Piaf, nor of the vision of a Paris both urban and rural. Certainly there is a sample of the styles that engendered Trenet and Aznavour. But it is the memoir of an assertive and welcome masculinity, something unseen in any Hollywood musical with which it might be compared, is a pleasant relief from the androgynes of 30\\'s Hollywood musicals (including my beloved Fred Astaire, not to mention Dick Powell), let alone the barf promulgated by MGM in movies like the repulsive \"American in Paris.\" All those fountains! We\\'ll save our comparison of that turkey to \"Breakfast at Tiffany\\'s\" and its deconstruction of the American male for another day.That Danglard may have been a hopeful vision, in postwar France, of a kind of hyper-masculine mec that may or may not have ever existed, is practically beside the point. That he is a man\\'s man, neither John Wayne nor Edward Everett Horton, is perhaps more on target. That he is a man who likes the ladies is never in question. I, for one, wouldn\\'t mind living his life at all. I wonder if Gabin was that lucky. At the beginning of this comment I wanted to talk about Baz Luhrman and what Sinclair Lewis called \"boloney\". I never got that far. Baz\\'s Moulin Rouge... well, Paris doesn\\'t put that kind of stuff in the Seine anymore.'"
      ]
     },
     "execution_count": 44,
     "metadata": {},
     "output_type": "execute_result"
    }
   ],
   "source": [
    "df.iloc[10].review"
   ]
  },
  {
   "cell_type": "code",
   "execution_count": null,
   "id": "09513506",
   "metadata": {},
   "outputs": [],
   "source": []
  }
 ],
 "metadata": {
  "kernelspec": {
   "display_name": "Python 3",
   "language": "python",
   "name": "python3"
  },
  "language_info": {
   "codemirror_mode": {
    "name": "ipython",
    "version": 3
   },
   "file_extension": ".py",
   "mimetype": "text/x-python",
   "name": "python",
   "nbconvert_exporter": "python",
   "pygments_lexer": "ipython3",
   "version": "3.8.8"
  }
 },
 "nbformat": 4,
 "nbformat_minor": 5
}
