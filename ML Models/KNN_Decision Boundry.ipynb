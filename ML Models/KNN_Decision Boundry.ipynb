{
 "cells": [
  {
   "cell_type": "code",
   "execution_count": 3,
   "id": "384dd1d7",
   "metadata": {},
   "outputs": [],
   "source": [
    "import numpy as np\n",
    "x=np.array([1,2,3])\n",
    "y=np.array([4,5,6,7])\n",
    "\n",
    "XX,YY=np.meshgrid(x,y)"
   ]
  },
  {
   "cell_type": "code",
   "execution_count": 4,
   "id": "4d2cc0a1",
   "metadata": {},
   "outputs": [
    {
     "data": {
      "text/plain": [
       "(4, 3)"
      ]
     },
     "execution_count": 4,
     "metadata": {},
     "output_type": "execute_result"
    }
   ],
   "source": [
    "XX.shape"
   ]
  },
  {
   "cell_type": "code",
   "execution_count": 5,
   "id": "9b16e419",
   "metadata": {},
   "outputs": [
    {
     "data": {
      "text/plain": [
       "(4, 3)"
      ]
     },
     "execution_count": 5,
     "metadata": {},
     "output_type": "execute_result"
    }
   ],
   "source": [
    "YY.shape"
   ]
  },
  {
   "cell_type": "code",
   "execution_count": 6,
   "id": "3d03828d",
   "metadata": {},
   "outputs": [
    {
     "data": {
      "text/plain": [
       "array([[1, 2, 3],\n",
       "       [1, 2, 3],\n",
       "       [1, 2, 3],\n",
       "       [1, 2, 3]])"
      ]
     },
     "execution_count": 6,
     "metadata": {},
     "output_type": "execute_result"
    }
   ],
   "source": [
    "XX"
   ]
  },
  {
   "cell_type": "code",
   "execution_count": 7,
   "id": "a599d76f",
   "metadata": {},
   "outputs": [
    {
     "data": {
      "text/plain": [
       "array([[4, 4, 4],\n",
       "       [5, 5, 5],\n",
       "       [6, 6, 6],\n",
       "       [7, 7, 7]])"
      ]
     },
     "execution_count": 7,
     "metadata": {},
     "output_type": "execute_result"
    }
   ],
   "source": [
    "YY"
   ]
  },
  {
   "cell_type": "code",
   "execution_count": 8,
   "id": "f0063f23",
   "metadata": {},
   "outputs": [],
   "source": [
    "x=np.linspace(-40,40,100)\n",
    "y=np.linspace(-50,50,90)\n",
    "\n",
    "XX,YY=np.meshgrid(x,y)"
   ]
  },
  {
   "cell_type": "code",
   "execution_count": 9,
   "id": "00acc64e",
   "metadata": {},
   "outputs": [
    {
     "data": {
      "text/plain": [
       "(90, 100)"
      ]
     },
     "execution_count": 9,
     "metadata": {},
     "output_type": "execute_result"
    }
   ],
   "source": [
    "XX.shape"
   ]
  },
  {
   "cell_type": "code",
   "execution_count": 10,
   "id": "795b4c93",
   "metadata": {},
   "outputs": [
    {
     "data": {
      "text/plain": [
       "(90, 100)"
      ]
     },
     "execution_count": 10,
     "metadata": {},
     "output_type": "execute_result"
    }
   ],
   "source": [
    "YY.shape"
   ]
  },
  {
   "cell_type": "code",
   "execution_count": 13,
   "id": "faa59f72",
   "metadata": {},
   "outputs": [
    {
     "data": {
      "text/plain": [
       "array([[-40.        , -39.19191919, -38.38383838, ...,  38.38383838,\n",
       "         39.19191919,  40.        ],\n",
       "       [-40.        , -39.19191919, -38.38383838, ...,  38.38383838,\n",
       "         39.19191919,  40.        ],\n",
       "       [-40.        , -39.19191919, -38.38383838, ...,  38.38383838,\n",
       "         39.19191919,  40.        ],\n",
       "       ...,\n",
       "       [-40.        , -39.19191919, -38.38383838, ...,  38.38383838,\n",
       "         39.19191919,  40.        ],\n",
       "       [-40.        , -39.19191919, -38.38383838, ...,  38.38383838,\n",
       "         39.19191919,  40.        ],\n",
       "       [-40.        , -39.19191919, -38.38383838, ...,  38.38383838,\n",
       "         39.19191919,  40.        ]])"
      ]
     },
     "execution_count": 13,
     "metadata": {},
     "output_type": "execute_result"
    }
   ],
   "source": [
    "XX"
   ]
  },
  {
   "cell_type": "code",
   "execution_count": 14,
   "id": "65b90837",
   "metadata": {},
   "outputs": [
    {
     "data": {
      "text/plain": [
       "array([[-50.        , -50.        , -50.        , ..., -50.        ,\n",
       "        -50.        , -50.        ],\n",
       "       [-48.87640449, -48.87640449, -48.87640449, ..., -48.87640449,\n",
       "        -48.87640449, -48.87640449],\n",
       "       [-47.75280899, -47.75280899, -47.75280899, ..., -47.75280899,\n",
       "        -47.75280899, -47.75280899],\n",
       "       ...,\n",
       "       [ 47.75280899,  47.75280899,  47.75280899, ...,  47.75280899,\n",
       "         47.75280899,  47.75280899],\n",
       "       [ 48.87640449,  48.87640449,  48.87640449, ...,  48.87640449,\n",
       "         48.87640449,  48.87640449],\n",
       "       [ 50.        ,  50.        ,  50.        , ...,  50.        ,\n",
       "         50.        ,  50.        ]])"
      ]
     },
     "execution_count": 14,
     "metadata": {},
     "output_type": "execute_result"
    }
   ],
   "source": [
    "YY"
   ]
  },
  {
   "cell_type": "code",
   "execution_count": 22,
   "id": "250b8e1d",
   "metadata": {},
   "outputs": [],
   "source": [
    "Z=(XX**2)+(YY**2)"
   ]
  },
  {
   "cell_type": "code",
   "execution_count": 23,
   "id": "53c0f224",
   "metadata": {},
   "outputs": [
    {
     "data": {
      "text/plain": [
       "<matplotlib.contour.QuadContourSet at 0x7fdb8683fd90>"
      ]
     },
     "execution_count": 23,
     "metadata": {},
     "output_type": "execute_result"
    },
    {
     "data": {
      "image/png": "[encoded data removed]",
      "text/plain": [
       "<Figure size 432x288 with 1 Axes>"
      ]
     },
     "metadata": {
      "needs_background": "light"
     },
     "output_type": "display_data"
    }
   ],
   "source": [
    "import matplotlib.pyplot as plt \n",
    "plt.contourf(XX,YY,Z)"
   ]
  },
  {
   "cell_type": "code",
   "execution_count": null,
   "id": "a9d3996d",
   "metadata": {},
   "outputs": [],
   "source": []
  }
 ],
 "metadata": {
  "kernelspec": {
   "display_name": "Python 3",
   "language": "python",
   "name": "python3"
  },
  "language_info": {
   "codemirror_mode": {
    "name": "ipython",
    "version": 3
   },
   "file_extension": ".py",
   "mimetype": "text/x-python",
   "name": "python",
   "nbconvert_exporter": "python",
   "pygments_lexer": "ipython3",
   "version": "3.8.8"
  }
 },
 "nbformat": 4,
 "nbformat_minor": 5
}
