{
 "cells": [
  {
   "cell_type": "code",
   "execution_count": 1,
   "id": "2d2e3436",
   "metadata": {},
   "outputs": [],
   "source": [
    "%matplotlib inline\n",
    "import warnings\n",
    "warnings.filterwarnings(\"ignore\")\n",
    "\n",
    "\n",
    "\n",
    "import sqlite3\n",
    "import pandas as pd\n",
    "import numpy as np\n",
    "import nltk\n",
    "import string\n",
    "import matplotlib.pyplot as plt\n",
    "import seaborn as sns\n",
    "from sklearn.feature_extraction.text import TfidfTransformer\n",
    "from sklearn.feature_extraction.text import TfidfVectorizer\n",
    "\n",
    "from sklearn.feature_extraction.text import CountVectorizer\n",
    "from sklearn.metrics import confusion_matrix\n",
    "from sklearn import metrics\n",
    "from sklearn.metrics import roc_curve, auc\n",
    "from nltk.stem.porter import PorterStemmer\n",
    "\n",
    "import re\n",
    "# Tutorial about Python regular expressions: https://pymotw.com/2/re/\n",
    "import string\n",
    "from nltk.corpus import stopwords\n",
    "from nltk.stem import PorterStemmer\n",
    "from nltk.stem.wordnet import WordNetLemmatizer\n",
    "\n",
    "from gensim.models import Word2Vec\n",
    "from gensim.models import KeyedVectors\n",
    "import pickle\n",
    "\n",
    "from tqdm import tqdm\n",
    "import os"
   ]
  },
  {
   "cell_type": "code",
   "execution_count": 2,
   "id": "4032a27c",
   "metadata": {},
   "outputs": [],
   "source": [
    "con=sqlite3.connect(\"database.sqlite\")"
   ]
  },
  {
   "cell_type": "code",
   "execution_count": 11,
   "id": "69a5e0fc",
   "metadata": {},
   "outputs": [
    {
     "data": {
      "text/html": [
       "<div>\n",
       "<style scoped>\n",
       "    .dataframe tbody tr th:only-of-type {\n",
       "        vertical-align: middle;\n",
       "    }\n",
       "\n",
       "    .dataframe tbody tr th {\n",
       "        vertical-align: top;\n",
       "    }\n",
       "\n",
       "    .dataframe thead th {\n",
       "        text-align: right;\n",
       "    }\n",
       "</style>\n",
       "<table border=\"1\" class=\"dataframe\">\n",
       "  <thead>\n",
       "    <tr style=\"text-align: right;\">\n",
       "      <th></th>\n",
       "      <th>Id</th>\n",
       "      <th>ProductId</th>\n",
       "      <th>UserId</th>\n",
       "      <th>ProfileName</th>\n",
       "      <th>HelpfulnessNumerator</th>\n",
       "      <th>HelpfulnessDenominator</th>\n",
       "      <th>Score</th>\n",
       "      <th>Time</th>\n",
       "      <th>Summary</th>\n",
       "      <th>Text</th>\n",
       "    </tr>\n",
       "  </thead>\n",
       "  <tbody>\n",
       "    <tr>\n",
       "      <th>0</th>\n",
       "      <td>1</td>\n",
       "      <td>B001E4KFG0</td>\n",
       "      <td>A3SGXH7AUHU8GW</td>\n",
       "      <td>delmartian</td>\n",
       "      <td>1</td>\n",
       "      <td>1</td>\n",
       "      <td>5</td>\n",
       "      <td>1303862400</td>\n",
       "      <td>Good Quality Dog Food</td>\n",
       "      <td>I have bought several of the Vitality canned d...</td>\n",
       "    </tr>\n",
       "    <tr>\n",
       "      <th>1</th>\n",
       "      <td>2</td>\n",
       "      <td>B00813GRG4</td>\n",
       "      <td>A1D87F6ZCVE5NK</td>\n",
       "      <td>dll pa</td>\n",
       "      <td>0</td>\n",
       "      <td>0</td>\n",
       "      <td>1</td>\n",
       "      <td>1346976000</td>\n",
       "      <td>Not as Advertised</td>\n",
       "      <td>Product arrived labeled as Jumbo Salted Peanut...</td>\n",
       "    </tr>\n",
       "    <tr>\n",
       "      <th>2</th>\n",
       "      <td>3</td>\n",
       "      <td>B000LQOCH0</td>\n",
       "      <td>ABXLMWJIXXAIN</td>\n",
       "      <td>Natalia Corres \"Natalia Corres\"</td>\n",
       "      <td>1</td>\n",
       "      <td>1</td>\n",
       "      <td>4</td>\n",
       "      <td>1219017600</td>\n",
       "      <td>\"Delight\" says it all</td>\n",
       "      <td>This is a confection that has been around a fe...</td>\n",
       "    </tr>\n",
       "    <tr>\n",
       "      <th>3</th>\n",
       "      <td>4</td>\n",
       "      <td>B000UA0QIQ</td>\n",
       "      <td>A395BORC6FGVXV</td>\n",
       "      <td>Karl</td>\n",
       "      <td>3</td>\n",
       "      <td>3</td>\n",
       "      <td>2</td>\n",
       "      <td>1307923200</td>\n",
       "      <td>Cough Medicine</td>\n",
       "      <td>If you are looking for the secret ingredient i...</td>\n",
       "    </tr>\n",
       "    <tr>\n",
       "      <th>4</th>\n",
       "      <td>5</td>\n",
       "      <td>B006K2ZZ7K</td>\n",
       "      <td>A1UQRSCLF8GW1T</td>\n",
       "      <td>Michael D. Bigham \"M. Wassir\"</td>\n",
       "      <td>0</td>\n",
       "      <td>0</td>\n",
       "      <td>5</td>\n",
       "      <td>1350777600</td>\n",
       "      <td>Great taffy</td>\n",
       "      <td>Great taffy at a great price.  There was a wid...</td>\n",
       "    </tr>\n",
       "    <tr>\n",
       "      <th>...</th>\n",
       "      <td>...</td>\n",
       "      <td>...</td>\n",
       "      <td>...</td>\n",
       "      <td>...</td>\n",
       "      <td>...</td>\n",
       "      <td>...</td>\n",
       "      <td>...</td>\n",
       "      <td>...</td>\n",
       "      <td>...</td>\n",
       "      <td>...</td>\n",
       "    </tr>\n",
       "    <tr>\n",
       "      <th>4995</th>\n",
       "      <td>5423</td>\n",
       "      <td>B00622CYVS</td>\n",
       "      <td>A17ASMX6QMO6XY</td>\n",
       "      <td>E. Harvill</td>\n",
       "      <td>0</td>\n",
       "      <td>1</td>\n",
       "      <td>2</td>\n",
       "      <td>1277424000</td>\n",
       "      <td>Not so tasty...</td>\n",
       "      <td>My baby didn't seem into these dinners, so I t...</td>\n",
       "    </tr>\n",
       "    <tr>\n",
       "      <th>4996</th>\n",
       "      <td>5424</td>\n",
       "      <td>B00622CYVS</td>\n",
       "      <td>A32DHN8U74GCAR</td>\n",
       "      <td>Granola Girl \"michele j.\"</td>\n",
       "      <td>0</td>\n",
       "      <td>1</td>\n",
       "      <td>4</td>\n",
       "      <td>1240790400</td>\n",
       "      <td>Food Delivery</td>\n",
       "      <td>This is great!  Organic baby food options - de...</td>\n",
       "    </tr>\n",
       "    <tr>\n",
       "      <th>4997</th>\n",
       "      <td>5425</td>\n",
       "      <td>B00622CYVS</td>\n",
       "      <td>A2YHXAZLCLDT8D</td>\n",
       "      <td>Mark Smith \"Food lover\"</td>\n",
       "      <td>0</td>\n",
       "      <td>1</td>\n",
       "      <td>5</td>\n",
       "      <td>1236988800</td>\n",
       "      <td>Dinner time is Earths Best TIme !!</td>\n",
       "      <td>My little guy loves to try new foods..so this ...</td>\n",
       "    </tr>\n",
       "    <tr>\n",
       "      <th>4998</th>\n",
       "      <td>5426</td>\n",
       "      <td>B00622CYVS</td>\n",
       "      <td>A2NYT3UXUTBY23</td>\n",
       "      <td>C&amp;GHoll</td>\n",
       "      <td>1</td>\n",
       "      <td>3</td>\n",
       "      <td>2</td>\n",
       "      <td>1249603200</td>\n",
       "      <td>Wrong item shipped</td>\n",
       "      <td>We ordered the Earth's best 2nd dinner variety...</td>\n",
       "    </tr>\n",
       "    <tr>\n",
       "      <th>4999</th>\n",
       "      <td>5427</td>\n",
       "      <td>B00622CYVS</td>\n",
       "      <td>A3EPC08TVAPA0N</td>\n",
       "      <td>Krissia</td>\n",
       "      <td>0</td>\n",
       "      <td>3</td>\n",
       "      <td>1</td>\n",
       "      <td>1340582400</td>\n",
       "      <td>Waste of time.</td>\n",
       "      <td>My baby loves this food.  At whole foods they ...</td>\n",
       "    </tr>\n",
       "  </tbody>\n",
       "</table>\n",
       "<p>5000 rows × 10 columns</p>\n",
       "</div>"
      ],
      "text/plain": [
       "        Id   ProductId          UserId                      ProfileName  \\\n",
       "0        1  B001E4KFG0  A3SGXH7AUHU8GW                       delmartian   \n",
       "1        2  B00813GRG4  A1D87F6ZCVE5NK                           dll pa   \n",
       "2        3  B000LQOCH0   ABXLMWJIXXAIN  Natalia Corres \"Natalia Corres\"   \n",
       "3        4  B000UA0QIQ  A395BORC6FGVXV                             Karl   \n",
       "4        5  B006K2ZZ7K  A1UQRSCLF8GW1T    Michael D. Bigham \"M. Wassir\"   \n",
       "...    ...         ...             ...                              ...   \n",
       "4995  5423  B00622CYVS  A17ASMX6QMO6XY                       E. Harvill   \n",
       "4996  5424  B00622CYVS  A32DHN8U74GCAR        Granola Girl \"michele j.\"   \n",
       "4997  5425  B00622CYVS  A2YHXAZLCLDT8D          Mark Smith \"Food lover\"   \n",
       "4998  5426  B00622CYVS  A2NYT3UXUTBY23                          C&GHoll   \n",
       "4999  5427  B00622CYVS  A3EPC08TVAPA0N                          Krissia   \n",
       "\n",
       "      HelpfulnessNumerator  HelpfulnessDenominator  Score        Time  \\\n",
       "0                        1                       1      5  1303862400   \n",
       "1                        0                       0      1  1346976000   \n",
       "2                        1                       1      4  1219017600   \n",
       "3                        3                       3      2  1307923200   \n",
       "4                        0                       0      5  1350777600   \n",
       "...                    ...                     ...    ...         ...   \n",
       "4995                     0                       1      2  1277424000   \n",
       "4996                     0                       1      4  1240790400   \n",
       "4997                     0                       1      5  1236988800   \n",
       "4998                     1                       3      2  1249603200   \n",
       "4999                     0                       3      1  1340582400   \n",
       "\n",
       "                                 Summary  \\\n",
       "0                  Good Quality Dog Food   \n",
       "1                      Not as Advertised   \n",
       "2                  \"Delight\" says it all   \n",
       "3                         Cough Medicine   \n",
       "4                            Great taffy   \n",
       "...                                  ...   \n",
       "4995                     Not so tasty...   \n",
       "4996                       Food Delivery   \n",
       "4997  Dinner time is Earths Best TIme !!   \n",
       "4998                  Wrong item shipped   \n",
       "4999                      Waste of time.   \n",
       "\n",
       "                                                   Text  \n",
       "0     I have bought several of the Vitality canned d...  \n",
       "1     Product arrived labeled as Jumbo Salted Peanut...  \n",
       "2     This is a confection that has been around a fe...  \n",
       "3     If you are looking for the secret ingredient i...  \n",
       "4     Great taffy at a great price.  There was a wid...  \n",
       "...                                                 ...  \n",
       "4995  My baby didn't seem into these dinners, so I t...  \n",
       "4996  This is great!  Organic baby food options - de...  \n",
       "4997  My little guy loves to try new foods..so this ...  \n",
       "4998  We ordered the Earth's best 2nd dinner variety...  \n",
       "4999  My baby loves this food.  At whole foods they ...  \n",
       "\n",
       "[5000 rows x 10 columns]"
      ]
     },
     "execution_count": 11,
     "metadata": {},
     "output_type": "execute_result"
    }
   ],
   "source": [
    "filtered_data=pd.read_sql_query(\"\"\"SELECT * FROM REVIEWS WHERE Score !=3 LIMIT 5000\"\"\",con)\n",
    "filtered_data"
   ]
  },
  {
   "cell_type": "code",
   "execution_count": 12,
   "id": "bb0ac2ba",
   "metadata": {},
   "outputs": [],
   "source": [
    "def partition(x):\n",
    "    if x<3:\n",
    "        return \"Negative\"\n",
    "    return \"Positive\""
   ]
  },
  {
   "cell_type": "code",
   "execution_count": 13,
   "id": "87e2c3c7",
   "metadata": {},
   "outputs": [
    {
     "data": {
      "text/html": [
       "<div>\n",
       "<style scoped>\n",
       "    .dataframe tbody tr th:only-of-type {\n",
       "        vertical-align: middle;\n",
       "    }\n",
       "\n",
       "    .dataframe tbody tr th {\n",
       "        vertical-align: top;\n",
       "    }\n",
       "\n",
       "    .dataframe thead th {\n",
       "        text-align: right;\n",
       "    }\n",
       "</style>\n",
       "<table border=\"1\" class=\"dataframe\">\n",
       "  <thead>\n",
       "    <tr style=\"text-align: right;\">\n",
       "      <th></th>\n",
       "      <th>Id</th>\n",
       "      <th>ProductId</th>\n",
       "      <th>UserId</th>\n",
       "      <th>ProfileName</th>\n",
       "      <th>HelpfulnessNumerator</th>\n",
       "      <th>HelpfulnessDenominator</th>\n",
       "      <th>Score</th>\n",
       "      <th>Time</th>\n",
       "      <th>Summary</th>\n",
       "      <th>Text</th>\n",
       "    </tr>\n",
       "  </thead>\n",
       "  <tbody>\n",
       "    <tr>\n",
       "      <th>0</th>\n",
       "      <td>1</td>\n",
       "      <td>B001E4KFG0</td>\n",
       "      <td>A3SGXH7AUHU8GW</td>\n",
       "      <td>delmartian</td>\n",
       "      <td>1</td>\n",
       "      <td>1</td>\n",
       "      <td>Positive</td>\n",
       "      <td>1303862400</td>\n",
       "      <td>Good Quality Dog Food</td>\n",
       "      <td>I have bought several of the Vitality canned d...</td>\n",
       "    </tr>\n",
       "    <tr>\n",
       "      <th>1</th>\n",
       "      <td>2</td>\n",
       "      <td>B00813GRG4</td>\n",
       "      <td>A1D87F6ZCVE5NK</td>\n",
       "      <td>dll pa</td>\n",
       "      <td>0</td>\n",
       "      <td>0</td>\n",
       "      <td>Negative</td>\n",
       "      <td>1346976000</td>\n",
       "      <td>Not as Advertised</td>\n",
       "      <td>Product arrived labeled as Jumbo Salted Peanut...</td>\n",
       "    </tr>\n",
       "    <tr>\n",
       "      <th>2</th>\n",
       "      <td>3</td>\n",
       "      <td>B000LQOCH0</td>\n",
       "      <td>ABXLMWJIXXAIN</td>\n",
       "      <td>Natalia Corres \"Natalia Corres\"</td>\n",
       "      <td>1</td>\n",
       "      <td>1</td>\n",
       "      <td>Positive</td>\n",
       "      <td>1219017600</td>\n",
       "      <td>\"Delight\" says it all</td>\n",
       "      <td>This is a confection that has been around a fe...</td>\n",
       "    </tr>\n",
       "    <tr>\n",
       "      <th>3</th>\n",
       "      <td>4</td>\n",
       "      <td>B000UA0QIQ</td>\n",
       "      <td>A395BORC6FGVXV</td>\n",
       "      <td>Karl</td>\n",
       "      <td>3</td>\n",
       "      <td>3</td>\n",
       "      <td>Negative</td>\n",
       "      <td>1307923200</td>\n",
       "      <td>Cough Medicine</td>\n",
       "      <td>If you are looking for the secret ingredient i...</td>\n",
       "    </tr>\n",
       "    <tr>\n",
       "      <th>4</th>\n",
       "      <td>5</td>\n",
       "      <td>B006K2ZZ7K</td>\n",
       "      <td>A1UQRSCLF8GW1T</td>\n",
       "      <td>Michael D. Bigham \"M. Wassir\"</td>\n",
       "      <td>0</td>\n",
       "      <td>0</td>\n",
       "      <td>Positive</td>\n",
       "      <td>1350777600</td>\n",
       "      <td>Great taffy</td>\n",
       "      <td>Great taffy at a great price.  There was a wid...</td>\n",
       "    </tr>\n",
       "  </tbody>\n",
       "</table>\n",
       "</div>"
      ],
      "text/plain": [
       "   Id   ProductId          UserId                      ProfileName  \\\n",
       "0   1  B001E4KFG0  A3SGXH7AUHU8GW                       delmartian   \n",
       "1   2  B00813GRG4  A1D87F6ZCVE5NK                           dll pa   \n",
       "2   3  B000LQOCH0   ABXLMWJIXXAIN  Natalia Corres \"Natalia Corres\"   \n",
       "3   4  B000UA0QIQ  A395BORC6FGVXV                             Karl   \n",
       "4   5  B006K2ZZ7K  A1UQRSCLF8GW1T    Michael D. Bigham \"M. Wassir\"   \n",
       "\n",
       "   HelpfulnessNumerator  HelpfulnessDenominator     Score        Time  \\\n",
       "0                     1                       1  Positive  1303862400   \n",
       "1                     0                       0  Negative  1346976000   \n",
       "2                     1                       1  Positive  1219017600   \n",
       "3                     3                       3  Negative  1307923200   \n",
       "4                     0                       0  Positive  1350777600   \n",
       "\n",
       "                 Summary                                               Text  \n",
       "0  Good Quality Dog Food  I have bought several of the Vitality canned d...  \n",
       "1      Not as Advertised  Product arrived labeled as Jumbo Salted Peanut...  \n",
       "2  \"Delight\" says it all  This is a confection that has been around a fe...  \n",
       "3         Cough Medicine  If you are looking for the secret ingredient i...  \n",
       "4            Great taffy  Great taffy at a great price.  There was a wid...  "
      ]
     },
     "execution_count": 13,
     "metadata": {},
     "output_type": "execute_result"
    }
   ],
   "source": [
    "actualScore=filtered_data[\"Score\"]\n",
    "posneg=actualScore.map(partition)\n",
    "filtered_data[\"Score\"]=posneg\n",
    "filtered_data.head(5)"
   ]
  },
  {
   "cell_type": "code",
   "execution_count": 14,
   "id": "8160a89e",
   "metadata": {},
   "outputs": [],
   "source": [
    "display = pd.read_sql_query(\"\"\"\n",
    "SELECT UserId, ProductId, ProfileName, Time, Score, Text, COUNT(*)\n",
    "FROM Reviews\n",
    "GROUP BY UserId\n",
    "HAVING COUNT(*)>1\n",
    "\"\"\", con)"
   ]
  },
  {
   "cell_type": "code",
   "execution_count": 15,
   "id": "1b53d26f",
   "metadata": {},
   "outputs": [
    {
     "data": {
      "text/plain": [
       "(80668, 7)"
      ]
     },
     "execution_count": 15,
     "metadata": {},
     "output_type": "execute_result"
    }
   ],
   "source": [
    "display.shape"
   ]
  },
  {
   "cell_type": "code",
   "execution_count": 16,
   "id": "5d256688",
   "metadata": {},
   "outputs": [
    {
     "data": {
      "text/html": [
       "<div>\n",
       "<style scoped>\n",
       "    .dataframe tbody tr th:only-of-type {\n",
       "        vertical-align: middle;\n",
       "    }\n",
       "\n",
       "    .dataframe tbody tr th {\n",
       "        vertical-align: top;\n",
       "    }\n",
       "\n",
       "    .dataframe thead th {\n",
       "        text-align: right;\n",
       "    }\n",
       "</style>\n",
       "<table border=\"1\" class=\"dataframe\">\n",
       "  <thead>\n",
       "    <tr style=\"text-align: right;\">\n",
       "      <th></th>\n",
       "      <th>UserId</th>\n",
       "      <th>ProductId</th>\n",
       "      <th>ProfileName</th>\n",
       "      <th>Time</th>\n",
       "      <th>Score</th>\n",
       "      <th>Text</th>\n",
       "      <th>COUNT(*)</th>\n",
       "    </tr>\n",
       "  </thead>\n",
       "  <tbody>\n",
       "    <tr>\n",
       "      <th>0</th>\n",
       "      <td>#oc-R115TNMSPFT9I7</td>\n",
       "      <td>B005ZBZLT4</td>\n",
       "      <td>Breyton</td>\n",
       "      <td>1331510400</td>\n",
       "      <td>2</td>\n",
       "      <td>Overall its just OK when considering the price...</td>\n",
       "      <td>2</td>\n",
       "    </tr>\n",
       "    <tr>\n",
       "      <th>1</th>\n",
       "      <td>#oc-R11D9D7SHXIJB9</td>\n",
       "      <td>B005HG9ESG</td>\n",
       "      <td>Louis E. Emory \"hoppy\"</td>\n",
       "      <td>1342396800</td>\n",
       "      <td>5</td>\n",
       "      <td>My wife has recurring extreme muscle spasms, u...</td>\n",
       "      <td>3</td>\n",
       "    </tr>\n",
       "    <tr>\n",
       "      <th>2</th>\n",
       "      <td>#oc-R11DNU2NBKQ23Z</td>\n",
       "      <td>B005ZBZLT4</td>\n",
       "      <td>Kim Cieszykowski</td>\n",
       "      <td>1348531200</td>\n",
       "      <td>1</td>\n",
       "      <td>This coffee is horrible and unfortunately not ...</td>\n",
       "      <td>2</td>\n",
       "    </tr>\n",
       "    <tr>\n",
       "      <th>3</th>\n",
       "      <td>#oc-R11O5J5ZVQE25C</td>\n",
       "      <td>B005HG9ESG</td>\n",
       "      <td>Penguin Chick</td>\n",
       "      <td>1346889600</td>\n",
       "      <td>5</td>\n",
       "      <td>This will be the bottle that you grab from the...</td>\n",
       "      <td>3</td>\n",
       "    </tr>\n",
       "    <tr>\n",
       "      <th>4</th>\n",
       "      <td>#oc-R12KPBODL2B5ZD</td>\n",
       "      <td>B007OSBEV0</td>\n",
       "      <td>Christopher P. Presta</td>\n",
       "      <td>1348617600</td>\n",
       "      <td>1</td>\n",
       "      <td>I didnt like this coffee. Instead of telling y...</td>\n",
       "      <td>2</td>\n",
       "    </tr>\n",
       "  </tbody>\n",
       "</table>\n",
       "</div>"
      ],
      "text/plain": [
       "               UserId   ProductId             ProfileName        Time  Score  \\\n",
       "0  #oc-R115TNMSPFT9I7  B005ZBZLT4                 Breyton  1331510400      2   \n",
       "1  #oc-R11D9D7SHXIJB9  B005HG9ESG  Louis E. Emory \"hoppy\"  1342396800      5   \n",
       "2  #oc-R11DNU2NBKQ23Z  B005ZBZLT4        Kim Cieszykowski  1348531200      1   \n",
       "3  #oc-R11O5J5ZVQE25C  B005HG9ESG           Penguin Chick  1346889600      5   \n",
       "4  #oc-R12KPBODL2B5ZD  B007OSBEV0   Christopher P. Presta  1348617600      1   \n",
       "\n",
       "                                                Text  COUNT(*)  \n",
       "0  Overall its just OK when considering the price...         2  \n",
       "1  My wife has recurring extreme muscle spasms, u...         3  \n",
       "2  This coffee is horrible and unfortunately not ...         2  \n",
       "3  This will be the bottle that you grab from the...         3  \n",
       "4  I didnt like this coffee. Instead of telling y...         2  "
      ]
     },
     "execution_count": 16,
     "metadata": {},
     "output_type": "execute_result"
    }
   ],
   "source": [
    "display.head(5)"
   ]
  },
  {
   "cell_type": "code",
   "execution_count": 17,
   "id": "efe568ff",
   "metadata": {},
   "outputs": [
    {
     "data": {
      "text/html": [
       "<div>\n",
       "<style scoped>\n",
       "    .dataframe tbody tr th:only-of-type {\n",
       "        vertical-align: middle;\n",
       "    }\n",
       "\n",
       "    .dataframe tbody tr th {\n",
       "        vertical-align: top;\n",
       "    }\n",
       "\n",
       "    .dataframe thead th {\n",
       "        text-align: right;\n",
       "    }\n",
       "</style>\n",
       "<table border=\"1\" class=\"dataframe\">\n",
       "  <thead>\n",
       "    <tr style=\"text-align: right;\">\n",
       "      <th></th>\n",
       "      <th>UserId</th>\n",
       "      <th>ProductId</th>\n",
       "      <th>ProfileName</th>\n",
       "      <th>Time</th>\n",
       "      <th>Score</th>\n",
       "      <th>Text</th>\n",
       "      <th>COUNT(*)</th>\n",
       "    </tr>\n",
       "  </thead>\n",
       "  <tbody>\n",
       "    <tr>\n",
       "      <th>80638</th>\n",
       "      <td>AZY10LLTJ71NX</td>\n",
       "      <td>B001ATMQK2</td>\n",
       "      <td>undertheshrine \"undertheshrine\"</td>\n",
       "      <td>1296691200</td>\n",
       "      <td>5</td>\n",
       "      <td>I bought this 6 pack because for the price tha...</td>\n",
       "      <td>5</td>\n",
       "    </tr>\n",
       "  </tbody>\n",
       "</table>\n",
       "</div>"
      ],
      "text/plain": [
       "              UserId   ProductId                      ProfileName        Time  \\\n",
       "80638  AZY10LLTJ71NX  B001ATMQK2  undertheshrine \"undertheshrine\"  1296691200   \n",
       "\n",
       "       Score                                               Text  COUNT(*)  \n",
       "80638      5  I bought this 6 pack because for the price tha...         5  "
      ]
     },
     "execution_count": 17,
     "metadata": {},
     "output_type": "execute_result"
    }
   ],
   "source": [
    "display[display[\"UserId\"]=='AZY10LLTJ71NX']"
   ]
  },
  {
   "cell_type": "code",
   "execution_count": 18,
   "id": "b8e36474",
   "metadata": {},
   "outputs": [
    {
     "data": {
      "text/plain": [
       "393063"
      ]
     },
     "execution_count": 18,
     "metadata": {},
     "output_type": "execute_result"
    }
   ],
   "source": [
    "display[\"COUNT(*)\"].sum()"
   ]
  },
  {
   "cell_type": "code",
   "execution_count": 20,
   "id": "a476a249",
   "metadata": {},
   "outputs": [],
   "source": [
    "display=pd.read_sql_query(\"\"\"SELECT * FROM REVIEWS WHERE SCORE !=3 AND UserId=\"AR5J8UI46CURR\" ORDER BY ProductId\"\"\",con)"
   ]
  },
  {
   "cell_type": "code",
   "execution_count": 21,
   "id": "709af522",
   "metadata": {},
   "outputs": [
    {
     "data": {
      "text/html": [
       "<div>\n",
       "<style scoped>\n",
       "    .dataframe tbody tr th:only-of-type {\n",
       "        vertical-align: middle;\n",
       "    }\n",
       "\n",
       "    .dataframe tbody tr th {\n",
       "        vertical-align: top;\n",
       "    }\n",
       "\n",
       "    .dataframe thead th {\n",
       "        text-align: right;\n",
       "    }\n",
       "</style>\n",
       "<table border=\"1\" class=\"dataframe\">\n",
       "  <thead>\n",
       "    <tr style=\"text-align: right;\">\n",
       "      <th></th>\n",
       "      <th>Id</th>\n",
       "      <th>ProductId</th>\n",
       "      <th>UserId</th>\n",
       "      <th>ProfileName</th>\n",
       "      <th>HelpfulnessNumerator</th>\n",
       "      <th>HelpfulnessDenominator</th>\n",
       "      <th>Score</th>\n",
       "      <th>Time</th>\n",
       "      <th>Summary</th>\n",
       "      <th>Text</th>\n",
       "    </tr>\n",
       "  </thead>\n",
       "  <tbody>\n",
       "    <tr>\n",
       "      <th>0</th>\n",
       "      <td>78445</td>\n",
       "      <td>B000HDL1RQ</td>\n",
       "      <td>AR5J8UI46CURR</td>\n",
       "      <td>Geetha Krishnan</td>\n",
       "      <td>2</td>\n",
       "      <td>2</td>\n",
       "      <td>5</td>\n",
       "      <td>1199577600</td>\n",
       "      <td>LOACKER QUADRATINI VANILLA WAFERS</td>\n",
       "      <td>DELICIOUS WAFERS. I FIND THAT EUROPEAN WAFERS ...</td>\n",
       "    </tr>\n",
       "    <tr>\n",
       "      <th>1</th>\n",
       "      <td>138317</td>\n",
       "      <td>B000HDOPYC</td>\n",
       "      <td>AR5J8UI46CURR</td>\n",
       "      <td>Geetha Krishnan</td>\n",
       "      <td>2</td>\n",
       "      <td>2</td>\n",
       "      <td>5</td>\n",
       "      <td>1199577600</td>\n",
       "      <td>LOACKER QUADRATINI VANILLA WAFERS</td>\n",
       "      <td>DELICIOUS WAFERS. I FIND THAT EUROPEAN WAFERS ...</td>\n",
       "    </tr>\n",
       "    <tr>\n",
       "      <th>2</th>\n",
       "      <td>138277</td>\n",
       "      <td>B000HDOPYM</td>\n",
       "      <td>AR5J8UI46CURR</td>\n",
       "      <td>Geetha Krishnan</td>\n",
       "      <td>2</td>\n",
       "      <td>2</td>\n",
       "      <td>5</td>\n",
       "      <td>1199577600</td>\n",
       "      <td>LOACKER QUADRATINI VANILLA WAFERS</td>\n",
       "      <td>DELICIOUS WAFERS. I FIND THAT EUROPEAN WAFERS ...</td>\n",
       "    </tr>\n",
       "    <tr>\n",
       "      <th>3</th>\n",
       "      <td>73791</td>\n",
       "      <td>B000HDOPZG</td>\n",
       "      <td>AR5J8UI46CURR</td>\n",
       "      <td>Geetha Krishnan</td>\n",
       "      <td>2</td>\n",
       "      <td>2</td>\n",
       "      <td>5</td>\n",
       "      <td>1199577600</td>\n",
       "      <td>LOACKER QUADRATINI VANILLA WAFERS</td>\n",
       "      <td>DELICIOUS WAFERS. I FIND THAT EUROPEAN WAFERS ...</td>\n",
       "    </tr>\n",
       "    <tr>\n",
       "      <th>4</th>\n",
       "      <td>155049</td>\n",
       "      <td>B000PAQ75C</td>\n",
       "      <td>AR5J8UI46CURR</td>\n",
       "      <td>Geetha Krishnan</td>\n",
       "      <td>2</td>\n",
       "      <td>2</td>\n",
       "      <td>5</td>\n",
       "      <td>1199577600</td>\n",
       "      <td>LOACKER QUADRATINI VANILLA WAFERS</td>\n",
       "      <td>DELICIOUS WAFERS. I FIND THAT EUROPEAN WAFERS ...</td>\n",
       "    </tr>\n",
       "  </tbody>\n",
       "</table>\n",
       "</div>"
      ],
      "text/plain": [
       "       Id   ProductId         UserId      ProfileName  HelpfulnessNumerator  \\\n",
       "0   78445  B000HDL1RQ  AR5J8UI46CURR  Geetha Krishnan                     2   \n",
       "1  138317  B000HDOPYC  AR5J8UI46CURR  Geetha Krishnan                     2   \n",
       "2  138277  B000HDOPYM  AR5J8UI46CURR  Geetha Krishnan                     2   \n",
       "3   73791  B000HDOPZG  AR5J8UI46CURR  Geetha Krishnan                     2   \n",
       "4  155049  B000PAQ75C  AR5J8UI46CURR  Geetha Krishnan                     2   \n",
       "\n",
       "   HelpfulnessDenominator  Score        Time  \\\n",
       "0                       2      5  1199577600   \n",
       "1                       2      5  1199577600   \n",
       "2                       2      5  1199577600   \n",
       "3                       2      5  1199577600   \n",
       "4                       2      5  1199577600   \n",
       "\n",
       "                             Summary  \\\n",
       "0  LOACKER QUADRATINI VANILLA WAFERS   \n",
       "1  LOACKER QUADRATINI VANILLA WAFERS   \n",
       "2  LOACKER QUADRATINI VANILLA WAFERS   \n",
       "3  LOACKER QUADRATINI VANILLA WAFERS   \n",
       "4  LOACKER QUADRATINI VANILLA WAFERS   \n",
       "\n",
       "                                                Text  \n",
       "0  DELICIOUS WAFERS. I FIND THAT EUROPEAN WAFERS ...  \n",
       "1  DELICIOUS WAFERS. I FIND THAT EUROPEAN WAFERS ...  \n",
       "2  DELICIOUS WAFERS. I FIND THAT EUROPEAN WAFERS ...  \n",
       "3  DELICIOUS WAFERS. I FIND THAT EUROPEAN WAFERS ...  \n",
       "4  DELICIOUS WAFERS. I FIND THAT EUROPEAN WAFERS ...  "
      ]
     },
     "execution_count": 21,
     "metadata": {},
     "output_type": "execute_result"
    }
   ],
   "source": [
    "display.head(5)"
   ]
  },
  {
   "cell_type": "code",
   "execution_count": 22,
   "id": "7253cf39",
   "metadata": {},
   "outputs": [],
   "source": [
    "sorted_data=filtered_data.sort_values(\"ProductId\",axis=0,\n",
    "    ascending=True,\n",
    "    inplace=False,\n",
    "    kind='quicksort',\n",
    "    na_position='last')"
   ]
  },
  {
   "cell_type": "code",
   "execution_count": 23,
   "id": "43c7ba3a",
   "metadata": {},
   "outputs": [
    {
     "data": {
      "text/plain": [
       "(4986, 10)"
      ]
     },
     "execution_count": 23,
     "metadata": {},
     "output_type": "execute_result"
    }
   ],
   "source": [
    "final=sorted_data.drop_duplicates(subset={\"UserId\",\"Score\",\"Time\",\"Text\"},keep='first',inplace=False)\n",
    "final.shape"
   ]
  },
  {
   "cell_type": "code",
   "execution_count": 25,
   "id": "0f095391",
   "metadata": {},
   "outputs": [
    {
     "data": {
      "text/plain": [
       "99.72"
      ]
     },
     "execution_count": 25,
     "metadata": {},
     "output_type": "execute_result"
    }
   ],
   "source": [
    "(final[\"Id\"].size/filtered_data[\"Id\"].size)*100"
   ]
  },
  {
   "cell_type": "code",
   "execution_count": 26,
   "id": "57cb0f24",
   "metadata": {},
   "outputs": [],
   "source": [
    "duplicate=pd.read_sql_query(\"\"\"SELECT * FROM REVIEWS WHERE HelpfulnessDenominator<HelpfulnessNumerator\"\"\",con)"
   ]
  },
  {
   "cell_type": "code",
   "execution_count": 27,
   "id": "b28c267e",
   "metadata": {},
   "outputs": [
    {
     "data": {
      "text/html": [
       "<div>\n",
       "<style scoped>\n",
       "    .dataframe tbody tr th:only-of-type {\n",
       "        vertical-align: middle;\n",
       "    }\n",
       "\n",
       "    .dataframe tbody tr th {\n",
       "        vertical-align: top;\n",
       "    }\n",
       "\n",
       "    .dataframe thead th {\n",
       "        text-align: right;\n",
       "    }\n",
       "</style>\n",
       "<table border=\"1\" class=\"dataframe\">\n",
       "  <thead>\n",
       "    <tr style=\"text-align: right;\">\n",
       "      <th></th>\n",
       "      <th>Id</th>\n",
       "      <th>ProductId</th>\n",
       "      <th>UserId</th>\n",
       "      <th>ProfileName</th>\n",
       "      <th>HelpfulnessNumerator</th>\n",
       "      <th>HelpfulnessDenominator</th>\n",
       "      <th>Score</th>\n",
       "      <th>Time</th>\n",
       "      <th>Summary</th>\n",
       "      <th>Text</th>\n",
       "    </tr>\n",
       "  </thead>\n",
       "  <tbody>\n",
       "    <tr>\n",
       "      <th>0</th>\n",
       "      <td>44737</td>\n",
       "      <td>B001EQ55RW</td>\n",
       "      <td>A2V0I904FH7ABY</td>\n",
       "      <td>Ram</td>\n",
       "      <td>3</td>\n",
       "      <td>2</td>\n",
       "      <td>4</td>\n",
       "      <td>1212883200</td>\n",
       "      <td>Pure cocoa taste with crunchy almonds inside</td>\n",
       "      <td>It was almost a 'love at first bite' - the per...</td>\n",
       "    </tr>\n",
       "    <tr>\n",
       "      <th>1</th>\n",
       "      <td>64422</td>\n",
       "      <td>B000MIDROQ</td>\n",
       "      <td>A161DK06JJMCYF</td>\n",
       "      <td>J. E. Stephens \"Jeanne\"</td>\n",
       "      <td>3</td>\n",
       "      <td>1</td>\n",
       "      <td>5</td>\n",
       "      <td>1224892800</td>\n",
       "      <td>Bought This for My Son at College</td>\n",
       "      <td>My son loves spaghetti so I didn't hesitate or...</td>\n",
       "    </tr>\n",
       "  </tbody>\n",
       "</table>\n",
       "</div>"
      ],
      "text/plain": [
       "      Id   ProductId          UserId              ProfileName  \\\n",
       "0  44737  B001EQ55RW  A2V0I904FH7ABY                      Ram   \n",
       "1  64422  B000MIDROQ  A161DK06JJMCYF  J. E. Stephens \"Jeanne\"   \n",
       "\n",
       "   HelpfulnessNumerator  HelpfulnessDenominator  Score        Time  \\\n",
       "0                     3                       2      4  1212883200   \n",
       "1                     3                       1      5  1224892800   \n",
       "\n",
       "                                        Summary  \\\n",
       "0  Pure cocoa taste with crunchy almonds inside   \n",
       "1             Bought This for My Son at College   \n",
       "\n",
       "                                                Text  \n",
       "0  It was almost a 'love at first bite' - the per...  \n",
       "1  My son loves spaghetti so I didn't hesitate or...  "
      ]
     },
     "execution_count": 27,
     "metadata": {},
     "output_type": "execute_result"
    }
   ],
   "source": [
    "duplicate"
   ]
  },
  {
   "cell_type": "code",
   "execution_count": 28,
   "id": "faa278b4",
   "metadata": {},
   "outputs": [],
   "source": [
    "final=final[final.HelpfulnessNumerator<=final.HelpfulnessDenominator]"
   ]
  },
  {
   "cell_type": "code",
   "execution_count": 29,
   "id": "87350555",
   "metadata": {},
   "outputs": [
    {
     "data": {
      "text/plain": [
       "(4986, 10)"
      ]
     },
     "execution_count": 29,
     "metadata": {},
     "output_type": "execute_result"
    }
   ],
   "source": [
    "final.shape"
   ]
  },
  {
   "cell_type": "code",
   "execution_count": 34,
   "id": "14ba5f1c",
   "metadata": {},
   "outputs": [
    {
     "data": {
      "text/plain": [
       "Positive    4178\n",
       "Negative     808\n",
       "Name: Score, dtype: int64"
      ]
     },
     "execution_count": 34,
     "metadata": {},
     "output_type": "execute_result"
    }
   ],
   "source": [
    "final[\"Score\"].value_counts()"
   ]
  },
  {
   "cell_type": "code",
   "execution_count": 40,
   "id": "6c74e3dd",
   "metadata": {},
   "outputs": [
    {
     "data": {
      "text/html": [
       "<div>\n",
       "<style scoped>\n",
       "    .dataframe tbody tr th:only-of-type {\n",
       "        vertical-align: middle;\n",
       "    }\n",
       "\n",
       "    .dataframe tbody tr th {\n",
       "        vertical-align: top;\n",
       "    }\n",
       "\n",
       "    .dataframe thead th {\n",
       "        text-align: right;\n",
       "    }\n",
       "</style>\n",
       "<table border=\"1\" class=\"dataframe\">\n",
       "  <thead>\n",
       "    <tr style=\"text-align: right;\">\n",
       "      <th></th>\n",
       "      <th>Id</th>\n",
       "      <th>ProductId</th>\n",
       "      <th>UserId</th>\n",
       "      <th>ProfileName</th>\n",
       "      <th>HelpfulnessNumerator</th>\n",
       "      <th>HelpfulnessDenominator</th>\n",
       "      <th>Score</th>\n",
       "      <th>Time</th>\n",
       "      <th>Summary</th>\n",
       "      <th>Text</th>\n",
       "    </tr>\n",
       "  </thead>\n",
       "  <tbody>\n",
       "    <tr>\n",
       "      <th>2546</th>\n",
       "      <td>2774</td>\n",
       "      <td>B00002NCJC</td>\n",
       "      <td>A196AJHU9EASJN</td>\n",
       "      <td>Alex Chaffee</td>\n",
       "      <td>0</td>\n",
       "      <td>0</td>\n",
       "      <td>Positive</td>\n",
       "      <td>1282953600</td>\n",
       "      <td>thirty bucks?</td>\n",
       "      <td>Why is this $[...] when the same product is av...</td>\n",
       "    </tr>\n",
       "    <tr>\n",
       "      <th>2547</th>\n",
       "      <td>2775</td>\n",
       "      <td>B00002NCJC</td>\n",
       "      <td>A13RRPGE79XFFH</td>\n",
       "      <td>reader48</td>\n",
       "      <td>0</td>\n",
       "      <td>0</td>\n",
       "      <td>Positive</td>\n",
       "      <td>1281052800</td>\n",
       "      <td>Flies Begone</td>\n",
       "      <td>We have used the Victor fly bait for 3 seasons...</td>\n",
       "    </tr>\n",
       "    <tr>\n",
       "      <th>1145</th>\n",
       "      <td>1244</td>\n",
       "      <td>B00002Z754</td>\n",
       "      <td>A3B8RCEI0FXFI6</td>\n",
       "      <td>B G Chase</td>\n",
       "      <td>10</td>\n",
       "      <td>10</td>\n",
       "      <td>Positive</td>\n",
       "      <td>962236800</td>\n",
       "      <td>WOW Make your own 'slickers' !</td>\n",
       "      <td>I just received my shipment and could hardly w...</td>\n",
       "    </tr>\n",
       "    <tr>\n",
       "      <th>1146</th>\n",
       "      <td>1245</td>\n",
       "      <td>B00002Z754</td>\n",
       "      <td>A29Z5PI9BW2PU3</td>\n",
       "      <td>Robbie</td>\n",
       "      <td>7</td>\n",
       "      <td>7</td>\n",
       "      <td>Positive</td>\n",
       "      <td>961718400</td>\n",
       "      <td>Great Product</td>\n",
       "      <td>This was a really good idea and the final prod...</td>\n",
       "    </tr>\n",
       "    <tr>\n",
       "      <th>2942</th>\n",
       "      <td>3204</td>\n",
       "      <td>B000084DVR</td>\n",
       "      <td>A1UGDJP1ZJWVPF</td>\n",
       "      <td>T. Moore \"thoughtful reader\"</td>\n",
       "      <td>1</td>\n",
       "      <td>1</td>\n",
       "      <td>Positive</td>\n",
       "      <td>1177977600</td>\n",
       "      <td>Good stuff!</td>\n",
       "      <td>I'm glad my 45lb cocker/standard poodle puppy ...</td>\n",
       "    </tr>\n",
       "  </tbody>\n",
       "</table>\n",
       "</div>"
      ],
      "text/plain": [
       "        Id   ProductId          UserId                   ProfileName  \\\n",
       "2546  2774  B00002NCJC  A196AJHU9EASJN                  Alex Chaffee   \n",
       "2547  2775  B00002NCJC  A13RRPGE79XFFH                      reader48   \n",
       "1145  1244  B00002Z754  A3B8RCEI0FXFI6                     B G Chase   \n",
       "1146  1245  B00002Z754  A29Z5PI9BW2PU3                        Robbie   \n",
       "2942  3204  B000084DVR  A1UGDJP1ZJWVPF  T. Moore \"thoughtful reader\"   \n",
       "\n",
       "      HelpfulnessNumerator  HelpfulnessDenominator     Score        Time  \\\n",
       "2546                     0                       0  Positive  1282953600   \n",
       "2547                     0                       0  Positive  1281052800   \n",
       "1145                    10                      10  Positive   962236800   \n",
       "1146                     7                       7  Positive   961718400   \n",
       "2942                     1                       1  Positive  1177977600   \n",
       "\n",
       "                             Summary  \\\n",
       "2546                   thirty bucks?   \n",
       "2547                    Flies Begone   \n",
       "1145  WOW Make your own 'slickers' !   \n",
       "1146                   Great Product   \n",
       "2942                     Good stuff!   \n",
       "\n",
       "                                                   Text  \n",
       "2546  Why is this $[...] when the same product is av...  \n",
       "2547  We have used the Victor fly bait for 3 seasons...  \n",
       "1145  I just received my shipment and could hardly w...  \n",
       "1146  This was a really good idea and the final prod...  \n",
       "2942  I'm glad my 45lb cocker/standard poodle puppy ...  "
      ]
     },
     "execution_count": 40,
     "metadata": {},
     "output_type": "execute_result"
    }
   ],
   "source": [
    "final.head()"
   ]
  },
  {
   "cell_type": "code",
   "execution_count": 41,
   "id": "83bbb83a",
   "metadata": {},
   "outputs": [
    {
     "data": {
      "text/plain": [
       "CountVectorizer(stop_words='english')"
      ]
     },
     "execution_count": 41,
     "metadata": {},
     "output_type": "execute_result"
    }
   ],
   "source": [
    "count_vector=CountVectorizer(stop_words='english')\n",
    "count_vector.fit(final[\"Text\"])"
   ]
  },
  {
   "cell_type": "code",
   "execution_count": 45,
   "id": "d502c019",
   "metadata": {},
   "outputs": [
    {
     "name": "stdout",
     "output_type": "stream",
     "text": [
      "Print some features ['00', '000', '000kwh', '002', '0100', '0174', '02', '03', '03510', '04', '042608460503', '0472066978', '06', '0738551856', '09', '090', '0g', '0mg', '0xk6hzpjrkaed855hewp', '0z', '10', '100', '1000', '100ml', '100s', '100x', '101', '103', '108', '10g', '10lb', '10lbs', '10mg', '10oz', '10th', '10x', '11', '110', '110mg', '114', '11g', '12', '120', '121', '1245', '1246', '125', '129', '12g', '12lbs', '12oz', '13', '130', '1300131716', '1300watt', '1306', '134', '135', '135mg', '1388', '13oz', '14', '140', '144', '15', '150', '150mg', '15g', '15lb', '15lbs', '15mg', '15oz', '16', '160', '160lb', '160mg', '167', '16g', '16lb', '16oz', '17', '170', '170g', '17g', '17oz', '18', '180', '180mg', '184', '1845', '1845979125', '1866', '1898', '18g', '18oz', '18th', '19', '190', '1912', '1933981350', '1952', '1980', '1980s', '1987', '1990s', '1996', '1998', '19ish', '19oz', '19th', '1c', '1g', '1lb', '1lbs', '1oz', '1st', '1t', '1x850g', '20', '200', '2000', '2003', '2007', '2008', '2009', '200f', '200mg', '2010', '2011', '2012', '2013', '2015', '208f', '20g', '20lbs', '20min', '20oz', '20th', '21', '210', '210mg', '21g', '22', '220', '220mg', '228', '22g', '22nd', '23', '230', '230mg', '2338', '236', '2366', '23g', '24', '240', '2400mg', '24oz', '25', '25lb', '25mg', '25oz', '25th', '25x25', '26', '265', '27', '270', '28', '280mg', '28g', '28th', '28z', '29', '2am', '2c', '2d', '2g', '2lb', '2lbs', '2nd', '2oz', '2t', '2tbs', '2tbsp', '2x', '2x46oz', '2years', '2yrs', '30', '300', '3000', '300mgs', '301', '302', '30lbs', '30mins', '30oz', '30qt', '30th', '31', '32', '320', '32oz', '33', '330mg', '336', '34', '349', '34oz', '35', '350', '35mg', '36', '360', '37', '370', '370mg', '375', '38', '39', '3c', '3g', '3grams', '3lb', '3oz', '3rd', '3s', '3x5', '40', '400', '403', '408', '40lbs', '40mg', '41', '42', '42g', '44', '45', '450', '4500', '45lb', '46', '464', '46oz', '47', '48', '48042', '48v', '49', '49cents', '4g', '4gms', '4oz', '4t', '4th', '4x', '4yo', '4yrs', '50', '500', '5000', '500g', '50lb', '50lbs', '50th', '50x50', '51', '515', '53', '53996', '54', '55', '5595443', '56', '57', '58', '59', '590mg', '5g', '5lb', '5lbs', '5mg', '5min', '5oz', '5th', '60', '600', '600mg', '62', '63', '64', '65', '66', '67g', '68', '69', '6g', '6inches', '6lb', '6lbs', '6mo', '6mths', '6oz', '6th', '70', '700', '7071944', '70mg', '72', '7274', '73', '75', '750', '76', '77', '78', '79', '7bucks', '7g', '7oz', '7pm', '7yr', '80', '80mg', '81', '82', '8230', '8243', '83', '84', '84s', '85', '850', '86', '88', '880', '8g', '8lb', '8oz', '8x8', '8yr', '90', '900', '90mg', '90s', '91', '92', '94', '95', '96', '98', '99', '990', '99c', '99cent', '99cents', '9chokign', '9g', '9gms', '9lives', '9mo', '9oz', '9pm', '9x13', '____________________________________________________________________________________________________________________________', '_effect_', '_totally', 'a1', 'a3jw437i54sei1', 'aa', 'aahhhs', 'aback', 'abandon', 'abates', 'abbott', 'abby', 'abdominal', 'abiding', 'ability', 'able', 'abor', 'aboulutely', 'absence', 'absent', 'absoloutely', 'absolute', 'absolutely', 'absolutley', 'absolutly', 'absorb', 'absorbed', 'absorbs', 'abt', 'abundant', 'abuse', 'acacia', 'academy', 'acai', 'accelerated', 'acceleration', 'accept', 'acceptable', 'accepted', 'access', 'accessable', 'accessible', 'accessory', 'accident', 'accidentally', 'accidently', 'accidents', 'acclimatization', 'accolades', 'accommodate', 'accompanies', 'accompaniment', 'accompany', 'accompanying', 'accomplish', 'accomplished', 'according', 'accordingly', 'account', 'accounting', 'accounts', 'accumulated', 'accumulation', 'accuracy', 'accurate', 'accustomed', 'ace', 'acerola', 'acesulfame', 'acetaminophen', 'ache', 'aches', 'achieve', 'achieving', 'acid', 'acidic', 'acidify', 'acidity', 'acids', 'acknowledge', 'acknowledged', 'acknowledgement', 'acne', 'acoustically', 'acquaintance', 'acquainted', 'acquire', 'acquired', 'acre', 'acrid', 'act', 'acted', 'acting', 'activate', 'activates', 'active', 'actively', 'activities', 'activity', 'actors', 'acts', 'actual', 'actually', 'acustom', 'ad', 'adapt', 'adapter', 'adaptor', 'add', 'added', 'addendum', 'addict', 'addicted', 'addicting', 'addiction', 'addictive', 'addictively', 'addicts', 'adding', 'addition', 'additional', 'additionally', 'additions', 'additive', 'additives', 'addled', 'address', 'addressed', 'adds', 'adequate', 'adequately', 'adhd', 'adid', 'adirondack', 'adjectives', 'adjunct', 'adjust', 'adjustable', 'adjusted', 'adjusting', 'adjustment', 'adjustments', 'administered', 'administration', 'admired', 'admit', 'admits', 'admittedly', 'adopted', 'adoption', 'adorable', 'adore', 'adores', 'ados', 'ads', 'adult', 'adulterated', 'adults', 'advance', 'advanced', 'advantage', 'advantages', 'adverse', 'advertise', 'advertised', 'advertisement', 'advertisements', 'advertises', 'advertising', 'advertized', 'advertizes', 'advice', 'advil', 'advise', 'advised', 'advocate', 'advocates', 'adzuki', 'aerobic', 'aeromatic', 'aeropress', 'aesthetically', 'affair', 'affairs', 'affect', 'affected', 'affecting', 'affection', 'affectionate', 'affects', 'affiliation', 'affinity', 'afford', 'affordable', 'afghanistan', 'afghans', 'aflatoxin', 'aflotoxin', 'afore', 'aforementioned', 'afraid', 'africa', 'africafe', 'african', 'africana', 'afront', 'afternoon', 'afternoons', 'aftertase', 'aftertaste', 'agata', 'agava', 'agave', 'age', 'aged', 'agency', 'agent', 'agents', 'ager', 'ages', 'aggravate', 'aggravation', 'aggressive', 'aggrieved', 'agile', 'aging', 'ago', 'agood', 'agree', 'agreed', 'agreeing', 'agrees', 'agriculture', 'ah', 'ahead', 'ahhh', 'ahmad', 'ahold', 'aholic', 'ahoy', 'ahs', 'ahve', 'aid', 'aided', 'aids', 'aim', 'aimed', 'ain', 'aint', 'air', 'airbrushed', 'aires', 'airfare', 'airing', 'airplane', 'airplanes', 'airpocket', 'airpopper', 'airport', 'airtight', 'airway', 'airy', 'aisle', 'aka', 'akg', 'akin', 'al', 'alabama', 'alas', 'alaska', 'alaskan', 'albanese', 'albeit', 'albertsons', 'alcohol', 'alcoholic', 'alcohols', 'ale', 'alec', 'alergic', 'alergies', 'alert', 'alertness', 'alfredo', 'alginate', 'algo', 'ali', 'alice', 'alike', 'alimentum', 'alittle', 'alive', 'alkali', 'alkaline', 'alkalized', 'alkalizing', 'allays', 'alleged', 'allergen', 'allergenic', 'allergens', 'allergic', 'allergies', 'allergy', 'alles', 'alleviated', 'alley', 'alliance', 'allot', 'allow', 'allowance', 'allowed', 'allowing', 'allows', 'allspice', 'alludes', 'ally', 'almond', 'almonds', 'almondy', 'aloha', 'alongside', 'aloof', 'alot', 'alpaca', 'alpacas', 'alpine', 'alpo', 'alright', 'alter', 'altered', 'altering', 'alternate', 'alternately', 'alternating', 'alternative', 'alternatives', 'alternitives', 'alters', 'altogether', 'altogther', 'altoid', 'altoids', 'alton', 'altria', 'altura', 'alum', 'aluminum', 'alway', 'alzheimer', 'amaranth', 'amaretto', 'amazed', 'amazement', 'amazes', 'amazing', 'amazingly', 'amazon', 'amazonia', 'amazonn', 'amazzon', 'amber', 'ambient', 'ambrosia', 'ambulance', 'ameliorate', 'ameliorated', 'america', 'american', 'americanized', 'americano', 'americans', 'americas', 'americolor', 'amino', 'aminopterin', 'amish', 'amiss', 'amos', 'amoung', 'amounts', 'amout', 'amoxicillin', 'amp', 'ample', 'amplifier', 'amplify', 'amps', 'amsterdam', 'amt', 'amusing', 'amy', 'anad', 'anaheim', 'analize', 'analog', 'analogy', 'analysis', 'analyzer', 'anchovy', 'ancient', 'and1', 'andthey', 'anecdote', 'anemic', 'ange', 'angelina', 'angle', 'angry', 'anguish', 'anguished', 'animal', 'animals', 'animation', 'anime', 'anise', 'aniseed', 'ann', 'annerversery', 'annette', 'annie', 'annihilated', 'announcement', 'announces', 'annoyed', 'annoying', 'annually', 'anodyne', 'anonymous', 'anothert', 'answer', 'answered', 'answering', 'answers', 'antes', 'anthony', 'anti', 'antibiotic', 'antibiotics', 'antibodies', 'anticipate', 'anticipated', 'anticipating', 'anticipation', 'antidotal', 'antidote', 'antioxidant', 'antioxidants', 'antler', 'ants', 'anxieties', 'anxiety', 'anxious', 'anybody', 'anymore', 'anyonr', 'anyother', 'anytime', 'anyways', 'anywhear', 'anywho', 'aoli', 'apart', 'apartment', 'apo', 'apollo', 'apologies', 'apologize', 'apologized', 'apologizing', 'apology', 'appalled', 'appalling', 'apparent', 'apparently', 'appeal', 'appealing', 'appealingly', 'appeals', 'appear', 'appearance', 'appeared', 'appears', 'appease', 'appetit', 'appetite', 'appetizer', 'appetizers', 'appetizing', 'applaud', 'apple', 'apples', 'applesauce', 'applesause', 'appliance', 'application', 'applications', 'applied', 'applies', 'apply', 'appointment', 'appreciable', 'appreciate', 'appreciated', 'appreciates', 'appreciating', 'appreciative', 'apprehensive', 'apprentice', 'approach', 'approached', 'approaching', 'appropriate', 'appropriately', 'approval', 'approve', 'approved', 'approves', 'approx', 'approximate', 'approximately', 'apricot', 'apricots', 'april', 'apso', 'ara', 'arabia', 'arabica', 'archer', 'archway', 'area', 'areas', 'aren', 'arent', 'argentina', 'argentine', 'argh', 'argo', 'argue', 'argument', 'arise', 'arises', 'aritficial', 'arived', 'arizona', 'ark', 'arm', 'arms', 'army', 'arnt', 'aroma', 'aromas', 'aromatic', 'arranged', 'arrangement', 'array', 'arrhythmia', 'arrival', 'arrive', 'arrived', 'arrives', 'arriving', 'arrow', 'arrowhead', 'arsenic', 'art', 'artful', 'arthritic', 'arthritis', 'arthur', 'artichoke', 'article', 'artifial', 'artifical', 'artifically', 'artificial', 'artificially', 'artisan', 'artisana', 'artisanal', 'artist', 'artwork', 'aruba', 'as4', 'as_li_ss_til', 'asap', 'ascertain', 'ascertained', 'ash', 'ashby', 'ashbys', 'ashes', 'ashy', 'asia', 'asian', 'asians', 'aside', 'asin', 'asio', 'ask', 'asked', 'asking', 'asks', 'asp', 'asparagus', 'aspargus', 'aspartame', 'aspect', 'aspects', 'aspen', 'asperger', 'aspiring', 'ass', 'assam', 'assemble', 'assembled', 'assert', 'asset', 'assiciated', 'assigned', 'assimilate', 'assistance', 'assisted', 'associate', 'associated', 'associates', 'associating', 'assorted', 'assortment', 'assortments', 'assume', 'assumed', 'assuming', 'assumption', 'assurance', 'assure', 'assured', 'assures', 'asterisk', 'astore', 'astounded', 'astounding', 'astringent', 'astronaut', 'at2020', 'ate', 'ater', 'atherogenesis', 'athlete', 'athletes', 'atkins', 'atleast', 'atomizer', 'atop', 'atrocities', 'attach', 'attached', 'attaches', 'attack', 'attacks', 'attacted', 'attempt', 'attempted', 'attempting', 'attempts', 'attended', 'attention', 'attest', 'attitude', 'attracted', 'attractive', 'attributable', 'attribute', 'attuned', 'au', 'auction', 'audacity', 'audible', 'audio', 'aug', 'august', 'aunt', 'auspices', 'aussie', 'austin', 'australia', 'australian', 'austria', 'authentic', 'authorization', 'autism', 'autistic', 'auto', 'autoimmune', 'autolyzed', 'automated', 'automatic', 'automatically', 'autopsy', 'autoship', 'autumn', 'avail', 'availability', 'available', 'availalbe', 'availing', 'avenue', 'avenues', 'average', 'averaged', 'averse', 'aversion', 'avid', 'avocado', 'avoid', 'avoided', 'avoiding', 'avoids', 'awaited', 'awaiting', 'awake', 'awakening', 'award', 'awarding', 'awards', 'aware', 'awareness', 'away', 'awe', 'aweful', 'awesome', 'awesomely', 'awesomeness', 'awful', 'awfully', 'awhile', 'awkward', 'awsome', 'awwfuul', 'ay', 'ayear', 'az', 'azuki', 'b00004rbdy', 'b0000gghzq', 'b0000ggi00', 'b0000vmbdi', 'b00028zll8', 'b0002dgrsy', 'b0002ims5k', 'b0002z9bf8', 'b00067ad4u', 'b0006g54ou', 'b000aqpmha', 'b000ayel1a', 'b000cmhmuc', 'b000e5ao8o', 'b000e6lbxk', 'b000eh2ama', 'b000eyc096', 'b000f9z1wi', 'b000f9z1ws', 'b000fdkqcy', 'b000ffry3g', 'b000g6mbua', 'b000g6mbv4', 'b000g6q4gm', 'b000gevgxa', 'b000gwko7g', 'b000gwlugu', 'b000hdmw9m', 'b000i6g2oo', 'b000j2dq46', 'b000koum68', 'b000nv83eg', 'b000odry9i', 'b000p151ai', 'b000ubh9ye', 'b000vk33c6', 'b000vk8hj0', 'b000vz8wc2', 'b000wfl09s', 'b000yqmb1g', 'b0011528s0', 'b0012bsmjm', 'b0012bzghs', 'b00139tt72', 'b00139zpkm', 'b0014eub7i', 'b0016nq49q', 'b00176aidu', 'b001794q0s', 'b001bcubz0', 'b001bm4jlc', 'b001bxm2lu', 'b001e5e0t2', 'b001e5e29a', 'b001e5e2qs', 'b001e6kbsk', 'b001ell3u0', 'b001ell9x6', 'b001eo5qw8', 'b001eo5wo0', 'b001eo5zfq', 'b001eo6bfe', 'b001eppfgo', 'b001eq4hvc', 'b001eq55mm', 'b001eq5jle', 'b001gcvlxg', 'b001gvisjm', 'b001hti4tm', 'b001jk2seg', 'b001kyoene', 'b001m0508y', 'b001ppxfag', 'b001rvfdoo', 'b001sb1uja', 'b002483tsq', 'b0029jtzlk', 'b0029jytsy', 'b0029xdzik', 'b002c4hz00', 'b0032jkwgi', 'b00375lao0', 'b00389q4xw', 'b003bqpzge', 'b003tvdhio', 'b004134h9w', 'b0042tr2we', 'b004391dk0', 'b00439gwtm', 'b0043xylaa', 'b0045xe32e', 'b00474or8g', 'b00474vpli', 'b00474vpy0', 'b0048ifusc', 'b004a85g52', 'b004am5pz4', 'b004i3y4ie', 'b004ow342g', 'b004tj3zua', 'b005k4q1t0', 'b005k4q1vi', 'b005k4q64k', 'b005xp3r4i', 'b0066d2xvy', 'b007poa158', 'b0084d71zm', 'b008ema3as', 'b1', 'b2', 'b40', 'b6', 'b70', 'baba', 'babe', 'babies', 'babka', 'babkas', 'baby', 'babyfood', 'babysit', 'bacause', 'baci', 'backed', 'background', 'backing', 'backpack', 'backpacking', 'backside', 'backsweetening', 'backyard', 'bacon', 'bacteria', 'bad', 'badly', 'baffled', 'bag', 'bagel', 'bagels', 'bagged', 'baggie', 'baggies', 'baglets', 'bags', 'bahamas', 'bahn', 'bai', 'bait', 'bake', 'baked', 'baker', 'bakers', 'bakery', 'bakes', 'baking', 'balance', 'balanced', 'balances', 'balancing', 'balding', 'baldwin', 'balk', 'ball', 'balloon', 'balls', 'balsamic', 'balsamico', 'bam', 'bamy', 'ban', 'banana', 'bananas', 'band', 'bandwagon', 'bang', 'banged', 'banh', 'banished', 'bank', 'banks', 'bannas', 'banned', 'banquet', 'banquets', 'bar', 'barbara', 'barbecue', 'barbecued', 'barbecues', 'barbecuing', 'barbell', 'barbeque', 'barbque', 'barbra', 'bare', 'barecue', 'barely', 'barest', 'barfed', 'barfing', 'bargain', 'bariatric', 'bariloche', 'bark', 'barleans', 'barley', 'barolo', 'baronet', 'barrel', 'barrels', 'barrier', 'barry', 'bars', 'bartender', 'base', 'baseball', 'based', 'basenji', 'bases', 'bashas', 'bashed', 'bashing', 'basic', 'basically', 'basics', 'basil', 'basis', 'basket', 'basketeers', 'baskets', 'basmati', 'baste', 'bat', 'batch', 'batches', 'bated', 'bates', 'bath', 'bathe', 'bathroom', 'baton', 'bats', 'batter', 'batteries', 'batters', 'battery', 'battle', 'battles', 'baubles', 'baught', 'bavarian', 'baxter', 'baxters', 'bay', 'bayer', 'bazi', 'bbq', 'bc', 'bday', 'beach', 'bead', 'beagle', 'beaker', 'beaks', 'bean', 'beans', 'bear', 'bearable', 'bearing', 'bears', 'beartoothjoe', 'beast', 'beasts', 'beat', 'beaten', 'beating', 'beats', 'beauregard', 'beauties', 'beautiful', 'beautifully', 'beauty', 'beaver', 'becareful', 'beckham', 'beckoned', 'becuase', 'bed', 'bedbath', 'bedpost', 'bedtime', 'bee', 'beech', 'beef', 'beefeaters', 'beefers', 'beefsticks', 'beefy', 'beer', 'beers', 'bees', 'beeswax', 'beet', 'beetle', 'beg', 'began', 'begging', 'begin', 'begining', 'beginning', 'begrudgingly', 'begs', 'begun', 'behave', 'behaved', 'behavior', 'behavioral', 'behold', 'behringer', 'beleive', 'belgian', 'belgium', 'belief', 'believe', 'believer', 'believers', 'believes', 'believing', 'belive', 'belize', 'bell', 'bella', 'bells', 'belly', 'belongs', 'beloved', 'bemoaning', 'bend', 'bends', 'beneficial', 'benefit', 'benefited', 'benefits', 'benefts', 'beneful', 'benifits', 'bennies', 'benson', 'bent', 'bergamot', 'berlin', 'berries', 'berry', 'best', 'bestest', 'besty', 'bet', 'bethlehem', 'better', 'betterbatter', 'bettermilk', 'betty', 'bettycrocker', 'beverage', 'beverages', 'beware', 'bewer', 'bf', 'bg', 'bht', 'bi', 'bialetti', 'biased', 'bib', 'bible', 'bichon', 'bicycle', 'bid', 'big', 'big5', 'bigelow', 'bigger', 'biggest', 'bih', 'bike', 'biking', 'bikram', 'bile', 'billed', 'billing', 'billion', 'bills', 'bin', 'binder', 'bing', 'binge', 'bins', 'bio', 'bioavailable', 'biodegradable', 'biodiesel', 'bionaturae', 'bird', 'birds', 'birth', 'birthday', 'biryani', 'biscoti', 'biscotti', 'biscottis', 'biscuit', 'biscuits', 'biscuity', 'biscuts', 'bishop', 'bisque', 'bisques', 'bisquick', 'bisquik', 'bisquit', 'bisquits', 'bit', 'bitayavon', 'bite', 'bites', 'biting', 'bits', 'bitten', 'bitter', 'bitterness', 'bizarre', 'bj', 'black', 'blackberry', 'blackbird', 'bladder', 'blade', 'blades', 'blagk', 'blah', 'blair', 'blame', 'blames', 'blaming', 'blanched', 'bland', 'blanket', 'blanks', 'bleached', 'bleaching', 'blech', 'bleeds', 'bleh', 'blend', 'blended', 'blender', 'blending', 'blends', 'blessing', 'blessings', 'bleu', 'blew', 'blind', 'blinded', 'blink', 'bliss', 'bloat', 'bloating', 'blob', 'block', 'blocked', 'blocker', 'blockhouse', 'blog', 'blogs', 'blonde', 'blood', 'bloody', 'bloom', 'blooming', 'blossom', 'blossoms', 'blot', 'blow', 'blowing', 'blown', 'blows', 'blu', 'bluberry', 'blue', 'blueberries', 'blueberry', 'bluebird', 'bluegrass', 'blues', 'blurb', 'blyth', 'bms', 'bnecause', 'board', 'boat', 'bob', 'bodied', 'bodies', 'bodum', 'body', 'bodybuilder', 'bodyscrub', 'boggling', 'boil', 'boiled', 'boiler', 'boiling', 'bois', 'boise', 'bold', 'bolder', 'boldness', 'bolds', 'boloni', 'bolthouse', 'bomb', 'bombarded', 'bomber', 'bombilla', 'bombs', 'bon', 'bona', 'bonafide', 'bond', 'bone', 'boneless', 'bonemeal', 'bones', 'bonus', 'boo', 'book', 'booklet', 'books', 'boom', 'booming', 'boost', 'booster', 'boosters', 'boosts', 'boot', 'booty', 'border', 'borderline', 'bored', 'borers', 'boring', 'borlotti', 'born', 'borrachos', 'boscoli', 'boss', 'boston', 'botanical', 'botanicals', 'bother', 'bothers', 'bothersome', 'botique', 'botten', 'bottle', 'bottled', 'bottles', 'bottling', 'bottoms', 'bough', 'bought', 'boulder', 'bounce', 'bounced', 'bouncier', 'bouncy', 'bound', 'bounds', 'bouquet', 'bourbon', 'bout', 'bouts', 'bowel', 'bowels', 'bowl', 'bowls', 'box', 'boxed', 'boxer', 'boxers', 'boxes', 'boy', 'boyardee', 'boyfriend', 'boys', 'bpa', 'bqq', 'br', 'braces', 'bracing', 'bracket', 'brackets', 'brag', 'bragg', 'braggs', 'brain', 'brained', 'brainer', 'brakes', 'bran', 'branch', 'branching', 'brand', 'branding', 'brands', 'brandy', 'branson', 'brat', 'brats', 'bratwurst', 'brave', 'bravely', 'bravo', 'braziers', 'brazil', 'brazilian', 'brazilians', 'brc', 'bread', 'breadbaker', 'breadboard', 'breading', 'breadmachine', 'breadmaker', 'breads', 'breadstick', 'break', 'breakage', 'breakdown', 'breakfast', 'breakfasts', 'breakfasty', 'breaking', 'breaks', 'breaksdown', 'breakup', 'breast', 'breastfed', 'breastmilk', 'breastmillk', 'breasts', 'breath', 'breathe', 'breathed', 'breathing', 'breed', 'breeder', 'breeds', 'breeze', 'breezy', 'brett', 'breville', 'brew', 'brewed', 'brewer', 'brewers', 'brewing', 'brews', 'breyer', 'brian', 'brians', 'bribing', 'brick', 'bricks', 'brief', 'briefcase', 'briefly', 'bries', 'bright', 'brighter', 'brightly', 'brightness', 'brights', 'brilliant', 'brine', 'brined', 'bring', 'bringing', 'brings', 'brink', 'brisk', 'brisling', 'bristol', 'brit', 'brita', 'british', 'brits', 'britt', 'brittany', 'brittle', 'brm', 'broadway', 'broccoli', 'broil', 'broke', 'broken', 'brood', 'brooklyn', 'bros', 'broth', 'brother', 'brothers', 'brothy', 'brought', 'brown', 'browned', 'browner', 'brownie', 'brownies', 'brownish', 'browns', 'browsed', 'browsing', 'brulee', 'brunch', 'brush', 'brushed', 'brushes', 'brushing', 'brutal', 'bsg', 'btw', 'bubble', 'bubblegum', 'bubbles', 'buck', 'bucket', 'bucks', 'buckwheat', 'budda', 'buddies', 'buddy', 'budget', 'buds', 'buen', 'buenos', 'buffalo', 'buffer', 'buffet', 'buffets', 'buffett', 'buffoon', 'bug', 'buggers', 'buggy', 'bugs', 'build', 'building', 'builds', 'buildup', 'built', 'builtin', 'buisiness', 'buisness', 'bulge', 'bulghour', 'bulk', 'bulky', 'bull', 'bulldog', 'bulldogs', 'bullet', 'bullies', 'bulls', 'bully', 'bumble', 'bumblebee', 'bummed', 'bummer', 'bump', 'bumped', 'bumps', 'bun', 'bunch', 'bunches', 'bundt', 'bunnies', 'buns', 'burden', 'burger', 'burgers', 'buried', 'burn', 'burned', 'burner', 'burning', 'burns', 'burnt', 'burr', 'burrito', 'burritos', 'burst', 'bursting', 'bus', 'buses', 'bushel', 'bushy', 'business', 'bust', 'busted', 'buster', 'busters', 'busy', 'butcher', 'butchering', 'butter', 'buttered', 'butterfat', 'buttermilk', 'butternut', 'butters', 'butterscotch', 'buttery', 'button', 'buy', 'buyer', 'buyers', 'buying', 'buys', 'buzz', 'buzzing', 'buzzworthy', 'bye', 'bypass', 'byproduct', 'bzzagent', 'c01u', 'c3000b', 'c606', 'ca', 'cabbage', 'cabernet', 'cabinet', 'cabinets', 'cable', 'cables', 'cacao', 'cacoa', 'cactus', 'cadbury', 'caddy', 'caesar', 'caesers', 'caf', 'cafe', 'cafes', 'cafeteria', 'caffe', 'caffein', 'caffeinated', 'caffeine', 'caffene', 'caffinated', 'caffine', 'cajun', 'cake', 'cakes', 'cakester', 'cakesters', 'caking', 'cal', 'calamares', 'calcium', 'calculate', 'calculated', 'calculating', 'calculations', 'calendar', 'calf', 'calidad', 'california', 'called', 'calling', 'callories', 'calls', 'calm', 'calming', 'calms', 'caloreis', 'caloric', 'calorie', 'caloriecount', 'calories', 'cals', 'calves', 'cambells', 'cambodia', 'cambria', 'camcorder', 'came', 'camelbak', 'camelbaks', 'camp', 'campbell', 'camper', 'camping', 'canaan', 'canada', 'canadian', 'cancel', 'canceled', 'cancelled', 'cancer', 'candied', 'candies', 'candle', 'candles', 'candy', 'candyland', 'cane', 'caned', 'canes', 'canidae', 'canin', 'canine', 'canister', 'canisters', 'canned', 'cannes', 'canning', 'cannister', 'cannisters', 'canola', 'cans', 'cantaloupe', 'cap', 'capability', 'capacity', 'cape', 'capers', 'capful', 'cappuccino', 'capsule', 'capsules', 'captivating', 'capture', 'captured', 'capturing', 'caputo', 'car', 'carabou', 'caramel', 'caramelish', 'caramelize', 'caramelized', 'caramelizes', 'caramello', 'caramels', 'caraway', 'carb', 'carbohydrate', 'carbohydrates', 'carbon', 'carbonated', 'carbonation', 'carbos', 'carbou', 'carboy', 'carbs', 'carby', 'card', 'cardamom', 'cardboard', 'cardboardy', 'cardigan', 'cardiod', 'cards', 'care', 'cared', 'careful', 'carefully', 'caregiver', 'cares', 'caribou', 'caring', 'carl', 'carlton', 'carmel', 'carmely', 'carnation', 'carnitine', 'carnivores', 'carob', 'carolina', 'carot', 'carpet', 'carrageenan', 'carried', 'carrier', 'carries', 'carring', 'carrot', 'carrots', 'carry', 'carrying', 'cars', 'cart', 'carte', 'carton', 'cartons', 'cary', 'carys', 'cascading', 'case', 'casein', 'caseinate', 'cases', 'cash', 'cashew', 'cashews', 'casings', 'cassaroles', 'casseroles', 'cassify', 'cast', 'castellana', 'caster', 'castor', 'casual', 'casually', 'cat', 'catarized', 'catch', 'catching', 'catechins', 'categorize', 'category', 'caterer', 'catering', 'catfish', 'catholic', 'catnip', 'cats', 'catsup', 'catties', 'caught', 'cauliflower', 'cause', 'caused', 'causes', 'causing', 'caution', 'cautionary', 'cautioning', 'cavalier', 'cavashon', 'cave', 'caveat', 'caveman', 'cavenders', 'caviar', 'cavier', 'cayenne', 'cccs', 'cd', 'cds', 'ceasar', 'ceased', 'celebrate', 'celebrated', 'celebration', 'celebrity', 'celeiac', 'celery', 'celestial', 'celiac', 'celiacs', 'cell', 'cellar', 'cellophane', 'cells', 'cellulose', 'celophane', 'celsius', 'celtic', 'cement', 'census', 'cent', 'centennial', 'center', 'centerpiece', 'centerpieces', 'centers', 'cento', 'centos', 'central', 'cents', 'centuries', 'ceo', 'ceral', 'ceramic', 'cereal', 'cereals', 'ceremonial', 'certain', 'certainly', 'certainty', 'certificate', 'certification', 'certified', 'ceylon', 'cfh', 'cfound', 'cha', 'chablis', 'chai', 'chain', 'chains', 'chair', 'chalet', 'chalk', 'chalky', 'challah', 'challenge', 'challenged', 'challenging', 'chamomile', 'champagne', 'champions', 'chan', 'chance', 'chances', 'chanel', 'chang', 'change', 'changed', 'changes', 'changing', 'channel', 'channell', 'chao', 'chaos', 'character', 'characteristic', 'characteristics', 'characterize', 'characterized', 'characters', 'charcoal', 'chardonnay', 'charge', 'charged', 'charger', 'charges', 'charging', 'charitable', 'charities', 'charity', 'charlee', 'charles', 'charlie', 'charm', 'charming', 'charms', 'charred', 'charts', 'chase', 'chaser', 'chasing', 'chats', 'cheap', 'cheaper', 'cheapest', 'cheaply', 'cheapo', 'chebe', 'check', 'checked', 'checken', 'checking', 'checkout', 'checkup', 'cheddar', 'chedder', 'cheddery', 'cheeks', 'cheeper', 'cheerios', 'cheers', 'chees', 'cheese', 'cheeseburger', 'cheesecake', 'cheesecakes', 'cheeses', 'cheesy', 'cheetos', 'chef', 'chefman', 'chefs', 'chemical', 'chemicall', 'chemically', 'chemicals', 'chemist', 'chemistry', 'chems', 'cherries', 'cherry', 'cherrybrook', 'chest', 'chestnuts', 'chew', 'chewable', 'chewed', 'chewer', 'chewers', 'chewier', 'chewiness', 'chewing', 'chews', 'chewy', 'chewyness', 'chex', 'chia', 'chicken', 'chickens', 'chiclets', 'chicory', 'chihuahua', 'chihuahuas', 'chihuhua', 'child', 'childhood', 'children', 'childrens', 'chili', 'chilihead', 'chilis', 'chill', 'chilled', 'chilli', 'chilling', 'chilly', 'chimbote', 'chimichurri', 'china', 'chinatown', 'chinchillas', 'chinese', 'chins', 'chinsy', 'chip', 'chipaholic', 'chipotle', 'chipped', 'chips', 'chirstmas', 'chis', 'chive', 'chiweenie', 'chloe', 'chloresterol', 'chloride', 'chlorine', 'chlorophyll', 'chlothianidin', 'choc', 'chock', 'choclatique', 'choco', 'chocoholic', 'chocolat', 'chocolate', 'chocolately', 'chocolates', 'chocolatey', 'chocolaty', 'choice', 'choices', 'choke', 'choking', 'cholesterol', 'cholestoral', 'choline', 'cholocate', 'cholocates', 'choo', 'choose', 'chooses', 'choosing', 'chop', 'chopped', 'chopper', 'chopping', 'chops', 'chore', 'chose', 'chosen', 'chouquettes', 'choux', 'chow', 'chowder', 'chowders', 'chowed', 'chowing', 'chows', 'christmas', 'chromium', 'chronic', 'chubby', 'chuck', 'chucked', 'chug', 'chunk', 'chunks', 'chunky', 'church', 'chutney', 'cider', 'ciders', 'cigar', 'cigars', 'cigs', 'cilantro', 'cinamin', 'cinammon', 'cinamon', 'cincinnati', 'cindy', 'cinn', 'cinnamon', 'cinnamony', 'ciprofloxacin', 'cips', 'circle', 'circles', 'circuit', 'circular', 'circulates', 'circulation', 'circulatory', 'circumstance', 'circumvent', 'circus', 'cite', 'cities', 'citizens', 'citric', 'citrict', 'citrimax', 'citron', 'citrus', 'citrusy', 'city', 'ck', 'claim', 'claimed', 'claiming', 'claims', 'clam', 'clamato', 'clammy', 'clams', 'clan', 'clarify', 'clash', 'class', 'classes', 'classic', 'classical', 'classically', 'classics', 'classless', 'classrooms', 'clean', 'cleaned', 'cleaner', 'cleaning', 'cleanly', 'cleanup', 'clear', 'clearancing', 'cleared', 'clearer', 'clearing', 'clearly', 'clears', 'cleo', 'clerk', 'clever', 'cleverly', 'click', 'clicking', 'clicks', 'clientele', 'clients', 'cliff', 'climate', 'climb', 'climbing', 'clip', 'clipper', 'clipping', 'clippings', 'clips', 'clock', 'clocks', 'clog', 'close', 'closed', 'closely', 'closer', 'closes', 'closest', 'closet', 'closing', 'closure', 'closures', 'cloth', 'clothes', 'clothianidin', 'clots', 'cloudy', 'clove', 'cloves', 'cloyingly', 'club', 'clubs', 'clue', 'clueless', 'clump', 'clumped', 'clumping', 'clumps', 'clumsy', 'clusters', 'cluttering', 'cnn', 'co2', 'coach', 'coaching', 'coarse', 'coast', 'coastarican', 'coat', 'coated', 'coating', 'coats', 'cobbler', 'coc', 'coca', 'cocaine', 'cocao', 'cocapoo', 'coccidia', 'cocker', 'cockers', 'cocktail', 'coco', 'cocoa', 'cocoas', 'coconut', 'coconuts', 'coconutty', 'cocunut', 'cod', 'code', 'codes', 'coffe', 'coffee', 'coffeecake', 'coffeehouse', 'coffeemaker', 'coffeemate', 'coffees', 'coffeeshop', 'coffiee', 'cognitive', 'coin', 'coincidence', 'coined', 'coins', 'coit', 'coke', 'cola', 'colada', 'coladas', 'cold', 'colder', 'colds', 'coleman', 'coleslaw', 'colic', 'colitis', 'collages', 'collapse', 'collar', 'colleague', 'collection', 'collections', 'collectors', 'college', 'collie', 'colo', 'colombia', 'colombian', 'colony', 'color', 'colorado', 'coloration', 'colored', 'colorful', 'coloring', 'colorings', 'colors', 'colossal', 'colour', 'colours', 'columbia', 'columbian', 'coluratura', 'com', 'comanddered', 'combination', 'combinations', 'combine', 'combined', 'combining', 'combo', 'combos', 'come', 'comes', 'comfort', 'comfortable', 'comfortably', 'comforting', 'comical', 'comics', 'coming', 'comm', 'command', 'commands', 'commending', 'comment', 'commented', 'comments', 'commercial', 'commercially', 'commercials', 'commissary', 'commit', 'committed', 'committee', 'committing', 'commodity', 'common', 'commonly', 'commonplace', 'communicate', 'communication', 'communicative', 'communion', 'communism', 'community', 'commuter', 'compact', 'compactor', 'compairing', 'companies', 'companion', 'company', 'companys', 'comparable', 'comparably', 'comparative', 'comparatively', 'compare', 'compared', 'compares', 'comparing', 'comparison', 'comparisons', 'compartment', 'compartments', 'compassion', 'compatibility', 'compatible', 'compatibly', 'compelled', 'compensate', 'compensating', 'compete', 'competes', 'competition', 'competitive', 'competitively', 'competitor', 'competitors', 'complain', 'complained', 'complaining', 'complains', 'complaint', 'complaints', 'compleats', 'complely', 'complement', 'complements', 'complete', 'completed', 'completely', 'completing', 'complex', 'complexion', 'complexity', 'complicated', 'complications', 'compliment', 'complimented', 'complimenting', 'compliments', 'complying', 'component', 'components', 'composition', 'compost', 'compostable', 'compote', 'compressor', 'comprise', 'compromise', 'compromised', 'compromising', 'compulsive', 'computer', 'computers', 'concede', 'conceive', 'concensus', 'concentrate', 'concentrated', 'concentrates', 'concentration', 'concept', 'concern', 'concerned', 'concerning', 'concerns', 'concluded', 'conclusion', 'concoction', 'concoctions', 'concord', 'concourse', 'concur', 'condensed', 'condenser', 'condensor', 'condiment', 'condiments', 'condition', 'conditioned', 'conditioners', 'conditions', 'condor', 'conducive', 'conduct', 'conductive', 'cone', 'cones', 'confection', 'confectionery', 'conference', 'confess', 'confidant', 'confidence', 'confident', 'confidently', 'configurations', 'confirm', 'confirmation', 'confirmed', 'conflict', 'conformation', 'confronted', 'confuse', 'confused', 'confusing', 'confusion', 'congestion', 'conglomerate', 'congo', 'congou', 'connect', 'connected', 'connecting', 'connection', 'connections', 'connector', 'connisseur', 'connivence', 'connoisseur', 'connoisseurs', 'connor', 'cons', 'conscience', 'conscious', 'consecutively', 'consensus', 'consentrate', 'consequence', 'consequently', 'consider', 'considerable', 'considerably', 'considered', 'considering', 'consious', 'consistancy', 'consistant', 'consistantly', 'consistency', 'consistent', 'consistently', 'consisting', 'consistly', 'consists', 'consitancy', 'consolation', 'constancy', 'constant', 'constantly', 'constapation', 'constipated', 'constipation', 'constraints', 'constricted', 'construction', 'consult', 'consulting', 'consume', 'consumed', 'consumer', 'consumerlab', 'consumers', 'consumes', 'consuming', 'consumption', 'contact', 'contacted', 'contacting', 'contain', 'contained', 'container', 'containers', 'containing', 'contains', 'containted', 'contaminants', 'contaminate', 'contaminated', 'contamination', 'contemplating', 'content', 'contents', 'contest', 'continually', 'continue', 'continued', 'continues', 'continuing', 'continuous', 'contracting', 'contraptions', 'contrast', 'contribute', 'contributing', 'contributive', 'contributor', 'control', 'controlled', 'controlling', 'controls', 'convection', 'convenience', 'convenient', 'conveniently', 'convention', 'conventional', 'conventionally', 'conversation', 'conversely', 'conversion', 'convert', 'converted', 'converter', 'converters', 'converts', 'convienence', 'convienient', 'convince', 'convinced', 'convinence', 'convinient', 'convulsing', 'cook', 'cookbook', 'cookbooks', 'cooke', 'cooked', 'cooker', 'cookie', 'cookies', 'cookiie', 'cookin', 'cooking', 'cooks', 'cool', 'coolby', 'cooled', 'cooler', 'coolest', 'cooling', 'cools', 'coon', 'coop', 'coordinated', 'cop', 'copious', 'copper', 'coppery', 'copy', 'copycat', 'copyrighted', 'copywriters', 'cord', 'cordial', 'cordura', 'core', 'corgi', 'cork', 'corks', 'cormick', 'cormicks', 'corn', 'cornbread', 'corned', 'corner', 'cornered', 'corners', 'cornflakes', 'cornflour', 'cornmeal', 'cornstarch', 'cornucopia', 'corporate', 'corporations', 'corral', 'corrals', 'correct', 'corrected', 'correctly', 'corroded', 'corsage', 'corsorzio', 'cos', 'cosequin', 'cosmetic', 'cost', 'costa', 'costco', 'costing', 'costly', 'costo', 'costplus', 'costs', 'costume', 'costumer', 'cote', 'coton', 'cotta', 'cottage', 'cotton', 'cottonelle', 'cottonseed', 'coudl', 'cough', 'coughing', 'couldn', 'coulod', 'count', 'countdown', 'counter', 'counterpart', 'counters', 'counting', 'countless', 'countries', 'country', 'countryside', 'counts', 'county', 'couple', 'coupon', 'coupons', 'course', 'courses', 'court', 'courteous', 'courtesy', 'cous', 'couscous', 'cousin', 'cover', 'coverage', 'covered', 'covering', 'cow', 'coward', 'coworkers', 'cows', 'coyly', 'cozy', 'crab', 'crabmeat', 'crabtree', 'crack', 'cracked', 'cracker', 'crackerjack', 'crackers', 'cracks', 'cradle', 'craft', 'craftsmanship', 'craig', 'craisin', 'cramp', 'cramping', 'cramps', 'cranberries', 'cranberry', 'crane', 'crank', 'crap', 'crapload', 'crappy', 'craps', 'crash', 'crashes', 'crate', 'crave', 'craves', 'craving', 'cravings', 'crayola', 'crayons', 'craze', 'crazy', 'cream', 'creamer', 'creamers', 'creamier', 'creaminess', 'creams', 'creamy', 'create', 'created', 'creater', 'creates', 'creating', 'creation', 'creative', 'creativeasin', 'creators', 'credit', 'credits', 'creek', 'creeping', 'creme', 'cremes', 'crepes', 'cresent', 'cretan', 'cria', 'crickets', 'cried', 'cries', 'cringe', 'cringed', 'crinkle', 'criollo', 'crip', 'cripple', 'crisco', 'crisis', 'crisp', 'crispbread', 'crispbreads', 'crisper', 'crispier', 'crispiness', 'crispness', 'crisps', 'crispy', 'criteria', 'critic', 'critical', 'criticism', 'criticizing', 'critics', 'crocker', 'crockets', 'crohn', 'crops', 'cross', 'crossbred', 'crossed', 'crossover', 'crouton', 'croutons', 'crowd', 'crown', 'cruchiness', 'crud', 'crude', 'crudites', 'cruel', 'cruelty', 'cruise', 'crumb', 'crumbiness', 'crumble', 'crumbled', 'crumbles', 'crumbly', 'crumbs', 'crumby', 'crunch', 'crunchaholic', 'crunched', 'crunches', 'crunchie', 'crunchier', 'crunchies', 'crunchiest', 'crunchiness', 'crunching', 'crunchy', 'cruncy', 'crusade', 'crush', 'crushed', 'crushing', 'crust', 'crusted', 'crusties', 'crusts', 'crusty', 'cruz', 'crying', 'crystal', 'crystalize', 'crystalline', 'crystallization', 'crystallized', 'crystals', 'cs', 'csrs', 'ct', 'cualquier', 'cubase', 'cube', 'cubes', 'cucumber', 'cuisinart', 'cuisine', 'cukes', 'culinary', 'culprit', 'culquier', 'culture', 'culturelle', 'cultures', 'cumbersome', 'cumin', 'cup', 'cupboard', 'cupboards', 'cupcake', 'cupcakes', 'cuppa', 'cups', 'curb', 'curd', 'cure', 'cured', 'cures', 'curios', 'curiosity', 'curious', 'curiously', 'curl', 'curled', 'current', 'currently', 'curries', 'curry', 'curve', 'cushioned', 'cushioning', 'cust', 'custard', 'custom', 'customary', 'customer', 'customers', 'customize', 'customs', 'cut', 'cute', 'cuter', 'cuts', 'cutter', 'cutting', 'cuz', 'cycle', 'cycling', 'czipetke', 'd3', 'da', 'dab', 'dachshund', 'dachshunds', 'dachuhund', 'dad', 'daddy', 'daikon', 'daily', 'dairy', 'daisy', 'dallas', 'dalmatian', 'damage', 'damaged', 'damaging', 'damn', 'damning', 'damp', 'dan', 'dancer', 'dancing', 'dandelion', 'dandruff', 'dane', 'danes', 'dang', 'danger', 'dangerous', 'dangers', 'danish', 'dare', 'darford', 'darjeeling', 'darjeerling', 'dark', 'darker', 'darkness', 'darn', 'darned', 'das', 'dash', 'data', 'date', 'dated', 'dates', 'dating', 'daughter', 'daughters', 'daunting', 'dave', 'davidson', 'davis', 'dawned', 'day', 'daybreak', 'days', 'daytime', 'dc', 'dcaf', 'dd', 'dead', 'deadened', 'deal', 'dealing', 'dealings', 'deals', 'dean', 'dear', 'dearly', 'death', 'debacle', 'debate', 'debating', 'debilitating', 'debt', 'debuted', 'dec', 'decade', 'decadence', 'decadent', 'decades', 'decaf', 'decafe', 'decaff', 'decaffeinate', 'decaffeinated', 'decaffeinating', 'decaffeination', 'decaffienated', 'decaffinated', 'decaffs', 'decafs', 'decals', 'decanted', 'deceitful', 'deceive', 'deceived', 'deceiving', 'december', 'decent', 'decente', 'decently', 'deceptive', 'deceptively', 'decide', 'decided', 'decides', 'deciding', 'decision', 'decisions', 'decker', 'declined', 'decongestants', 'decor', 'decorate', 'decorated', 'decorating', 'decoration', 'decorations', 'decorative', 'decorator', 'decrease', 'decreased', 'decreases', 'dedication', 'deduct', 'deduction', 'deeming', 'deems', 'deep', 'deeper', 'deeply', 'deer', 'def', 'default', 'defeat', 'defeated', 'defeats', 'defect', 'defective', 'deff', 'defficiencies', 'defiantly', 'deficiency', 'defies', 'definately', 'definite', 'definitelly', 'definitely', 'definitentally', 'definitly', 'definnantly', 'defintely', 'deflated', 'defragging', 'defrost', 'degraded', 'degrades', 'degree', 'degrees', 'degusting', 'dehydrated', 'deiced', 'deirectly', 'del', 'delays', 'delectable', 'delectably', 'deleted', 'deli', 'deliberately', 'delicacy', 'delicate', 'delicately', 'delicious', 'deliciously', 'deliciousness', 'delicous', 'delight', 'delighted', 'delightful', 'delightfully', 'delights', 'deliicous', 'delious', 'deliscious', 'delish', 'deliver', 'delivered', 'deliveries', 'delivering', 'delivers', 'delivery', 'dell', 'demand', 'demeanor', 'dementia', 'demo', 'democracy', 'demos', 'denied', 'denny', 'dense', 'denser', 'density', 'dent', 'dentabones', 'dental', 'dente', 'dented', 'dentist', 'dents', 'dentures', 'deodorizing', 'department', 'departure', 'depend', 'dependable', 'depending', 'depends', 'deployed', 'deposited', 'depot', 'depressant', 'depressed', 'deprived', 'dept', 'depth', 'derivatives', 'derived', 'deriving', 'dermatologist', 'descaled', 'described', 'describes', 'describing', 'description', 'desert', 'deserts', 'deserve', 'deserved', 'deserves', 'deserving', 'design', 'designed', 'designer', 'designs', 'desinged', 'desirable', 'desire', 'desireable', 'desired', 'desires', 'desk', 'desks', 'desktop', 'desperate', 'desperately', 'desperation', 'despite', 'dessert', 'desserts', 'destination', 'destined', 'destroy', 'destroyed', 'destroying', 'destructive', 'detachable', 'detached', 'detailed', 'detailing', 'details', 'detect', 'detected', 'detectible', 'detective', 'deter', 'deterent', 'detergent', 'determine', 'determined', 'deterred', 'deters', 'detest', 'detox', 'detract', 'detrimental', 'detroit', 'devastated', 'devastating', 'develop', 'developed', 'developers', 'developing', 'development', 'deviate', 'device', 'devices', 'devil', 'devine', 'devnotes', 'devoted', 'devoting', 'devour', 'devoured', 'devouring', 'devours', 'dexterity', 'dextrin', 'dextrose', 'df', 'dh', 'dha', 'dhall', 'dharana', 'di', 'diabetes', 'diabetic', 'diabetics', 'diagnosed', 'dial', 'diameter', 'diamond', 'diaper', 'diapers', 'diappointed', 'diarhea', 'diarrhea', 'dice', 'diced', 'dicing', 'dictated', 'did', 'didn', 'didnt', 'die', 'died', 'diego', 'diet', 'dietary', 'dieter', 'dieters', 'dietetic', 'dieting', 'diets', 'diferent', 'diffently', 'differ', 'differed', 'difference', 'differences', 'different', 'differentiates', 'differently', 'differnet', 'differs', 'difficult', 'difficulties', 'difficulty', 'diffrent', 'dig', 'digest', 'digested', 'digestible', 'digesting', 'digestion', 'digestive', 'digests', 'digging', 'diggity', 'digidesign', 'digital', 'diglycerides', 'digress', 'dijon', 'dijons', 'dilemma', 'dilemmas', 'diligent', 'dill', 'dilly', 'dilute', 'diluted', 'dilutes', 'diluting', 'dilution', 'dim', 'dime', 'dimensional', 'dimensions', 'dimentions', 'diminished', 'din', 'dine', 'diner', 'dingo', 'dings', 'dining', 'dinky', 'dinner', 'dinners', 'dinosaur', 'dinty', 'dioxide', 'dip', 'dipotassium', 'dipped', 'dippin', 'dipping', 'dips', 'direct', 'directed', 'directions', 'directly', 'director', 'dirt', 'dirty', 'disabilities', 'disability', 'disabled', 'disagree', 'disagreeable', 'disapointed', 'disapointment', 'disappear', 'disappeared', 'disappears', 'disappionted', 'disappoined', 'disappoint', 'disappointed', 'disappointing', 'disappointment', 'disappointments', 'disapppointed', 'disassembled', 'disasterous', 'disatified', 'disc', 'disceptive', 'discern', 'discernable', 'discernible', 'discerning', 'discharge', 'discipline', 'disciplined', 'disclaimer', 'disclose', 'disclosure', 'disco', 'discoloration', 'discolored', 'discomfort', 'disconnects', 'discontinue', 'discontinued', 'discontinuing', 'discount', 'discounted', 'discounts', 'discourage', 'discouraged', 'discouraging', 'discover', 'discoverd', 'discovered', 'discovery', 'discription', 'discs', 'discuss', 'disease', 'diseased', 'diseases', 'disgruntling', 'disguise', 'disgusted', 'disgusting', 'disgustingly', 'disgutingly', 'dish', 'dishearting', 'dishes', 'disintegrate', 'disks', 'dislike', 'disliked', 'dismay', 'dismayed', 'dismissive', 'disney', 'disneyland', 'disodium', 'disolve', 'disorder', 'disorienting', 'dispatched', 'dispelled', 'dispense', 'dispenser', 'dispenses', 'dispensing', 'disphoria', 'display', 'displayed', 'displays', 'displeased', 'disposable', 'disposal', 'dispose', 'disputandem', 'disregarding', 'dissapoint', 'dissapointed', 'dissapointing', 'dissapointment', 'dissapointments', 'dissappointed', 'dissappointing', 'dissatisfied', 'dissipate', 'dissipated', 'dissloves', 'dissoluble', 'dissolve', 'dissolved', 'dissolves', 'dissolving', 'dissovle', 'dissuade', 'distance', 'distant', 'distaste', 'distilled', 'distinct', 'distinctive', 'distinctiveness', 'distinctly', 'distinguish', 'distinguished', 'distinguishes', 'distortion', 'distract', 'distracted', 'distress', 'distribute', 'distributed', 'distribution', 'distributor', 'district', 'disturbing', 'disturbingly', 'dive', 'divided', 'divine', 'division', 'dixie', 'doberman', 'doc', 'docs', 'doctor', 'doctored', 'doctoring', 'doctors', 'doen', 'does', 'doesn', 'doesnt', 'dofferent', 'dog', 'dogadvisor', 'dogfood', 'dogfoodadvisor', 'dogfoods', 'doggie', 'doggies', 'doggone', 'doggy', 'dogs', 'doing', 'dolce', 'dolche', 'dollar', 'dollars', 'domestic', 'domestically', 'dominated', 'dominicks', 'don', 'donate', 'donated', 'doniuts', 'dont', 'donut', 'donuts', 'doodle', 'doodles', 'doogie', 'door', 'doorstep', 'doorstop', 'dop', 'dope', 'doritos', 'dorm', 'dorms', 'dorset', 'dorthy', 'dosage', 'dose', 'dosen', 'doses', 'dosn', 'dosome', 'dots', 'double', 'doubled', 'doubt', 'doubting', 'doubts', 'dough', 'doughnuts', 'dousing', 'douwe', 'dove', 'doves', 'downfall', 'downgrade', 'downhill', 'download', 'downright', 'downs', 'downside', 'downsides', 'downsize', 'downsized', 'doxee', 'doxie', 'dozen', 'dozens', 'dp', 'dr', 'drab', 'drag', 'dragon', 'drain', 'drainage', 'drained', 'draining', 'drains', 'dramatic', 'dramatically', 'drank', 'drastic', 'drastically', 'dravis', 'draw', 'drawback', 'drawbacks', 'drawer', 'drawers', 'drawing', 'drawn', 'dreading', 'dream', 'dreamed', 'drench', 'dresings', 'dress', 'dressing', 'dressingnow', 'dressings', 'dribble', 'dried', 'drier', 'drink', 'drinkable', 'drinker', 'drinkers', 'drinking', 'drinks', 'drip', 'dripping', 'drippings', 'drippy', 'drive', 'driven', 'driver', 'drivers', 'drives', 'driving', 'drizzle', 'droopy', 'drop', 'dropped', 'dropping', 'droppings', 'drops', 'drowns', 'drowsy', 'drug', 'drugs', 'drunk', 'drv', 'dry', 'dryer', 'dryish', 'dryness', 'dual', 'dubble', 'dubious', 'duck', 'dud', 'dude', 'dudes', 'duds', 'dug', 'duh', 'dulce', 'dull', 'dulled', 'duller', 'dum', 'dumb', 'dump', 'dumped', 'dumping', 'dumpling', 'dumplings', 'dums', 'duncan', 'dunkan', 'dunked', 'dunkin', 'dunking', 'duper', 'duping', 'duplicate', 'durability', 'durable', 'duration', 'duress', 'durkee', 'dust', 'dusted', 'dusting', 'dusty', 'dutch', 'duty', 'dv', 'dvd', 'dwindle', 'dwindling', 'dye', 'dyed', 'dyes', 'dying', 'dynamic', 'dynamics', 'dynamite', 'dynasty', 'ea', 'eacute', 'eads', 'eager', 'eagerly', 'ear', 'earache', 'earl', 'earlier', 'earliest', 'early', 'earlyshield', 'earned', 'earrings', 'ears', 'earth', 'earthier', 'earths', 'earthsbest', 'earthworms', 'earthy', 'ease', 'easier', 'easiest', 'easily', 'easiness', 'east', 'easter', 'eastern', 'easy', 'eat', 'eatable', 'eaten', 'eater', 'eaters', 'eatin', 'eating', 'eaton', 'eats', 'eatting', 'eb', 'ebay', 'eclectic', 'eclipse', 'ecm8000', 'eco', 'ecofriendly', 'ecological', 'economic', 'economical', 'economically', 'economy', 'ecstatic', 'ect', 'ecuador', 'ecuadorian', 'ed', 'eden', 'edenfoods', 'edge', 'edges', 'edgy', 'edible', 'edit', 'edited', 'editing', 'edition', 'editor', 'edmund', 'educated', 'educating', 'educational', 'edy', 'eerie', 'eerily', 'effect', 'effective', 'effectively', 'effectiveness', 'effects', 'effervescent', 'efficiency', 'efficient', 'effort', 'effortless', 'efforts', 'egberts', 'egg', 'eggesbo', 'eggnog', 'eggos', 'eggplant', 'eggrolls', 'eggs', 'eggy', 'egrolls', 'ehow', 'eighty', 'einsteins', 'eith', 'eitzehs', 'el', 'elaborada', 'elana', 'elastic', 'elasticity', 'elated', 'elderly', 'election', 'electric', 'electrical', 'electrolites', 'electrolyte', 'electrolytes', 'electrolytic', 'electrovoice', 'elegant', 'elegantly', 'elegible', 'element', 'elementary', 'elements', 'elephant', 'elevated', 'elevates', 'elf', 'elicit', 'eligible', 'eliminate', 'eliminated', 'eliminates', 'eliminating', 'elimination', 'elite', 'elixer', 'elixers', 'elixir', 'elkhound', 'ella', 'elmer', 'elmo', 'eludes', 'em', 'email', 'emailed', 'emails', 'embark', 'embarrassed', 'embarrassing', 'embedded', 'emblem', 'embodies', 'emergencies', 'emergency', 'emergi', 'emeril', 'emitted', 'employed', 'employees', 'emptied', 'empties', 'en', 'enchaladas', 'enclosed', 'encloses', 'enclosure', 'encoraging', 'encore', 'encounter', 'encountered', 'encourage', 'encouraged', 'encourages', 'encouraging', 'encrusted', 'end', 'endeavored', 'endeavors', 'ended', 'ending', 'endless', 'endorse', 'endorsement', 'ends', 'endurance', 'endure', 'endurolyte', 'enemies', 'enemy', 'ener', 'energ', 'energetic', 'energized', 'energizing', 'energy', 'enfamel', 'enfamil', 'engage', 'engelesia', 'engerg', 'engineer', 'engineered', 'england', 'english', 'enhance', 'enhanced', 'enhancer', 'enhancers', 'enhances', 'enjoy', 'enjoyable', 'enjoyed', 'enjoyedjthe', 'enjoyer', 'enjoying', 'enjoyment', 'enjoys', 'enlarge', 'enlightening', 'enlisted', 'enlivens', 'enormous', 'enought', 'enouugh', 'enptied', 'enrich', 'enriched', 'ensue', 'ensure', 'ensured', 'ensuring', 'entails', 'entangled', 'entenmann', 'enter', 'entertaining', 'entertainment', 'enthusiasm', 'enthusiastic', 'enthusiastically', 'enticed', 'enticing', 'entire', 'entirely', 'entirety', 'entitled', 'entr', 'entrada', 'entree', 'entrees', 'envelope', 'enviorment', 'enviro', 'envirokids', 'environment', 'environmental', 'environmentally', 'enzymes', 'epa', 'epcot', 'epic', 'epicurean', 'epileptic', 'episode', 'episodes', 'epoxy', 'eq', 'equal', 'equally', 'equals', 'equate', 'equation', 'equipment', 'equipped', 'equitable', 'equity', 'equivalent', 'equivalents', 'er', 'era', 'erie', 'erin', 'erratically', 'error', 'ers', 'ersatz', 'erythritol', 'es', 'escape', 'escapes', 'escaping', 'escargot', 'eskimo', 'esp', 'especial', 'especially', 'espousing', 'espresso', 'espressos', 'esque', 'ess', 'esselstyn', 'essence', 'essential', 'essentially', 'essentials', 'esspresso', 'est', 'established', 'establishing', 'este', 'estimate', 'estimated', 'estract', 'et', 'etcetera', 'etheopian', 'ether', 'ethereal', 'ethical', 'ethics', 'ethiopian', 'ethnic', 'ethos', 'ethoxyquin', 'ethylene', 'eu', 'eucharist', 'eukanauba', 'eukanuba', 'euphoria', 'europe', 'european', 'evaluate', 'evaluated', 'evans', 'evaporated', 'eve', 'evening', 'evenings', 'evenly', 'evens', 'event', 'eventhe', 'eventually', 'everlasting', 'everybody', 'everyday', 'everydayforamonth', 'everytime', 'eveything', 'evian', 'evidence', 'evidently', 'evie', 'evinced', 'evo', 'evokes', 'evolved', 'evoo', 'eww', 'ewwww', 'ex', 'exact', 'exactly', 'exaggeration', 'exam', 'examine', 'example', 'exceed', 'exceeded', 'exceeds', 'excelencia', 'excellence', 'excellent', 'excellently', 'excellentprice', 'exception', 'exceptional', 'exceptionally', 'excercise', 'excerpt', 'excess', 'excessive', 'excessively', 'exchange', 'exchanging', 'excited', 'excitedly', 'excitement', 'exciting', 'exclusive', 'exclusively', 'excursions', 'excuse', 'execellant', 'executed', 'execution', 'exeption', 'exercise', 'exercises', 'exercising', 'exertion', 'exhausted', 'exhibit', 'exhibited', 'exist', 'existence', 'existent', 'existing', 'exists', 'exit', 'exotic', 'expand', 'expanding', 'expands', 'expect', 'expectation', 'expectations', 'expected', 'expecting', 'expects', 'expedited', 'expel', 'expeller', 'expended', 'expenive', 'expense', 'expensive', 'expensively', 'experience', 'experienced', 'experiences', 'experiencing', 'experiment', 'experimentation', 'experimented', 'experimenting', 'experiments', 'expert', 'experts', 'expiration', 'expire', 'expired', 'expires', 'explain', 'explained', 'explaining', 'explanation', 'explode', 'exploded', 'exploited', 'explore', 'explored', 'exploring', 'explosion', 'explosives', 'expo', 'exported', 'expose', 'exposed', 'exposing', 'exposure', 'express', 'expressing', 'expression', 'exquisite', 'exremely', 'extend', 'extended', 'extension', 'extensive', 'extensively', 'extent', 'exterior', 'external', 'extinguishes', 'extolling', 'extra', 'extract', 'extracted', 'extraction', 'extracts', 'extraordinarily', 'extraordinary', 'extras', 'extreme', 'extremelly', 'extremely', 'extrememly', 'extruded', 'eye', 'eyeballs', 'eyes', 'ezee', 'fa', 'faar', 'fab', 'fabric', 'fabulous', 'fabulously', 'face', 'facebook', 'faced', 'faces', 'facilitate', 'facility', 'facorite', 'facsimile', 'fact', 'factor', 'factory', 'facts', 'fade', 'fades', 'fads', 'fail', 'failed', 'failing', 'fails', 'failure', 'faint', 'fair', 'fairfield', 'fairly', 'fairness', 'fairway', 'fairy', 'faithful', 'fajita', 'fajitas', 'fake', 'fakeness', 'falksalt', 'fall', 'fallen', 'falling', 'falls', 'false', 'falsely', 'familia', 'familiar', 'families', 'familure', 'family', 'famnily', 'famous', 'fan', 'fanatic', 'fanatics', 'fancier', 'fancy', 'fanfreakintastic', 'fans', 'fantabulous', 'fantasicakes', 'fantastic', 'fantastically', 'far', 'fare', 'farm', 'farmers', 'farmhouse', 'farms', 'farmwiner', 'farrr', 'farting', 'fartless', 'farts', 'fascinated', 'fashion', 'fashioned', 'fast', 'faster', 'fasting', 'fastly', 'fat', 'fate', 'fatfull', 'father', 'fathers', 'fatigue', 'fats', 'fatted', 'fattening', 'fatter', 'fatties', 'fattoush', 'fatty', 'fault', 'faults', 'faulty', 'fav', 'fave', 'favor', 'favorable', 'favorably', 'favored', 'favorie', 'favorite', 'favorites', 'favors', 'favourite', 'favourites', 'favs', 'fda', 'fear', 'feared', 'fearful', 'fearing', 'fears', 'feast', 'feather', 'feathers', 'feature', 'featured', 'features', 'feb', 'february', 'fed', 'fedex', 'fedexing', 'fee', 'feed', 'feedback', 'feeder', 'feeding', 'feedings', 'feeds', 'feel', 'feeling', 'feelings', 'feels', 'fees', 'feet', 'felidae', 'feline', 'felines', 'fell', 'fellow', 'felt', 'female', 'females', 'fence', 'fences', 'fencing', 'fend', 'fennel', 'fer', 'feral', 'fermentation', 'fermented', 'fermenter', 'fermenting', 'ferrero', 'ferreros', 'ferret', 'fertilize', 'fervently', 'fesenjan', 'fesenjen', 'festival', 'festive', 'fettuccine', 'fetus', 'fever', 'fewer', 'fi', 'fiance', 'fiancee', 'fiber', 'fiberplus', 'fibers', 'fibromyalgia', 'fibrous', 'fide', 'fied', 'field', 'fields', 'fiend', 'fiesta', 'fifth', 'fig', 'fight', 'fighter', 'fighting', 'figure', 'figured', 'figures', 'figuring', 'fiirst', 'filberts', 'file', 'filet', 'filets', 'filigree', 'filipino', 'filled', 'filler', 'fillers', 'fillet', 'fillets', 'fillin', 'filling', 'fillings', 'fills', 'film', 'filter', 'filtered', 'filters', 'fin', 'final', 'finalizing', 'finally', 'financial', 'finding', 'findings', 'finds', 'fine', 'finely', 'fineness', 'finer', 'finest', 'finger', 'fingernails', 'fingers', 'finick', 'finicky', 'finiky', 'finish', 'finished', 'finishes', 'finishing', 'finland', 'firecracker', 'firecrackers', 'fired', 'fireplace', 'firewire', 'firm', 'firmed', 'firmer', 'firmly', 'firms', 'firmware', 'firstly', 'fish', 'fishy', 'fit', 'fits', 'fitting', 'fix', 'fixed', 'fixes', 'fizz', 'fl', 'fla', 'flabbergasted', 'flagging', 'flagship', 'flair', 'flake', 'flaked', 'flakes', 'flaking', 'flaky', 'flan', 'flap', 'flare', 'flash', 'flat', 'flatbread', 'flatbreads', 'flats', 'flattened', 'flaver', 'flavia', 'flavor', 'flavorable', 'flavored', 'flavorful', 'flavoring', 'flavorings', 'flavorless', 'flavors', 'flavory', 'flavos', 'flavour', 'flavoured', 'flavourful', 'flavours', 'flavred', 'flavvors', 'flaw', 'flawless', 'flawlessly', 'flax', 'flaxseed', 'flaxseeds', 'flea', 'fleas', 'fledged', 'flesh', 'flexibility', 'flexible', 'flies', 'flight', 'flimsy', 'flip', 'flipside', 'float', 'floaters', 'floating', 'floor', 'floored', 'flopping', 'floral', 'florida', 'florist', 'flossies', 'flossing', 'flour', 'floured', 'flouride', 'flours', 'flovor', 'flovorful', 'flow', 'flower', 'flowers', 'flowery', 'flows', 'flu', 'fluctuate', 'fluctuates', 'fluently', 'fluff', 'fluffier', 'fluffiest', 'fluffiness', 'fluffy', 'fluid', 'fluids', 'fluke', 'flung', 'fluoride', 'flush', 'flushable', 'fluted', 'flutters', 'fly', 'foam', 'foams', 'foamy', 'foccaccia', 'focused', 'focusing', 'foelds', 'fog', 'foil', 'foils', 'folate', 'fold', 'folded', 'folger', 'folgers', 'folk', 'folks', 'follow', 'followed', 'following', 'follows', 'fomula', 'fond', 'fondly', 'fono', 'food', 'fooder', 'foodie', 'foodies', 'foods', 'foodstuffs', 'fool', 'fooled', 'fooling', 'foolishly', 'foolproof', 'fools', 'foot', 'footage', 'football', 'footprint', 'footstool', 'for4', 'foray', 'forbid', 'forbidden', 'force', 'forced', 'forcefeed', 'forcefully', 'forcing', 'forefinger', 'foregn', 'foreign', 'foremost', 'foresee', 'foresight', 'forest', 'forevaaaaaaa', 'forever', 'forewarned', 'forged', 'forget', 'forgettable', 'forgetting', 'forgive', 'forgot', 'fork', 'form', 'format', 'formed', 'forming', 'forms', 'formula', 'formulae', 'formulas', 'formulated', 'formulation', 'forn', 'fort', 'forth', 'forthright', 'fortunately', 'fortune', 'fortunes', 'forum', 'forward', 'foster', 'foul', 'foundation', 'fourth', 'fowl', 'fox', 'fraction', 'fractionated', 'fragile', 'fragility', 'fragrance', 'fragrant', 'fralinger', 'frame', 'france', 'francisco', 'frank', 'frankenstein', 'frankly', 'frat', 'frazzled', 'freak', 'freakin', 'freaking', 'freakishly', 'freaks', 'fred', 'free', 'freely', 'freeze', 'freezer', 'freezes', 'freezing', 'freight', 'french', 'frequency', 'frequently', 'fresca', 'fresco', 'fresh', 'freshen', 'freshening', 'fresher', 'freshest', 'freshing', 'freshly', 'freshman', 'freshness', 'friday', 'fridge', 'fried', 'friend', 'friendliness', 'friendly', 'friends', 'frier', 'fries', 'frig', 'friggin', 'frightening', 'frijoles', 'friskies', 'frito', 'fritos', 'frity', 'frm', 'fromm', 'frontier', 'frost', 'frosted', 'frosting', 'frothing', 'froze', 'frozen', 'fructose', 'fructouse', 'fruit', 'fruitcake', 'fruits', 'fruity', 'frustrated', 'frustrating', 'frustration', 'fry', 'fryer', 'frying', 'ft', 'ftgfop', 'ftw', 'fudge', 'fuel', 'fulfill', 'fulfilled', 'fulfilling', 'fulfillment', 'fulfills', 'fuller', 'fullest', 'fully', 'fun', 'function', 'functional', 'functionality', 'functions', 'fund', 'fundraiser', 'fungicidal', 'funky', 'funny', 'funyuns', 'fur', 'furminator', 'furniture', 'furry', 'furthermore', 'fused', 'fuss', 'fussiness', 'fussy', 'futher', 'future', 'futuristic', 'fuze', 'fuzzy', 'fyi', 'g2', 'gabriel', 'gadget', 'gag', 'gagged', 'gagging', 'gail', 'gain', 'gained', 'gaining', 'gaiwan', 'gal', 'gallo', 'gallon', 'gallons', 'gamble', 'game', 'gamed', 'games', 'gaming', 'ganocafe', 'ganoderma', 'gaping', 'gaps', 'garage', 'garageband', 'garbage', 'garbanzo', 'garden', 'gardeners', 'gardening', 'gardner', 'garfield', 'garlic', 'garlicky', 'garnish', 'gary', 'gas', 'gasket', 'gassy', 'gastric', 'gastritis', 'gastro', 'gastrointestinal', 'gastronomy', 'gate', 'gates', 'gather', 'gatherer', 'gathering', 'gatherings', 'gatorade', 'gaufres', 'gave', 'gawked', 'gaynor', 'gazillion', 'gb', 'gd', 'gds', 'gear', 'gee', 'geek', 'geesh', 'geisha', 'gelatin', 'gelatinous', 'geliva', 'gem', 'gems', 'genera', 'general', 'generally', 'generating', 'generator', 'generic', 'generically', 'generous', 'generously', 'genetically', 'genisoy', 'genius', 'genmai', 'genocide', 'gensoy', 'gentle', 'gentleman', 'gently', 'gentry', 'genuine', 'genuinely', 'gerber', 'gerbers', 'gerbils', 'gerd', 'germ', 'german', 'germany', 'germinate', 'germination', 'getaway', 'gets', 'getting', 'gevalia', 'gf', 'gfcf', 'gfree', 'ghastly', 'ghee', 'ghiradeli', 'ghiradelli', 'ghiradhelli', 'ghirardelli', 'ghz', 'gi', 'giant', 'giardia', 'gift', 'gifts', 'gig', 'gigantic', 'giger', 'gild', 'gilding', 'gilligan', 'gimbal', 'gimmicky', 'ginger', 'gingerbread', 'gino', 'ginseng', 'girl', 'girlfriend', 'girls', 'gittery', 'giveaway', 'given', 'gives', 'giving', 'gizmo', 'glad', 'gladly', 'glance', 'glanced', 'glands', 'glass', 'glasses', 'glaze', 'glazed', 'glazes', 'glazier', 'glob', 'global', 'globbs', 'globe', 'gloomy', 'glop', 'glossed', 'glossier', 'glossy', 'glove', 'glow', 'glowing', 'glucosamine', 'glucose', 'gludamate', 'glue', 'glueton', 'gluey', 'glutamate', 'glutamic', 'gluten', 'glutenfree', 'glutenous', 'glutin', 'glutten', 'gluttony', 'glycemic', 'glycerin', 'glycerite', 'gm', 'gmo', 'gmos', 'gnawed', 'gnawing', 'gnc', 'gnome', 'gnomes', 'goal', 'goat', 'gobble', 'gobbled', 'gobbles', 'goccia', 'gocery', 'god', 'godbless', 'goddess', 'godiva', 'gods', 'godsend', 'goes', 'gogreenmart', 'going', 'goji', 'gold', 'golden', 'goldendoodle', 'goldfish', 'goldie', 'golf', 'golfer', 'golfing', 'gone', 'gonna', 'goo', 'good', 'goodbye', 'goodie', 'goodies', 'goodl', 'goodness', 'goods', 'gooey', 'gooeyness', 'goof', 'google', 'googly', 'goop', 'goopy', 'goos', 'goose', 'goosefoot', 'gooy', 'gordo', 'goreng', 'gorgeous', 'gorilla', 'gormet', 'gorton', 'gosh', 'got', 'gotta', 'gotten', 'gouge', 'gouges', 'gouging', 'goulash', 'gourmet', 'gout', 'government', 'governments', 'goya', 'gp', 'grab', 'grabaci', 'grabbed', 'grabbing', 'grabby', 'grabs', 'gracious', 'grad', 'grade', 'gradually', 'graham', 'grahams', 'grail', 'grain', 'grains', 'grainy', 'gram', 'grammie', 'grammy', 'grams', 'granatus', 'grand', 'grandaughter', 'grandbabies', 'grandchildren', 'granddad', 'granddaughter', 'granddaughters', 'grande', 'grandeur', 'grandfather', 'grandkids', 'grandma', 'grandmother', 'grandpa', 'grandparents', 'grandson', 'grandsons', 'granola', 'granparents', 'granted', 'grants', 'granular', 'granulated', 'granule', 'granules', 'grape', 'grapefruit', 'grapeseed', 'graphics', 'grass', 'grasses', 'grasshoppers', 'grassy', 'grated', 'grateful', 'gratefully', 'gratin', 'gratted', 'gravel', 'gravely', 'gravies', 'gravitate', 'gravitated', 'gravity', 'gravy', 'grayish', 'graze', 'grazer', 'grazing', 'grear', 'grease', 'greasier', 'greasiness', 'greasy', 'great', 'greater', 'greatest', 'greatly', 'gree', 'greece', 'greed', 'greek', 'greeks', 'green', 'greenbeans', 'greenough', 'greens', 'greenwashing', 'greets', 'greg', 'grew', 'grey', 'grid', 'griddle', 'grill', 'grilled', 'grilling', 'grin', 'grind', 'grinder', 'grinding', 'grins', 'grip', 'gripe', 'gristle', 'grit', 'grittiness', 'gritty', 'grittyness', 'grocer', 'groceries', 'grocers', 'grocery', 'groecery', 'groom', 'groomed', 'groomer', 'grooming', 'grooves', 'groovy', 'gross', 'grossly', 'grouchy', 'ground', 'grounding', 'grounds', 'group', 'grouping', 'groups', 'grove', 'groves', 'grow', 'grower', 'growing', 'grown', 'grows', 'growth', 'grr', 'grrrrrrrreat', 'grudgingly', 'grumpy', 'gsd', 'guaifenisen', 'guanylate', 'guar', 'guarana', 'guarantee', 'guaranteed', 'guarantees', 'guarding', 'guatamalan', 'guava', 'guayaki', 'gubment', 'guess', 'guessed', 'guessing', 'guesswork', 'guest', 'guesto', 'guests', 'guided', 'guidelines', 'guilt', 'guiltily', 'guilty', 'guinea', 'guinness', 'guitar', 'gulab', 'gulping', 'gulyas', 'gum', 'gumballs', 'gummi', 'gummies', 'gummy', 'gums', 'gun', 'gunk', 'gunking', 'gunner', 'guns', 'gussie', 'gustibus', 'gusto', 'gut', 'gute', 'guy', 'guys', 'gym', 'h2o', 'ha', 'habanero', 'habenaro', 'habenero', 'habit', 'habits', 'habitual', 'haccp', 'hacer', 'hadn', 'hah', 'haha', 'hair', 'hairlike', 'hairy', 'halal', 'halaleveryday', 'half', 'halfway', 'hall', 'halloween', 'halo', 'halving', 'halvorsen', 'halwa', 'ham', 'hamburg', 'hamburger', 'hamburgers', 'hamilton', 'hammer', 'hand', 'handbag', 'handbags', 'handbook', 'handful', 'handfuls', 'handheld', 'handicapped', 'handily', 'handing', 'handle', 'handled', 'handling', 'handly', 'handmade', 'hands', 'handsful', 'handwritten', 'handy', 'hang', 'hanging', 'hangover', 'hannaford', 'hanoud', 'hanout', 'hao', 'happen', 'happened', 'happening', 'happens', 'happier', 'happily', 'happiness', 'happy', 'happybaby', 'happyfamily', 'happymelts', 'happymunchies', 'harbor', 'harbors', 'hard', 'harden', 'hardened', 'hardens', 'harder', 'hardest', 'hardly', 'hardness', 'hardware', 'hardy', 'harm', 'harmful', 'harmless', 'harmonic', 'harmony', 'harney', 'harp', 'harry', 'harsh', 'harshness', 'hartz', 'harvest', 'harvested', 'harvesting', 'hash', 'hasn', 'hassels', 'hassle', 'hassles', 'hasta', 'hate', 'hated', 'haters', 'hates', 'hating', 'hats', 'hauling', 'hav', 'haveing', 'haven', 'havent', 'haves', 'having', 'hawaii', 'hawaiian', 'hawt', 'hay', 'hazalnut', 'hazard', 'hazardous', 'hazards', 'haze', 'hazelnut', 'hazelnuts', 'hbp', 'hc', 'hcg', 'hdl', 'head', 'headache', 'headaches', 'headachy', 'headed', 'header', 'heading', 'headlamps', 'headline', 'headphone', 'heads', 'heady', 'heal', 'healing', 'health', 'healthcare', 'healthest', 'healthful', 'healthfully', 'healthfulness', 'healthier', 'healthiest', 'healthily', 'healthiness', 'healthlier', 'healthy', 'healtier', 'healty', 'heap', 'heaped', 'heaping', 'hear', 'heard', 'hearing', 'hears', 'heart', 'heartbreaking', 'heartburn', 'hearted', 'heartedly', 'heartily', 'hearts', 'hearty', 'heat', 'heated', 'heather', 'heating', 'heatproof', 'heats', 'heaven', 'heavenly', 'heavens', 'heavier', 'heavily', 'heaviness', 'heavy', 'heb', 'heck', 'heed', 'heeler', 'heflin', 'heft', 'hefty', 'hehe', 'height', 'heinous', 'heinz', 'heirloom', 'held', 'hell', 'hello', 'help', 'helped', 'helper', 'helpful', 'helping', 'helpings', 'helps', 'hemp', 'henry', 'herb', 'herbal', 'herbals', 'herbed', 'herbicide', 'herbs', 'herby', 'herd', 'heritage', 'hero', 'herr', 'herring', 'herrs', 'hershey', 'hes', 'hesitant', 'hesitate', 'hesitated', 'hesitating', 'hesitation', 'hey', 'hfcs', 'hi', 'hibachi', 'hibiscus', 'hickory', 'hid', 'hidden', 'hide', 'hiding', 'hierarchy', 'hierbes', 'high', 'higher', 'highes', 'highest', 'highlander', 'highlanders', 'highlight', 'highlighted', 'highly', 'highs', 'hight', 'hightly', 'highway', 'highy', 'hike', 'hiking', 'hill', 'hillock', 'hills', 'hilton', 'hime', 'hindsight', 'hines', 'hint', 'hinted', 'hints', 'hip', 'hippie', 'hippocrates', 'hippy', 'hips', 'hirts', 'hiss', 'hissing', 'history', 'hit', 'hitch', 'hitchcock', 'hits', 'hitting', 'hives', 'hmmm', 'hmmmm', 'hobbling', 'hobby', 'hockey', 'hocks', 'hocus', 'hodgson', 'hold', 'holder', 'holders', 'holding', 'holdingdown', 'holds', 'hole', 'holes', 'holic', 'holics', 'holiday', 'holidays', 'holistic', 'holland', 'holly', 'hollywood', 'holocaust', 'holy', 'home', 'homeade', 'homedepot', 'homegrown', 'homemade', 'homes', 'homestyle', 'hometown', 'homiedog', 'homogenous', 'honest', 'honestly', 'honesty', 'honey', 'honeybees', 'honeybush', 'honeymooning', 'honeyville', 'hoo', 'hoodwinking', 'hook', 'hooked', 'hoopla', 'hooray', 'hoover', 'hop', 'hope', 'hoped', 'hopeful', 'hopefully', 'hopes', 'hoping', 'hops', 'hormel', 'hormonal', 'hormone', 'hormones', 'horn', 'horrendous', 'horrible', 'horribly', 'horrid', 'horrific', 'horrifying', 'horror', 'horse', 'horseradish', 'horses', 'horton', 'hospital', 'hospitalization', 'host', 'hostage', 'hostess', 'hosting', 'hot', 'hotair', 'hotel', 'hotels', 'hotness', 'hots', 'hotspots', 'hotter', 'hottest', 'hound', 'hounds', 'hour', 'hours', 'house', 'houseblend', 'household', 'housemate', 'houseplants', 'houses', 'housewarming', 'housewife', 'houston', 'houtte', 'howling', 'howls', 'hr', 'href', 'hrs', 'htis', 'html', 'http', 'hu', 'hubby', 'hubs', 'hue', 'huge', 'huh', 'hull', 'hulless', 'hulls', 'hully', 'hum', 'human', 'humane', 'humans', 'humble', 'humid', 'humidifier', 'humm', 'hummos', 'hummus', 'humor', 'humus', 'hunch', 'hundreds', 'hung', 'hungarian', 'hungarianbookstore', 'hungary', 'hunger', 'hungery', 'hungry', 'hunks', 'hunt', 'hunted', 'hunter', 'hunting', 'hurry', 'hurt', 'hurting', 'hurts', 'husband', 'husbands', 'husbie', 'husks', 'husky', 'hybrid', 'hydrate', 'hydrated', 'hydrating', 'hydration', 'hydrator', 'hydrogenated', 'hydrogenation', 'hydrolysed', 'hydrolyzed', 'hydrox', 'hype', 'hyperbole', 'hypertension', 'hypoallergenic', 'hypoglycemia', 'hypothyroidism', 'hyrator', 'ia', 'iam', 'iams', 'ian', 'ibs', 'ibuprofen', 'ice', 'icebreakers', 'icecream', 'iced', 'iceing', 'icicle', 'icile', 'icing', 'icky', 'id', 'idaho', 'idea', 'ideal', 'ideas', 'identical', 'identically', 'identifiable', 'identified', 'idfahaccp', 'idiocy', 'idk', 'ido', 'iffy', 'ignore', 'ignored', 'ignores', 'ignoring', 'ihop', 'iican', 'ikea', 'il', 'ill', 'illegal', 'illness', 'illnesses', 'ilness', 'im', 'imac', 'image', 'images', 'imaginable', 'imagination', 'imagine', 'imagined', 'imho', 'imitation', 'imitations', 'imitators', 'immaculate', 'immature', 'immediate', 'immediately', 'immense', 'immensely', 'immersed', 'immortal', 'immune', 'immunity', 'imo', 'impact', 'impacts', 'imparted', 'imparts', 'impasse', 'imperial', 'implementation', 'implied', 'implying', 'import', 'importance', 'important', 'importantly', 'imported', 'impossible', 'impresionante', 'impress', 'impressed', 'impression', 'impressive', 'improperly', 'improve', 'improved', 'improvememnt', 'improvement', 'improvements', 'improves', 'impurities', 'ina', 'inability', 'inadequacy', 'incapable', 'incarnation', 'inced', 'incentive', 'inch', 'inches', 'incident', 'incidentally', 'inclan', 'inclined', 'include', 'included', 'includes', 'including', 'inclusion', 'incompatible', 'inconsistent', 'inconsolably', 'inconvenience', 'incorporated', 'incorporating', 'incorrect', 'incorrectly', 'increase', 'increased', 'increases', 'increasing', 'increasingly', 'incredible', 'incredibly', 'incredulously', 'incubate', 'incubator', 'indefinitely', 'independent', 'indescribable', 'index', 'indgredients', 'india', 'indian', 'indicate', 'indicated', 'indicates', 'indicating', 'indication', 'indications', 'indicative', 'indicator', 'indicators', 'indie', 'indigestion', 'indispensible', 'indistinguishable', 'individual', 'individually', 'individuals', 'indonesia', 'indoor', 'indoors', 'indside', 'induce', 'induced', 'indulge', 'indulgence', 'indulges', 'indulging', 'industry', 'inedible', 'ineffable', 'inevitably', 'inexpensive', 'infact', 'infant', 'infantile', 'infants', 'infected', 'infection', 'infections', 'inferior', 'infestation', 'infested', 'infinitely', 'infinity', 'inflamation', 'inflammation', 'inflammatory', 'inflated', 'influence', 'influencing', 'info', 'inform', 'information', 'informed', 'infused', 'infuser', 'infusion', 'infusions', 'ing', 'ingenious', 'ingest', 'ingesting', 'ingestion', 'ingred', 'ingrediant', 'ingrediants', 'ingredient', 'ingredients', 'ingretents', 'ingridents', 'inhale', 'inhaled', 'inhales', 'inherent', 'inherit', 'inhibit', 'initally', 'initial', 'initially', 'injury', 'ink', 'inner', 'innova', 'innovated', 'innovative', 'inoffensive', 'inoperable', 'inorganic', 'inosinate', 'input', 'inputs', 'inquire', 'inquiries', 'inquiring', 'inquiry', 'ins', 'insane', 'insanely', 'insanity', 'insect', 'insecticide', 'insert', 'inside', 'insides', 'insipid', 'insist', 'insisted', 'insists', 'inspect', 'inspected', 'inspection', 'inspections', 'inspired', 'inspite', 'install', 'installation', 'installed', 'installing', 'instance', 'instances', 'instant', 'instantaneously', 'instantly', 'instead', 'institute', 'institution', 'instructed', 'instructing', 'instructions', 'instructor', 'insukin', 'insulated', 'insulating', 'insulation', 'insulin', 'insult', 'insulted', 'insurance', 'insure', 'intact', 'intake', 'integrated', 'intelligent', 'intend', 'intended', 'intense', 'intensely', 'intensity', 'intensivo', 'intent', 'intention', 'intentionally', 'inter', 'interchangable', 'interested', 'interesting', 'interestingly', 'interests', 'interface', 'interfaces', 'interfere', 'interim', 'interior', 'intermittent', 'internal', 'international', 'internet', 'interns', 'interrupted', 'interval', 'intervals', 'interview', 'intestinal', 'inthe', 'intial', 'intimate', 'intimidate', 'intimidated', 'intolerance', 'intolerant', 'intollerances', 'intoxicating', 'intrigued', 'introduce', 'introduced', 'introducing', 'intrude', 'intuition', 'invaluable', 'invented', 'invention', 'inventory', 'invert', 'invest', 'invested', 'investigate', 'investigating', 'investigation', 'investment', 'investors', 'invigorates', 'invigorating', 'invited', 'inviting', 'invoice', 'involuntary', 'involve', 'involved', 'involves', 'involving', 'iodide', 'iodine', 'iodized', 'iowa', 'iprozon', 'ir', 'iraq', 'ire', 'ireland', 'irish', 'iron', 'ironically', 'irradiated', 'irregularly', 'irresistible', 'irritability', 'irritable', 'irritate', 'irritated', 'irritating', 'isamazonfulfilled', 'isbn', 'ish', 'island', 'islands', 'isle', 'isn', 'isnt', 'isolate', 'isolo', 'israeli', 'issue', 'issued', 'issues', 'issuing', 'istanbul', 'italian', 'italiano', 'italians', 'italy', 'itch', 'itching', 'itchy', 'item', 'itemized', 'items', 'iv', 'ive', 'jack', 'jacket', 'jackie', 'jacks', 'jackson', 'jaded', 'jaime', 'jalape', 'jalapeno', 'jalapenos', 'jalapino', 'jalepemo', 'jalepenos', 'jam', 'jamacan', 'jamaica', 'jamaican', 'jamba', 'jamican', 'jamma', 'jammies', 'jams', 'jamun', 'jan', 'janet', 'january', 'japan', 'japanese', 'jar', 'jarred', 'jars', 'jasmine', 'java', 'jaw', 'jay', 'jazz', 'jazzed', 'jbl', 'jealous', 'jean', 'jellies', 'jello', 'jelly', 'jemima', 'jenny', 'jeremiah', 'jerk', 'jerking', 'jerky', 'jerry', 'jersey', 'jesus', 'jet', 'jewel', 'jewels', 'jfk', 'jillian', 'jim', 'jims', 'jin', 'jing', 'jingle', 'jitters', 'jittery', 'jitteryness', 'jn', 'job', 'jobs', 'joe', 'joes', 'john', 'johnny', 'johnson', 'join', 'joined', 'joint', 'joints', 'joke', 'joking', 'jokingly', 'jolokia', 'jorge', 'josh', 'jostled', 'jostling', 'journal', 'journey', 'joy', 'jsut', 'juan', 'judge', 'judgement', 'judging', 'judgment', 'jug', 'jugs', 'juice', 'juiced', 'juices', 'juicing', 'juicy', 'julia', 'julie', 'july', 'jumble', 'jumbo', 'jump', 'jumped', 'jumping', 'june', 'jungle', 'junior', 'junk', 'junkfood', 'junky', 'junto', 'just', 'justice', 'justifiably', 'justifies', 'justify', 'jut', 'jw', 'ka', 'kaboodle', 'kaffee', 'kah', 'kalamata', 'kame', 'kamut', 'karachi', 'karavitis', 'kashi', 'kat', 'katjes', 'katzan', 'kavli', 'kcup', 'kcups', 'keebler', 'keemun', 'keen', 'keeper', 'keeping', 'keeps', 'keepsake', 'keith', 'kellog', 'kellogg', 'kelloggs', 'kenco', 'kensington', 'kentucky', 'kenya', 'kenyan', 'kenyon', 'kept', 'kernal', 'kernel', 'kernels', 'ketchup', 'ketchupy', 'kettle', 'kettles', 'keurig', 'key', 'kg', 'kibble', 'kibbles', 'kick', 'kicked', 'kicker', 'kickin', 'kicks', 'kid', 'kidding', 'kiddos', 'kidney', 'kidneys', 'kids', 'kiehls', 'kikoman', 'kill', 'killed', 'killin', 'killing', 'kills', 'kilos', 'kim', 'kind', 'kinda', 'kindergarten', 'kindergartens', 'kindneys', 'kindof', 'kinds', 'king', 'kippered', 'kirkland', 'kis', 'kiss', 'kisses', 'kit', 'kitchen', 'kits', 'kitten', 'kittens', 'kitties', 'kitty', 'kiwi', 'kkups', 'kleenex', 'klefje', 'knee', 'knees', 'knew', 'knife', 'knights', 'knit', 'knob', 'knock', 'knocked', 'knocking', 'knockoffs', 'knockout', 'know', 'knowing', 'knowledge', 'known', 'knows', 'knox', 'knoxville', 'knuckle', 'kobe', 'koerig', 'koeze', 'kof', 'kofinas', 'kohl', 'kombucha', 'kona', 'kong', 'kongs', 'konriko', 'kool', 'kopi', 'korean', 'kosher', 'kowalski', 'kraft', 'krapola', 'kraut', 'kretschmer', 'krinkle', 'krinos', 'krispie', 'kroger', 'krogers', 'krustead', 'krusteaz', 'kudos', 'kuerig', 'kuh', 'kups', 'ky', 'kyoto', 'la', 'lab', 'label', 'labeled', 'labeling', 'labelled', 'labelling', 'labels', 'lable', 'laboratories', 'laboratory', 'labrador', 'labs', 'laced', 'laces', 'lack', 'lacked', 'lacking', 'lacks', 'lactating', 'lactic', 'lactose', 'lacy', 'laddoos', 'laden', 'ladies', 'lado', 'lady', 'laffy', 'lag', 'lagers', 'laid', 'laissez', 'lake', 'lakewood', 'lamb', 'lame', 'laminated', 'lancaster', 'land', 'landed', 'landfill', 'lands', 'lane', 'language', 'lantchips', 'lap', 'laps', 'lapsang', 'lapse', 'laptop', 'lara', 'lard', 'large', 'largely', 'larger', 'largest', 'larry', 'lars', 'las', 'lasted', 'lasting', 'lastly', 'lastplace', 'lasts', 'latch', 'late', 'lately', 'latency', 'later', 'latest', 'lathers', 'latice', 'latin', 'latte', 'lattes', 'laugh', 'laughed', 'laughing', 'laughter', 'laundry', 'laureth', 'lauryl', 'lava', 'lavazza', 'lavender', 'law', 'lawn', 'lawnmower', 'laws', 'lax', 'laxative', 'lay', 'layed', 'layer', 'layered', 'layering', 'layers', 'laying', 'layout', 'layover', 'lays', 'laziness', 'lazy', 'lb', 'lbs', 'lc', 'ldl', 'lead', 'leader', 'leadership', 'leading', 'leads', 'leaf', 'leak', 'leakage', 'leaked', 'leaking', 'leaks', 'leaky', 'lean', 'leaps', 'learn', 'learned', 'learning', 'leather', 'leave', 'leavening', 'leaves', 'leaving', 'leche', 'leches', 'lecithin', 'led', 'lee', 'leed', 'leery', 'left', 'leftover', 'leftovers', 'leg', 'legal', 'legally', 'legged', 'legitimately', 'legs', 'legumes', 'lemon', 'lemonade', 'lemongrass', 'lemons', 'lemony', 'lemos', 'lend', 'length', 'lengths', 'lengthwise', 'lent', 'lentil', 'lentils', 'leonardi', 'les', 'lessen', 'lessening', 'lesser', 'lesses', 'lesson', 'let', 'lethargic', 'lethargy', 'lethicin', 'lets', 'letter', 'letters', 'letting', 'lettuce', 'levas', 'level', 'levels', 'levening', 'levitated', 'lewis', 'lhasa', 'li', 'liable', 'liar', 'libby', 'liberally', 'liberty', 'license', 'licensing', 'licious', 'lick', 'licked', 'lickin', 'licking', 'licks', 'licorice', 'licorise', 'lid', 'lids', 'lie', 'lied', 'liege', 'liek', 'lies', 'lieu', 'life', 'lifelong', 'lifesaver', 'lifesavers', 'lifestyle', 'lifetime', 'lift', 'lifted', 'lifting', 'light', 'lighten', 'lighter', 'lightest', 'lightly', 'lightness', 'lightning', 'lights', 'lightsnake', 'lightweight', 'lightweights', 'like', 'liked', 'likely', 'likening', 'likes', 'liketo', 'likewise', 'likey', 'liking', 'lil', 'lily', 'lime', 'limeade', 'limey', 'limit', 'limitation', 'limited', 'limiting', 'limits', 'linda', 'line', 'lined', 'lineon', 'liner', 'liners', 'lines', 'lineup', 'linger', 'lingering', 'lingers', 'linguine', 'lining', 'link', 'linkcode', 'linked', 'links', 'linoleic', 'linolenic', 'linux', 'lion', 'lip', 'lipid', 'lipil', 'lipoprotein', 'lips', 'lipton', 'liquid', 'liquids', 'liquidy', 'liquor', 'liquors', 'liquour', 'list', 'listed', 'listen', 'listened', 'listening', 'listing', 'listings', 'listning', 'lists', 'lite', 'liter', 'literally', 'literature', 'liters', 'litle', 'litte', 'litter', 'littl', 'little', 'live', 'lived', 'liveglutenfreely', 'lively', 'liven', 'liver', 'lives', 'livestrong', 'livi', 'living', 'll', 'llao', 'llasa', 'llevar', 'lo', 'load', 'loaded', 'loading', 'loads', 'loaf', 'loaves', 'lobster', 'loc', 'local', 'locally', 'locate', 'located', 'location', 'locations', 'lock', 'locked', 'loco', 'locust', 'lodge', 'lodges', 'log', 'logged', 'logic', 'login', 'logo', 'lol', 'lolipops', 'lollies', 'lollipop', 'lollipops', 'lolly', 'london', 'long', 'longan', 'longed', 'longer', 'longest', 'longevity', 'longing', 'longish', 'loofah', 'look', 'looked', 'lookes', 'looking', 'lookout', 'looks', 'looney', 'looooove', 'loooove', 'looove', 'loop', 'loose', 'looseleaf', 'loosely', 'loosing', 'lopsided', 'lorann', 'lord', 'lorenzo', 'lori', 'lose', 'loses', 'losing', 'loss', 'lost', 'lot', 'lotion', 'lotions', 'lots', 'lotta', 'loud', 'louder', 'loudly', 'louis', 'louisanna', 'louisiana', 'lourdes', 'lousy', 'love', 'loveable', 'loved', 'lovely', 'lover', 'lovers', 'loves', 'loving', 'low', 'lower', 'lowered', 'lowering', 'lowes', 'lowest', 'lowfat', 'loyal', 'loyalist', 'loyalty', 'lozenges', 'lsfjewldf', 'lskejfewl', 'lt', 'luck', 'lucked', 'luckily', 'lucks', 'lucky', 'lucy', 'lug', 'luggage', 'lugging', 'lukewarm', 'lump', 'lumpfish', 'lumps', 'lunch', 'lunchbag', 'lunches', 'lunchfood', 'lunchtime', 'lundberg', 'lunds', 'lung', 'lunge', 'lungs', 'lured', 'lurk', 'luscious', 'lush', 'luster', 'luv', 'luxury', 'luzerne', 'luzianne', 'ly', 'lychee', 'lying', 'lysozyme', 'm380', 'm502', 'ma', 'mac', 'maca', 'macaroni', 'macbook', 'macchiato', 'macciato', 'machete', 'machine', 'machinery', 'machines', 'macines', 'mackays', 'mackerel', 'macomb', 'macs', 'mad', 'madagascar', 'madeleine', 'mades', 'madhava', 'madhouse', 'madonna', 'mae', 'maestro', 'magazine', 'magazines', 'maggie', 'magic', 'magical', 'magnesium', 'magnet', 'magnus', 'mahagoney', 'mahogani', 'mahogany', 'mahogony', 'maids', 'mail', 'mailbox', 'mailed', 'mailing', 'mails', 'main', 'maine', 'mainly', 'mainsection_id', 'mainstream', 'maintain', 'maintained', 'maintains', 'maintenance', 'major', 'majority', 'make', 'makeout', 'makeover', 'maker', 'makers', 'makes', 'making', 'malcom', 'male', 'mall', 'malls', 'malt', 'malta', 'malted', 'maltese', 'malti', 'maltitol', 'maltodextrin', 'maltose', 'malty', 'malva', 'mama', 'mamma', 'mammals', 'man', 'manage', 'manageable', 'managed', 'management', 'manager', 'managers', 'manages', 'managing', 'mandarin', 'mandeling', 'manga', 'mangia', 'mangled', 'mango', 'mangoes', 'mangos', 'manhattan', 'manila', 'manner', 'mannered', 'mantle', 'manual', 'manufacture', 'manufactured', 'manufacturer', 'manufacturers', 'manufactures', 'manufacturing', 'mapel', 'maple', 'marathon', 'march', 'mare', 'margarine', 'margarita', 'margherita', 'margin', 'marginal', 'marginally', 'marinade', 'marinades', 'marinading', 'marinara', 'marinate', 'marines', 'mark', 'marked', 'markedly', 'market', 'marketed', 'marketing', 'marketplaceseller', 'markets', 'marks', 'markup', 'marmalade', 'marmite', 'marriage', 'married', 'mars', 'marshall', 'marshmallow', 'marshmallows', 'marshmellows', 'mart', 'marth', 'martha', 'martin', 'martini', 'martinies', 'martinis', 'maruchan', 'marvel', 'marvelous', 'marvelously', 'mary', 'maryland', 'marzano', 'marzanos', 'marzipan', 'masa', 'masaman', 'mash', 'mashed', 'mashing', 'mask', 'masked', 'masking', 'masks', 'mass', 'massachusettes', 'massage', 'massaman', 'masse', 'massive', 'master', 'masterpiece', 'mastiff', 'mat', 'match', 'matcha', 'matched', 'matches', 'matching', 'mate', 'material', 'materials', 'maternity', 'math', 'matte', 'matted', 'matter', 'matters', 'mature', 'maturing', 'matzah', 'matzo', 'maui', 'max', 'maximizing', 'maximum', 'maxwell', 'maybe', 'mayo', 'mayonnaise', 'mays', 'mbox', 'mc', 'mcburbia', 'mccann', 'mccanns', 'mccormacks', 'mcdonald', 'mcdonalds', 'mcdougall', 'mcwallymart', 'mead', 'meadow', 'meadows', 'meal', 'meals', 'mealtime', 'mealtimes', 'mealy', 'mean', 'meanacing', 'meaning', 'means', 'meant', 'measly', 'measure', 'measured', 'measurements', 'measures', 'measuring', 'meat', 'meatballs', 'meatier', 'meatloaf', 'meats', 'meaty', 'mechanical', 'mechanically', 'mechanism', 'med', 'medical', 'medically', 'medication', 'medications', 'medicinal', 'medicine', 'mediciny', 'mediocre', 'mediterranean', 'medium', 'medleys', 'meds', 'meet', 'meeting', 'meetings', 'meets', 'mega', 'megabyte', 'meh', 'meijers', 'melamine', 'meld', 'melded', 'melitta', 'mellow', 'mellowing', 'mellowness', 'mellows', 'melon', 'melow', 'melt', 'meltaways', 'melted', 'melting', 'melts', 'member', 'members', 'membership', 'memorex', 'memories', 'memory', 'memphis', 'men', 'ment', 'mental', 'mention', 'mentioned', 'mentioning', 'mentos', 'menu', 'menus', 'meow', 'merchandise', 'merchant', 'merchants', 'mercola', 'mercury', 'mercy', 'mereingues', 'merely', 'merest', 'meringue', 'merlot', 'merrick', 'merula', 'mesh', 'meshed', 'meshing', 'mesquite', 'mess', 'message', 'messed', 'messes', 'messiest', 'messing', 'messy', 'met', 'metabolic', 'metabolism', 'metal', 'metallic', 'metals', 'metaphor', 'metaphors', 'method', 'methods', 'metro', 'metropolitan', 'mex', 'mexgrocer', 'mexi', 'mexican', 'mexico', 'meyer', 'mg', 'mi', 'miam', 'mic', 'mice', 'michael', 'michaels', 'michigan', 'mickey', 'micmate', 'micmatec', 'micom', 'micpreamp', 'micr', 'micro', 'microbiological', 'microbrew', 'microbrews', 'microphone', 'microphones', 'microscopic', 'microwavable', 'microwave', 'microwaveable', 'microwaved', 'microwaving', 'mics', 'mid', 'midday', 'middle', 'middletown', 'midi', 'midmorning', 'midnight', 'midst', 'midway', 'midwest', 'mignon', 'migraine', 'migraines', 'mike', 'milans', 'mild', 'milder', 'mildly', 'mile', 'miles', 'milk', 'milka', 'milkbone', 'milkier', 'milks', 'milkshake', 'milky', 'millay', 'milled', 'millennium', 'miller', 'millet', 'milligrams', 'million', 'millionaire', 'millk', 'mills', 'mimic', 'mimicked', 'min', 'minature', 'minced', 'mind', 'minded', 'mindedly', 'mindful', 'mindset', 'mindy', 'mineral', 'minerals', 'mines', 'mingle', 'mini', 'miniature', 'miniatures', 'miniaturized', 'minichips', 'minimal', 'minimalist', 'minimize', 'minimizes', 'minimum', 'minis', 'miniscule', 'minnesota', 'minor', 'mins', 'mint', 'mintiness', 'mints', 'minty', 'minus', 'minuses', 'minute', 'minutes', 'mir', 'miracle', 'miracles', 'miraculously', 'mischief', 'miserable', 'miserably', 'misery', 'misfires', 'misfortune', 'mish', 'mished', 'mishka', 'misleading', 'misled', 'mismanagement', 'misnomer', 'miso', 'misprint', 'miss', 'missed', 'misses', 'missing', 'mission', 'missions', 'missouri', 'mist', 'mistake', 'mistaken', 'mistakes', 'mister', 'mite', 'mites', 'mitigates', 'mix', 'mixed', 'mixer', 'mixers', 'mixes', 'mixing', 'mixture', 'mixtures', 'mk', 'ml', 'mlx', 'mmm', 'mmmm', 'mmmmm', 'mmmmmm', 'mmmmmmm', 'mmmmmmmm', 'mo', 'mob', 'mobility', 'mocha', 'mochi', 'model', 'models', 'modem', 'moderate', 'moderately', 'moderation', 'modern', 'modest', 'modesto', 'modifications', 'modified', 'modulate', 'mohogany', 'moist', 'moisten', 'moistened', 'moistening', 'moister', 'moistest', 'moistness', 'moistruizing', 'moisture', 'moisturized', 'moisturizer', 'moisturizing', 'mol', 'molars', 'molasses', 'mold', 'molded', 'molding', 'moldy', 'molecular', 'molecule', 'moles', 'mollie', 'mollusks', 'molly', 'molten', 'mom', 'moment', 'momento', 'moments', 'momma', 'mommy', 'moms', 'momthly', 'monastero', 'money', 'monitor', 'monitored', 'monitoring', 'monitors', 'monkey', 'mono', 'monocalcium', 'monosodium', 'monotony', 'monounsaturated', 'monsanto', 'monster', 'monsters', 'monta', 'monte', 'montebello', 'month', 'monthly', 'months', 'montmorency', 'montreal', 'mood', 'moon', 'moons', 'moore', 'moose', 'mopped', 'mopping', 'moral', 'morgue', 'morning', 'mornings', 'moroccan', 'morris', 'morsel', 'morsels', 'mortar', 'mortified', 'morton', 'mos', 'moss', 'motabolism', 'motel', 'mother', 'mothers', 'moths', 'motion', 'motions', 'motivated', 'motivation', 'motivator', 'motorola', 'motto', 'mound', 'mounds', 'mountain', 'mountains', 'mounted', 'mouse', 'mousie', 'moutain', 'mouth', 'mouthfeel', 'mouthful', 'mouths', 'mouthwash', 'moved', 'movement', 'movements', 'movie', 'movies', 'moving', 'mowed', 'mowing', 'mozarella', 'mozzarella', 'mr', 'mrs', 'ms', 'msg', 'msgs', 'mt', 'mtbe', 'muchos', 'muck', 'mucous', 'mudan', 'muddy', 'muesli', 'mueslis', 'mueslix', 'muffin', 'muffins', 'mug', 'muggs', 'mugs', 'mulberries', 'mules', 'multi', 'multidimensional', 'multigrain', 'multimedia', 'multinational', 'multipack', 'multiple', 'multiples', 'multiplication', 'multitude', 'mum', 'munch', 'muncher', 'munches', 'munchie', 'munchies', 'munching', 'muncho', 'munchos', 'municipal', 'murky', 'muscavado', 'muscles', 'museli', 'muselix', 'museum', 'mush', 'mushiness', 'mushroom', 'mushrooms', 'mushy', 'music', 'musical', 'musician', 'musicians', 'muslim', 'muss', 'mustard', 'mustards', 'muster', 'musty', 'muted', 'mutt', 'muy', 'mx', 'mxl', 'myer', 'myeslf', 'myriad', 'mysterious', 'mystery', 'naan', 'nabisco', 'nabiso', 'nabob', 'nachoes', 'nachos', 'nail', 'nailed', 'namaste', 'named', 'names', 'nancy', 'naniboujou', 'nantucket', 'nap', 'napa', 'napkin', 'naples', 'napoletana', 'naps', 'narrow', 'narrower', 'nasal', 'nastiest', 'nasty', 'nate', 'nation', 'national', 'nations', 'nationwide', 'native', 'natual', 'natural', 'naturale', 'naturally', 'naturals', 'naturapath', 'nature', 'natures', 'naughty', 'nausea', 'nauseating', 'nauseous', 'navigate', 'navigating', 'navitas', 'nc', 'nd', 'ne', 'neanderthal', 'near', 'nearby', 'nearest', 'nearly', 'neat', 'neccessary', 'necessarily', 'necessary', 'neck', 'nectar', 'need', 'needed', 'needing', 'needle', 'needless', 'needlessly', 'needs', 'negate', 'negates', 'negative', 'negatively', 'negatives', 'negging', 'neglected', 'negligible', 'negotiate', 'neighbor', 'neighborhood', 'neighboring', 'neighbors', 'neo', 'neocate', 'nephew', 'nephews', 'nerve', 'nervous', 'nervousness', 'nespresso', 'ness', 'nestle', 'nestles', 'net', 'netherlands', 'neti', 'netty', 'networks', 'neuman', 'neuro', 'neutered', 'neutral', 'nevermind', 'new', 'newbie', 'newborn', 'newer', 'newest', 'newf', 'newfoundlands', 'newly', 'newman', 'newmans', 'newmansbon', 'news', 'newsletter', 'newton', 'newtons', 'nextstep', 'niacin', 'nibble', 'nibbled', 'nibblers', 'nibbles', 'nibbling', 'nibs', 'nicce', 'nice', 'nicely', 'nicer', 'nicest', 'niche', 'nick', 'nickel', 'niece', 'night', 'nights', 'nighttime', 'ning', 'nirvana', 'nitty', 'nocerino', 'nod', 'nog', 'noir', 'noise', 'noises', 'noisette', 'noisy', 'noitce', 'nominal', 'non', 'nonetheless', 'nonfat', 'nonsense', 'noodle', 'noodles', 'noon', 'nope', 'nori', 'normal', 'normality', 'normally', 'norman', 'north', 'northeast', 'northwestern', 'norway', 'nos', 'nose', 'noses', 'nostagia', 'nostalgic', 'nostril', 'notable', 'notch', 'note', 'notecard', 'noted', 'notes', 'noteworthy', 'nothin', 'notice', 'noticeable', 'noticeably', 'noticed', 'noticing', 'notification', 'notified', 'notifying', 'noting', 'notorious', 'notoriously', 'nough', 'nourished', 'nov', 'novelty', 'november', 'novetly', 'novice', 'nowadays', 'nprice', 'nt', 'ntilde', 'nu', 'nuanced', 'nuances', 'nuclear', 'nuf', 'nuff', 'nuffins', 'nugget', 'nuggets', 'nuitionists', 'nuke', 'numb', 'number', 'numbers', 'numbness', 'numbs', 'numerous', 'numi', 'nunaturals', 'nurish', 'nurse', 'nurture', 'nustevia', 'nut', 'nutcracker', 'nutiva', 'nutmeg', 'nutragrain', 'nutramax', 'nutrient', 'nutrients', 'nutrigrain', 'nutrition', 'nutritional', 'nutritionally', 'nutritionist', 'nutritionists', 'nutritious', 'nutro', 'nuts', 'nutshell', 'nutty', 'ny', 'nyc', 'nye', 'nylon', 'o_o', 'oacute', 'oak', 'oat', 'oatmeal', 'oatmeals', 'oats', 'obese', 'obesity', 'obey', 'obeying', 'object', 'objection', 'objectionable', 'objective', 'objects', 'obligatory', 'obliged', 'obliterated', 'obnoxious', 'obscene', 'observed', 'obsession', 'obsessively', 'obsidian', 'obsolete', 'obtain', 'obtainable', 'obtained', 'obtaining', 'obvious', 'obviously', 'ocassion', 'occasion', 'occasional', 'occasionally', 'occasions', 'occassionally', 'occassions', 'occations', 'occupied', 'occupy', 'occur', 'occurrance', 'occurs', 'ocean', 'oct', 'october', 'od', 'odd', 'oddly', 'oddness', 'odds', 'odering', 'odor', 'odorless', 'odorous', 'odors', 'odwalla', 'offend', 'offended', 'offends', 'offense', 'offensive', 'offer', 'offered', 'offering', 'offerings', 'offerred', 'offers', 'offically', 'office', 'offices', 'officially', 'offs', 'offset', 'offsets', 'oh', 'ohama', 'ohhhhhh', 'ohio', 'ohman', 'oil', 'oiliness', 'oilive', 'oils', 'oily', 'oinkies', 'ok', 'okay', 'oktava', 'ol', 'old', 'older', 'oldest', 'olds', 'ole', 'oleoresin', 'olive', 'olives', 'olympics', 'omaha', 'omahas', 'omega', 'omega3', 'omegas', 'omelet', 'omelets', 'omg', 'omitting', 'ones', 'onion', 'onions', 'oniony', 'online', 'onlycomplaint', 'ons', 'onstage', 'ont', 'ontop', 'ooh', 'oohs', 'oolong', 'oolongs', 'oompletely', 'oooh', 'oops', 'oout', 'op', 'opaque', 'opelika', 'open', 'opened', 'opener', 'opening', 'opens', 'operate', 'operated', 'operates', 'operative', 'opinion', 'opinions', 'opnening', 'opossums', 'opportunities', 'opportunity', 'oppose', 'opposed', 'opposite', 'opps', 'oprah', 'opt', 'opted', 'optimal', 'optimistically', 'optimum', 'option', 'optional', 'options', 'orac', 'orange', 'oranges', 'orbit', 'order', 'orderd', 'ordered', 'orderid', 'ordering', 'orders', 'ordinarily', 'ordinary', 'ording', 'ore', 'oregano', 'oregon', 'oregonian', 'oreo', 'oreos', 'org', 'organic', 'organically', 'organics', 'organix', 'organization', 'organized', 'orgasmic', 'orginal', 'orgran', 'oriental', 'origin', 'original', 'originally', 'originals', 'origins', 'orignal', 'orijin', 'orleans', 'ornament', 'orphan', 'ortho', 'orthodox', 'orville', 'orzo', 'os', 'oscilloscope', 'osmanthus', 'osmosis', 'ot', 'othere', 'othr', 'otr', 'oue', 'ought', 'ounce', 'ounces', 'ounches', 'outback', 'outburst', 'outchew', 'outcome', 'outdated', 'outdone', 'outdoor', 'outed', 'outer', 'outfits', 'outgoing', 'outgrow', 'outgrowing', 'outings', 'outlet', 'output', 'outraged', 'outrageous', 'outrageously', 'outragous', 'outright', 'outs', 'outside', 'outstanding', 'outweigh', 'ovalbumin', 'oven', 'overall', 'overally', 'overback', 'overbearing', 'overbuying', 'overcharging', 'overcook', 'overcooked', 'overcooking', 'overcoooked', 'overdid', 'overdoing', 'overdone', 'overdose', 'overeating', 'overfed', 'overfeed', 'overflow', 'overflowing', 'overgrown', 'overhauling', 'overheat', 'overheated', 'overindulge', 'overindulgence', 'overindulges', 'overindulging', 'overkill', 'overload', 'overloaded', 'overlooked', 'overly', 'overnight', 'overnighted', 'overpaying', 'overpower', 'overpowered', 'overpowering', 'overpoweringly', 'overpowers', 'overpriced', 'overrated', 'overripe', 'overs', 'oversalted', 'overseas', 'overshadowed', 'overshadows', 'oversight', 'oversize', 'oversteeping', 'overtone', 'overtones', 'overweight', 'overwhelm', 'overwhelmed', 'overwhelming', 'overwhelmingly', 'overwhelms', 'ovomucin', 'ovomucoid', 'ovotransferrin', 'owe', 'owned', 'owner', 'owners', 'ownership', 'owning', 'owns', 'oxidants', 'oxidation', 'oxident', 'oxidents', 'oxidize', 'oxidized', 'oxygen', 'oysters', 'oz', 'ozarka', 'ozs', 'pa', 'pace', 'pach', 'pacific', 'pack', 'packae', 'package', 'packaged', 'packages', 'packaging', 'packed', 'packer', 'packet', 'packets', 'packing', 'packinghouse', 'packs', 'pad', 'padding', 'paddock', 'page', 'pages', 'paid', 'pain', 'painful', 'painfully', 'painkillers', 'painless', 'pains', 'paint', 'paintbrush', 'painter', 'painting', 'pair', 'paired', 'pairing', 'paks', 'palatable', 'palate', 'pale', 'paleo', 'palette', 'pallet', 'palm', 'palo', 'palpitations', 'pam', 'pamela', 'pamelas', 'pamphlet', 'pan', 'panang', 'panasonic', 'panax', 'pancake', 'pancakes', 'pancreas', 'pancreatitis', 'panda', 'panel', 'panels', 'pangs', 'panicked', 'pant', 'pantry', 'papa', 'papaya', 'papayas', 'paper', 'paperclip', 'papers', 'pappy', 'paprika', 'par', 'para', 'paralized', 'parameters', 'paramsan', 'parasites', 'parent', 'parents', 'pareve', 'paris', 'parisian', 'park', 'parm', 'parmesan', 'parmessan', 'parrot', 'parsely', 'parsing', 'parsley', 'partial', 'partiallly', 'partially', 'participating', 'particle', 'particles', 'particular', 'particularly', 'partied', 'parties', 'partly', 'partner', 'parts', 'party', 'paso', 'pass', 'passable', 'passages', 'passed', 'passer', 'passersby', 'passing', 'passione', 'passover', 'past', 'pasta', 'pastas', 'paste', 'pasteries', 'pastes', 'pasteurized', 'pastor', 'pastries', 'pastry', 'pasture', 'pasty', 'pat', 'patak', 'patches', 'pate', 'patents', 'path', 'pathetic', 'patience', 'patient', 'patisserie', 'patrick', 'patriot', 'pats', 'patties', 'patton', 'patty', 'paul', 'paula', 'pause', 'pavilion', 'paw', 'paws', 'pay', 'paying', 'payments', 'pays', 'pb', 'pb2', 'pc', 'pcm', 'pcs', 'pds', 'pea', 'peaberry', 'peace', 'peach', 'peak', 'peaks', 'peanut', 'peanuts', 'peanutty', 'pear', 'pearl', 'pearls', 'peary', 'peas', 'peasant', 'peat', 'pebbles', 'pecan', 'pecans', 'pedestrian', 'pedialyte', 'pediatric', 'pediatrician', 'pediatrics', 'pedigree', 'pee', 'peeing', 'peel', 'peeled', 'peet', 'peets', 'pei', 'peicer', 'pekeingese', 'pekoe', 'pellet', 'peloponnese', 'pen', 'pencil', 'pencils', 'penetrating', 'penna', 'penne', 'pennsylvania', 'penny', 'penrose', 'penta', 'peony', 'people', 'peoples', 'pep', 'pepcid', 'peper', 'pepermint', 'pepper', 'peppercorn', 'pepperdine', 'peppered', 'pepperidge', 'pepperiness', 'peppermint', 'pepperoni', 'peppers', 'peppery', 'pepsi', 'percent', 'percentage', 'perfect', 'perfected', 'perfection', 'perfectly', 'perfict', 'perforations', 'perform', 'performance', 'performed', 'performer', 'performs', 'perfume', 'perfumey', 'perigord', 'period', 'periodic', 'periodically', 'periods', 'perked', 'perks', 'perky', 'permanent', 'permanently', 'permeates', 'permit', 'permuatations', 'pero', 'perpetually', 'perpetuated', 'perplexed', 'perplexing', 'perruche', 'persian', 'persistent', 'persnickety', 'person', 'personal', 'personality', 'personally', 'persons', 'perspective', 'perspiration', 'pertain', 'pertty', 'peru', 'perugina', 'peruses', 'perusing', 'peruvian', 'perversion', 'pesticide', 'pesticides', 'pesto', 'pests', 'pet', 'peta', 'petals', 'petco', 'pete', 'peter', 'peterson', 'petpromise', 'pets', 'petsmart', 'petstore', 'pg', 'ph', 'phantom', 'pharmacist', 'phase', 'phased', 'phenomenal', 'phenylalanine', 'phil', 'phila', 'philip', 'philippine', 'phone', 'phosphate', 'phospholipids', 'phosphorous', 'phosphorus', 'photo', 'photograph', 'photos', 'phrase', 'physical', 'physically', 'piad', 'piana', 'pibble', 'pica', 'picante', 'pick', 'picked', 'pickey', 'pickier', 'pickiest', 'picking', 'pickings', 'pickle', 'pickled', 'pickles', 'pickling', 'picks', 'pickup', 'picky', 'picnic', 'pico', 'pics', 'picture', 'pictured', 'pictures', 'pie', 'piece', 'pieces', 'pierce', 'pierced', 'pies', 'pig', 'pigging', 'pigskin', 'pike', 'pile', 'piled', 'piles', 'pill', 'pillboxes', 'pillow', 'pillowy', 'pills', 'pillsbury', 'pilsbury', 'pin', 'pina', 'pinacolada', 'pinch', 'pinched', 'pinches', 'pineapple', 'pineapples', 'pingos', 'pining', 'pink', 'pinkish', 'pinot', 'pins', 'pint', 'pinto', 'pioneer', 'pipeline', 'piper', 'pirate', 'pissed', 'pistachio', 'pit', 'pita', 'pitbull', 'pitched', 'pitcher', 'pitching', 'pith', 'pithed', 'pitiful', 'pittie', 'pittsburgh', 'pity', 'pizza', 'pizzas', 'pk', 'pkg', 'pkgs', 'place', 'placebo', 'placed', 'places', 'placing', 'plack', 'plagued', 'plain', 'plan', 'plane', 'planet', 'planned', 'planning', 'plans', 'plant', 'planted', 'planters', 'plants', 'plaque', 'plasma', 'plaster', 'plastic', 'plasticy', 'plate', 'plates', 'platic', 'platinum', 'platter', 'play', 'played', 'playful', 'playground', 'playing', 'plays', 'pleading', 'pleasant', 'pleasantly', 'pleased', 'pleases', 'pleasing', 'pleasurable', 'pleasure', 'pleasures', 'pledge', 'plentiful', 'plenty', 'plethora', 'plocky', 'plockys', 'plop', 'ploy', 'plug', 'plugged', 'plugging', 'plugs', 'plum', 'plumbing', 'plump', 'plums', 'plunk', 'plus', 'pluses', 'plusses', 'plywood', 'pn', 'po', 'poached', 'pocket', 'pockets', 'pocky', 'pocus', 'pod', 'podcasters', 'podcasting', 'pods', 'podunk', 'poetic', 'poetry', 'pogo', 'point', 'pointed', 'pointer', 'pointless', 'points', 'pointy', 'poison', 'poisoned', 'poisoning', 'poke', 'poking', 'poland', 'polar', 'pole', 'policy', 'polish', 'polished', 'polite', 'politely', 'politically', 'politics', 'pollen', 'pollens', 'pollinators', 'polluted', 'pollux', 'poly', 'polyester', 'polyphenol', 'polyphenols', 'polyphosphates', 'pom', 'pomegranate', 'pomegranates', 'pomeranian', 'pomimo', 'pomum', 'pondering', 'poo', 'pooch', 'poodle', 'pool', 'poop', 'poops', 'poor', 'poore', 'poorly', 'pop', 'popchip', 'popchips', 'popcorn', 'popcorns', 'poped', 'popped', 'popper', 'poppers', 'popping', 'pops', 'popsicles', 'popular', 'popularity', 'populated', 'population', 'por', 'porch', 'porcini', 'porcinis', 'pork', 'porkhide', 'port', 'portability', 'portable', 'portal', 'portion', 'portioned', 'portions', 'portland', 'portrayed', 'ports', 'portuguese', 'porty', 'pose', 'posh', 'position', 'positive', 'positively', 'possess', 'possibilities', 'possibility', 'possible', 'possibly', 'post', 'postage', 'postal', 'posted', 'poster', 'posterous', 'posters', 'posting', 'posts', 'pot', 'potasium', 'potassium', 'potato', 'potatoe', 'potatoes', 'potatoey', 'potatos', 'potent', 'potential', 'potentially', 'potion', 'potions', 'potlucks', 'potpourri', 'pots', 'potstickers', 'potted', 'potting', 'potty', 'pouch', 'pouches', 'poullex', 'poultry', 'pounce', 'pound', 'pounder', 'pounding', 'pounds', 'pour', 'poured', 'pouring', 'powder', 'powdered', 'powderized', 'powders', 'powdery', 'power', 'powerful', 'powerhouse', 'powering', 'practical', 'practically', 'practice', 'practices', 'praise', 'praised', 'prawns', 'pre', 'preamp', 'preanut', 'prebiotics', 'preceded', 'precise', 'precisely', 'precursor', 'predictive', 'prednisone', 'predominant', 'preetier', 'preface', 'prefect', 'prefecture', 'prefer', 'preferable', 'preferably', 'prefere', 'preference', 'preferences', 'preferred', 'prefers', 'pregnancy', 'pregnant', 'preheat', 'premature', 'prematurely', 'premier', 'premium', 'prep', 'prepackaged', 'prepara', 'preparation', 'prepare', 'prepared', 'prepares', 'preparing', 'prepping', 'preschool', 'preschooler', 'prescribed', 'prescription', 'presence', 'present', 'presentable', 'presentation', 'presented', 'presently', 'presents', 'preservative', 'preservatives', 'preserve', 'preserved', 'preserves', 'president', 'presidential', 'presonus', 'press', 'pressed', 'pressing', 'pressure', 'presto', 'presumably', 'pretend', 'pretending', 'pretense', 'pretenses', 'prettier', 'prettily', 'pretty', 'pretzel', 'pretzels', 'prevailant', 'prevalence', 'prevalent', 'prevent', 'preventing', 'prevention', 'prevents', 'previous', 'previously', 'prey', 'pricce', 'price', 'priced', 'prices', 'pricey', 'pricier', 'pricing', 'prickly', 'pricy', 'pride', 'pried', 'primal', 'primarily', 'primary', 'prime', 'primed', 'primitive', 'primo', 'prince', 'princess', 'principal', 'pringles', 'print', 'printed', 'printing', 'prior', 'priority', 'prissy', 'pristine', 'private', 'privately', 'privilege', 'privileges', 'prize', 'prizes', 'pro', 'proactive', 'probably', 'probally', 'probaly', 'probiotic', 'probiotics', 'problem', 'problemas', 'problematic', 'problems', 'probs', 'procaster', 'proceed', 'proceeded', 'proceeds', 'process', 'processed', 'processes', 'processing', 'processor', 'proclaim', 'proclaimed', 'procter', 'procuct', 'procyanidins', 'produce', 'produced', 'producer', 'producers', 'produces', 'producing', 'product', 'production', 'productive', 'productivity', 'producto', 'products', 'professional', 'professionally', 'proffers', 'profile', 'profiles', 'profit', 'profits', 'profound', 'progessing', 'program', 'programming', 'programs', 'progress', 'progressed', 'progressive', 'progresso', 'prohibitive', 'project', 'prolific', 'prolonged', 'promise', 'promised', 'promises', 'promo', 'promote', 'promotes', 'promotion', 'prompt', 'prompted', 'promptly', 'promptness', 'prompty', 'prone', 'prong', 'pronounce', 'pronounced', 'proof', 'proofed', 'prop', 'proper', 'properly', 'properties', 'property', 'prophecy', 'proplem', 'proportion', 'proportions', 'propped', 'proprietary', 'pros', 'prosciutto', 'prospective', 'prospects', 'protect', 'protected', 'protecting', 'protection', 'protective', 'protects', 'protein', 'proteins', 'protest', 'protien', 'protocol', 'protools', 'protrusions', 'prouct', 'proud', 'proudly', 'prove', 'proved', 'proven', 'provence', 'provide', 'provided', 'provider', 'provides', 'providing', 'proving', 'ps', 'ps3', 'psst', 'psycho', 'ptato', 'pts', 'pub', 'public', 'publicity', 'publicly', 'publish', 'published', 'publix', 'pubs', 'puchase', 'puchased', 'puck', 'pucker', 'puckering', 'pucks', 'puddin', 'pudding', 'puddle', 'pude', 'puede', 'puff', 'puffed', 'puffs', 'puffy', 'pug', 'pugs', 'puked', 'pukes', 'pull', 'pulled', 'pulling', 'pulls', 'pulp', 'pulps', 'pulpy', 'pulverized', 'pump', 'pumped', 'pumpkin', 'pumps', 'pun', 'punch', 'punctuated', 'puncture', 'punctured', 'pungent', 'punish', 'punished', 'punishment', 'punk', 'pup', 'pupose', 'puppies', 'puppy', 'puppychow', 'pups', 'purchace', 'purchase', 'purchased', 'purchaseing', 'purchaser', 'purchasers', 'purchases', 'purchasing', 'purchsed', 'purchses', 'pure', 'purebred', 'puree', 'pureed', 'purees', 'purely', 'pureness', 'purhcase', 'purhcasing', 'purified', 'purina', 'purist', 'purity', 'puroast', 'purple', 'purported', 'purpose', 'purposes', 'purring', 'purse', 'pursue', 'push', 'pushed', 'pushes', 'pushing', 'puts', 'putting', 'puzzle', 'pyekky', 'pyramid', 'pyrenees', 'pyrex', 'qaulity', 'qid', 'quacomole', 'quailty', 'quaker', 'qualified', 'qualify', 'qualities', 'quality', 'qualms', 'quanities', 'quanity', 'quantities', 'quantity', 'quart', 'quarter', 'quarters', 'que', 'queasy', 'queen', 'quell', 'quench', 'quencher', 'quenches', 'quenching', 'queried', 'quesadilla', 'quesadillas', 'queso', 'quest', 'question', 'questionable', 'questioned', 'questions', 'quibble', 'quiches', 'quick', 'quickbreads', 'quickening', 'quicker', 'quickly', 'quiet', 'quinn', 'quinoa', 'quintessential', 'quit', 'quite', 'qulity', 'quot', 'quote', 'quoted', 'ra', 'rabbit', 'rabbits', 'raccoons', 'races', 'rachel', 'racing', 'rack', 'racks', 'radiation', 'radicals', 'radio', 'radius', 'raely', 'ragweed', 'raid', 'rain', 'rainbow', 'raincoast', 'rained', 'rainforest', 'rainy', 'raise', 'raised', 'raises', 'raisin', 'raising', 'raisins', 'raisons', 'ram', 'ramen', 'ramikens', 'ramsey', 'ran', 'ranch', 'ranchera', 'ranchero', 'rancho', 'rancid', 'rancidity', 'random', 'randomly', 'rang', 'range', 'ranged', 'ranges', 'rangoon', 'rank', 'ranked', 'ranks', 'rant', 'rapid', 'rapidly', 'rapping', 'rare', 'rarely', 'rarity', 'ras', 'rasberry', 'rash', 'raspberries', 'raspberry', 'rat', 'rate', 'rated', 'rates', 'rating', 'ratings', 'ratio', 'ration', 'rational', 'ratios', 'rave', 'raved', 'raves', 'raving', 'raw', 'rawhide', 'ray', 'raya', 'rays', 'rda', 'reach', 'reached', 'reaching', 'react', 'reaction', 'reactions', 'reacts', 'read', 'reader', 'readers', 'readily', 'reading', 'reads', 'ready', 'reaffirmation', 'real', 'realistic', 'realistically', 'reality', 'realization', 'realize', 'realized', 'realizing', 'reall', 'really', 'reap', 'reaper', 'reason', 'reasonable', 'reasonably', 'reasons', 'reassess', 'reassures', 'reassuring', 'rebecca', 'reboot', 'rebooting', 'rebound', 'rec', 'recall', 'recalled', 'recalling', 'recalls', 'reccomend', 'reccomended', 'reccommend', 'receipt', 'receive', 'received', 'receivers', 'receives', 'receiving', 'recent', 'recently', 'recepies', 'reception', 'receptors', 'recesses', 'reciepes', 'recieve', 'recieved', 'recieving', 'recipe', 'recipes', 'recipient', 'recipients', 'recipies', 'recloseable', 'recognition', 'recognize', 'recognized', 'recognizes', 'recognizing', 'recomend', 'recommand', 'recommanded', 'recommend', 'recommendation', 'recommendations', 'recommended', 'recommending', 'recommends', 'recomment', 'recommmend', 'reconsider', 'reconstituted', 'record', 'recorded', 'recorder', 'recording', 'recordings', 'records', 'recover', 'recovered', 'recovery', 'recreate', 'rectangular', 'recuperating', 'recurring', 'recyclable', 'recycle', 'recycles', 'red', 'redbarn', 'reddish', 'redeeming', 'redenbacher', 'redenbacker', 'redesign', 'redesigned', 'redi', 'rediculous', 'redilly', 'rediscovered', 'redline', 'redo', 'redone', 'redskin', 'reduce', 'reduced', 'reduces', 'reducing', 'reduction', 'redundant', 'redwood', 'reed', 'reeder', 'reeks', 'reel', 'reese', 'reeses', 'ref', 'refer', 'reference', 'references', 'referred', 'refers', 'refill', 'refills', 'refined', 'reflected', 'reflux', 'refrain', 'refresh', 'refreshed', 'refresher', 'refreshes', 'refreshing', 'refreshments', 'refridgerate', 'refridgerated', 'refridgeration', 'refried', 'refrigerate', 'refrigerated', 'refrigerating', 'refrigeration', 'refrigerator', 'refund', 'refundable', 'refunded', 'refuse', 'refused', 'refuses', 'regard', 'regarded', 'regarding', 'regardless', 'regards', 'regima', 'regime', 'regimen', 'regiment', 'region', 'regional', 'regions', 'register', 'registered', 'regret', 'regreted', 'regrettable', 'regualar', 'regualry', 'reguarding', 'regular', 'regularly', 'regulated', 'regulation', 'regurgitation', 'reheat', 'rehydrate', 'rehydrating', 'rehydration', 'reinforce', 'reinforced', 'reinstating', 'reintroduced', 'reishi', 'reissue', 'reith', 'rejoice', 'rejuvenate', 'relate', 'related', 'relating', 'relations', 'relationship', 'relative', 'relatively', 'relatives', 'relax', 'relaxation', 'relaxed', 'relaxing', 'release', 'released', 'releasing', 'releave', 'reliability', 'reliable', 'relief', 'relieve', 'relieved', 'relieving', 'religion', 'relish', 'relishes', 'relocating', 'reluctant', 'reluctantly', 'rely', 'remade', 'remain', 'remainder', 'remained', 'remaining', 'remains', 'remarkable', 'remarkably', 'remarked', 'remarks', 'remedies', 'remedy', 'remembeer', 'remember', 'remembered', 'remind', 'reminded', 'reminder', 'reminding', 'reminds', 'reminiscent', 'remixed', 'remorse', 'remotely', 'removal', 'remove', 'removed', 'removes', 'removing', 'renaissance', 'renal', 'renamed', 'rendered', 'rendering', 'renew', 'renewable', 'renewed', 'renfros', 'renowned', 'reoccurring', 'reorder', 'reorderd', 'reordered', 'reordering', 'rep', 'repackage', 'repackaged', 'repeat', 'repeated', 'repeating', 'repercussions', 'repertoire', 'replace', 'replaced', 'replacement', 'replacements', 'replacer', 'replaces', 'replacing', 'replenish', 'replenishes', 'replenishing', 'replica', 'replicate', 'replicators', 'replies', 'reply', 'report', 'reported', 'reportedly', 'reporter', 'reports', 'represent', 'representative', 'represented', 'represents', 'republic', 'republics', 'repulsed', 'repulsive', 'repulsively', 'reputable', 'reputation', 'request', 'requested', 'require', 'required', 'requirement', 'requirements', 'requires', 'requiring', 'reqular', 'reroll', 'rescue', 'rescued', 'rescues', 'reseal', 'resealable', 'resealed', 'resealing', 'research', 'researched', 'researcher', 'researchers', 'researching', 'resemblance', 'resemble', 'resembled', 'resembles', 'reservations', 'reserve', 'reservoir', 'reship', 'residents', 'residual', 'residuals', 'residue', 'resin', 'resist', 'resistance', 'resold', 'resolve', 'resolved', 'resolves', 'resonable', 'resort', 'resorted', 'resource', 'resources', 'respect', 'respectable', 'respected', 'respectful', 'respectively', 'respects', 'respiratory', 'responable', 'respond', 'responded', 'responding', 'response', 'responsibility', 'responsible', 'responsive', 'responsiveness', 'ressucitated', 'rest', 'restarts', 'restaurant', 'restaurants', 'resting', 'restock', 'restocked', 'restocks', 'restore', 'restores', 'restoring', 'restrict', 'restricted', 'restrictions', 'restroom', 'resturant', 'resturants', 'result', 'resulted', 'resulting', 'results', 'resume', 'resupplied', 'retail', 'retailer', 'retailers', 'retailing', 'retails', 'retain', 'retaining', 'retching', 'rethink', 'reticent', 'retire', 'retired', 'retirement', 'retreiver', 'retrieve', 'retriever', 'return', 'returnable', 'returned', 'returning', 'returns', 'reusable', 'reuse', 'reused', 'revealing', 'reveived', 'revel', 'revelation', 'reverse', 'reversed', 'review', 'reviewd', 'reviewed', 'reviewer', 'reviewers', 'reviewing', 'reviews', 'revitalizing', 'revival', 'revolution', 'revv', 'reward', 'rewarded', 'rewards', 'rewrap', 'rex', 'rhythm', 'ri', 'rib', 'riba', 'ribbon', 'riboflavin', 'ribs', 'rica', 'rican', 'rice', 'ricecakes', 'rich', 'richer', 'richest', 'richly', 'richness', 'ricore', 'ricotta', 'rid', 'ride', 'rides', 'ridged', 'ridges', 'ridiculous', 'ridiculously', 'riding', 'rids', 'riesling', 'rifle', 'rigged', 'right', 'rightly', 'rind', 'rinds', 'ring', 'ringer', 'ringing', 'rings', 'rinse', 'rinsed', 'rinses', 'rio', 'rip', 'ripe', 'ripen', 'ripest', 'ripoff', 'ripped', 'ripping', 'rips', 'rise', 'risen', 'rises', 'rising', 'risk', 'risks', 'risotto', 'rita', 'ritual', 'ritz', 'rival', 'rivals', 'river', 'rivera', 'riviera', 'road', 'roadside', 'roand', 'roast', 'roasted', 'roaster', 'roasters', 'roasting', 'roasts', 'rob', 'robbery', 'robbys', 'robert', 'robitussin', 'robles', 'robs', 'robust', 'robusta', 'rocher', 'rock', 'rocked', 'rocks', 'rockstar', 'rod', 'rode', 'rodent', 'rodents', 'roiling', 'roland', 'rold', 'role', 'roll', 'rolland', 'rolled', 'roller', 'rolling', 'rolls', 'romaine', 'romano', 'romans', 'romantic', 'rome', 'rood', 'roof', 'rooibos', 'room', 'roomates', 'roommate', 'roommies', 'rooms', 'root', 'rootbeer', 'rooted', 'rooting', 'roots', 'rope', 'rosa', 'rosamonte', 'rose', 'rosebuds', 'rosehips', 'rosemary', 'roses', 'rosey', 'ross', 'rossi', 'roster', 'rosy', 'rot', 'rotatable', 'rotate', 'rotating', 'rotation', 'rotational', 'rote', 'rotel', 'roth', 'rotten', 'rotting', 'rouge', 'rough', 'roughly', 'rouler', 'roulette', 'round', 'rounded', 'rounder', 'rounds', 'route', 'routine', 'row', 'roy', 'royal', 'royalties', 'rspv', 'rta', 'rtcj', 'rte', 'rubbed', 'rubber', 'rubbermaid', 'rubbery', 'rubs', 'rude', 'rudolph', 'ruffles', 'ruffly', 'rug', 'rugged', 'rugrats', 'ruidos', 'ruin', 'ruined', 'ruining', 'ruins', 'rule', 'ruled', 'rules', 'rum', 'rumblings', 'rumford', 'run', 'rundown', 'runner', 'runnier', 'running', 'runny', 'runs', 'runts', 'runzo', 'rural', 'rush', 'rushed', 'rusk', 'russel', 'russell', 'russells', 'russet', 'russian', 'rustle', 'rv', 'rving', 'rye', 'ryvita', 'saaqin', 'sabrina', 'sachet', 'sachets', 'sack', 'sacramento', 'sacrifice', 'sacrificing', 'sad', 'saddens', 'saddle', 'saddlebag', 'saddled', 'sadly', 'safcol', 'safe', 'safely', 'safer', 'safety', 'safeway', 'safflower', 'saget', 'sagged', 'said', 'sake', 'sal', 'salad', 'salads', 'salami', 'sale', 'salem', 'sales', 'salesman', 'sally', 'salmon', 'salmonella', 'saloon', 'salsa', 'salsas', 'salt', 'salted', 'saltier', 'saltiest', 'saltines', 'saltiness', 'saltless', 'salts', 'saltwater', 'salty', 'salumeria', 'salvaged', 'sam', 'samba', 'sambazon', 'samovar', 'sample', 'sampled', 'sampler', 'samplers', 'samples', 'sampling', 'samson', 'samzon', 'san', 'sand', 'sandwhich', 'sandwich', 'sandwiches', 'sandwitches', 'sandy', 'sanford', 'sangiovese', 'sanitary', 'sank', 'sans', 'santa', 'sap', 'saps', 'saquin', 'saran', 'sardine', 'sardines', 'sarnese', 'sashimi', 'sassafras', 'sassafrass', 'sassy', 'sat', 'satay', 'satiated', 'satified', 'satisfaction', 'satisfactory', 'satisfatory', 'satisfied', 'satisfies', 'satisfiing', 'satisfy', 'satisfying', 'satisifies', 'saturated', 'saturday', 'sauce', 'saucer', 'saucers', 'sauces', 'saucethings', 'saucy', 'saudi', 'sauer', 'saurday', 'sausage', 'sausages', 'sause', 'saute', 'sautee', 'sauteed', 'sauteing', 'save', 'saved', 'saver', 'saves', 'saving', 'savings', 'savor', 'savora', 'savored', 'savoring', 'savory', 'saw', 'sawdust', 'say', 'sayin', 'saying', 'says', 'sb', 'sbux', 'scale', 'scallions', 'scallops', 'scampi', 'scant', 'scape', 'scare', 'scared', 'scarf', 'scarffing', 'scarfing', 'scarfs', 'scary', 'scat', 'scenario', 'scene', 'scent', 'scented', 'scents', 'sceptical', 'schauzers', 'schedule', 'scheduled', 'scheme', 'schemes', 'schnauzer', 'schnauzers', 'scholarship', 'school', 'schweppes', 'science', 'scientific', 'scientists', 'scissors', 'sclerosis', 'scoff', 'scones', 'scoop', 'scooped', 'scoops', 'scorched', 'score', 'scores', 'scotch', 'scotties', 'scottish', 'scouring', 'scout', 'scrambled', 'scrap', 'scrape', 'scraped', 'scrapes', 'scraping', 'scraps', 'scratch', 'scratched', 'scratching', 'scream', 'screaming', 'screams', 'screen', 'screens', 'screw', 'screwed', 'screwing', 'scrub', 'scrubbing', 'scrumdiddlyumptous', 'scrumptious', 'scrumptuous', 'se', 'sea', 'seafood', 'seal', 'sealable', 'sealed', 'sealing', 'seals', 'seam', 'search', 'searched', 'searching', 'searchomg', 'seared', 'seasalt', 'seasame', 'season', 'seasonal', 'seasonally', 'seasoned', 'seasoning', 'seasonings', 'seasons', 'seat', 'seattle', 'seawater', 'seaweed', 'sec', 'second', 'seconds', 'secret', 'section', 'sectioned', 'sections', 'secure', 'securely', 'security', 'seder', 'sediment', 'seduces', 'seed', 'seeded', 'seeds', 'seeing', 'seek', 'seeking', 'seemd', 'seemingly', 'seen', 'seep', 'seeped', 'seeping', 'sees', 'seinfeld', 'seizure', 'seizures', 'seldom', 'selecci', 'select', 'selected', 'selection', 'selections', 'selects', 'self', 'sell', 'seller', 'sellers', 'selling', 'sells', 'seltzer', 'semblance', 'semi', 'sencha', 'send', 'sending', 'sends', 'senior', 'sensation', 'sensations', 'sense', 'senseo', 'senses', 'sensible', 'sensibly', 'sensitive', 'sensitives', 'sensitivities', 'sensitivity', 'sensitve', 'sensory', 'sent', 'sentence', 'separate', 'separated', 'separately', 'separating', 'seperate', 'sept', 'september', 'seratonin', 'serial', 'series', 'seriousely', 'seriously', 'serrated', 'serve', 'served', 'serveice', 'server', 'serves', 'service', 'services', 'serving', 'servings', 'sesame', 'sesmark', 'session', 'sessions', 'set', 'sets', 'setting', 'settings', 'settle', 'settled', 'settleing', 'settles', 'settling', 'setup', 'seven', 'seventh', 'seventies', 'severe', 'severely', 'severs', 'sf', 'sg', 'shabby', 'shade', 'shake', 'shaken', 'shaker', 'shakes', 'shakey', 'shaking', 'shall', 'shallow', 'shame', 'shamelessly', 'shampoo', 'shape', 'shaped', 'shapes', 'shards', 'share', 'shared', 'shareing', 'shares', 'sharing', 'sharonanne', 'sharp', 'shatter', 'shattered', 'shave', 'shazam', 'sheanut', 'shed', 'shedding', 'sheen', 'sheepdog', 'sheer', 'sheesh', 'sheet', 'sheets', 'shelf', 'shell', 'shellfish', 'shells', 'shelly', 'shelter', 'shelters', 'sheltie', 'shelves', 'shep', 'shepard', 'shepards', 'sheph', 'shepherd', 'shepherds', 'sherlock', 'sherry', 'shied', 'shield', 'shielded', 'shielding', 'shifting', 'shih', 'shihpoo', 'shihtzu', 'shine', 'shinier', 'shiniest', 'shining', 'shiny', 'ship', 'shipment', 'shipments', 'shipped', 'shipper', 'shipping', 'ships', 'shiseido', 'shock', 'shocked', 'shocking', 'shoes', 'shoeveling', 'shook', 'shoot', 'shooting', 'shop', 'shoppe', 'shopped', 'shopper', 'shoppers', 'shopping', 'shoprite', 'shops', 'shore', 'short', 'shortage', 'shortbread', 'shortcake', 'shortcakes', 'shortening', 'shorter', 'shortest', 'shorthair', 'shortly', 'shot', 'shots', 'shoulder', 'shoulders', 'shouldn', 'showed', 'shower', 'showing', 'shown', 'shows', 'shpping', 'shredded', 'shreds', 'shrimp', 'shrink', 'shrinking', 'shrinks', 'shriveled', 'shrub', 'shrug', 'shudder', 'shun', 'shure', 'shut', 'shy', 'si', 'sic', 'sick', 'sickened', 'sickening', 'sickeningly', 'sicker', 'sickly', 'sided', 'sides', 'sidewalk', 'sidewalks', 'sieve', 'sifted', 'sigh', 'sight', 'sign', 'signal', 'signature', 'signed', 'significant', 'significantly', 'signing', 'signs', 'silicon', 'silicone', 'silk', 'silky', 'sill', 'silly', 'silver', 'similac', 'similar', 'similarities', 'similarly', 'similasan', 'similiac', 'simmer', 'simmered', 'simmering', 'simple', 'simplepac', 'simpler', 'simplicity', 'simplified', 'simply', 'sin', 'sincerely', 'sinewaves', 'sinful', 'sinfully', 'sing', 'singers', 'singing', 'single', 'singles', 'singlularly', 'sings', 'sink', 'sinking', 'sinks', 'sinthetic', 'sinue', 'sinus', 'sinuses', 'sip', 'sipping', 'sippy', 'sips', 'sir', 'siracha', 'sister', 'sisters', 'sit', 'site', 'sites', 'sits', 'sitting', 'situation', 'situations', 'size', 'sized', 'sizes', 'skeptic', 'skeptical', 'skepticism', 'skillet', 'skim', 'skimmed', 'skimpy', 'skin', 'skinless', 'skinned', 'skinny', 'skins', 'skip', 'skipped', 'skipping', 'skunky', 'skus', 'sky', 'skype', 'skyrocketed', 'slammin', 'slap', 'slashing', 'slated', 'slathered', 'slathering', 'slaughterhouse', 'slaughtering', 'sleep', 'sleeper', 'sleeping', 'sleeps', 'sleepy', 'sleeve', 'slender', 'slenderize', 'slept', 'slice', 'sliced', 'slices', 'slicing', 'slickers', 'slide', 'slight', 'slightest', 'slightly', 'slim', 'slimming', 'slimmy', 'slimy', 'slip', 'slipped', 'slippers', 'slippery', 'slit', 'slop', 'sloppy', 'sloshing', 'slot', 'sloth', 'slots', 'slow', 'slower', 'slowly', 'sls', 'sludge', 'sluggish', 'slugs', 'slush', 'slushy', 'sm', 'sm57', 'sm58', 'smack', 'smacking', 'smacks', 'small', 'smaller', 'smallest', 'smallish', 'smallness', 'smalls', 'smart', 'smashed', 'smear', 'smell', 'smelled', 'smelling', 'smells', 'smelly', 'smelt', 'smidge', 'smile', 'smiled', 'smiles', 'smiling', 'smith', 'smoke', 'smoked', 'smokehouse', 'smoker', 'smokey', 'smokeys', 'smokies', 'smokiness', 'smoking', 'smoky', 'smooooooooooooooooooth', 'smooth', 'smoothe', 'smoother', 'smoothering', 'smoothest', 'smoothie', 'smoothies', 'smoothly', 'smoothness', 'smothered', 'smuckers', 'smuggle', 'smylie', 'snack', 'snacker', 'snackers', 'snackies', 'snacking', 'snacks', 'snackwell', 'snackwise', 'snacky', 'snail', 'snakes', 'snap', 'snapped', 'snapple', 'snaps', 'snatched', 'sneak', 'sneaking', 'sneaky', 'snicker', 'snickerdoodle', 'snickers', 'sniff', 'sniffed', 'sniffer', 'sniffing', 'snipped', 'snob', 'snobby', 'snow', 'snowey', 'snuff', 'snyder', 'soak', 'soaked', 'soaking', 'soap', 'soapbox', 'soaps', 'sociables', 'social', 'society', 'soda', 'sodas', 'sodium', 'sofla', 'soft', 'soften', 'softened', 'softer', 'softest', 'softness', 'software', 'soggy', 'sogo', 'soil', 'soils', 'sojo', 'sojos', 'solar', 'sold', 'soldiers', 'solely', 'solid', 'solidifying', 'solids', 'solo', 'solomon', 'solos', 'soluble', 'solution', 'solutions', 'solve', 'solved', 'solvents', 'somebody', 'someplace', 'somewhat', 'sommers', 'somoeone', 'son', 'sonoma', 'sons', 'sony', 'soo', 'soon', 'sooner', 'sooo', 'soooo', 'sooooo', 'soooooo', 'sooooooooooooo', 'soot', 'sooth', 'soothe', 'soothes', 'soothing', 'sophie', 'sophisticated', 'sophistication', 'soprano', 'sorbate', 'sorbets', 'sore', 'sorely', 'sorghum', 'sorry', 'sort', 'sorta', 'sorting', 'sorts', 'souce', 'souchong', 'soul', 'sound', 'soundboard', 'soundcards', 'sounded', 'sounds', 'soup', 'soups', 'soupy', 'sour', 'source', 'sourced', 'sources', 'sourcing', 'sourcream', 'sourdough', 'soured', 'sourest', 'sourness', 'soury', 'south', 'southeast', 'southern', 'southerners', 'southwestern', 'soy', 'soybean', 'soybeans', 'sp', 'sp3', 'spa', 'space', 'spaces', 'spagehetti', 'spagetti', 'spaghetti', 'spain', 'spam', 'span', 'spaniel', 'spaniels', 'spanish', 'spankin', 'spare', 'sparingly', 'sparkling', 'spas', 'spasms', 'spat', 'spatula', 'spayed', 'spca', 'speak', 'speaker', 'speakers', 'speaking', 'speaks', 'spear', 'spearmint', 'spears', 'special', 'speciality', 'specialize', 'specialized', 'specially', 'specials', 'specialty', 'species', 'specific', 'specifically', 'specifications', 'specificlly', 'specifics', 'specified', 'specify', 'specks', 'spectacular', 'spectacularly', 'spectaculary', 'spectrophotometer', 'spectrum', 'speculation', 'speed', 'speediest', 'speeds', 'speedy', 'spell', 'spelled', 'spencer', 'spend', 'spending', 'spendy', 'spent', 'sphincter', 'spice', 'spiced', 'spices', 'spicey', 'spicier', 'spiciness', 'spicy', 'spicyness', 'spike', 'spikes', 'spiking', 'spiky', 'spill', 'spillage', 'spilled', 'spilling', 'spills', 'spilt', 'spin', 'spinach', 'spine', 'spinning', 'spiral', 'spit', 'spite', 'spits', 'spitting', 'splash', 'splashes', 'splashing', 'splenda', 'splendas', 'splendid', 'split', 'splurge', 'spoil', 'spoilage', 'spoiled', 'spoke', 'sponge', 'spongebob', 'spongey', 'spongy', 'sponsor', 'sponsors', 'spoon', 'spoonful', 'spoonfuls', 'spoons', 'sportmix', 'sports', 'spot', 'spotless', 'spots', 'spotted', 'spouse', 'sprains', 'sprang', 'spray', 'sprayed', 'spread', 'spreadable', 'spreader', 'spreading', 'spreads', 'sprectrum', 'spree', 'sprig', 'sprigs', 'spring', 'springer', 'springform', 'springs', 'sprinkle', 'sprinkled', 'sprinkles', 'sprinkling', 'spritz', 'sproated', 'sprout', 'sprouted', 'sprouting', 'sprouts', 'spruce', 'sprue', 'spuds', 'spunk', 'spunky', 'spurious', 'square', 'squares', 'squash', 'squat', 'squeaker', 'squeaks', 'squeaky', 'squeamish', 'squeeze', 'squeezed', 'squid', 'squirrels', 'squirt', 'squished', 'squishiness', 'squishing', 'squishy', 'squism', 'sr', 'sr_1_1', 'sriracha', 'st', 'stabiliser', 'stabilized', 'stable', 'stacey', 'stack', 'stacks', 'stacy', 'staff', 'stage', 'staged', 'stages', 'staggering', 'stail', 'staining', 'stainless', 'stains', 'stakes', 'stale', 'stalks', 'stamp', 'stamps', 'stand', 'standalone', 'standard', 'standards', 'standing', 'standpoint', 'stands', 'stanky', 'stanley', 'staple', 'staples', 'star', 'staral', 'starbuck', 'starbucks', 'starch', 'starches', 'starchy', 'stares', 'starkist', 'starring', 'stars', 'start', 'started', 'starter', 'starters', 'startes', 'starting', 'startlingly', 'starts', 'starvation', 'starving', 'stash', 'stashed', 'stashtea', 'state', 'stated', 'statement', 'stater', 'states', 'statesman', 'stating', 'station', 'stationed', 'stations', 'status', 'stay', 'stayed', 'staying', 'stays', 'steadily', 'steady', 'steak', 'steakhouse', 'steaks', 'steal', 'stealing', 'steam', 'steamed', 'steamroller', 'steaz', 'steel', 'steep', 'steeped', 'steeping', 'steeps', 'steer', 'steered', 'steering', 'stellar', 'stellarmoney', 'stem', 'stemmed', 'stems', 'step', 'stepfather', 'stephen', 'stereo', 'steriods', 'steve', 'stevia', 'stevita', 'stew', 'stews', 'sth', 'sthg', 'stick', 'sticker', 'stickers', 'sticking', 'sticks', 'stickss', 'sticky', 'stiff', 'stiffer', 'stigma', 'stimulate', 'stimulates', 'stimulats', 'stinging', 'stink', 'stinking', 'stinks', 'stinky', 'stint', 'stir', 'stirred', 'stirring', 'stix', 'stock', 'stocked', 'stocking', 'stockings', 'stockpile', 'stockpiling', 'stocks', 'stole', 'stomach', 'stomache', 'stomachs', 'stone', 'stones', 'stonewall', 'stong', 'stonger', 'stool', 'stools', 'stop', 'stopped', 'stopping', 'stops', 'storability', 'storable', 'storage', 'store', 'storebought', 'storebrand', 'stored', 'stores', 'stories', 'storing', 'story', 'stove', 'stovetop', 'straight', 'straightforward', 'strain', 'strainer', 'strainers', 'strait', 'strand', 'stranded', 'strands', 'strange', 'strangely', 'strap', 'strategy', 'straw', 'strawberries', 'strawberry', 'straws', 'streaking', 'stream', 'street', 'stregnth', 'streisand', 'strength', 'stress', 'stressing', 'stretch', 'stretched', 'stretching', 'stretchy', 'streusel', 'strianese', 'strick', 'strict', 'strictly', 'stride', 'strikes', 'string', 'stringent', 'strings', 'stringy', 'strip', 'stripe', 'strips', 'strive', 'stroke', 'stroll', 'strolling', 'strong', 'stronger', 'strongest', 'strongly', 'struck', 'structural', 'structure', 'struggle', 'struggled', 'struggling', 'strung', 'strvia', 'stuck', 'student', 'students', 'studied', 'studies', 'studio', 'study', 'stuff', 'stuffed', 'stuffer', 'stuffers', 'stuffing', 'stuffy', 'stumble', 'stumbled', 'stumped', 'stung', 'stupid', 'stupidly', 'sturdier', 'sturdy', 'style', 'styles', 'styro', 'styrofoam', 'su', 'sub', 'subbed', 'subcription', 'subdue', 'subdued', 'subject', 'subjected', 'subjective', 'sublime', 'subscibe', 'subscribe', 'subscribeand', 'subscribed', 'subscribing', 'subscription', 'subsequently', 'subside', 'subsidiary', 'subsisted', 'subsitute', 'subsrcibe', 'substance', 'substantial', 'substantially', 'substitute', 'substituted', 'substitutes', 'substituting', 'substitution', 'substitutions', 'subtle', 'subtleties', 'subtly', 'subtract', 'subtracting', 'subway', 'succeeded', 'success', 'successes', 'successful', 'successfully', 'succinic', 'succulent', 'succumb', 'succumbing', 'suck', 'sucked', 'sucker', 'suckered', 'suckers', 'sucking', 'sucks', 'sucorse', 'sucralose', 'sucre', 'sudafed', 'sudden', 'suddenly', 'suds', 'sue', 'suffer', 'suffered', 'sufferer', 'sufferers', 'suffering', 'suffers', 'suffice', 'sufficient', 'sufficiently', 'sugar', 'sugarfree', 'sugargree', 'sugarless', 'sugars', 'sugary', 'suger', 'suggessted', 'suggest', 'suggested', 'suggestion', 'suggestions', 'suggests', 'suit', 'suitable', 'suitcase', 'suited', 'suits', 'sulfate', 'sumac', 'sumatra', 'sumatran', 'summarize', 'summary', 'summer', 'summers', 'summertime', 'summit', 'sun', 'sunchips', 'sunchy', 'sundae', 'sunday', 'sunflower', 'sunrise', 'sunset', 'sunshine', 'super', 'superb', 'superbly', 'superceded', 'superfine', 'superfluous', 'superfoods', 'superior', 'supermarket', 'supermarkets', 'supervised', 'supervision', 'supieror', 'supper', 'supplement', 'supplemental', 'supplementation', 'supplements', 'supplier', 'suppliers', 'supplies', 'supply', 'support', 'supporting', 'supports', 'suppose', 'supposed', 'supposedly', 'suppository', 'suppressant', 'suppression', 'suprema', 'supreme', 'supremo', 'suprise', 'suprised', 'suprisingly', 'sure', 'surely', 'surf', 'surface', 'surfaces', 'surge', 'surgery', 'surly', 'surpass', 'surpassed', 'surpasses', 'surprise', 'surprised', 'surprises', 'surprising', 'surprisingly', 'surround', 'surrounded', 'surrounding', 'surroundings', 'surveys', 'survival', 'survive', 'survived', 'sushi', 'susie', 'suspect', 'suspected', 'suspicious', 'sustain', 'sustainability', 'sustainable', 'sustains', 'sustenance', 'suto', 'sux', 'suzanne', 'swallow', 'swallowing', 'swamp', 'swanson', 'swap', 'swapped', 'swapping', 'swaziland', 'swear', 'sweat', 'sweating', 'sweatshops', 'sweden', 'swedish', 'sweepings', 'sweet', 'sweetarts', 'sweetbreads', 'sweeten', 'sweetend', 'sweetened', 'sweetener', 'sweeteners', 'sweetening', 'sweetens', 'sweeter', 'sweetest', 'sweetie', 'sweeting', 'sweetish', 'sweetner', 'sweetners', 'sweetness', 'sweets', 'swelling', 'swerve', 'swift', 'swigs', 'swill', 'swing', 'swings', 'swirl', 'swirled', 'swirling', 'swiss', 'switch', 'switched', 'switches', 'switching', 'switchover', 'switzerland', 'sworn', 'swtich', 'symbol', 'symbols', 'sympathetic', 'symptom', 'symptoms', 'synagogue', 'syncope', 'syndrome', 'syndromes', 'synonymous', 'synthetic', 'syracuse', 'syrah', 'syrup', 'syrups', 'syrupy', 'systemic', 'systems', 'szeged', 't_t', 'tab', 'tabasco', 'table', 'tables', 'tablespoon', 'tablespoons', 'tablet', 'tablets', 'taboule', 'tabs', 'tac', 'tack', 'tacked', 'tacky', 'taco', 'tacoma', 'tacos', 'tacs', 'tact', 'tad', 'taffy', 'tag', 'tagine', 'tahini', 'tai', 'tail', 'tailgate', 'tails', 'tainted', 'taiwan', 'taiwanese', 'takedown', 'taken', 'takeout', 'takers', 'takes', 'takeya', 'taking', 'tale', 'talent', 'tales', 'talk', 'talked', 'talking', 'talkingrain', 'talkinhome', 'tall', 'tama', 'tamales', 'tamari', 'tame', 'tamed', 'tamer', 'tamped', 'tan', 'tang', 'tangerine', 'tanginess', 'tangy', 'tank', 'tannic', 'tannin', 'tannins', 'tanzanian', 'tao', 'tap', 'tapanade', 'tape', 'taped', 'tapenade', 'tapes', 'tapioca', 'tar', 'target', 'targeted', 'targeting', 'tarragon', 'tart', 'tartar', 'tarter', 'tartlets', 'tartness', 'tarts', 'task', 'tasselfield', 'tassimo', 'tassimodirect', 'tast', 'taste', 'tastebuds', 'tasted', 'tasteful', 'tastefull', 'tasteless', 'tastelessly', 'taster', 'tasters', 'tastes', 'tastey', 'tastier', 'tastiest', 'tasting', 'tastless', 'tasty', 'tate', 'tated', 'tater', 'taters', 'tather', 'tatooes', 'tatse', 'tatters', 'taught', 'tawny', 'tax', 'taxes', 'taxidermist', 'taylor', 'tazo', 'tb', 'tbls', 'tblsp', 'tbs', 'tbsp', 'tbsps', 'tchaikovsky', 'tea', 'teabag', 'teabags', 'teach', 'teacher', 'teachers', 'teaches', 'teaching', 'team', 'teapot', 'tear', 'teared', 'tearing', 'tears', 'teary', 'teas', 'tease', 'teaspon', 'teaspoon', 'teaspoonfuls', 'teaspoons', 'teavana', 'tech', 'technica', 'technical', 'technically', 'technique', 'techniques', 'technologies', 'technology', 'techs', 'teddy', 'tedious', 'tee', 'teen', 'teenage', 'teenager', 'teenagers', 'teens', 'teensy', 'teeth', 'teething', 'teh', 'tell', 'telling', 'tells', 'temp', 'temperament', 'temperature', 'temperatures', 'tempered', 'temporary', 'tempranillo', 'temps', 'tempt', 'temptation', 'tempted', 'tempting', 'tempura', 'tend', 'tendancy', 'tendencies', 'tendency', 'tender', 'tenderizer', 'tenders', 'tendon', 'tends', 'tener', 'tension', 'tent', 'tentacle', 'tenth', 'tents', 'tepid', 'tequila', 'teriyaki', 'term', 'terminals', 'terms', 'terra', 'terrible', 'terribly', 'terrier', 'terriers', 'terrific', 'terrior', 'terroir', 'tes', 'test', 'tested', 'tester', 'testing', 'tests', 'tetleys', 'tetra', 'texas', 'text', 'texture', 'textured', 'textures', 'thai', 'thailand', 'thaks', 'thank', 'thankful', 'thankfully', 'thanking', 'thanks', 'thanksgiving', 'thanx', 'thats', 'thawed', 'thawing', 'theater', 'thee', 'theirs', 'theis', 'theme', 'themed', 'themintmovieman', 'theo', 'theobroma', 'ther', 'therapeutic', 'therapeutically', 'theres', 'theri', 'thermo', 'thesedon', 'thesse', 'theyre', 'thi9s', 'thia', 'thiamin', 'thicken', 'thickened', 'thickeners', 'thickening', 'thicker', 'thickest', 'thickly', 'thickness', 'thier', 'thieves', 'thighs', 'thilled', 'thing', 'things', 'think', 'thinking', 'thinks', 'thinly', 'thinned', 'thinner', 'thinners', 'thinness', 'thinning', 'thins', 'thirds', 'thirst', 'thirsty', 'thirty', 'tho', 'thom', 'thomy', 'thorns', 'thorough', 'thoroughly', 'thorougly', 'thot', 'thought', 'thoughtful', 'thoughtfully', 'thoughts', 'thousand', 'thousands', 'thread', 'threw', 'thrilled', 'thrive', 'thrived', 'thrives', 'thriving', 'throat', 'throttle', 'throw', 'throwing', 'thrown', 'throws', 'thryoid', 'thsese', 'thst', 'tht', 'thumb', 'thumbs', 'thurs', 'thx', 'thyme', 'thymes', 'thyroid', 'tibetan', 'tibetin', 'tic', 'ticket', 'tickle', 'tictac', 'tictacs', 'tide', 'tidier', 'tie', 'tied', 'tier', 'tiger', 'tight', 'tightens', 'tightly', 'tiis', 'tijuana', 'tijuanaflats', 'til', 'tile', 'till', 'tillen', 'tim', 'time', 'timed', 'timeframe', 'timely', 'timer', 'times', 'timex', 'timing', 'timor', 'timothy', 'tin', 'tincture', 'tinea', 'tingle', 'tinker', 'tinkering', 'tinkyada', 'tinned', 'tins', 'tint', 'tiny', 'tip', 'tipo', 'tips', 'tire', 'tired', 'tiresome', 'tis', 'tissues', 'titan', 'title', 'titled', 'tj', 'tm', 'tmi', 'tn', 'toast', 'toasted', 'toaster', 'toasting', 'toasts', 'todate', 'today', 'toddler', 'toddlers', 'toe', 'toes', 'toffees', 'toffifay', 'tofu', 'togethers', 'toilet', 'told', 'tolerable', 'tolerablel', 'tolerance', 'tolerant', 'tolerate', 'tolerated', 'tolerates', 'toll', 'tom', 'tomato', 'tomatoe', 'tomatoes', 'tomatos', 'tomorrow', 'ton', 'tonal', 'tone', 'tones', 'tong', 'tongue', 'tonic', 'tonight', 'tons', 'tony', 'took', 'tool', 'tooth', 'toothache', 'toothpick', 'toothpicks', 'tootsie', 'toped', 'topic', 'topped', 'topper', 'toppers', 'toppin', 'topping', 'toppings', 'tops', 'torani', 'torched', 'tore', 'tormented', 'torn', 'tortilla', 'tortillas', 'torula', 'toslink', 'toss', 'tossed', 'tossing', 'tostadas', 'toster', 'tot', 'total', 'totaled', 'totality', 'totally', 'totaly', 'tote', 'touch', 'touched', 'touching', 'touchy', 'tough', 'tounge', 'tourist', 'tout', 'touted', 'towel', 'towels', 'tower', 'town', 'towns', 'toxic', 'toxicology', 'toxin', 'toxins', 'toy', 'toys', 'trace', 'traces', 'track', 'tracked', 'tracking', 'tract', 'tracts', 'trade', 'trademark', 'trader', 'trading', 'tradition', 'traditional', 'traffic', 'trail', 'trailed', 'trailer', 'train', 'trained', 'trainer', 'training', 'trang', 'trans', 'transaction', 'transfats', 'transfer', 'transferring', 'transformed', 'transformer', 'transit', 'transition', 'transitioning', 'translates', 'transparency', 'transparent', 'transplant', 'transplanted', 'transport', 'transported', 'transports', 'trap', 'trapped', 'traps', 'trash', 'trashing', 'travel', 'traveled', 'traveling', 'travels', 'tray', 'trays', 'tread', 'treadmill', 'treat', 'treated', 'treaters', 'treating', 'treatment', 'treatments', 'treats', 'tree', 'trees', 'trek', 'tremendous', 'tremendously', 'trend', 'trendl', 'trendy', 'tres', 'tri', 'trial', 'trialing', 'triangle', 'tribute', 'trick', 'tricked', 'tricks', 'tricky', 'trident', 'tried', 'tries', 'triffle', 'trifle', 'trifles', 'trigger', 'triggered', 'triggers', 'triglycerides', 'trigylcerides', 'trim', 'trimming', 'trio', 'trip', 'triple', 'triplets', 'trips', 'trish', 'tropical', 'trot', 'trouble', 'troubled', 'troubles', 'troubleshooting', 'trout', 'trubar', 'truck', 'trucks', 'true', 'truely', 'truffle', 'truffles', 'truley', 'trully', 'truly', 'trumpet', 'trust', 'trusted', 'truth', 'truthful', 'truthfully', 'truvia', 'try', 'tryed', 'trying', 'tsp', 'tu', 'tub', 'tube', 'tubers', 'tubes', 'tubs', 'tuck', 'tuesday', 'tulear', 'tully', 'tullys', 'tulsa', 'tumbler', 'tummies', 'tummy', 'tumor', 'tuna', 'tune', 'tuned', 'tupperware', 'turbinado', 'turbo', 'turducken', 'turkey', 'turmeric', 'turn', 'turned', 'turning', 'turnpike', 'turnpikes', 'turns', 'turtle', 'tuscan', 'tuscany', 'tuve', 'tv', 'twang', 'tweak', 'tweaked', 'tweek', 'tweleve', 'twice', 'twigs', 'twin', 'twinings', 'twinkies', 'twinnings', 'twins', 'twist', 'twisting', 'twists', 'twitter', 'twizzler', 'twizzlers', 'twos', 'tx', 'tying', 'tylenol', 'type', 'typed', 'types', 'typical', 'typically', 'tzu', 'tzus', 'uacute', 'ubiquitous', 'ues', 'ugh', 'ugly', 'uh', 'uk', 'ukrops', 'ulcer', 'ultimate', 'ultimately', 'ultra', 'ultramix', 'um', 'umami', 'umm', 'ummm', 'ummmmm', 'una', 'unable', 'unacceptable', 'unadulterated', 'unadultered', 'unaltered', 'unanimous', 'unanimously', 'unannounced', 'unanswered', 'unappealing', 'unappetizing', 'unattended', 'unavailable', 'unaware', 'unbaked', 'unbearable', 'unbearably', 'unbeatable', 'unbelievable', 'unbelievably', 'unbiased', 'unblemished', 'unboxing', 'unbrittle', 'unbroken', 'uncertain', 'unchanged', 'uncle', 'uncontrollable', 'unconventional', 'uncooked', 'uncracked', 'und', 'undamaged', 'undefinable', 'underestimated', 'undergo', 'underground', 'underhanded', 'underneath', 'underneaths', 'understand', 'understandable', 'understated', 'understatement', 'understood', 'undertone', 'underweight', 'underwhelming', 'undesirable', 'undetectable', 'undigested', 'undigestible', 'undissolved', 'undon', 'undoubtedly', 'undrinkable', 'undulations', 'uneaten', 'unedible', 'uneducated', 'unenhanced', 'unethical', 'uneven', 'unexpected', 'unexpectedly', 'unexplained', 'unfailingly', 'unfair', 'unfairly', 'unfavorable', 'unfinished', 'unfit', 'unflavored', 'unformed', 'unfortnately', 'unfortunate', 'unfortunately', 'unfortunatley', 'unfortunatly', 'unfriendly', 'unfurl', 'unhappy', 'unhealthier', 'unhealthy', 'uniform', 'uniformity', 'unify', 'uninspiring', 'uninstall', 'uninstalling', 'uninterested', 'uninvigorating', 'unique', 'uniquely', 'unit', 'united', 'units', 'universal', 'universe', 'unknown', 'unlemoned', 'unless', 'unlike', 'unlikely', 'unlined', 'unloaded', 'unloading', 'unmarked', 'unmeasured', 'unmistakable', 'unmixed', 'unnatural', 'unnecessary', 'uno', 'unoaked', 'unofficial', 'unopened', 'unpacking', 'unpalatable', 'unparalleled', 'unplanned', 'unpleasant', 'unpleasantly', 'unpleasantness', 'unplug', 'unpopped', 'unpredictable', 'unprofitable', 'unreal', 'unrealistic', 'unrelated', 'unreliable', 'unrelieved', 'unremarkable', 'unroasted', 'unroll', 'unsafe', 'unsalted', 'unsatiated', 'unsatisfactorily', 'unsatisfactory', 'unsatisfying', 'unscrewed', 'unscrupulous', 'unsealed', 'unshelled', 'unshielded', 'unstick', 'unsubscribe', 'unsulfured', 'unsure', 'unsuspecting', 'unsweeted', 'unsweetened', 'untested', 'untill', 'unto', 'untypically', 'unusable', 'unused', 'unusual', 'unusually', 'unwanted', 'unwieldy', 'unwind', 'unwittingly', 'unworkable', 'unwrap', 'unwrapping', 'upc', 'upcoming', 'update', 'updated', 'updates', 'updating', 'upgraded', 'uplift', 'uplifting', 'uploading', 'upped', 'upper', 'ups', 'upsacale', 'upscale', 'upset', 'upsets', 'upsetting', 'upside', 'upstate', 'ur', 'uranium', 'urge', 'urges', 'uri', 'urina', 'urinary', 'urinate', 'urinating', 'urine', 'urologist', 'usa', 'usable', 'usage', 'usb', 'use', 'used', 'useful', 'usefull', 'usefulness', 'useing', 'useless', 'user', 'users', 'uses', 'using', 'usps', 'ustream', 'usual', 'usually', 'usukuchi', 'ut', 'utf8', 'uti', 'utilize', 'utilized', 'utilizing', 'utmost', 'utter', 'utterly', 'utz', 'uwajimaya', 'v8', 'vacation', 'vacationing', 'vaccine', 'vacuum', 'vacuumed', 'vacuuming', 'vague', 'vaguely', 'vainly', 'valdez', 'valentine', 'valid', 'valley', 'valuable', 'valuables', 'value', 'valuepetsupplies', 'values', 'valve', 'van', 'vance', 'vanilla', 'vanishing', 'variation', 'variations', 'varied', 'varieties', 'variety', 'various', 'varities', 'varity', 'vary', 'varying', 'vase', 'vases', 'vast', 'vcs', 've', 'veg', 'vegaline', 'vegan', 'vegans', 'vegas', 'vege', 'veges', 'vegetable', 'vegetables', 'vegetal', 'vegetarian', 'vegetation', 'veggie', 'veggies', 'vegies', 'vehicle', 'velvet', 'velvety', 'ven', 'vend', 'venders', 'vending', 'vendor', 'vendors', 'venetian', 'venison', 'vents', 'venture', 'verbally', 'verde', 'verdict', 'verified', 'verify', 'veritable', 'verities', 'vermin', 'vermont', 'vernor', 'vernors', 'verona', 'verrrrry', 'verrryyy', 'versa', 'versatile', 'versatility', 'versicolor', 'version', 'versions', 'versital', 'versitile', 'verson', 'versus', 'veryasia', 'vestal', 'vet', 'veterinarian', 'veterinarians', 'veterinary', 'veteriniarian', 'vets', 'vey', 'vfw', 'viable', 'vial', 'vials', 'vibrant', 'vice', 'vicks', 'vicky', 'vico', 'victims', 'victor', 'victoria', 'vidalya', 'video', 'videos', 'vietnam', 'view', 'viewers', 'vigor', 'viki', 'vile', 'village', 'vinager', 'vinci', 'vine', 'vinegar', 'vinegars', 'vinegary', 'vines', 'vineyard', 'vinger', 'vinigary', 'vino', 'vintage', 'vinyl', 'viola', 'violet', 'viral', 'virgil', 'virgin', 'virginflo', 'virginia', 'virtually', 'visably', 'viscosity', 'visit', 'visited', 'visiting', 'visitors', 'visits', 'vista', 'visual', 'visualize', 'visually', 'vit', 'vita', 'vitacoco', 'vitagravy', 'vitakraft', 'vital', 'vitalicious', 'vitality', 'vitamin', 'vitamins', 'vitamix', 'vitamuffins', 'viva', 'vivid', 'vocal', 'vocally', 'vocals', 'vodka', 'voice', 'void', 'voila', 'volcanic', 'voltages', 'volume', 'volumes', 'volunteered', 'vomit', 'vomited', 'vomiting', 'vomits', 'vor', 'voraciously', 'vote', 'voted', 'votes', 'voting', 'vouch', 'voyage', 'vpi', 'vs', 'wa', 'waaaay', 'wabash', 'wad', 'wafer', 'wafers', 'waffle', 'waffles', 'wag', 'wagging', 'wagyu', 'wah', 'wait', 'waited', 'waiting', 'waitress', 'waits', 'wake', 'wakeful', 'wakes', 'waking', 'wal', 'walgreens', 'walk', 'walked', 'walker', 'walkers', 'walkerwood', 'walking', 'walks', 'wall', 'wallet', 'wallhangers', 'wallmart', 'wallpaper', 'walmart', 'walnut', 'walnuts', 'walsh', 'walt', 'wanderers', 'wanes', 'wanna', 'want', 'wanted', 'wanting', 'wantned', 'wants', 'waowi', 'ward', 'wardrobe', 'warehouse', 'warehouses', 'waring', 'warm', 'warmed', 'warmer', 'warming', 'warms', 'warmth', 'warn', 'warned', 'warner', 'warning', 'warnings', 'warped', 'warrant', 'warranty', 'warren', 'wart', 'wary', 'wasa', 'wasabi', 'wash', 'washed', 'washes', 'washing', 'washington', 'washy', 'wasn', 'wasnt', 'waste', 'wasted', 'wasteful', 'wasting', 'watch', 'watched', 'watcher', 'watchers', 'watching', 'water', 'watercress', 'watered', 'watering', 'wateringly', 'waterlogged', 'watermelon', 'waters', 'watery', 'watson', 'watter', 'wattery', 'wave', 'waved', 'wavy', 'wax', 'waxed', 'waxy', 'way', 'wayne', 'ways', 'wayyyyyyyyyy', 'wbc30', 'weak', 'weaker', 'weaknesses', 'wealth', 'wean', 'weaned', 'weaning', 'wear', 'wearer', 'wearing', 'wears', 'weather', 'weatherly', 'weaver', 'weavers', 'web', 'webinars', 'webpage', 'website', 'websites', 'wedding', 'wee', 'weeds', 'week', 'weekday', 'weekend', 'weekends', 'weekly', 'weeks', 'weened', 'weep', 'wegman', 'wegmans', 'wei', 'weigh', 'weighed', 'weighing', 'weighs', 'weight', 'weighted', 'weightly', 'weights', 'weightwatcher', 'weird', 'weirdly', 'welcome', 'welcomed', 'welcomes', 'wellness', 'wells', 'welsh', 'wendell', 'went', 'weren', 'werther', 'werthers', 'west', 'western', 'westies', 'weston', 'wet', 'wetland', 'wetted', 'whacked', 'whammy', 'whats', 'whatsoever', 'wheat', 'wheaten', 'wheatfree', 'wheatgrass', 'wheel', 'whet', 'whew', 'whey', 'whichever', 'whih', 'whilst', 'whim', 'whimper', 'whimpering', 'whimpy', 'whining', 'whip', 'whipped', 'whipping', 'whirl', 'whirley', 'whirly', 'whirlypop', 'whisk', 'whisked', 'whistle', 'white', 'whitening', 'whites', 'whitish', 'whitman', 'wholegrain', 'wholesale', 'wholesome', 'whonu', 'whoohoo', 'whooping', 'whopping', 'wide', 'widely', 'wider', 'width', 'wierd', 'wife', 'wifey', 'wiff', 'wiggle', 'wii', 'wikipedia', 'wild', 'wilds', 'wile', 'williams', 'willing', 'willingly', 'willy', 'wilted', 'wilton', 'wimp', 'wimpy', 'win', 'win7', 'wind', 'winding', 'window', 'window7', 'windows', 'windows7', 'windowsxp', 'wine', 'wined', 'winery', 'wines', 'winey', 'wing', 'wingaling', 'wings', 'winner', 'winning', 'wins', 'winter', 'wintergreen', 'wintergreens', 'wioll', 'wipe', 'wipes', 'wire', 'wirehair', 'wires', 'wisconsin', 'wisdom', 'wise', 'wisely', 'wish', 'wished', 'wishes', 'wishy', 'wit', 'witch', 'withdrawal', 'withdrawals', 'withstand', 'withstood', 'wizard', 'wk', 'wmk300a', 'wnow', 'woderful', 'woeber', 'woke', 'wold', 'wolf', 'wolfed', 'wolfgang', 'wolfhound', 'wolfing', 'wolfs', 'woman', 'women', 'won', 'wonder', 'wondered', 'wonderful', 'wonderfully', 'wondering', 'wonders', 'wonka', 'wont', 'wontons', 'woo', 'wood', 'wooden', 'woods', 'woody', 'woof', 'woofers', 'woohoo', 'woot', 'worcestershire', 'worchestershire', 'word', 'wording', 'words', 'work', 'workable', 'workdays', 'worked', 'worker', 'workers', 'working', 'workout', 'workouts', 'workplace', 'works', 'workspace', 'world', 'worlds', 'worms', 'worried', 'worries', 'worrisome', 'worry', 'worrying', 'worse', 'worsened', 'worsens', 'worst', 'worth', 'worthless', 'worthwhile', 'worthy', 'wou', 'wouldn', 'wound', 'wow', 'wowee', 'wrap', 'wrapped', 'wrapper', 'wrappers', 'wrapping', 'wraps', 'wreat', 'wreath', 'wrestle', 'wrestling', 'wrigley', 'wrigleys', 'write', 'writes', 'writing', 'written', 'wrong', 'wrote', 'wtf', 'wu', 'wuss', 'ww', 'www', 'x2', 'x2u', 'x64', 'xanthan', 'xanthum', 'xbox', 'xd', 'xi', 'xlear', 'xlr', 'xmas', 'xp', 'xtra', 'xuan', 'xylitol', 'ya', 'yadda', 'yahoo', 'yawning', 'yay', 'yayy', 'yea', 'yeah', 'year', 'yearn', 'years', 'yeast', 'yeasty', 'yeck', 'yeh', 'yelling', 'yellow', 'yellowish', 'yelp', 'yep', 'yerba', 'yerbas', 'yes', 'yester', 'yesterday', 'yesterdy', 'yesteryear', 'yeti', 'yi', 'yield', 'yields', 'yike', 'yikes', 'yinzhen', 'yo', 'yoga', 'yogert', 'yogi', 'yogurt', 'yogurts', 'yokes', 'yoki', 'yolk', 'yolks', 'york', 'yorkie', 'yorkiepoo', 'yorkies', 'youch', 'youd', 'youll', 'young', 'younger', 'youngest', 'yourelf', 'youself', 'youtube', 'yr', 'yrs', 'yu', 'yuban', 'yuck', 'yucky', 'yuk', 'yum', 'yumm', 'yummier', 'yummiest', 'yumminess', 'yummmm', 'yummmmmm', 'yummy', 'yummyness', 'yummys', 'yunnan', 'yup', 'yuuuummmmmmyyyy', 'zack', 'zap', 'zapp', 'zareba', 'zeal', 'zealand', 'zen', 'zero', 'zest', 'zesty', 'zevia', 'zico', 'zin', 'zinc', 'zinfandels', 'zing', 'zip', 'ziplock', 'zipper', 'zippy', 'zito', 'zojirushi', 'zola', 'zomg', 'zon', 'zoo', 'zucchini', 'zupas', 'zuppa', 'ît']\n"
     ]
    }
   ],
   "source": [
    "print(\"Print some features\",count_vector.get_feature_names())"
   ]
  },
  {
   "cell_type": "code",
   "execution_count": 46,
   "id": "48a288fe",
   "metadata": {},
   "outputs": [],
   "source": [
    "final_counts=count_vector.transform(final[\"Text\"])"
   ]
  },
  {
   "cell_type": "code",
   "execution_count": 48,
   "id": "21b8ca76",
   "metadata": {},
   "outputs": [
    {
     "data": {
      "text/plain": [
       "(4986, 13217)"
      ]
     },
     "execution_count": 48,
     "metadata": {},
     "output_type": "execute_result"
    }
   ],
   "source": [
    "final_counts.shape"
   ]
  },
  {
   "cell_type": "code",
   "execution_count": 65,
   "id": "b8b18e13",
   "metadata": {},
   "outputs": [],
   "source": [
    "bi_gram=CountVectorizer(ngram_range=(1,5))\n",
    "bigram_counts=bi_gram.fit_transform(final[\"Text\"])"
   ]
  },
  {
   "cell_type": "code",
   "execution_count": 66,
   "id": "af5ee167",
   "metadata": {},
   "outputs": [
    {
     "data": {
      "text/plain": [
       "(4986, 1057604)"
      ]
     },
     "execution_count": 66,
     "metadata": {},
     "output_type": "execute_result"
    }
   ],
   "source": [
    "bigram_counts.shape"
   ]
  },
  {
   "cell_type": "code",
   "execution_count": 67,
   "id": "ad79c51e",
   "metadata": {},
   "outputs": [
    {
     "data": {
      "text/plain": [
       "(4986, 1057604)"
      ]
     },
     "execution_count": 67,
     "metadata": {},
     "output_type": "execute_result"
    }
   ],
   "source": [
    "bigram_counts.get_shape()"
   ]
  },
  {
   "cell_type": "code",
   "execution_count": 72,
   "id": "98bf67ad",
   "metadata": {},
   "outputs": [],
   "source": [
    "tfid=TfidfVectorizer(ngram_range=(1,2),min_df=10)\n",
    "tfid_counts=tfid.fit_transform(final[\"Text\"])"
   ]
  },
  {
   "cell_type": "code",
   "execution_count": 73,
   "id": "6cf2f2f7",
   "metadata": {},
   "outputs": [
    {
     "data": {
      "text/plain": [
       "(4986, 6840)"
      ]
     },
     "execution_count": 73,
     "metadata": {},
     "output_type": "execute_result"
    }
   ],
   "source": [
    "tfid_counts.get_shape()"
   ]
  },
  {
   "cell_type": "code",
   "execution_count": 78,
   "id": "349e1fdb",
   "metadata": {},
   "outputs": [
    {
     "name": "stdout",
     "output_type": "stream",
     "text": [
      "['00', '10', '10 years', '100', '100 calorie', '100 calories', '11', '12', '12 oz', '13', '14', '15', '15 minutes', '16', '16 ounce', '16 oz', '17', '18', '1g', '1st', '20', '200', '2010', '2012', '24', '24 pack', '25', '2g', '2nd', '30', '36', '3rd', '40', '45', '50', '60', '60 calories', '70', '75', '80', '8oz', '90', '99', 'ability', 'able', 'able to', 'about', 'about 15', 'about half', 'about how', 'about it', 'about months', 'about my', 'about that', 'about the', 'about their', 'about them', 'about these', 'about this', 'about what', 'about year', 'about years', 'above', 'absolute', 'absolutely', 'absolutely delicious', 'absolutely love', 'absolutely no', 'according', 'according to', 'acid', 'acidic', 'acidity', 'across', 'active', 'actual', 'actually', 'actually tastes', 'add', 'add it', 'add little', 'add some', 'add the', 'add to', 'added', 'added to', 'addict', 'addicted', 'addicted to', 'addicting', 'addictive', 'adding', 'addition', 'addition to', 'additional', 'additionally', 'additives', 'adds', 'admit', 'adopted', 'adore', 'adult', 'adult dog', 'adults', 'advertised', 'afford', 'affordable', 'afraid', 'after', 'after all', 'after dinner', 'after drinking', 'after eating', 'after my', 'after reading', 'after taste', 'after the', 'after trying', 'after you', 'afternoon', 'aftertaste', 'afterwards', 'again', 'again and', 'again br', 'again but', 'again for', 'against', 'agave', 'age', 'ages', 'ago', 'ago and', 'agree', 'agree with', 'ahead', 'ahoy', 'aid', 'air', 'air tight', 'alcohol', 'all', 'all and', 'all around', 'all br', 'all but', 'all day', 'all for', 'all good', 'all have', 'all in', 'all it', 'all kinds', 'all my', 'all natural', 'all of', 'all other', 'all over', 'all that', 'all the', 'all this', 'all three', 'all very', 'allergic', 'allergic to', 'allergies', 'allergies and', 'allergy', 'allow', 'allowed', 'allows', 'almond', 'almond milk', 'almonds', 'almost', 'almost like', 'alone', 'along', 'along with', 'alot', 'alot of', 'already', 'also', 'also good', 'also great', 'also has', 'also have', 'also like', 'also love', 'also make', 'also the', 'also use', 'also very', 'alternative', 'alternative to', 'alternatives', 'although', 'although it', 'although the', 'always', 'always been', 'always have', 'am', 'am glad', 'am going', 'am happy', 'am in', 'am not', 'am on', 'am so', 'am sure', 'am very', 'amazed', 'amazing', 'amazing and', 'amazon', 'amazon and', 'amazon as', 'amazon because', 'amazon br', 'amazon but', 'amazon com', 'amazon for', 'amazon has', 'amazon is', 'amazon it', 'amazon price', 'amazon prime', 'amazon to', 'amazon was', 'american', 'among', 'amount', 'amount of', 'amounts', 'amounts of', 'an', 'an added', 'an alternative', 'an amazing', 'an easy', 'an entire', 'an excellent', 'an extra', 'an hour', 'an issue', 'an old', 'and', 'and about', 'and actually', 'and add', 'and after', 'and again', 'and all', 'and almost', 'and also', 'and always', 'and am', 'and amazon', 'and an', 'and are', 'and as', 'and at', 'and baking', 'and be', 'and because', 'and both', 'and bought', 'and brown', 'and buy', 'and came', 'and can', 'and chewy', 'and chicken', 'and chocolate', 'and could', 'and crunchy', 'and dark', 'and decided', 'and definitely', 'and delicious', 'and did', 'and didn', 'and do', 'and does', 'and doesn', 'and don', 'and drink', 'and each', 'and easy', 'and enjoy', 'and enjoyed', 'and even', 'and every', 'and everyone', 'and family', 'and feel', 'and finally', 'and find', 'and flavor', 'and flavorful', 'and fluffy', 'and for', 'and found', 'and free', 'and fresh', 'and friends', 'and full', 'and gave', 'and get', 'and give', 'and good', 'and got', 'and great', 'and had', 'and half', 'and has', 'and have', 'and haven', 'and having', 'and he', 'and healthy', 'and high', 'and highly', 'and his', 'and if', 'and in', 'and is', 'and it', 'and its', 'and just', 'and keep', 'and less', 'and let', 'and light', 'and like', 'and liked', 'and little', 'and look', 'and love', 'and loved', 'and low', 'and made', 'and make', 'and makes', 'and maybe', 'and milk', 'and more', 'and most', 'and much', 'and my', 'and natural', 'and never', 'and no', 'and not', 'and noticed', 'and now', 'and of', 'and on', 'and one', 'and onion', 'and only', 'and or', 'and order', 'and ordered', 'and other', 'and our', 'and pepper', 'and plan', 'and price', 'and put', 'and quality', 'and really', 'and rice', 'and rich', 'and salt', 'and save', 'and see', 'and she', 'and since', 'and slightly', 'and smooth', 'and so', 'and some', 'and sour', 'and spicy', 'and still', 'and sugar', 'and sweet', 'and take', 'and taste', 'and tasted', 'and tastes', 'and tasty', 'and texture', 'and that', 'and the', 'and their', 'and then', 'and there', 'and these', 'and they', 'and think', 'and this', 'and thought', 'and to', 'and tried', 'and try', 'and two', 'and use', 'and used', 'and usually', 'and ve', 'and vegetables', 'and very', 'and vinegar', 'and waffle', 'and waffles', 'and wanted', 'and was', 'and we', 'and well', 'and were', 'and what', 'and when', 'and while', 'and who', 'and will', 'and with', 'and would', 'and yes', 'and you', 'and yummy', 'animal', 'animals', 'another', 'another brand', 'another reviewer', 'anti', 'antioxidants', 'any', 'any kind', 'any more', 'any of', 'any other', 'any problems', 'any type', 'anymore', 'anyone', 'anyone who', 'anything', 'anything else', 'anything like', 'anything that', 'anything you', 'anytime', 'anyway', 'anywhere', 'apart', 'apparently', 'appealing', 'appears', 'apple', 'apples', 'appreciate', 'are', 'are about', 'are absolutely', 'are all', 'are also', 'are always', 'are amazing', 'are an', 'are as', 'are awesome', 'are better', 'are bit', 'are by', 'are crisp', 'are delicious', 'are easy', 'are excellent', 'are fantastic', 'are for', 'are gluten', 'are going', 'are good', 'are great', 'are healthier', 'are healthy', 'are high', 'are in', 'are just', 'are less', 'are light', 'are little', 'are looking', 'are low', 'are made', 'are many', 'are more', 'are much', 'are my', 'are nice', 'are no', 'are not', 'are now', 'are on', 'are only', 'are organic', 'are out', 'are perfect', 'are pretty', 'are quite', 'are really', 'are small', 'are so', 'are some', 'are still', 'are super', 'are tasty', 'are the', 'are they', 'are too', 'are using', 'are very', 'are wonderful', 'area', 'aren', 'argentina', 'aroma', 'aroma and', 'aroma is', 'around', 'around and', 'around for', 'around the', 'arrive', 'arrived', 'arrived in', 'arrived on', 'artificial', 'artificial flavors', 'artificial sweetener', 'artificial sweeteners', 'as', 'as advertised', 'as am', 'as an', 'as any', 'as described', 'as did', 'as do', 'as far', 'as for', 'as gift', 'as good', 'as he', 'as if', 'as is', 'as it', 'as long', 'as much', 'as my', 'as opposed', 'as other', 'as others', 'as part', 'as possible', 'as regular', 'as snack', 'as some', 'as soon', 'as the', 'as they', 'as to', 'as we', 'as well', 'as with', 'as you', 'asian', 'aside', 'ask', 'ask for', 'asked', 'assortment', 'at', 'at all', 'at amazon', 'at an', 'at first', 'at great', 'at home', 'at how', 'at least', 'at local', 'at my', 'at night', 'at once', 'at our', 'at reasonable', 'at that', 'at the', 'at this', 'at time', 'at work', 'at your', 'ate', 'ate it', 'ate the', 'attention', 'audio', 'authentic', 'auto', 'available', 'available at', 'available for', 'available in', 'available on', 'average', 'avoid', 'aware', 'away', 'away and', 'away from', 'away the', 'awesome', 'awful', 'awhile', 'babies', 'baby', 'baby food', 'back', 'back and', 'back for', 'back in', 'back of', 'back on', 'back to', 'bacon', 'bad', 'bad batch', 'bad but', 'bad for', 'bag', 'bag and', 'bag at', 'bag but', 'bag for', 'bag in', 'bag is', 'bag it', 'bag of', 'bag or', 'bag was', 'bag with', 'bags', 'bags and', 'bags are', 'bags for', 'bags in', 'bags of', 'bags pack', 'bake', 'baked', 'baked goods', 'baker', 'bakery', 'baking', 'baking mix', 'balance', 'balance of', 'balanced', 'ball', 'balls', 'banana', 'bananas', 'bar', 'barbecue', 'barbeque', 'barely', 'bargain', 'bars', 'base', 'based', 'based on', 'basic', 'basically', 'basil', 'basis', 'basket', 'batch', 'batch of', 'batches', 'batter', 'bbq', 'be', 'be able', 'be an', 'be beat', 'be better', 'be bit', 'be buying', 'be careful', 'be disappointed', 'be found', 'be good', 'be great', 'be happy', 'be little', 'be made', 'be more', 'be much', 'be my', 'be ordering', 'be purchasing', 'be sure', 'be the', 'be too', 'be used', 'be very', 'bean', 'beans', 'beans and', 'beat', 'beat the', 'beats', 'beautiful', 'became', 'because', 'because can', 'because don', 'because have', 'because it', 'because my', 'because of', 'because she', 'because the', 'because they', 'because this', 'because we', 'become', 'bed', 'beef', 'been', 'been able', 'been buying', 'been drinking', 'been eating', 'been feeding', 'been looking', 'been on', 'been trying', 'been using', 'beer', 'before', 'before and', 'before but', 'before it', 'before the', 'before they', 'before you', 'began', 'began to', 'begin', 'beginning', 'behind', 'being', 'being able', 'being said', 'being the', 'belgian', 'believe', 'believe how', 'believe it', 'believe that', 'believe the', 'belly', 'benefit', 'benefits', 'benefits of', 'berry', 'besides', 'best', 'best and', 'best chips', 'best coffee', 'best cup', 'best for', 'best have', 'best hot', 'best it', 'best of', 'best one', 'best tasting', 'best thing', 'best ve', 'best way', 'better', 'better and', 'better br', 'better but', 'better for', 'better off', 'better tasting', 'better than', 'better the', 'better then', 'betty', 'betty crocker', 'between', 'between the', 'beverage', 'beverages', 'beware', 'beyond', 'big', 'big fan', 'big hit', 'bigger', 'bill', 'birthday', 'biscotti', 'biscuit', 'biscuits', 'biscuits and', 'bisquick', 'bisquick gluten', 'bisquick pancake', 'bit', 'bit more', 'bit of', 'bit too', 'bite', 'bites', 'bits', 'bits of', 'bitter', 'bitter aftertaste', 'bitter and', 'bitter taste', 'bitterness', 'black', 'black licorice', 'black tea', 'bland', 'blend', 'blend is', 'blend of', 'blends', 'blood', 'blood sugar', 'blue', 'blueberries', 'blueberry', 'bob', 'bob red', 'bodied', 'body', 'bold', 'bonus', 'book', 'boost', 'boot', 'boring', 'both', 'both my', 'both of', 'both the', 'bother', 'bottle', 'bottle and', 'bottle of', 'bottled', 'bottles', 'bottom', 'bottom line', 'bottom of', 'bought', 'bought it', 'bought some', 'bought the', 'bought them', 'bought these', 'bought this', 'bowl', 'bowl of', 'box', 'box and', 'box br', 'box but', 'box for', 'box is', 'box it', 'box of', 'box to', 'box was', 'box with', 'boxes', 'boxes of', 'boxes pack', 'boy', 'boyfriend', 'boys', 'br', 'br all', 'br also', 'br am', 'br amazon', 'br and', 'br as', 'br at', 'br br', 'br but', 'br can', 'br cons', 'br did', 'br do', 'br don', 'br enjoy', 'br first', 'br for', 'br great', 'br have', 'br highly', 'br however', 'br href', 'br if', 'br in', 'br it', 'br just', 'br like', 'br love', 'br my', 'br no', 'br not', 'br now', 'br of', 'br on', 'br one', 'br our', 'br overall', 'br really', 'br recommend', 'br since', 'br so', 'br thank', 'br thanks', 'br that', 'br the', 'br there', 'br these', 'br they', 'br think', 'br this', 'br to', 'br tried', 'br update', 'br ve', 'br very', 'br was', 'br we', 'br what', 'br when', 'br will', 'br with', 'br would', 'br you', 'brand', 'brand and', 'brand but', 'brand chips', 'brand is', 'brand of', 'brand potato', 'brand that', 'brands', 'brands and', 'brands but', 'brands like', 'brands of', 'brands that', 'bread', 'bread and', 'breads', 'break', 'breakfast', 'breaking', 'breath', 'breed', 'brew', 'brewed', 'brewer', 'brewers', 'brewing', 'brews', 'bright', 'bring', 'brings', 'broke', 'broken', 'brother', 'brought', 'brown', 'brown rice', 'brown sugar', 'brownie', 'brownies', 'bubble', 'bucks', 'buds', 'buffalo', 'bulk', 'bunch', 'bunch of', 'burn', 'burned', 'burnt', 'business', 'busy', 'but', 'but after', 'but all', 'but also', 'but am', 'but are', 'but as', 'but at', 'but can', 'but could', 'but did', 'but didn', 'but do', 'but don', 'but find', 'but for', 'but found', 'but good', 'but had', 'but have', 'but he', 'but if', 'but in', 'but is', 'but it', 'but just', 'but like', 'but love', 'but my', 'but no', 'but not', 'but nothing', 'but now', 'but only', 'but really', 'but she', 'but since', 'but so', 'but still', 'but that', 'but the', 'but then', 'but there', 'but these', 'but they', 'but think', 'but this', 'but thought', 'but to', 'but very', 'but was', 'but we', 'but when', 'but will', 'but with', 'but would', 'but you', 'butter', 'butter and', 'buttermilk', 'buy', 'buy again', 'buy and', 'buy from', 'buy in', 'buy it', 'buy more', 'buy the', 'buy them', 'buy these', 'buy this', 'buyer', 'buying', 'buying it', 'buying more', 'buying the', 'buying them', 'buying these', 'buying this', 'by', 'by amazon', 'by far', 'by itself', 'by the', 'by this', 'cable', 'cacao', 'cafe', 'cafe escapes', 'caffeine', 'cajun', 'cake', 'cake and', 'cake mix', 'cakes', 'cal', 'calcium', 'california', 'call', 'called', 'calls', 'calls for', 'calorie', 'calorie count', 'calorie packs', 'calories', 'calories and', 'calories per', 'came', 'came in', 'came out', 'came to', 'came up', 'came with', 'can', 'can actually', 'can add', 'can afford', 'can also', 'can and', 'can be', 'can beat', 'can believe', 'can buy', 'can do', 'can drink', 'can easily', 'can eat', 'can enjoy', 'can even', 'can find', 'can get', 'can go', 'can have', 'can imagine', 'can just', 'can make', 'can not', 'can of', 'can only', 'can really', 'can say', 'can see', 'can stop', 'can taste', 'can tell', 'can use', 'can wait', 'can you', 'candies', 'candy', 'cane', 'cane sugar', 'canned', 'canned food', 'cannot', 'canola', 'cans', 'cans of', 'cant', 'car', 'caramel', 'carb', 'carbs', 'cardboard', 'care', 'care about', 'care for', 'careful', 'carefully', 'caribou', 'carried', 'carries', 'carrot', 'carrots', 'carry', 'carrying', 'case', 'case and', 'case of', 'cases', 'cat', 'cat food', 'cat grass', 'cats', 'cats love', 'cause', 'caused', 'celiac', 'celiac disease', 'center', 'cents', 'cents per', 'cereal', 'certain', 'certainly', 'certified', 'chance', 'chance to', 'change', 'change the', 'changed', 'changed the', 'changing', 'charge', 'charges', 'cheap', 'cheap and', 'cheaper', 'cheaper and', 'cheaper than', 'cheapest', 'check', 'checked', 'cheddar', 'cheese', 'cheese and', 'chemical', 'chemicals', 'cherry', 'chew', 'chewing', 'chewy', 'chicken', 'chicken and', 'child', 'childhood', 'children', 'chili', 'chili sauce', 'china', 'chinese', 'chip', 'chip and', 'chip but', 'chip cookies', 'chips', 'chips ahoy', 'chips and', 'chips are', 'chips as', 'chips br', 'chips but', 'chips for', 'chips from', 'chips have', 'chips in', 'chips is', 'chips that', 'chips the', 'chips they', 'chips ve', 'chips were', 'chips you', 'chocolate', 'chocolate and', 'chocolate but', 'chocolate chip', 'chocolate chips', 'chocolate cups', 'chocolate flavor', 'chocolate for', 'chocolate in', 'chocolate is', 'chocolate the', 'chocolates', 'chocolatey', 'chocolaty', 'choice', 'choice for', 'choices', 'choke', 'cholesterol', 'choose', 'chopped', 'chose', 'chowder', 'christmas', 'chunks', 'chunks of', 'cilantro', 'cinnamon', 'cinnamon and', 'city', 'claim', 'claims', 'clam', 'clam chowder', 'clams', 'class', 'classic', 'clean', 'clean and', 'clean up', 'clear', 'clearly', 'close', 'close to', 'closed', 'closer', 'closer to', 'closest', 'co', 'coat', 'coat is', 'coated', 'coating', 'coats', 'coats are', 'cocker', 'coco', 'cocoa', 'cocoa and', 'cocoa cups', 'cocoa is', 'coconut', 'coconut oil', 'coconut water', 'coffee', 'coffee and', 'coffee br', 'coffee but', 'coffee drinker', 'coffee flavor', 'coffee for', 'coffee had', 'coffee has', 'coffee have', 'coffee in', 'coffee is', 'coffee it', 'coffee maker', 'coffee or', 'coffee that', 'coffee this', 'coffee to', 'coffee ve', 'coffee was', 'coffee we', 'coffee with', 'coffees', 'cold', 'cold water', 'collection', 'color', 'color and', 'colored', 'colors', 'com', 'com gp', 'combination', 'combination of', 'combined', 'combo', 'come', 'come in', 'come out', 'come to', 'comes', 'comes from', 'comes in', 'comes out', 'comes to', 'comes with', 'coming', 'comment', 'commented', 'comments', 'commercial', 'common', 'community', 'companies', 'company', 'company that', 'comparable', 'compare', 'compare to', 'compared', 'compared to', 'comparison', 'complain', 'complained', 'complaint', 'complaint is', 'complaints', 'complete', 'completely', 'computer', 'concentrate', 'concerned', 'concerns', 'condenser', 'condition', 'cons', 'consider', 'considered', 'considering', 'considering the', 'consistency', 'consistent', 'consistently', 'constantly', 'consume', 'consumed', 'consumer', 'consuming', 'consumption', 'contact', 'contacted', 'contain', 'contained', 'container', 'containers', 'containing', 'contains', 'content', 'contents', 'continue', 'continue to', 'control', 'convenience', 'convenience of', 'convenient', 'convenient and', 'cook', 'cooked', 'cooked in', 'cookie', 'cookies', 'cookies and', 'cookies are', 'cookies were', 'cooking', 'cooks', 'cool', 'corn', 'corn syrup', 'corner', 'cost', 'cost of', 'costco', 'costs', 'could', 'could be', 'could buy', 'could find', 'could get', 'could have', 'could not', 'could only', 'couldn', 'couldn believe', 'couldn find', 'count', 'counter', 'country', 'couple', 'couple of', 'coupon', 'course', 'course it', 'cover', 'covered', 'cracked', 'cracker', 'crackers', 'crap', 'craving', 'cravings', 'crazy', 'crazy about', 'cream', 'cream and', 'creamer', 'creamy', 'creamy and', 'create', 'crisp', 'crisp and', 'crisps', 'crispy', 'crocker', 'crumble', 'crumbly', 'crumbs', 'crunch', 'crunch and', 'crunchy', 'crunchy and', 'crust', 'cubes', 'cup', 'cup and', 'cup hot', 'cup of', 'cup setting', 'cup size', 'cups', 'cups and', 'cups are', 'cups for', 'cups of', 'current', 'currently', 'customer', 'customer service', 'customers', 'cut', 'cute', 'cutting', 'dad', 'daily', 'dairy', 'dairy free', 'damage', 'damaged', 'dark', 'dark chocolate', 'dark roast', 'darker', 'date', 'dates', 'daughter', 'daughter and', 'daughter loves', 'day', 'day and', 'day br', 'day it', 'days', 'days and', 'de', 'dead', 'deal', 'deal for', 'deal with', 'death', 'decaf', 'decaf coffee', 'decaffeinated', 'decent', 'decide', 'decided', 'decided to', 'decision', 'deep', 'definately', 'definitely', 'definitely be', 'definitely buy', 'definitely not', 'definitely recommend', 'definitely the', 'definitely will', 'delicate', 'delicious', 'delicious and', 'delicious as', 'delicious br', 'delicious but', 'delicious it', 'delicious the', 'delight', 'delighted', 'delighted to', 'delightful', 'delivered', 'delivered to', 'delivery', 'delivery was', 'dense', 'dented', 'depending', 'depending on', 'describe', 'described', 'description', 'design', 'designed', 'desk', 'despite', 'despite the', 'dessert', 'device', 'diabetic', 'diagnosed', 'diagnosed with', 'diamond', 'diarrhea', 'did', 'did not', 'did the', 'didn', 'didn even', 'didn have', 'didn like', 'didn work', 'didnt', 'die', 'diet', 'diet and', 'dietary', 'difference', 'difference between', 'difference in', 'different', 'different brands', 'different flavors', 'different than', 'difficult', 'difficult to', 'digest', 'digestive', 'dijon', 'dinner', 'dinners', 'dip', 'dipping', 'directions', 'directly', 'directly from', 'dirty', 'disappointed', 'disappointed in', 'disappointed with', 'disappointing', 'disappointment', 'discontinued', 'discount', 'discover', 'discovered', 'discovered that', 'discovered this', 'disease', 'disgusting', 'dish', 'dishes', 'dislike', 'dissapointed', 'dissolve', 'dissolves', 'distinct', 'do', 'do anything', 'do have', 'do it', 'do like', 'do not', 'do so', 'do that', 'do the', 'do this', 'do with', 'do you', 'doctor', 'does', 'does have', 'does it', 'does not', 'doesn', 'doesn have', 'doesn like', 'doesn seem', 'doesn taste', 'dog', 'dog and', 'dog food', 'dog foods', 'dog has', 'dog is', 'dog loves', 'dogs', 'dogs and', 'dogs like', 'dogs love', 'doing', 'dollar', 'dollars', 'don', 'don buy', 'don care', 'don drink', 'don eat', 'don even', 'don feel', 'don get', 'don have', 'don know', 'don like', 'don mind', 'don need', 'don really', 'don taste', 'don think', 'don use', 'don want', 'done', 'dont', 'door', 'double', 'doubt', 'dough', 'down', 'down and', 'down the', 'down to', 'down with', 'downside', 'dr', 'drank', 'drawback', 'dressing', 'dressings', 'dried', 'drink', 'drink coffee', 'drink is', 'drink it', 'drink the', 'drink this', 'drinker', 'drinkers', 'drinking', 'drinking it', 'drinking this', 'drinks', 'drip', 'drive', 'drop', 'drops', 'dry', 'dry and', 'dry food', 'due', 'due to', 'dumplings', 'dunkin', 'during', 'during the', 'dust', 'each', 'each bag', 'each of', 'each time', 'earlier', 'early', 'earth', 'earth best', 'ease', 'easier', 'easier to', 'easily', 'easy', 'easy and', 'easy to', 'eat', 'eat and', 'eat anything', 'eat healthy', 'eat it', 'eat the', 'eat them', 'eat these', 'eat this', 'eaten', 'eater', 'eaters', 'eating', 'eating it', 'eating the', 'eating them', 'eating these', 'eating this', 'eats', 'economical', 'edible', 'effect', 'effective', 'effects', 'effort', 'egg', 'eggs', 'eggs and', 'either', 'electrolytes', 'else', 'else to', 'elsewhere', 'em', 'email', 'empty', 'end', 'end of', 'end up', 'ended', 'ended up', 'energy', 'energy and', 'england', 'english', 'enjoy', 'enjoy it', 'enjoy the', 'enjoy them', 'enjoy these', 'enjoy this', 'enjoyable', 'enjoyed', 'enjoyed it', 'enjoying', 'enjoys', 'enough', 'enough for', 'enough of', 'enough that', 'enough to', 'entire', 'entirely', 'equal', 'equally', 'escapes', 'especially', 'especially for', 'especially if', 'especially when', 'espresso', 'etc', 'europe', 'european', 'even', 'even better', 'even if', 'even more', 'even my', 'even on', 'even the', 'even though', 'even when', 'even with', 'evening', 'eventually', 'ever', 'ever eaten', 'ever had', 'ever since', 'ever tasted', 'ever tried', 'ever used', 'every', 'every day', 'every month', 'every morning', 'every other', 'every penny', 'every single', 'every time', 'everyday', 'everyone', 'everyone in', 'everything', 'everywhere', 'exact', 'exactly', 'exactly like', 'exactly what', 'example', 'excellent', 'excellent and', 'excellent product', 'except', 'except for', 'exceptional', 'excited', 'excited to', 'exotic', 'expect', 'expect from', 'expectations', 'expected', 'expecting', 'expensive', 'expensive and', 'expensive brands', 'expensive but', 'expensive than', 'experience', 'experience with', 'experienced', 'expiration', 'expiration date', 'expired', 'extra', 'extract', 'extremely', 'eye', 'eyes', 'fabulous', 'face', 'fact', 'fact that', 'fair', 'fairly', 'fake', 'fall', 'family', 'family and', 'family loves', 'fan', 'fan of', 'fancy', 'fans', 'fantastic', 'far', 'far as', 'far the', 'farms', 'fast', 'fast and', 'fast shipping', 'faster', 'fat', 'fat and', 'fat free', 'father', 'fats', 'fattening', 'favor', 'favorite', 'favorite and', 'favorite flavor', 'favorite is', 'favorite of', 'favorites', 'favors', 'fed', 'feed', 'feed my', 'feed them', 'feeding', 'feeding her', 'feel', 'feel better', 'feel good', 'feel like', 'feeling', 'feels', 'felidae', 'fell', 'fell in', 'felt', 'felt like', 'few', 'few days', 'few months', 'few of', 'few times', 'few weeks', 'few years', 'fewer', 'fiber', 'figure', 'figure out', 'figured', 'fill', 'filled', 'filled with', 'fillers', 'filling', 'finally', 'finally found', 'find', 'find at', 'find in', 'find it', 'find out', 'find that', 'find the', 'find them', 'find these', 'find this', 'finding', 'fine', 'fine and', 'fine but', 'fine for', 'fingers', 'finish', 'finished', 'firm', 'first', 'first and', 'first bag', 'first but', 'first ingredient', 'first of', 'first one', 'first time', 'first tried', 'fish', 'fit', 'fits', 'five', 'five stars', 'fix', 'flakes', 'flat', 'flavor', 'flavor and', 'flavor at', 'flavor br', 'flavor but', 'flavor in', 'flavor is', 'flavor it', 'flavor like', 'flavor not', 'flavor of', 'flavor than', 'flavor that', 'flavor the', 'flavor they', 'flavor to', 'flavor was', 'flavor which', 'flavor with', 'flavored', 'flavorful', 'flavorful and', 'flavoring', 'flavorings', 'flavors', 'flavors and', 'flavors are', 'flavors br', 'flavors but', 'flavors in', 'flavors of', 'flavors that', 'flavors were', 'flax', 'flax seed', 'floor', 'flour', 'flour and', 'fluffy', 'fluffy and', 'folks', 'follow', 'followed', 'followed by', 'following', 'food', 'food allergies', 'food and', 'food br', 'food but', 'food for', 'food have', 'food he', 'food in', 'food is', 'food it', 'food items', 'food my', 'food she', 'food store', 'food stores', 'food that', 'food the', 'food to', 'food was', 'food we', 'food with', 'foods', 'foods and', 'foods but', 'foods that', 'for', 'for about', 'for all', 'for almost', 'for an', 'for any', 'for anyone', 'for both', 'for breakfast', 'for christmas', 'for coffee', 'for cooking', 'for couple', 'for dinner', 'for every', 'for everyone', 'for example', 'for few', 'for flavor', 'for good', 'for great', 'for healthy', 'for her', 'for him', 'for his', 'for hot', 'for it', 'for keurig', 'for less', 'for little', 'for long', 'for lunch', 'for making', 'for many', 'for me', 'for months', 'for more', 'for my', 'for myself', 'for now', 'for one', 'for other', 'for our', 'for over', 'for pancakes', 'for people', 'for several', 'for shipping', 'for so', 'for some', 'for someone', 'for something', 'for sure', 'for that', 'for the', 'for their', 'for them', 'for these', 'for this', 'for those', 'for two', 'for us', 'for very', 'for what', 'for when', 'for while', 'for years', 'for you', 'for your', 'for yourself', 'forever', 'forget', 'forgot', 'form', 'formula', 'forward', 'forward to', 'found', 'found in', 'found it', 'found out', 'found that', 'found the', 'found them', 'found these', 'found this', 'four', 'fragile', 'free', 'free and', 'free bisquick', 'free diet', 'free foods', 'free for', 'free product', 'free products', 'free shipping', 'freeze', 'freezer', 'french', 'french roast', 'frequently', 'fresh', 'fresh and', 'fresh for', 'fresher', 'freshness', 'fridge', 'fried', 'friend', 'friendly', 'friends', 'friends and', 'from', 'from amazon', 'from my', 'from now', 'from scratch', 'from the', 'from them', 'from these', 'from this', 'from your', 'front', 'front of', 'frosting', 'frozen', 'fructose', 'fructose corn', 'fruit', 'fruit and', 'fruits', 'fruits and', 'fruity', 'full', 'full bodied', 'full of', 'fully', 'fun', 'fun to', 'funny', 'fur', 'further', 'future', 'gain', 'gallon', 'game', 'garbage', 'garlic', 'gas', 'gatorade', 'gave', 'gave it', 'gave me', 'gave this', 'general', 'generally', 'german', 'get', 'get at', 'get better', 'get enough', 'get from', 'get in', 'get it', 'get lot', 'get me', 'get more', 'get my', 'get the', 'get them', 'get these', 'get this', 'get to', 'get your', 'gets', 'getting', 'getting the', 'gevalia', 'gf', 'gf bisquick', 'gift', 'gift and', 'gift for', 'gifts', 'ginger', 'gingerbread', 'girl', 'girlfriend', 'give', 'give it', 'give me', 'give the', 'give them', 'give these', 'give this', 'give up', 'give you', 'given', 'given it', 'gives', 'gives me', 'gives you', 'giving', 'glad', 'glad found', 'glad that', 'glad to', 'glass', 'glass of', 'gluten', 'gluten free', 'gluten intolerant', 'go', 'go ahead', 'go back', 'go for', 'go through', 'go to', 'go with', 'go wrong', 'goes', 'goes long', 'going', 'going to', 'gold', 'golden', 'gone', 'good', 'good about', 'good and', 'good as', 'good at', 'good br', 'good but', 'good buy', 'good coffee', 'good condition', 'good cup', 'good deal', 'good flavor', 'good for', 'good hot', 'good idea', 'good in', 'good it', 'good job', 'good my', 'good on', 'good price', 'good product', 'good quality', 'good reviews', 'good snack', 'good stuff', 'good taste', 'good tasting', 'good that', 'good the', 'good they', 'good thing', 'good this', 'good to', 'good too', 'good value', 'good with', 'goodness', 'goods', 'google', 'got', 'got it', 'got my', 'got the', 'got these', 'got this', 'got to', 'gotten', 'gourmet', 'gp', 'gp product', 'grab', 'grade', 'graham', 'grain', 'grain free', 'grains', 'grainy', 'grams', 'grams of', 'grandson', 'granted', 'grape', 'grass', 'gravy', 'grease', 'greasy', 'great', 'great alternative', 'great and', 'great because', 'great br', 'great but', 'great buy', 'great coffee', 'great deal', 'great flavor', 'great for', 'great gift', 'great if', 'great in', 'great it', 'great my', 'great on', 'great price', 'great product', 'great snack', 'great stuff', 'great taste', 'great tasting', 'great the', 'great they', 'great to', 'great too', 'great value', 'great way', 'great with', 'greatest', 'green', 'green mountain', 'green tea', 'grew', 'grew up', 'grey', 'grind', 'grinder', 'grinding', 'gritty', 'grocery', 'grocery store', 'grocery stores', 'gross', 'ground', 'ground coffee', 'group', 'grove', 'grove square', 'grow', 'growing', 'grown', 'guess', 'guests', 'guilt', 'guilt free', 'guilty', 'gum', 'gum is', 'guy', 'guys', 'habit', 'had', 'had an', 'had and', 'had any', 'had been', 'had in', 'had it', 'had more', 'had my', 'had never', 'had no', 'had some', 'had the', 'had them', 'had these', 'had this', 'had to', 'hair', 'half', 'half and', 'half of', 'half the', 'hand', 'handful', 'handle', 'hands', 'hands down', 'handy', 'happen', 'happened', 'happens', 'happier', 'happily', 'happy', 'happy that', 'happy to', 'happy with', 'hard', 'hard and', 'hard for', 'hard time', 'hard to', 'harder', 'hardly', 'harmony', 'harmony farms', 'has', 'has an', 'has become', 'has been', 'has changed', 'has gone', 'has good', 'has great', 'has had', 'has just', 'has more', 'has never', 'has nice', 'has no', 'has not', 'has only', 'has some', 'has the', 'has to', 'has very', 'has wonderful', 'hasn', 'hate', 'hated', 'have', 'have all', 'have also', 'have always', 'have an', 'have any', 'have been', 'have bought', 'have eaten', 'have enough', 'have ever', 'have found', 'have given', 'have good', 'have great', 'have had', 'have it', 'have just', 'have little', 'have lot', 'have made', 'have more', 'have much', 'have my', 'have never', 'have no', 'have not', 'have noticed', 'have now', 'have one', 'have ordered', 'have purchased', 'have seen', 'have some', 'have tasted', 'have that', 'have the', 'have them', 'have this', 'have time', 'have to', 'have tried', 'have two', 'have used', 'have very', 'have yet', 'haven', 'haven had', 'haven tried', 'having', 'having it', 'having to', 'hazelnut', 'he', 'he can', 'he eats', 'he had', 'he has', 'he is', 'he loved', 'he loves', 'he said', 'he was', 'he will', 'he would', 'head', 'health', 'health benefits', 'health food', 'healthier', 'healthier alternative', 'healthier and', 'healthier than', 'healthy', 'healthy alternative', 'healthy and', 'healthy for', 'heard', 'heard of', 'heart', 'hearty', 'heat', 'heat and', 'heated', 'heaven', 'heavier', 'heavily', 'heavy', 'help', 'helped', 'helpful', 'helping', 'helps', 'her', 'her favorite', 'her to', 'herb', 'herbal', 'herbs', 'here', 'here and', 'here in', 'here is', 'here on', 'here the', 'hershey', 'hey', 'high', 'high fructose', 'high in', 'high price', 'high quality', 'higher', 'highly', 'highly recommend', 'highly recommended', 'him', 'him to', 'hint', 'hint of', 'his', 'his coat', 'his food', 'hit', 'hit the', 'hit with', 'hodgson', 'hodgson mill', 'hold', 'holds', 'holes', 'holiday', 'home', 'homemade', 'honest', 'honestly', 'honey', 'honey dijon', 'hooked', 'hope', 'hope this', 'hopefully', 'hoping', 'hoping to', 'horrible', 'horses', 'hot', 'hot and', 'hot chocolate', 'hot chocolates', 'hot cocoa', 'hot or', 'hot sauce', 'hot water', 'hour', 'hours', 'house', 'household', 'how', 'how good', 'how it', 'how many', 'how much', 'how the', 'how they', 'how to', 'however', 'however it', 'however the', 'however this', 'href', 'href http', 'http', 'http www', 'hubby', 'huge', 'hulls', 'human', 'hungry', 'husband', 'husband and', 'husband loves', 'husband who', 'hydrogenated', 'iams', 'ice', 'ice cream', 'iced', 'iced tea', 'icicle', 'icing', 'idea', 'idea of', 'ideal', 'if', 'if can', 'if could', 'if had', 'if he', 'if it', 'if not', 'if that', 'if the', 'if there', 'if they', 'if this', 'if was', 'if we', 'if you', 'if your', 'im', 'imagine', 'immediately', 'important', 'important to', 'importantly', 'impossible', 'impossible to', 'impressed', 'impressed with', 'improved', 'improvement', 'in', 'in about', 'in addition', 'in all', 'in an', 'in and', 'in any', 'in both', 'in bowl', 'in box', 'in bulk', 'in calories', 'in case', 'in china', 'in coffee', 'in cup', 'in different', 'in each', 'in every', 'in fact', 'in few', 'in flavor', 'in general', 'in good', 'in great', 'in her', 'in his', 'in hot', 'in it', 'in just', 'in larger', 'in law', 'in less', 'in local', 'in love', 'in many', 'in mind', 'in my', 'in no', 'in one', 'in order', 'in other', 'in our', 'in place', 'in small', 'in some', 'in stock', 'in stores', 'in taste', 'in terms', 'in that', 'in the', 'in their', 'in them', 'in there', 'in these', 'in this', 'in timely', 'in very', 'in water', 'in while', 'in with', 'in your', 'inches', 'include', 'included', 'includes', 'including', 'increase', 'increased', 'incredible', 'incredibly', 'individual', 'individually', 'individually wrapped', 'inexpensive', 'info', 'information', 'ingredient', 'ingredient is', 'ingredient list', 'ingredients', 'ingredients and', 'ingredients are', 'ingredients br', 'ingredients in', 'ingredients that', 'initial', 'inside', 'inside the', 'instant', 'instantly', 'instead', 'instead of', 'instructions', 'intact', 'intake', 'intense', 'interested', 'interested in', 'interesting', 'internet', 'into', 'into my', 'into the', 'into your', 'intolerant', 'introduced', 'introduced to', 'iron', 'is', 'is about', 'is absolutely', 'is actually', 'is all', 'is almost', 'is also', 'is always', 'is amazing', 'is an', 'is as', 'is available', 'is awesome', 'is because', 'is best', 'is better', 'is big', 'is bit', 'is but', 'is by', 'is cheaper', 'is definitely', 'is delicious', 'is different', 'is difficult', 'is easy', 'is exactly', 'is excellent', 'is expensive', 'is fantastic', 'is far', 'is fine', 'is for', 'is full', 'is gluten', 'is going', 'is good', 'is great', 'is hard', 'is high', 'is if', 'is in', 'is it', 'is just', 'is light', 'is like', 'is little', 'is made', 'is misleading', 'is more', 'is much', 'is must', 'is my', 'is nice', 'is no', 'is not', 'is nothing', 'is now', 'is ok', 'is on', 'is one', 'is only', 'is our', 'is out', 'is perfect', 'is pretty', 'is probably', 'is quite', 'is rather', 'is really', 'is refreshing', 'is right', 'is slightly', 'is small', 'is smooth', 'is so', 'is something', 'is still', 'is strong', 'is supposed', 'is sweet', 'is tasty', 'is that', 'is the', 'is there', 'is this', 'is to', 'is too', 'is truly', 'is usually', 'is very', 'is way', 'is well', 'is what', 'is why', 'is wonderful', 'is worth', 'isn', 'issue', 'issues', 'issues with', 'it', 'it about', 'it actually', 'it after', 'it again', 'it all', 'it almost', 'it also', 'it always', 'it an', 'it and', 'it arrived', 'it as', 'it at', 'it available', 'it away', 'it back', 'it because', 'it best', 'it better', 'it bit', 'it br', 'it but', 'it by', 'it came', 'it can', 'it comes', 'it contains', 'it could', 'it definitely', 'it delicious', 'it delivered', 'it did', 'it didn', 'it does', 'it doesn', 'it down', 'it easy', 'it even', 'it every', 'it feels', 'it for', 'it from', 'it gets', 'it gives', 'it goes', 'it good', 'it got', 'it great', 'it had', 'it hard', 'it has', 'it have', 'it helps', 'it here', 'it if', 'it in', 'it into', 'it is', 'it isn', 'it it', 'it just', 'it like', 'it little', 'it looks', 'it lot', 'it love', 'it made', 'it makes', 'it may', 'it might', 'it more', 'it much', 'it must', 'it my', 'it nice', 'it no', 'it not', 'it now', 'it off', 'it on', 'it one', 'it online', 'it only', 'it or', 'it out', 'it over', 'it perfect', 'it pretty', 'it really', 'it right', 'it says', 'it seemed', 'it seems', 'it she', 'it should', 'it smells', 'it so', 'it stars', 'it still', 'it sure', 'it takes', 'it taste', 'it tasted', 'it tastes', 'it that', 'it the', 'it they', 'it this', 'it though', 'it through', 'it to', 'it too', 'it took', 'it try', 'it up', 'it very', 'it was', 'it wasn', 'it we', 'it when', 'it will', 'it with', 'it without', 'it wonderful', 'it worked', 'it works', 'it worth', 'it would', 'it you', 'italian', 'italy', 'item', 'item was', 'items', 'its', 'its great', 'its not', 'its own', 'itself', 'itself is', 'jack', 'jalapeno', 'jam', 'japan', 'japanese', 'jar', 'jars', 'jelly', 'jerky', 'job', 'joe', 'juice', 'juice and', 'juices', 'junk', 'junk food', 'just', 'just about', 'just add', 'just as', 'just be', 'just because', 'just bought', 'just can', 'just don', 'just enough', 'just for', 'just got', 'just had', 'just have', 'just like', 'just little', 'just love', 'just not', 'just one', 'just ordered', 'just perfect', 'just plain', 'just put', 'just right', 'just the', 'just to', 'just use', 'just want', 'just wish', 'kavli', 'kcup', 'keep', 'keep in', 'keep it', 'keep my', 'keep the', 'keep them', 'keep this', 'keeping', 'keeps', 'kellogg', 'kept', 'kernels', 'ketchup', 'kettle', 'kettle brand', 'kettle chips', 'keurig', 'keurig and', 'keurig coffee', 'keurig cup', 'key', 'key lime', 'kibble', 'kick', 'kid', 'kidding', 'kids', 'kids and', 'kids love', 'kind', 'kind of', 'kinda', 'kinds', 'kinds of', 'kit', 'kitchen', 'knew', 'knob', 'know', 'know how', 'know if', 'know it', 'know that', 'know the', 'know they', 'know this', 'know what', 'know why', 'knowing', 'known', 'knows', 'kona', 'kosher', 'lab', 'label', 'labels', 'lack', 'lack of', 'lacking', 'lacks', 'ladies', 'lamb', 'large', 'larger', 'last', 'last year', 'lasted', 'lasting', 'lasts', 'lasts long', 'late', 'lately', 'later', 'latest', 'law', 'lay', 'lays', 'lb', 'lb bag', 'lbs', 'leaf', 'learn', 'learned', 'least', 'least favorite', 'leave', 'leaves', 'left', 'lemon', 'lemon juice', 'lemonade', 'length', 'less', 'less expensive', 'less than', 'let', 'let it', 'let me', 'let the', 'level', 'levels', 'licorice', 'licorice and', 'licorice is', 'lid', 'life', 'light', 'light and', 'lighter', 'lightly', 'like', 'like all', 'like an', 'like and', 'like coffee', 'like eating', 'like hot', 'like it', 'like lot', 'like many', 'like me', 'like most', 'like my', 'like other', 'like real', 'like regular', 'like some', 'like that', 'like the', 'like them', 'like these', 'like they', 'like this', 'like those', 'like to', 'like was', 'like you', 'liked', 'liked it', 'liked the', 'liked them', 'liked this', 'likely', 'likes', 'likes it', 'likes the', 'likes them', 'liking', 'lime', 'lime pie', 'limit', 'limited', 'line', 'liquid', 'list', 'list of', 'listed', 'literally', 'little', 'little bit', 'little less', 'little more', 'little one', 'little over', 'little sweet', 'little too', 'live', 'live in', 'lived', 'lived in', 'liver', 'lives', 'living', 'll', 'll be', 'll buy', 'll have', 'll like', 'll see', 'loaded', 'loaded with', 'loaf', 'lobster', 'local', 'local grocery', 'local store', 'local stores', 'locally', 'lock', 'lol', 'lollipops', 'long', 'long as', 'long time', 'long way', 'longer', 'longer than', 'look', 'look at', 'look for', 'look forward', 'look like', 'looked', 'looked at', 'looked like', 'looking', 'looking at', 'looking for', 'looking forward', 'looking to', 'looks', 'looks like', 'loose', 'lose', 'loss', 'lost', 'lot', 'lot more', 'lot of', 'lots', 'lots of', 'love', 'love it', 'love popchips', 'love that', 'love the', 'love them', 'love these', 'love this', 'love to', 'love with', 'loved', 'loved it', 'loved the', 'loved them', 'loved these', 'loved this', 'lovely', 'lover', 'lovers', 'loves', 'loves it', 'loves the', 'loves them', 'loves these', 'loves this', 'loving', 'low', 'low calorie', 'low carb', 'low fat', 'low in', 'lower', 'lowest', 'luck', 'lunch', 'lunches', 'machine', 'made', 'made by', 'made from', 'made in', 'made it', 'made me', 'made of', 'made the', 'made them', 'made with', 'mahogany', 'mail', 'main', 'maintain', 'major', 'make', 'make and', 'make great', 'make it', 'make me', 'make my', 'make pancakes', 'make some', 'make sure', 'make the', 'make them', 'make these', 'make this', 'make up', 'make you', 'make your', 'maker', 'maker and', 'makes', 'makes great', 'makes it', 'makes me', 'makes the', 'makes them', 'makes you', 'making', 'making it', 'making the', 'maltodextrin', 'man', 'manage', 'mango', 'manner', 'manufactured', 'manufacturer', 'manufacturers', 'many', 'many different', 'many of', 'many other', 'many people', 'many things', 'many times', 'many years', 'maple', 'maple syrup', 'marinade', 'mark', 'market', 'markets', 'marzano', 'mass', 'match', 'matter', 'may', 'may be', 'may have', 'may not', 'maybe', 'maybe it', 'maybe the', 'mccann', 'me', 'me about', 'me and', 'me as', 'me at', 'me br', 'me but', 'me feel', 'me from', 'me in', 'me it', 'me little', 'me of', 'me that', 'me the', 'me they', 'me this', 'me to', 'meal', 'meal and', 'meals', 'mean', 'means', 'meant', 'measure', 'meat', 'meat and', 'meats', 'medium', 'meet', 'melitta', 'mellow', 'melt', 'melt in', 'melted', 'members', 'mention', 'mention that', 'mentioned', 'mess', 'messy', 'met', 'metal', 'mg', 'mic', 'microphone', 'microwave', 'mics', 'mid', 'middle', 'might', 'might be', 'might have', 'might not', 'mild', 'miles', 'milk', 'milk and', 'milk chocolate', 'milk or', 'mill', 'mind', 'mind the', 'mine', 'minerals', 'mini', 'mint', 'minute', 'minutes', 'minutes and', 'minutes to', 'misleading', 'miss', 'missed', 'missing', 'mistake', 'mix', 'mix and', 'mix as', 'mix for', 'mix in', 'mix is', 'mix it', 'mix of', 'mix that', 'mix the', 'mix this', 'mix to', 'mix with', 'mixed', 'mixed in', 'mixed with', 'mixes', 'mixes and', 'mixing', 'mixture', 'modified', 'moist', 'moist and', 'molasses', 'mom', 'money', 'money and', 'money on', 'month', 'month and', 'month old', 'monthly', 'months', 'months ago', 'months and', 'months now', 'more', 'more and', 'more but', 'more expensive', 'more for', 'more like', 'more of', 'more than', 'more the', 'more to', 'morning', 'morning and', 'mornings', 'most', 'most important', 'most of', 'most other', 'most people', 'mostly', 'mother', 'mountain', 'mouth', 'mouth and', 'move', 'moved', 'movie', 'mrs', 'msg', 'much', 'much and', 'much as', 'much better', 'much but', 'much cheaper', 'much easier', 'much for', 'much healthier', 'much it', 'much less', 'much like', 'much more', 'much of', 'much sugar', 'much that', 'much the', 'much to', 'muffin', 'muffin mix', 'muffins', 'mug', 'multiple', 'mushy', 'must', 'must be', 'must have', 'must say', 'mustard', 'my', 'my area', 'my baby', 'my body', 'my boyfriend', 'my brother', 'my cat', 'my cats', 'my coffee', 'my dad', 'my daughter', 'my desk', 'my diet', 'my dog', 'my dogs', 'my door', 'my family', 'my father', 'my favorite', 'my favorites', 'my first', 'my friends', 'my home', 'my house', 'my husband', 'my keurig', 'my kids', 'my life', 'my little', 'my local', 'my mom', 'my money', 'my mother', 'my mouth', 'my new', 'my next', 'my office', 'my old', 'my only', 'my opinion', 'my order', 'my own', 'my purchase', 'my purse', 'my review', 'my second', 'my sister', 'my son', 'my taste', 'my tea', 'my two', 'my weight', 'my whole', 'my wife', 'my year', 'myself', 'myself to', 'name', 'nasty', 'natural', 'natural and', 'natural ingredients', 'naturally', 'nature', 'near', 'nearby', 'nearly', 'nearly as', 'nectar', 'need', 'need for', 'need it', 'need to', 'needed', 'needed to', 'needless', 'needless to', 'needs', 'needs to', 'negative', 'neither', 'never', 'never been', 'never buy', 'never had', 'never have', 'never tried', 'new', 'new food', 'new to', 'new york', 'newman', 'newman own', 'newmans', 'next', 'next day', 'next time', 'nice', 'nice and', 'nice flavor', 'nice to', 'nicely', 'night', 'no', 'no artificial', 'no bitter', 'no bitterness', 'no flavor', 'no idea', 'no longer', 'no matter', 'no more', 'no one', 'no other', 'no problem', 'no problems', 'no sugar', 'no trans', 'no way', 'noise', 'non', 'none', 'none of', 'noodles', 'nor', 'normal', 'normally', 'nose', 'not', 'not all', 'not an', 'not as', 'not at', 'not available', 'not bad', 'not be', 'not been', 'not believe', 'not big', 'not bitter', 'not buy', 'not do', 'not eat', 'not enough', 'not even', 'not fan', 'not find', 'not for', 'not get', 'not going', 'not good', 'not had', 'not have', 'not having', 'not in', 'not just', 'not like', 'not much', 'not my', 'not one', 'not only', 'not order', 'not organic', 'not overly', 'not overpowering', 'not quite', 'not really', 'not recommend', 'not so', 'not sure', 'not taste', 'not that', 'not the', 'not to', 'not too', 'not tried', 'not very', 'not want', 'not what', 'not worth', 'note', 'noted', 'nothing', 'nothing but', 'nothing like', 'nothing to', 'notice', 'notice the', 'noticed', 'noticed that', 'now', 'now am', 'now and', 'now can', 'now have', 'now it', 'now my', 'now on', 'now she', 'now that', 'now the', 'now they', 'now we', 'number', 'number of', 'numerous', 'nut', 'nutrients', 'nutrition', 'nutritional', 'nutritious', 'nuts', 'oatmeal', 'oats', 'obviously', 'occasion', 'occasional', 'occasionally', 'odd', 'of', 'of 12', 'of 24', 'of all', 'of an', 'of any', 'of butter', 'of chips', 'of chocolate', 'of cocoa', 'of coconut', 'of coffee', 'of course', 'of cup', 'of different', 'of dog', 'of each', 'of fat', 'of flavor', 'of flavors', 'of food', 'of good', 'of green', 'of having', 'of heat', 'of his', 'of hot', 'of ingredients', 'of it', 'of its', 'of like', 'of making', 'of milk', 'of mine', 'of money', 'of my', 'of oil', 'of one', 'of other', 'of our', 'of people', 'of pineapple', 'of popchips', 'of potato', 'of product', 'of protein', 'of regular', 'of salt', 'of some', 'of stevia', 'of stock', 'of sugar', 'of sweet', 'of sweetness', 'of tea', 'of that', 'of the', 'of their', 'of them', 'of these', 'of this', 'of those', 'of three', 'of time', 'of us', 'of vanilla', 'of water', 'of what', 'of which', 'of years', 'of you', 'of your', 'off', 'off of', 'off the', 'off with', 'offer', 'offered', 'offering', 'offers', 'office', 'often', 'oh', 'oil', 'oil and', 'oil for', 'oil is', 'oils', 'oily', 'ok', 'ok but', 'okay', 'old', 'old and', 'old loves', 'older', 'oldest', 'olive', 'olive oil', 'olives', 'omaha', 'omega', 'on', 'on all', 'on amazon', 'on an', 'on and', 'on everything', 'on hand', 'on his', 'on how', 'on it', 'on its', 'on line', 'on low', 'on me', 'on my', 'on other', 'on our', 'on regular', 'on sale', 'on subscribe', 'on the', 'on their', 'on them', 'on these', 'on this', 'on time', 'on to', 'on top', 'on vacation', 'on what', 'on whim', 'on your', 'once', 'once in', 'once you', 'one', 'one and', 'one at', 'one bag', 'one box', 'one but', 'one can', 'one cup', 'one day', 'one for', 'one has', 'one in', 'one is', 'one it', 'one of', 'one or', 'one packet', 'one sitting', 'one star', 'one that', 'one the', 'one thing', 'one time', 'one to', 'one was', 'one with', 'ones', 'ones are', 'ones that', 'onion', 'onion and', 'online', 'only', 'only 100', 'only complaint', 'only had', 'only has', 'only have', 'only is', 'only one', 'only points', 'only problem', 'only reason', 'only the', 'only thing', 'only to', 'only use', 'only wish', 'onto', 'oolong', 'open', 'open it', 'open the', 'opened', 'opened it', 'opened the', 'opening', 'opening the', 'opinion', 'opportunity', 'opposed', 'opposed to', 'option', 'options', 'or', 'or any', 'or anything', 'or as', 'or even', 'or if', 'or in', 'or just', 'or not', 'or other', 'or so', 'or something', 'or the', 'or two', 'or whatever', 'or with', 'or you', 'orange', 'order', 'order again', 'order and', 'order from', 'order it', 'order more', 'order the', 'order them', 'order these', 'order this', 'order to', 'order was', 'ordered', 'ordered case', 'ordered it', 'ordered the', 'ordered them', 'ordered these', 'ordered this', 'ordering', 'ordering it', 'ordering more', 'ordering the', 'ordering this', 'orders', 'oreo', 'oreos', 'organic', 'organic and', 'organic dog', 'organics', 'original', 'originally', 'other', 'other brand', 'other brands', 'other chips', 'other dog', 'other flavors', 'other hand', 'other hot', 'other mixes', 'other products', 'other reviewer', 'other reviewers', 'other reviews', 'other than', 'other things', 'others', 'others have', 'otherwise', 'ounce', 'ounce bags', 'ounces', 'ounces of', 'our', 'our cats', 'our dog', 'our dogs', 'our family', 'our favorite', 'our house', 'our local', 'out', 'out and', 'out br', 'out for', 'out great', 'out in', 'out of', 'out on', 'out that', 'out the', 'out there', 'out to', 'out with', 'outside', 'outside and', 'outstanding', 'oven', 'over', 'over and', 'over powering', 'over the', 'over time', 'over to', 'over year', 'overall', 'overly', 'overpowering', 'overweight', 'overwhelming', 'own', 'own and', 'own dog', 'own organics', 'owner', 'oz', 'oz bag', 'oz of', 'pack', 'pack and', 'pack is', 'pack of', 'pack to', 'package', 'package and', 'package of', 'package was', 'packaged', 'packaged in', 'packages', 'packaging', 'packaging and', 'packaging is', 'packed', 'packed and', 'packed in', 'packet', 'packet of', 'packets', 'packets in', 'packing', 'packs', 'page', 'paid', 'pain', 'palatable', 'pamela', 'pan', 'pancake', 'pancake and', 'pancake mix', 'pancakes', 'pancakes and', 'pancakes are', 'panda', 'pantry', 'paper', 'part', 'part of', 'partially', 'partially hydrogenated', 'particular', 'particularly', 'parties', 'parts', 'party', 'pass', 'past', 'pasta', 'paste', 'pay', 'pay for', 'paying', 'peach', 'peanut', 'peanut butter', 'peanuts', 'pear', 'peas', 'penny', 'people', 'people are', 'people who', 'pepper', 'pepper and', 'peppermint', 'per', 'per bag', 'per box', 'per cup', 'per pound', 'per serving', 'perfect', 'perfect for', 'perfect size', 'perfectly', 'perhaps', 'period', 'person', 'personal', 'personally', 'pet', 'pet food', 'pet store', 'pets', 'phantom', 'phantom power', 'photo', 'pick', 'pick up', 'picked', 'picked up', 'picky', 'picky eater', 'picture', 'pictures', 'pie', 'piece', 'piece of', 'pieces', 'pieces of', 'pineapple', 'pizza', 'place', 'place of', 'placed', 'plain', 'plan', 'plan on', 'plan to', 'plant', 'plants', 'plastic', 'plastic bag', 'play', 'pleasant', 'pleasantly', 'pleasantly surprised', 'please', 'pleased', 'pleased to', 'pleased with', 'pleasing', 'pleasure', 'plenty', 'plenty of', 'plug', 'plus', 'plus it', 'plus the', 'plus they', 'pocket', 'pod', 'pods', 'point', 'point of', 'points', 'pomegranate', 'poor', 'pop', 'pop chips', 'popchips', 'popchips are', 'popchips they', 'popcorn', 'popcorn is', 'popped', 'popper', 'popping', 'pops', 'popular', 'pork', 'portable', 'portion', 'portion control', 'portions', 'positive', 'possible', 'post', 'pot', 'potassium', 'potato', 'potato bread', 'potato chip', 'potato chips', 'potatoes', 'pouch', 'pouches', 'pound', 'pound bag', 'pounds', 'pour', 'poured', 'powder', 'powder and', 'powdered', 'power', 'powering', 'pre', 'prefer', 'prefer the', 'prefer to', 'preference', 'prefers', 'premium', 'prepare', 'prepared', 'present', 'preservatives', 'press', 'pressure', 'pretty', 'pretty good', 'pretty much', 'prevent', 'previous', 'previously', 'price', 'price and', 'price br', 'price but', 'price for', 'price is', 'price it', 'price of', 'price on', 'price per', 'price this', 'price was', 'priced', 'prices', 'pricey', 'pricey but', 'prime', 'pro', 'probably', 'probably the', 'problem', 'problem is', 'problem with', 'problems', 'problems with', 'process', 'processed', 'produce', 'produced', 'product', 'product again', 'product and', 'product arrived', 'product as', 'product at', 'product because', 'product br', 'product but', 'product for', 'product from', 'product has', 'product if', 'product in', 'product is', 'product it', 'product on', 'product so', 'product that', 'product the', 'product to', 'product was', 'product we', 'product works', 'products', 'products and', 'products are', 'products br', 'products from', 'products have', 'program', 'prompt', 'promptly', 'properly', 'pros', 'protein', 'protein and', 'provide', 'provided', 'provides', 'pudding', 'pull', 'punch', 'puppy', 'purchase', 'purchase again', 'purchase it', 'purchase the', 'purchase this', 'purchased', 'purchased it', 'purchased the', 'purchased these', 'purchased this', 'purchases', 'purchasing', 'purchasing this', 'pure', 'purina', 'purpose', 'purse', 'put', 'put in', 'put it', 'put on', 'put the', 'put this', 'putting', 'quality', 'quality and', 'quality food', 'quality is', 'quality of', 'quantity', 'question', 'quick', 'quick and', 'quickly', 'quickly and', 'quite', 'quite as', 'quite bit', 'quite few', 'quite good', 'quite tasty', 'raise', 'raisins', 'ramen', 'ran', 'ran out', 'rancid', 'range', 'rare', 'rarely', 'raspberry', 'rate', 'rated', 'rather', 'rather than', 'rating', 'ratio', 'rave', 'raw', 're', 're going', 're looking', 're not', 'reach', 'reaction', 'read', 'read the', 'readily', 'readily available', 'reading', 'ready', 'ready to', 'real', 'real deal', 'real thing', 'realize', 'realized', 'realized that', 'really', 'really are', 'really enjoy', 'really enjoyed', 'really good', 'really great', 'really is', 'really like', 'really liked', 'really likes', 'really love', 'really really', 'really taste', 'really tasty', 'really well', 'reason', 'reason for', 'reasonable', 'reasonable price', 'reasonably', 'reasonably priced', 'reasons', 'receive', 'received', 'received it', 'received my', 'received the', 'received this', 'receiving', 'recent', 'recently', 'recipe', 'recipe and', 'recipe on', 'recipes', 'recommend', 'recommend it', 'recommend the', 'recommend them', 'recommend these', 'recommend this', 'recommend to', 'recommend you', 'recommendation', 'recommended', 'record', 'recording', 'red', 'red mill', 'reduced', 'refreshing', 'refreshing and', 'refrigerator', 'refund', 'refused', 'regarding', 'regret', 'regular', 'regular basis', 'regular bisquick', 'regular chips', 'regular potato', 'regularly', 'relatively', 'reliable', 'remember', 'remember the', 'remind', 'remind me', 'reminded', 'reminds', 'reminds me', 'remove', 'reorder', 'replace', 'replaced', 'replacement', 'require', 'required', 'requires', 'resealable', 'research', 'response', 'rest', 'rest of', 'restaurant', 'restaurants', 'result', 'results', 'retail', 'return', 'returned', 'review', 'review is', 'reviewer', 'reviewers', 'reviews', 'reviews and', 'reviews but', 'reviews from', 'reviews of', 'rice', 'rice and', 'rice cakes', 'rice flour', 'rich', 'rich and', 'rich flavor', 'rid', 'rid of', 'ridiculous', 'right', 'right amount', 'right away', 'right for', 'right now', 'right on', 'right to', 'rip', 'risk', 'riviera', 'riviera sunset', 'road', 'roast', 'roasted', 'robust', 'rock', 'roll', 'rolls', 'room', 'root', 'rose', 'rough', 'round', 'ruin', 'run', 'run out', 'running', 'running out', 'runny', 'runs', 'rye', 'sad', 'sadly', 'safe', 'said', 'said it', 'said that', 'said the', 'said they', 'salad', 'salad dressing', 'salads', 'sale', 'sales', 'salmon', 'salsa', 'salt', 'salt and', 'salt pepper', 'salt vinegar', 'salted', 'salty', 'salty and', 'same', 'same amount', 'same as', 'same price', 'same thing', 'same time', 'sample', 'sampler', 'samples', 'san', 'san marzano', 'sandwich', 'sandwiches', 'sardines', 'satisfied', 'satisfied with', 'satisfy', 'satisfying', 'saturated', 'sauce', 'sauce and', 'sauce for', 'sauce is', 'sauces', 'sausage', 'save', 'saved', 'saves', 'saving', 'savor', 'savory', 'saw', 'saw the', 'saw this', 'say', 'say about', 'say is', 'say it', 'say that', 'say the', 'say they', 'say this', 'saying', 'says', 'says it', 'scent', 'schedule', 'school', 'science', 'science diet', 'scissors', 'scratch', 'sea', 'sea salt', 'seal', 'sealed', 'search', 'searched', 'searching', 'searching for', 'season', 'seasoned', 'seasoning', 'seasonings', 'second', 'seconds', 'see', 'see how', 'see if', 'see it', 'see that', 'see the', 'see what', 'seed', 'seeds', 'seeing', 'seem', 'seem to', 'seemed', 'seemed to', 'seems', 'seems like', 'seems to', 'seen', 'select', 'selection', 'sell', 'seller', 'selling', 'sells', 'send', 'sending', 'senior', 'sense', 'sensitive', 'sensitive to', 'sent', 'sent me', 'separate', 'serious', 'seriously', 'serve', 'served', 'service', 'service and', 'serving', 'serving size', 'servings', 'sesame', 'set', 'set up', 'setting', 'several', 'several months', 'several of', 'several times', 'several years', 'severe', 'shake', 'shame', 'shape', 'shaped', 'share', 'share with', 'shared', 'she', 'she can', 'she doesn', 'she had', 'she has', 'she is', 'she likes', 'she loved', 'she loves', 'she was', 'she will', 'shelf', 'shell', 'shelves', 'shiny', 'ship', 'shipment', 'shipments', 'shipped', 'shipped to', 'shipping', 'shipping and', 'shipping costs', 'shipping is', 'shipping the', 'shipping was', 'shocked', 'shop', 'shopping', 'short', 'shot', 'shots', 'should', 'should be', 'should have', 'should not', 'show', 'shower', 'shown', 'shows', 'shrimp', 'shure', 'sick', 'side', 'side dish', 'sign', 'silky', 'similar', 'similar to', 'simple', 'simply', 'since', 'since he', 'since it', 'since my', 'since the', 'since then', 'since they', 'since this', 'since was', 'since we', 'single', 'single serve', 'single serving', 'sinus', 'sip', 'sister', 'sit', 'site', 'sites', 'sitting', 'situation', 'six', 'size', 'size and', 'size for', 'size is', 'size of', 'sized', 'sizes', 'skeptical', 'skin', 'skip', 'sleep', 'slice', 'sliced', 'slices', 'slight', 'slightly', 'slightly more', 'slow', 'slowly', 'small', 'small and', 'smaller', 'smaller than', 'smallest', 'smell', 'smell and', 'smell is', 'smelled', 'smells', 'smooth', 'smooth and', 'smooth taste', 'smoother', 'smoothies', 'snack', 'snack for', 'snack or', 'snack that', 'snacking', 'snacks', 'snap', 'snob', 'snow', 'so', 'so am', 'so bought', 'so can', 'so decided', 'so do', 'so don', 'so easy', 'so excited', 'so far', 'so glad', 'so good', 'so great', 'so happy', 'so hard', 'so have', 'so he', 'so if', 'so it', 'so just', 'so know', 'so many', 'so much', 'so now', 'so ordered', 'so tasty', 'so that', 'so the', 'so they', 'so this', 'so thought', 'so tried', 'so ve', 'so was', 'so we', 'so when', 'so you', 'soaked', 'soda', 'sodium', 'soft', 'soft and', 'softer', 'software', 'sold', 'solid', 'solution', 'some', 'some more', 'some of', 'some other', 'some people', 'some reason', 'some time', 'somehow', 'someone', 'someone who', 'something', 'something different', 'something else', 'something in', 'something that', 'something to', 'sometimes', 'somewhat', 'somewhere', 'son', 'son and', 'son loves', 'soon', 'soon as', 'sooo', 'sorry', 'sort', 'sort of', 'sound', 'sounds', 'soup', 'soups', 'sour', 'sour cream', 'source', 'source of', 'south', 'soy', 'soy crisps', 'soy sauce', 'soybean', 'special', 'specific', 'specifically', 'spend', 'spent', 'spice', 'spices', 'spicy', 'spicy but', 'spicy thai', 'spilled', 'splash', 'splash of', 'splenda', 'split', 'spoiled', 'spoon', 'sports', 'spot', 'spread', 'spring', 'sprinkle', 'square', 'square hot', 'squeeze', 'stage', 'stale', 'stand', 'standard', 'stands', 'staple', 'star', 'starbucks', 'starch', 'stars', 'stars because', 'stars is', 'start', 'started', 'started drinking', 'started to', 'starting', 'starting to', 'starts', 'stash', 'state', 'stated', 'states', 'station', 'stay', 'stay away', 'stays', 'steaks', 'steal', 'steep', 'step', 'stevia', 'stick', 'stick to', 'stick with', 'sticks', 'sticky', 'still', 'still have', 'still very', 'stir', 'stock', 'stock up', 'stocking', 'stomach', 'stonewall', 'stools', 'stop', 'stop eating', 'stopped', 'storage', 'store', 'store and', 'store bought', 'store for', 'store in', 'store it', 'stores', 'stores and', 'stores so', 'story', 'stove', 'straight', 'strange', 'strawberries', 'strawberry', 'strength', 'strong', 'strong and', 'strong but', 'strong coffee', 'strong enough', 'strong flavor', 'stronger', 'stuck', 'stuck with', 'stuff', 'stuff and', 'stuff is', 'stumbled', 'sturdy', 'style', 'subscribe', 'subscribe and', 'subscribe save', 'subscription', 'substitute', 'substitute for', 'subtle', 'success', 'such', 'such as', 'such great', 'sucralose', 'sugar', 'sugar and', 'sugar br', 'sugar free', 'sugar in', 'sugar is', 'sugar or', 'sugar to', 'sugars', 'sugary', 'suggest', 'suggested', 'summer', 'sunflower', 'sunset', 'super', 'super easy', 'superb', 'superior', 'supermarket', 'supermarkets', 'supplement', 'supplier', 'supply', 'support', 'supposed', 'supposed to', 'sure', 'sure if', 'sure it', 'sure that', 'sure to', 'sure what', 'sure why', 'sure you', 'surprise', 'surprised', 'surprised at', 'surprised to', 'surprisingly', 'sweet', 'sweet and', 'sweet but', 'sweet for', 'sweet potato', 'sweet tooth', 'sweetened', 'sweetener', 'sweeteners', 'sweeter', 'sweetner', 'sweetness', 'sweets', 'swiss', 'swiss miss', 'switch', 'switched', 'switched to', 'switching', 'syrup', 'syrup and', 'system', 'table', 'tablespoon', 'tablespoon of', 'tablespoons', 'take', 'take it', 'take the', 'take them', 'take this', 'taken', 'takes', 'taking', 'talk', 'talking', 'tangy', 'target', 'tart', 'tassimo', 'taste', 'taste and', 'taste as', 'taste better', 'taste br', 'taste buds', 'taste but', 'taste for', 'taste good', 'taste great', 'taste in', 'taste is', 'taste it', 'taste just', 'taste like', 'taste not', 'taste of', 'taste really', 'taste so', 'taste that', 'taste the', 'taste to', 'taste very', 'taste was', 'tasted', 'tasted great', 'tasted it', 'tasted like', 'tasted the', 'tasteless', 'tastes', 'tastes and', 'tastes better', 'tastes good', 'tastes great', 'tastes just', 'tastes like', 'tastes so', 'tastier', 'tasting', 'tasting coffee', 'tasty', 'tasty and', 'tasty as', 'tasty the', 'tea', 'tea and', 'tea as', 'tea bag', 'tea bags', 'tea br', 'tea but', 'tea drinker', 'tea for', 'tea have', 'tea in', 'tea is', 'tea it', 'tea leaves', 'tea powder', 'tea that', 'tea to', 'tea was', 'tea which', 'tea with', 'teas', 'teas and', 'teaspoon', 'teeth', 'tell', 'tell you', 'temperature', 'ten', 'tend', 'tend to', 'tender', 'term', 'terms', 'terms of', 'terrible', 'terrier', 'terrific', 'test', 'texture', 'texture and', 'texture is', 'texture of', 'thai', 'than', 'than any', 'than buying', 'than expected', 'than it', 'than most', 'than one', 'than other', 'than regular', 'than some', 'than that', 'than the', 'than this', 'than what', 'than you', 'than your', 'thank', 'thank goodness', 'thank you', 'thankful', 'thanks', 'thanks amazon', 'thanks for', 'thanks to', 'that', 'that all', 'that am', 'that amazon', 'that and', 'that are', 'that being', 'that br', 'that can', 'that comes', 'that could', 'that did', 'that didn', 'that does', 'that doesn', 'that don', 'that even', 'that good', 'that great', 'that had', 'that has', 'that have', 'that he', 'that if', 'that in', 'that is', 'that it', 'that just', 'that like', 'that love', 'that made', 'that makes', 'that may', 'that most', 'that much', 'that my', 'that not', 'that one', 'that really', 'that said', 'that she', 'that taste', 'that tastes', 'that the', 'that there', 'that these', 'that they', 'that this', 'that ve', 'that was', 'that way', 'that we', 'that were', 'that what', 'that when', 'that why', 'that will', 'that with', 'that would', 'that you', 'thats', 'the', 'the 12', 'the absolute', 'the actual', 'the amazon', 'the amount', 'the apple', 'the aroma', 'the back', 'the bag', 'the bags', 'the bar', 'the batter', 'the bbq', 'the bean', 'the beginning', 'the best', 'the better', 'the big', 'the bill', 'the biscuits', 'the black', 'the blue', 'the bottle', 'the bottles', 'the bottom', 'the bowl', 'the box', 'the boxes', 'the brand', 'the brands', 'the bread', 'the cake', 'the calorie', 'the calories', 'the can', 'the candy', 'the cans', 'the car', 'the case', 'the cats', 'the cheaper', 'the cheapest', 'the cheddar', 'the cheese', 'the chicken', 'the chips', 'the chocolate', 'the closest', 'the cocoa', 'the coconut', 'the coffee', 'the color', 'the combination', 'the company', 'the consistency', 'the container', 'the convenience', 'the cookie', 'the cookies', 'the cost', 'the counter', 'the cup', 'the cups', 'the customer', 'the dark', 'the day', 'the delivery', 'the description', 'the difference', 'the different', 'the directions', 'the dog', 'the dogs', 'the drink', 'the dry', 'the earth', 'the end', 'the entire', 'the exact', 'the expiration', 'the extra', 'the fact', 'the family', 'the fat', 'the few', 'the first', 'the flavor', 'the flavors', 'the floor', 'the following', 'the food', 'the free', 'the freezer', 'the fridge', 'the front', 'the fruit', 'the full', 'the future', 'the gain', 'the gf', 'the gluten', 'the go', 'the good', 'the great', 'the greatest', 'the green', 'the grocery', 'the ground', 'the grove', 'the health', 'the heat', 'the high', 'the higher', 'the honey', 'the hot', 'the house', 'the icicle', 'the idea', 'the individual', 'the ingredient', 'the ingredients', 'the inside', 'the instructions', 'the internet', 'the item', 'the jar', 'the kettle', 'the keurig', 'the kids', 'the kitchen', 'the label', 'the lack', 'the large', 'the larger', 'the last', 'the least', 'the light', 'the liquid', 'the list', 'the little', 'the local', 'the low', 'the main', 'the major', 'the manufacturer', 'the market', 'the meat', 'the medium', 'the microwave', 'the middle', 'the milk', 'the mix', 'the money', 'the more', 'the morning', 'the most', 'the mouth', 'the name', 'the natural', 'the new', 'the newman', 'the next', 'the non', 'the noodles', 'the normal', 'the nuts', 'the office', 'the old', 'the one', 'the ones', 'the only', 'the order', 'the organic', 'the original', 'the other', 'the others', 'the outside', 'the oven', 'the oz', 'the pack', 'the package', 'the packaging', 'the pancakes', 'the past', 'the peanut', 'the peppermint', 'the perfect', 'the picture', 'the pineapple', 'the plain', 'the plastic', 'the point', 'the popchips', 'the potato', 'the powder', 'the price', 'the problem', 'the product', 'the products', 'the purchase', 'the quality', 'the raspberry', 'the real', 'the reason', 'the recipe', 'the regular', 'the rest', 'the results', 'the reviews', 'the rice', 'the right', 'the salt', 'the same', 'the sauce', 'the sea', 'the seasoning', 'the second', 'the seeds', 'the seller', 'the shelf', 'the shipping', 'the side', 'the single', 'the size', 'the small', 'the smaller', 'the smell', 'the sodium', 'the sound', 'the spicy', 'the spot', 'the store', 'the stores', 'the stuff', 'the subscribe', 'the subscription', 'the sugar', 'the summer', 'the sweet', 'the swiss', 'the taste', 'the tea', 'the texture', 'the three', 'the time', 'the top', 'the traditional', 'the trick', 'the two', 'the us', 'the usa', 'the usual', 'the variety', 'the very', 'the vet', 'the vinegar', 'the waffles', 'the water', 'the way', 'the white', 'the whole', 'the world', 'the worst', 'the years', 'their', 'their coats', 'their food', 'their own', 'their products', 'their website', 'them', 'them again', 'them all', 'them and', 'them as', 'them at', 'them because', 'them br', 'them but', 'them even', 'them for', 'them from', 'them here', 'them in', 'them it', 'them like', 'them love', 'them my', 'them on', 'them out', 'them so', 'them the', 'them these', 'them they', 'them this', 'them to', 'them too', 'them try', 'them up', 'them we', 'them when', 'them with', 'them you', 'themed', 'themselves', 'then', 'then have', 'then it', 'then the', 'then they', 'then this', 'then you', 'there', 'there and', 'there are', 'there br', 'there but', 'there is', 'there no', 'there was', 'there were', 'therefore', 'these', 'these again', 'these and', 'these are', 'these as', 'these at', 'these bags', 'these bars', 'these br', 'these chips', 'these cookies', 'these crackers', 'these cups', 'these days', 'these for', 'these from', 'these have', 'these in', 'these is', 'these little', 'these muffins', 'these on', 'these pancakes', 'these seeds', 'these snacks', 'these taste', 'these the', 'these they', 'these things', 'these to', 'these treats', 'these were', 'these with', 'they', 'they all', 'they also', 'they are', 'they aren', 'they arrived', 'they both', 'they came', 'they can', 'they come', 'they could', 'they did', 'they didn', 'they do', 'they don', 'they had', 'they have', 'they just', 'they like', 'they look', 'they love', 'they make', 'they may', 'they need', 'they re', 'they really', 'they say', 'they seem', 'they should', 'they taste', 'they tasted', 'they use', 'they used', 'they ve', 'they were', 'they weren', 'they will', 'they would', 'thick', 'thick and', 'thicken', 'thicker', 'thicker than', 'thin', 'thin crisps', 'thing', 'thing and', 'thing is', 'thing that', 'thing to', 'things', 'things are', 'things like', 'things that', 'things to', 'think', 'think about', 'think it', 'think ll', 'think of', 'think that', 'think the', 'think these', 'think they', 'think this', 'think you', 'thinking', 'thinks', 'thinner', 'third', 'this', 'this again', 'this and', 'this as', 'this at', 'this because', 'this blend', 'this br', 'this brand', 'this but', 'this can', 'this candy', 'this case', 'this cereal', 'this cocoa', 'this coffee', 'this company', 'this dog', 'this drink', 'this flavor', 'this food', 'this for', 'this formula', 'this great', 'this gum', 'this has', 'this helps', 'this hot', 'this in', 'this is', 'this isn', 'this it', 'this item', 'this kind', 'this makes', 'this may', 'this melitta', 'this mix', 'this morning', 'this new', 'this on', 'this one', 'this order', 'this pack', 'this pancake', 'this particular', 'this point', 'this popcorn', 'this price', 'this problem', 'this product', 'this purchase', 'this review', 'this sauce', 'this seller', 'this snack', 'this so', 'this soup', 'this stuff', 'this tastes', 'this tea', 'this the', 'this thing', 'this time', 'this to', 'this try', 'this type', 'this variety', 'this was', 'this water', 'this way', 'this will', 'this with', 'this would', 'thoroughly', 'those', 'those of', 'those who', 'though', 'though it', 'though the', 'though they', 'thought', 'thought it', 'thought that', 'thought the', 'thought they', 'thought this', 'thought was', 'thought would', 'three', 'three flavors', 'three of', 'three times', 'threw', 'thrilled', 'thrilled to', 'through', 'through amazon', 'through the', 'throughout', 'throughout the', 'throw', 'throwing', 'thrown', 'thus', 'tic', 'tight', 'till', 'time', 'time and', 'time br', 'time but', 'time finding', 'time for', 'time have', 'time in', 'time it', 'time of', 'time so', 'time the', 'time to', 'time we', 'time you', 'timely', 'timely manner', 'times', 'times and', 'tin', 'tiny', 'tips', 'tired', 'tired of', 'to', 'to add', 'to admit', 'to all', 'to amazon', 'to an', 'to any', 'to anyone', 'to avoid', 'to be', 'to boot', 'to brew', 'to buy', 'to carry', 'to change', 'to chew', 'to choose', 'to clean', 'to come', 'to cook', 'to cut', 'to describe', 'to do', 'to drink', 'to eat', 'to eating', 'to enjoy', 'to every', 'to everyone', 'to feed', 'to find', 'to finish', 'to get', 'to give', 'to gluten', 'to go', 'to grow', 'to have', 'to help', 'to her', 'to it', 'to just', 'to keep', 'to know', 'to last', 'to let', 'to like', 'to look', 'to lose', 'to love', 'to make', 'to me', 'to mention', 'to mix', 'to my', 'to newman', 'to not', 'to open', 'to order', 'to other', 'to our', 'to pay', 'to pick', 'to prepare', 'to purchase', 'to put', 'to read', 'to receive', 'to regular', 'to replace', 'to return', 'to save', 'to say', 'to see', 'to send', 'to share', 'to ship', 'to spend', 'to start', 'to stay', 'to stop', 'to store', 'to switch', 'to take', 'to taste', 'to test', 'to that', 'to the', 'to their', 'to them', 'to these', 'to think', 'to this', 'to those', 'to throw', 'to try', 'to trying', 'to us', 'to use', 'to watch', 'to what', 'to wheat', 'to work', 'to worry', 'to you', 'to your', 'toast', 'today', 'today and', 'toddler', 'together', 'told', 'told me', 'tolerate', 'tomato', 'tomatoes', 'tomatoes are', 'ton', 'ton of', 'tongue', 'tons', 'tons of', 'too', 'too and', 'too bad', 'too br', 'too but', 'too expensive', 'too good', 'too it', 'too many', 'too much', 'too salty', 'too strong', 'too sweet', 'too the', 'too weak', 'took', 'took me', 'tooth', 'top', 'top of', 'topping', 'tortilla', 'tortilla chips', 'toss', 'tossed', 'total', 'totally', 'touch', 'tough', 'town', 'traditional', 'training', 'trans', 'trans fat', 'trans fats', 'trash', 'travel', 'traveling', 'treat', 'treat for', 'treats', 'tree', 'trick', 'tried', 'tried all', 'tried and', 'tried every', 'tried few', 'tried it', 'tried many', 'tried other', 'tried several', 'tried the', 'tried them', 'tried these', 'tried this', 'tried to', 'trip', 'trip to', 'trips', 'trouble', 'true', 'truly', 'trust', 'try', 'try and', 'try it', 'try out', 'try something', 'try the', 'try them', 'try these', 'try this', 'try to', 'trying', 'trying the', 'trying to', 'tsp', 'tube', 'tummy', 'tuna', 'turkey', 'turn', 'turn out', 'turned', 'turned out', 'turns', 'turns out', 'twice', 'twice as', 'twizzlers', 'two', 'two days', 'two of', 'two weeks', 'two years', 'type', 'type of', 'types', 'types of', 'typical', 'typically', 'unable', 'unable to', 'uncle', 'under', 'under the', 'understand', 'unfortunately', 'unfortunately it', 'unfortunately the', 'unhealthy', 'unique', 'unit', 'unless', 'unless you', 'unlike', 'unlike some', 'unlike the', 'unpleasant', 'unsweetened', 'until', 'until the', 'up', 'up and', 'up at', 'up br', 'up but', 'up for', 'up in', 'up my', 'up on', 'up the', 'up to', 'up with', 'update', 'upon', 'ups', 'upset', 'us', 'us to', 'usa', 'usb', 'use', 'use and', 'use in', 'use it', 'use my', 'use one', 'use the', 'use them', 'use these', 'use this', 'use to', 'use with', 'used', 'used for', 'used in', 'used it', 'used the', 'used this', 'used to', 'useful', 'uses', 'using', 'using it', 'using the', 'using this', 'usual', 'usually', 'vacation', 'valley', 'value', 'value for', 'vanilla', 'varieties', 'varieties of', 'variety', 'variety of', 'variety pack', 'various', 'vary', 've', 've also', 've always', 've been', 've ever', 've found', 've got', 've had', 've made', 've never', 've only', 've ordered', 've purchased', 've read', 've tried', 've used', 'vegetable', 'vegetables', 'vegetarian', 'veggies', 'vendor', 'versatile', 'version', 'version of', 'very', 'very convenient', 'very disappointed', 'very disappointing', 'very easy', 'very expensive', 'very fast', 'very flavorful', 'very fresh', 'very good', 'very happy', 'very hard', 'very healthy', 'very high', 'very light', 'very little', 'very low', 'very much', 'very nice', 'very picky', 'very pleased', 'very quickly', 'very reasonable', 'very satisfied', 'very satisfying', 'very small', 'very smooth', 'very strong', 'very sweet', 'very tasty', 'very very', 'very weak', 'very well', 'vet', 'via', 'vinegar', 'vinegar and', 'vinegar chips', 'vinegar flavor', 'virtually', 'visit', 'visiting', 'vita', 'vita coco', 'vitamin', 'vitamins', 'volume', 'vs', 'wafer', 'waffle', 'waffle maker', 'waffle mix', 'waffles', 'waffles and', 'wait', 'wait for', 'wait to', 'waiting', 'wake', 'walk', 'walmart', 'walnuts', 'want', 'want something', 'want the', 'want to', 'wanted', 'wanted to', 'wanting', 'wants', 'wants to', 'warehouse', 'warm', 'was', 'was able', 'was about', 'was afraid', 'was all', 'was also', 'was bit', 'was delicious', 'was delighted', 'was disappointed', 'was easy', 'was excited', 'was expecting', 'was fine', 'was getting', 'was glad', 'was going', 'was good', 'was great', 'was happy', 'was having', 'was hooked', 'was hoping', 'was immediately', 'was impressed', 'was in', 'was just', 'was little', 'was looking', 'was more', 'was my', 'was no', 'was not', 'was on', 'was one', 'was only', 'was perfect', 'was pleasantly', 'was pretty', 'was really', 'was shipped', 'was so', 'was still', 'was surprised', 'was that', 'was the', 'was to', 'was told', 'was too', 'was using', 'was very', 'was well', 'was wrong', 'wash', 'wasn', 'wasn sure', 'waste', 'waste of', 'wasted', 'watch', 'watchers', 'watching', 'water', 'water and', 'water bottle', 'water but', 'water for', 'water in', 'water is', 'water it', 'water so', 'water to', 'water with', 'watered', 'watered down', 'watery', 'way', 'way better', 'way it', 'way to', 'way too', 'ways', 'we', 'we all', 'we are', 'we bought', 'we can', 'we could', 'we don', 'we enjoy', 'we found', 'we get', 'we got', 'we had', 'we have', 'we just', 'we like', 'we ll', 'we love', 'we need', 'we ordered', 'we re', 'we really', 'we received', 'we started', 'we tried', 'we use', 'we used', 'we ve', 'we were', 'we will', 'weak', 'weather', 'web', 'website', 'website and', 'week', 'weekend', 'weeks', 'weeks ago', 'weight', 'weight watchers', 'weird', 'well', 'well and', 'well as', 'well br', 'well but', 'well for', 'well in', 'well it', 'well packaged', 'well packed', 'well the', 'well to', 'well with', 'well worth', 'wellness', 'went', 'went back', 'went on', 'went to', 'were', 'were all', 'were fresh', 'were great', 'were in', 'were just', 'were little', 'were not', 'were really', 'were so', 'were the', 'were very', 'weren', 'wet', 'what', 'what can', 'what great', 'what is', 'what it', 'what more', 'what the', 'what they', 'what to', 'what was', 'what we', 'what you', 'whatever', 'wheat', 'wheat flour', 'when', 'when am', 'when first', 'when found', 'when got', 'when he', 'when it', 'when my', 'when opened', 'when ordered', 'when purchased', 'when received', 'when saw', 'when she', 'when the', 'when they', 'when was', 'when we', 'when you', 'whenever', 'where', 'where it', 'where live', 'where the', 'where they', 'where you', 'whether', 'which', 'which are', 'which can', 'which is', 'which makes', 'which was', 'which would', 'which you', 'while', 'while the', 'whim', 'whipped', 'whipped cream', 'white', 'who', 'who are', 'who can', 'who doesn', 'who has', 'who have', 'who is', 'who like', 'who likes', 'who wants', 'whole', 'whole bag', 'whole box', 'whole family', 'whole foods', 'whole grain', 'whole lot', 'whole wheat', 'wholesome', 'why', 'why it', 'why they', 'wide', 'wife', 'wife and', 'wild', 'will', 'will be', 'will buy', 'will continue', 'will definitely', 'will do', 'will eat', 'will get', 'will have', 'will keep', 'will like', 'will love', 'will make', 'will never', 'will not', 'will only', 'will order', 'will probably', 'will say', 'will stick', 'will try', 'willing', 'willing to', 'windows', 'wine', 'winner', 'winter', 'wise', 'wish', 'wish could', 'wish it', 'wish the', 'wish they', 'with', 'with all', 'with amazon', 'with an', 'with and', 'with any', 'with anything', 'with celiac', 'with cream', 'with free', 'with friends', 'with gluten', 'with good', 'with great', 'with her', 'with hint', 'with his', 'with it', 'with just', 'with little', 'with me', 'with milk', 'with more', 'with my', 'with no', 'with one', 'with only', 'with other', 'with our', 'with regular', 'with some', 'with subscribe', 'with sugar', 'with that', 'with the', 'with their', 'with them', 'with these', 'with this', 'with very', 'with water', 'with your', 'within', 'without', 'without all', 'without any', 'without being', 'without having', 'without the', 'won', 'won be', 'wonderful', 'wonderful and', 'wonderful flavor', 'wonderfully', 'wondering', 'wonders', 'wont', 'word', 'work', 'work and', 'work for', 'work with', 'worked', 'worked out', 'worker', 'working', 'workout', 'works', 'works for', 'works great', 'works well', 'world', 'worried', 'worried about', 'worry', 'worry about', 'worse', 'worst', 'worth', 'worth every', 'worth it', 'worth the', 'would', 'would be', 'would buy', 'would definitely', 'would eat', 'would expect', 'would get', 'would give', 'would have', 'would highly', 'would like', 'would love', 'would make', 'would never', 'would not', 'would rather', 'would recommend', 'would say', 'would suggest', 'would try', 'wouldn', 'wow', 'wrap', 'wrapped', 'wrappers', 'write', 'writing', 'written', 'wrong', 'wrong with', 'wrote', 'www', 'www amazon', 'xlr', 'yeah', 'year', 'year ago', 'year and', 'year old', 'years', 'years ago', 'years and', 'years now', 'years of', 'years old', 'years the', 'yeast', 'yellow', 'yes', 'yesterday', 'yet', 'yet but', 'yet to', 'yogurt', 'york', 'you', 'you add', 'you amazon', 'you and', 'you are', 'you ask', 'you buy', 'you can', 'you could', 'you do', 'you don', 'you drink', 'you eat', 'you enjoy', 'you expect', 'you feel', 'you find', 'you for', 'you get', 'you go', 'you have', 'you just', 'you know', 'you like', 'you ll', 'you love', 'you make', 'you may', 'you might', 'you need', 'you open', 'you order', 'you pay', 'you prefer', 'you probably', 'you put', 'you re', 'you really', 'you should', 'you that', 'you the', 'you think', 'you to', 'you try', 'you use', 'you ve', 'you want', 'you will', 'you with', 'you won', 'you would', 'young', 'your', 'your body', 'your dog', 'your favorite', 'your health', 'your local', 'your money', 'your mouth', 'your own', 'your taste', 'yourself', 'yum', 'yummy', 'zero', 'zip']\n"
     ]
    }
   ],
   "source": [
    "print(tfid.get_feature_names())"
   ]
  },
  {
   "cell_type": "code",
   "execution_count": 81,
   "id": "36d966c7",
   "metadata": {},
   "outputs": [
    {
     "name": "stdout",
     "output_type": "stream",
     "text": [
      "[[0. 0. 0. ... 0. 0. 0.]]\n"
     ]
    }
   ],
   "source": [
    "print(tfid_counts[3,:].toarray())"
   ]
  },
  {
   "cell_type": "code",
   "execution_count": 82,
   "id": "dacf9bc9",
   "metadata": {},
   "outputs": [],
   "source": [
    "i=0\n",
    "list_of_sentence=[]\n",
    "for sentence in final[\"Text\"]:\n",
    "    list_of_sentence.append(sentence.split())"
   ]
  },
  {
   "cell_type": "code",
   "execution_count": null,
   "id": "572236a3",
   "metadata": {},
   "outputs": [],
   "source": []
  }
 ],
 "metadata": {
  "kernelspec": {
   "display_name": "Python 3",
   "language": "python",
   "name": "python3"
  },
  "language_info": {
   "codemirror_mode": {
    "name": "ipython",
    "version": 3
   },
   "file_extension": ".py",
   "mimetype": "text/x-python",
   "name": "python",
   "nbconvert_exporter": "python",
   "pygments_lexer": "ipython3",
   "version": "3.8.8"
  }
 },
 "nbformat": 4,
 "nbformat_minor": 5
}
