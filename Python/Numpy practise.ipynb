{
 "cells": [
  {
   "cell_type": "code",
   "execution_count": 1,
   "id": "6d40bc9e",
   "metadata": {},
   "outputs": [],
   "source": [
    "import numpy as np"
   ]
  },
  {
   "cell_type": "code",
   "execution_count": 5,
   "id": "8ede1905",
   "metadata": {},
   "outputs": [],
   "source": [
    "arr=np.zeros(10)"
   ]
  },
  {
   "cell_type": "code",
   "execution_count": 8,
   "id": "e900ff87",
   "metadata": {},
   "outputs": [
    {
     "data": {
      "text/plain": [
       "10"
      ]
     },
     "execution_count": 8,
     "metadata": {},
     "output_type": "execute_result"
    }
   ],
   "source": [
    "arr.size"
   ]
  },
  {
   "cell_type": "code",
   "execution_count": 9,
   "id": "d4ab3ac3",
   "metadata": {},
   "outputs": [
    {
     "data": {
      "text/plain": [
       "array([0., 0., 0., 0., 1., 0., 0., 0., 0., 0.])"
      ]
     },
     "execution_count": 9,
     "metadata": {},
     "output_type": "execute_result"
    }
   ],
   "source": [
    "arr[4]=1\n",
    "arr"
   ]
  },
  {
   "cell_type": "code",
   "execution_count": 10,
   "id": "e7b6250b",
   "metadata": {},
   "outputs": [],
   "source": [
    "arr=np.arange(10,49)"
   ]
  },
  {
   "cell_type": "code",
   "execution_count": 11,
   "id": "90c03a7e",
   "metadata": {},
   "outputs": [
    {
     "data": {
      "text/plain": [
       "array([10, 11, 12, 13, 14, 15, 16, 17, 18, 19, 20, 21, 22, 23, 24, 25, 26,\n",
       "       27, 28, 29, 30, 31, 32, 33, 34, 35, 36, 37, 38, 39, 40, 41, 42, 43,\n",
       "       44, 45, 46, 47, 48])"
      ]
     },
     "execution_count": 11,
     "metadata": {},
     "output_type": "execute_result"
    }
   ],
   "source": [
    "arr"
   ]
  },
  {
   "cell_type": "code",
   "execution_count": 12,
   "id": "60d87561",
   "metadata": {},
   "outputs": [],
   "source": [
    "arr=arr[::-1]"
   ]
  },
  {
   "cell_type": "code",
   "execution_count": 13,
   "id": "453893af",
   "metadata": {},
   "outputs": [
    {
     "data": {
      "text/plain": [
       "array([48, 47, 46, 45, 44, 43, 42, 41, 40, 39, 38, 37, 36, 35, 34, 33, 32,\n",
       "       31, 30, 29, 28, 27, 26, 25, 24, 23, 22, 21, 20, 19, 18, 17, 16, 15,\n",
       "       14, 13, 12, 11, 10])"
      ]
     },
     "execution_count": 13,
     "metadata": {},
     "output_type": "execute_result"
    }
   ],
   "source": [
    "arr"
   ]
  },
  {
   "cell_type": "code",
   "execution_count": 14,
   "id": "79f6e81e",
   "metadata": {},
   "outputs": [],
   "source": [
    "arr1=np.arange(9).reshape(3,3)"
   ]
  },
  {
   "cell_type": "code",
   "execution_count": 15,
   "id": "646af8e3",
   "metadata": {},
   "outputs": [
    {
     "data": {
      "text/plain": [
       "array([[0, 1, 2],\n",
       "       [3, 4, 5],\n",
       "       [6, 7, 8]])"
      ]
     },
     "execution_count": 15,
     "metadata": {},
     "output_type": "execute_result"
    }
   ],
   "source": [
    "arr1"
   ]
  },
  {
   "cell_type": "code",
   "execution_count": 16,
   "id": "838bee39",
   "metadata": {},
   "outputs": [],
   "source": [
    "arr=np.array([1,2,0,0,4,0])"
   ]
  },
  {
   "cell_type": "code",
   "execution_count": 17,
   "id": "2658179c",
   "metadata": {},
   "outputs": [
    {
     "data": {
      "text/plain": [
       "array([1, 2, 0, 0, 4, 0])"
      ]
     },
     "execution_count": 17,
     "metadata": {},
     "output_type": "execute_result"
    }
   ],
   "source": [
    "arr"
   ]
  },
  {
   "cell_type": "code",
   "execution_count": 23,
   "id": "ba8005ce",
   "metadata": {},
   "outputs": [],
   "source": [
    "nz=np.nonzero([1,2,0,0,4,0])"
   ]
  },
  {
   "cell_type": "code",
   "execution_count": 24,
   "id": "8654721f",
   "metadata": {},
   "outputs": [
    {
     "data": {
      "text/plain": [
       "(array([0, 1, 4]),)"
      ]
     },
     "execution_count": 24,
     "metadata": {},
     "output_type": "execute_result"
    }
   ],
   "source": [
    "nz"
   ]
  },
  {
   "cell_type": "code",
   "execution_count": 26,
   "id": "36ae0b79",
   "metadata": {},
   "outputs": [],
   "source": [
    "arr=np.identity(3).reshape(3,3)"
   ]
  },
  {
   "cell_type": "code",
   "execution_count": 27,
   "id": "9fbd55b3",
   "metadata": {},
   "outputs": [
    {
     "data": {
      "text/plain": [
       "array([[1., 0., 0.],\n",
       "       [0., 1., 0.],\n",
       "       [0., 0., 1.]])"
      ]
     },
     "execution_count": 27,
     "metadata": {},
     "output_type": "execute_result"
    }
   ],
   "source": [
    "arr"
   ]
  },
  {
   "cell_type": "code",
   "execution_count": 28,
   "id": "c8ea0c83",
   "metadata": {},
   "outputs": [],
   "source": [
    "arr=np.random.random((3,3,3))"
   ]
  },
  {
   "cell_type": "code",
   "execution_count": 29,
   "id": "7a3f7267",
   "metadata": {},
   "outputs": [
    {
     "data": {
      "text/plain": [
       "array([[[0.82200771, 0.34972885, 0.49257259],\n",
       "        [0.86698727, 0.1685331 , 0.09364978],\n",
       "        [0.88409009, 0.06395222, 0.28288067]],\n",
       "\n",
       "       [[0.21967538, 0.05193618, 0.75791585],\n",
       "        [0.32162262, 0.78787311, 0.72166345],\n",
       "        [0.3235466 , 0.96137159, 0.02707365]],\n",
       "\n",
       "       [[0.28903991, 0.09856058, 0.56535725],\n",
       "        [0.44912025, 0.77011134, 0.29637421],\n",
       "        [0.73384162, 0.62353829, 0.89831476]]])"
      ]
     },
     "execution_count": 29,
     "metadata": {},
     "output_type": "execute_result"
    }
   ],
   "source": [
    "arr"
   ]
  },
  {
   "cell_type": "code",
   "execution_count": 30,
   "id": "2694c0e4",
   "metadata": {},
   "outputs": [],
   "source": [
    "arr=np.arange(100).reshape(10,10)"
   ]
  },
  {
   "cell_type": "code",
   "execution_count": 31,
   "id": "85fe9938",
   "metadata": {},
   "outputs": [
    {
     "data": {
      "text/plain": [
       "array([[ 0,  1,  2,  3,  4,  5,  6,  7,  8,  9],\n",
       "       [10, 11, 12, 13, 14, 15, 16, 17, 18, 19],\n",
       "       [20, 21, 22, 23, 24, 25, 26, 27, 28, 29],\n",
       "       [30, 31, 32, 33, 34, 35, 36, 37, 38, 39],\n",
       "       [40, 41, 42, 43, 44, 45, 46, 47, 48, 49],\n",
       "       [50, 51, 52, 53, 54, 55, 56, 57, 58, 59],\n",
       "       [60, 61, 62, 63, 64, 65, 66, 67, 68, 69],\n",
       "       [70, 71, 72, 73, 74, 75, 76, 77, 78, 79],\n",
       "       [80, 81, 82, 83, 84, 85, 86, 87, 88, 89],\n",
       "       [90, 91, 92, 93, 94, 95, 96, 97, 98, 99]])"
      ]
     },
     "execution_count": 31,
     "metadata": {},
     "output_type": "execute_result"
    }
   ],
   "source": [
    "arr"
   ]
  },
  {
   "cell_type": "code",
   "execution_count": 32,
   "id": "50fcec80",
   "metadata": {},
   "outputs": [
    {
     "data": {
      "text/plain": [
       "99"
      ]
     },
     "execution_count": 32,
     "metadata": {},
     "output_type": "execute_result"
    }
   ],
   "source": [
    "arr.max()"
   ]
  },
  {
   "cell_type": "code",
   "execution_count": 33,
   "id": "fbe1c5a1",
   "metadata": {},
   "outputs": [
    {
     "data": {
      "text/plain": [
       "0"
      ]
     },
     "execution_count": 33,
     "metadata": {},
     "output_type": "execute_result"
    }
   ],
   "source": [
    "arr.min()"
   ]
  },
  {
   "cell_type": "code",
   "execution_count": 38,
   "id": "91d7630f",
   "metadata": {},
   "outputs": [],
   "source": [
    "arr=np.random.random((10,10))"
   ]
  },
  {
   "cell_type": "code",
   "execution_count": 39,
   "id": "53450df8",
   "metadata": {},
   "outputs": [
    {
     "data": {
      "text/plain": [
       "array([[0.23526851, 0.92458316, 0.33075386, 0.75707491, 0.52920995,\n",
       "        0.00254806, 0.26527214, 0.07867934, 0.72654734, 0.09499672],\n",
       "       [0.11111765, 0.60763469, 0.80496689, 0.69561825, 0.801942  ,\n",
       "        0.04797532, 0.79859807, 0.67868383, 0.78265532, 0.61187979],\n",
       "       [0.82131593, 0.6751007 , 0.45285435, 0.48495414, 0.32256981,\n",
       "        0.96605019, 0.49948641, 0.34464833, 0.24315083, 0.29355062],\n",
       "       [0.83897111, 0.50617567, 0.11290774, 0.96643397, 0.28490786,\n",
       "        0.31296814, 0.28034452, 0.07917379, 0.56622129, 0.03945407],\n",
       "       [0.53349033, 0.69103193, 0.46080532, 0.43601219, 0.25595204,\n",
       "        0.81399472, 0.69986664, 0.22688566, 0.28068841, 0.78480398],\n",
       "       [0.76358503, 0.87094629, 0.45141006, 0.68681239, 0.74415798,\n",
       "        0.1297004 , 0.74804331, 0.10767714, 0.88806812, 0.06364999],\n",
       "       [0.57860815, 0.07356748, 0.86159966, 0.30871573, 0.94003745,\n",
       "        0.42471656, 0.40069112, 0.47921156, 0.80783325, 0.95772743],\n",
       "       [0.49966624, 0.00180279, 0.51645281, 0.50806247, 0.0295577 ,\n",
       "        0.86721402, 0.02539631, 0.14635062, 0.81386694, 0.63766703],\n",
       "       [0.90468184, 0.32340113, 0.35548767, 0.04045226, 0.1452531 ,\n",
       "        0.54859455, 0.90821393, 0.71882455, 0.68212293, 0.47776582],\n",
       "       [0.26293473, 0.3756072 , 0.42872803, 0.05145034, 0.79119362,\n",
       "        0.61963631, 0.93118599, 0.37324587, 0.03387836, 0.57791574]])"
      ]
     },
     "execution_count": 39,
     "metadata": {},
     "output_type": "execute_result"
    }
   ],
   "source": [
    "arr"
   ]
  },
  {
   "cell_type": "code",
   "execution_count": null,
   "id": "f4433c2f",
   "metadata": {},
   "outputs": [],
   "source": []
  }
 ],
 "metadata": {
  "kernelspec": {
   "display_name": "Python 3",
   "language": "python",
   "name": "python3"
  },
  "language_info": {
   "codemirror_mode": {
    "name": "ipython",
    "version": 3
   },
   "file_extension": ".py",
   "mimetype": "text/x-python",
   "name": "python",
   "nbconvert_exporter": "python",
   "pygments_lexer": "ipython3",
   "version": "3.8.8"
  }
 },
 "nbformat": 4,
 "nbformat_minor": 5
}
