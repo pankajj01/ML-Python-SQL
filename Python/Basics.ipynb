{
 "cells": [
  {
   "cell_type": "markdown",
   "id": "f947bfa8",
   "metadata": {},
   "source": [
    "# Printing a program"
   ]
  },
  {
   "cell_type": "code",
   "execution_count": 1,
   "id": "039f4cce",
   "metadata": {},
   "outputs": [
    {
     "name": "stdout",
     "output_type": "stream",
     "text": [
      "hello world\n"
     ]
    }
   ],
   "source": [
    "print(\"hello world\")"
   ]
  },
  {
   "cell_type": "code",
   "execution_count": 2,
   "id": "8c5015d5",
   "metadata": {},
   "outputs": [
    {
     "name": "stdout",
     "output_type": "stream",
     "text": [
      "6\n"
     ]
    }
   ],
   "source": [
    "print(6)"
   ]
  },
  {
   "cell_type": "code",
   "execution_count": 3,
   "id": "2fb2bf53",
   "metadata": {},
   "outputs": [
    {
     "name": "stdout",
     "output_type": "stream",
     "text": [
      "False\n"
     ]
    }
   ],
   "source": [
    "print(False)"
   ]
  },
  {
   "cell_type": "code",
   "execution_count": 4,
   "id": "673030a1",
   "metadata": {},
   "outputs": [
    {
     "name": "stdout",
     "output_type": "stream",
     "text": [
      "india nepal Bhutan\n"
     ]
    }
   ],
   "source": [
    "print(\"india\",\"nepal\",\"Bhutan\")"
   ]
  },
  {
   "cell_type": "code",
   "execution_count": 5,
   "id": "bc8392a1",
   "metadata": {},
   "outputs": [
    {
     "name": "stdout",
     "output_type": "stream",
     "text": [
      "india 5 True\n"
     ]
    }
   ],
   "source": [
    "print(\"india\",5,True)"
   ]
  },
  {
   "cell_type": "code",
   "execution_count": 6,
   "id": "44a292e8",
   "metadata": {},
   "outputs": [
    {
     "name": "stdout",
     "output_type": "stream",
     "text": [
      "india/pak/nepal\n"
     ]
    }
   ],
   "source": [
    "print(\"india\",\"pak\",\"nepal\",sep='/')\n",
    "##sep means separator"
   ]
  },
  {
   "cell_type": "code",
   "execution_count": 7,
   "id": "48848efc",
   "metadata": {},
   "outputs": [
    {
     "name": "stdout",
     "output_type": "stream",
     "text": [
      "Hello\n",
      "World\n"
     ]
    }
   ],
   "source": [
    "print(\"Hello\")\n",
    "print(\"World\")"
   ]
  },
  {
   "cell_type": "code",
   "execution_count": 8,
   "id": "6475efbd",
   "metadata": {},
   "outputs": [],
   "source": [
    "##So, the end operator in print is \"\\n\" by default"
   ]
  },
  {
   "cell_type": "code",
   "execution_count": 9,
   "id": "8ca1ed9b",
   "metadata": {},
   "outputs": [
    {
     "name": "stdout",
     "output_type": "stream",
     "text": [
      "Hello World\n"
     ]
    }
   ],
   "source": [
    "print(\"Hello\",end=\" \")\n",
    "print(\"World\")\n",
    "\n",
    "# Replacing end operator by space from its default value"
   ]
  },
  {
   "cell_type": "markdown",
   "id": "5616838e",
   "metadata": {},
   "source": [
    "## Data Types\n",
    "\n",
    "\n",
    "1.Basic Types - (integer,float,complex,boolean and string)\n",
    "\n",
    "2.Container Types - (List,Tuples, Sets and Dictionary)\n",
    "\n",
    "3.User-defined Types - Class"
   ]
  },
  {
   "cell_type": "code",
   "execution_count": 10,
   "id": "a8b86b65",
   "metadata": {},
   "outputs": [
    {
     "name": "stdout",
     "output_type": "stream",
     "text": [
      "4\n"
     ]
    }
   ],
   "source": [
    "#integer\n",
    "print(4)"
   ]
  },
  {
   "cell_type": "code",
   "execution_count": 11,
   "id": "30e815d5",
   "metadata": {},
   "outputs": [
    {
     "name": "stdout",
     "output_type": "stream",
     "text": [
      "4.5\n"
     ]
    }
   ],
   "source": [
    "#float\n",
    "print(4.5)"
   ]
  },
  {
   "cell_type": "code",
   "execution_count": 12,
   "id": "856a59a5",
   "metadata": {},
   "outputs": [
    {
     "name": "stdout",
     "output_type": "stream",
     "text": [
      "True\n",
      "False\n"
     ]
    }
   ],
   "source": [
    "#boolean\n",
    "print(True)\n",
    "print(False)"
   ]
  },
  {
   "cell_type": "code",
   "execution_count": 13,
   "id": "252df414",
   "metadata": {},
   "outputs": [
    {
     "name": "stdout",
     "output_type": "stream",
     "text": [
      "Lol\n",
      "Lol\n",
      "Lol\n"
     ]
    }
   ],
   "source": [
    "#string\n",
    "print('Lol')\n",
    "print(\"Lol\")\n",
    "print(\"\"\"Lol\"\"\")"
   ]
  },
  {
   "cell_type": "code",
   "execution_count": 14,
   "id": "ef6dd84d",
   "metadata": {},
   "outputs": [
    {
     "name": "stdout",
     "output_type": "stream",
     "text": [
      "[1, 2, 3, 4, 5]\n"
     ]
    }
   ],
   "source": [
    "#List\n",
    "print([1,2,3,4,5])"
   ]
  },
  {
   "cell_type": "code",
   "execution_count": 15,
   "id": "1d6a8b80",
   "metadata": {},
   "outputs": [
    {
     "name": "stdout",
     "output_type": "stream",
     "text": [
      "(1, 2, 3, 4, 5)\n"
     ]
    }
   ],
   "source": [
    "print((1,2,3,4,5))"
   ]
  },
  {
   "cell_type": "code",
   "execution_count": 16,
   "id": "a3710b2b",
   "metadata": {},
   "outputs": [
    {
     "name": "stdout",
     "output_type": "stream",
     "text": [
      "{1, 2, 3, 4, 5}\n"
     ]
    }
   ],
   "source": [
    "#sets\n",
    "print({1,2,3,4,5})"
   ]
  },
  {
   "cell_type": "code",
   "execution_count": 17,
   "id": "388d0d2d",
   "metadata": {},
   "outputs": [
    {
     "name": "stdout",
     "output_type": "stream",
     "text": [
      "{'Name': 'Nitish', 'Age': 30, 'Gender': 'Male'}\n"
     ]
    }
   ],
   "source": [
    "#dictionary\n",
    "print({'Name':'Nitish','Age':30,'Gender':'Male'})"
   ]
  },
  {
   "cell_type": "markdown",
   "id": "3593dbfe",
   "metadata": {},
   "source": [
    "## Variables"
   ]
  },
  {
   "cell_type": "code",
   "execution_count": 18,
   "id": "3875181d",
   "metadata": {},
   "outputs": [],
   "source": [
    "#Dynamic typing-- We don't have to declare the variable like int a , float a etc in python\n",
    "\n",
    "a=5"
   ]
  },
  {
   "cell_type": "code",
   "execution_count": 19,
   "id": "70c32e32",
   "metadata": {},
   "outputs": [
    {
     "name": "stdout",
     "output_type": "stream",
     "text": [
      "5\n"
     ]
    }
   ],
   "source": [
    "#Dynamic binding-- One variable declared can take multiple data types in it (Not in C++ , there it is static binding)\n",
    "\n",
    "name=5\n",
    "print(name)"
   ]
  },
  {
   "cell_type": "code",
   "execution_count": 20,
   "id": "3412694a",
   "metadata": {},
   "outputs": [
    {
     "name": "stdout",
     "output_type": "stream",
     "text": [
      "Pankaj\n"
     ]
    }
   ],
   "source": [
    "name=\"Pankaj\"\n",
    "print(name)"
   ]
  },
  {
   "cell_type": "code",
   "execution_count": 21,
   "id": "f689353b",
   "metadata": {},
   "outputs": [
    {
     "name": "stdout",
     "output_type": "stream",
     "text": [
      "5\n",
      "6\n",
      "7\n"
     ]
    }
   ],
   "source": [
    "# Different syntax of variables\n",
    "\n",
    "a=5;b=6;c=7\n",
    "print(a)\n",
    "print(b)\n",
    "print(c)"
   ]
  },
  {
   "cell_type": "code",
   "execution_count": 22,
   "id": "1a716161",
   "metadata": {},
   "outputs": [
    {
     "name": "stdout",
     "output_type": "stream",
     "text": [
      "6\n",
      "6\n",
      "6\n"
     ]
    }
   ],
   "source": [
    "a=b=c=6\n",
    "print(a)\n",
    "print(b)\n",
    "print(c)"
   ]
  },
  {
   "cell_type": "code",
   "execution_count": 23,
   "id": "b2e42bf1",
   "metadata": {},
   "outputs": [
    {
     "name": "stdout",
     "output_type": "stream",
     "text": [
      "5\n",
      "6\n",
      "7\n"
     ]
    }
   ],
   "source": [
    "a,b,c=5,6,7\n",
    "print(a)\n",
    "print(b)\n",
    "print(c)"
   ]
  },
  {
   "cell_type": "markdown",
   "id": "f477f74e",
   "metadata": {},
   "source": [
    "## Taking User Input"
   ]
  },
  {
   "cell_type": "code",
   "execution_count": 24,
   "id": "41b9e74f",
   "metadata": {},
   "outputs": [
    {
     "name": "stdout",
     "output_type": "stream",
     "text": [
      "Enter the first number1\n",
      "Enter the second number2\n"
     ]
    }
   ],
   "source": [
    "a=input(\"Enter the first number\")\n",
    "b=input(\"Enter the second number\")"
   ]
  },
  {
   "cell_type": "code",
   "execution_count": 25,
   "id": "ef4598de",
   "metadata": {},
   "outputs": [
    {
     "data": {
      "text/plain": [
       "'12'"
      ]
     },
     "execution_count": 25,
     "metadata": {},
     "output_type": "execute_result"
    }
   ],
   "source": [
    "a+b"
   ]
  },
  {
   "cell_type": "code",
   "execution_count": 26,
   "id": "57b217ed",
   "metadata": {},
   "outputs": [],
   "source": [
    "# So, here when we added a and b it just concatenated them.\n",
    "# This is because the input function stores the input values as str"
   ]
  },
  {
   "cell_type": "code",
   "execution_count": 27,
   "id": "19038d51",
   "metadata": {},
   "outputs": [
    {
     "data": {
      "text/plain": [
       "str"
      ]
     },
     "execution_count": 27,
     "metadata": {},
     "output_type": "execute_result"
    }
   ],
   "source": [
    "type(a)"
   ]
  },
  {
   "cell_type": "code",
   "execution_count": 28,
   "id": "58bc8f8a",
   "metadata": {},
   "outputs": [
    {
     "data": {
      "text/plain": [
       "str"
      ]
     },
     "execution_count": 28,
     "metadata": {},
     "output_type": "execute_result"
    }
   ],
   "source": [
    "type(b)"
   ]
  },
  {
   "cell_type": "code",
   "execution_count": 29,
   "id": "906b3dd9",
   "metadata": {},
   "outputs": [],
   "source": [
    "# So, we need to do the type conversion to int"
   ]
  },
  {
   "cell_type": "markdown",
   "id": "8f87541a",
   "metadata": {},
   "source": [
    "## Type Conversion"
   ]
  },
  {
   "cell_type": "code",
   "execution_count": 30,
   "id": "a4757552",
   "metadata": {},
   "outputs": [
    {
     "name": "stdout",
     "output_type": "stream",
     "text": [
      "Enter the first number1\n",
      "Enter the second number2\n"
     ]
    }
   ],
   "source": [
    "a=int(input(\"Enter the first number\"))\n",
    "b=int(input(\"Enter the second number\"))"
   ]
  },
  {
   "cell_type": "code",
   "execution_count": 31,
   "id": "fc44e6dc",
   "metadata": {},
   "outputs": [
    {
     "data": {
      "text/plain": [
       "3"
      ]
     },
     "execution_count": 31,
     "metadata": {},
     "output_type": "execute_result"
    }
   ],
   "source": [
    "a+b"
   ]
  },
  {
   "cell_type": "markdown",
   "id": "c3dbeced",
   "metadata": {},
   "source": [
    "## If-else"
   ]
  },
  {
   "cell_type": "code",
   "execution_count": 32,
   "id": "4c7a268b",
   "metadata": {},
   "outputs": [
    {
     "name": "stdout",
     "output_type": "stream",
     "text": [
      "Apna email batalol\n",
      "Email galat hai sahi likho\n"
     ]
    }
   ],
   "source": [
    "# correct email- campusx@gmail.com\n",
    "# password - 1234\n",
    "\n",
    "email = input(\"Apna email bata\")\n",
    "if '@' in email:\n",
    "    password = input(\"Apna passowrd bhi bata\")\n",
    "\n",
    "    if email == \"campusx@gmail.com\" and password == \"1234\":\n",
    "        print(\"Welcome\")\n",
    "    elif email == \"campusx@gmail.com\" and password != \"1234\":\n",
    "        print(\"Password Incorrect\")\n",
    "        password = input(\"Password fir se bol\")\n",
    "        if password == \"1234\":\n",
    "            print(\"Finally correct\")\n",
    "        else:\n",
    "            print(\"Still incorrect\")\n",
    "    else:\n",
    "        print(\"Incorrect credentials\")\n",
    "else:\n",
    "    print(\"Email galat hai sahi likho\")"
   ]
  },
  {
   "cell_type": "markdown",
   "id": "1733418d",
   "metadata": {},
   "source": [
    "## Loops "
   ]
  },
  {
   "cell_type": "code",
   "execution_count": 33,
   "id": "928950c0",
   "metadata": {},
   "outputs": [
    {
     "name": "stdout",
     "output_type": "stream",
     "text": [
      "Enter your number2\n",
      "2\n",
      "4\n",
      "6\n",
      "8\n",
      "10\n",
      "12\n",
      "14\n",
      "16\n",
      "18\n",
      "20\n"
     ]
    }
   ],
   "source": [
    "number=int(input(\"Enter your number\"))\n",
    "\n",
    "i=1\n",
    "\n",
    "while i<11:\n",
    "    print(number*i)\n",
    "    i=i+1"
   ]
  },
  {
   "cell_type": "markdown",
   "id": "7d0eb95c",
   "metadata": {},
   "source": [
    "## While loop - if-else guessing game"
   ]
  },
  {
   "cell_type": "code",
   "execution_count": 34,
   "id": "fc145841",
   "metadata": {},
   "outputs": [],
   "source": [
    "import random"
   ]
  },
  {
   "cell_type": "code",
   "execution_count": 36,
   "id": "3d9d0d46",
   "metadata": {},
   "outputs": [
    {
     "name": "stdout",
     "output_type": "stream",
     "text": [
      "Please guess2\n",
      "Guess higher\n",
      "Please guess50\n",
      "Guess lower\n",
      "Please guess40\n",
      "Guess lower\n",
      "Please guess30\n",
      "Guess higher\n",
      "Please guess35\n",
      "Guess lower\n",
      "Please guess32\n",
      "Guess lower\n",
      "Please guess31\n",
      "Sahi jawab\n",
      "you took 7 attempts\n"
     ]
    }
   ],
   "source": [
    "jackpot=random.randint(1,100)\n",
    "\n",
    "guess=int(input(\"Please guess\"))\n",
    "c=1\n",
    "while guess !=jackpot:\n",
    "    if guess<jackpot:\n",
    "        print(\"Guess higher\")\n",
    "    else:\n",
    "        print(\"Guess lower\")\n",
    "    \n",
    "    guess=int(input(\"Please guess\"))\n",
    "    c=c+1\n",
    "\n",
    "    \n",
    "print(\"Sahi jawab\")\n",
    "print(\"you took\",c,\"attempts\")"
   ]
  },
  {
   "cell_type": "markdown",
   "id": "227a6807",
   "metadata": {},
   "source": [
    "# For loop"
   ]
  },
  {
   "cell_type": "markdown",
   "id": "9d600f10",
   "metadata": {},
   "source": [
    "# To learn about for loop , we need to learn about range and sequence"
   ]
  },
  {
   "cell_type": "code",
   "execution_count": 37,
   "id": "461af7e0",
   "metadata": {},
   "outputs": [
    {
     "data": {
      "text/plain": [
       "[0, 1, 2, 3, 4, 5, 6, 7, 8, 9]"
      ]
     },
     "execution_count": 37,
     "metadata": {},
     "output_type": "execute_result"
    }
   ],
   "source": [
    "#range\n",
    "list(range(0,10))"
   ]
  },
  {
   "cell_type": "code",
   "execution_count": 38,
   "id": "c7381fcd",
   "metadata": {},
   "outputs": [
    {
     "data": {
      "text/plain": [
       "[0, 1, 2, 3, 4, 5, 6, 7, 8, 9, 10, 11, 12, 13, 14]"
      ]
     },
     "execution_count": 38,
     "metadata": {},
     "output_type": "execute_result"
    }
   ],
   "source": [
    "list(range(15))"
   ]
  },
  {
   "cell_type": "code",
   "execution_count": 39,
   "id": "c053082c",
   "metadata": {},
   "outputs": [
    {
     "data": {
      "text/plain": [
       "[0, 2, 4, 6, 8]"
      ]
     },
     "execution_count": 39,
     "metadata": {},
     "output_type": "execute_result"
    }
   ],
   "source": [
    "list(range(0,10,2))"
   ]
  },
  {
   "cell_type": "code",
   "execution_count": 41,
   "id": "5fc272de",
   "metadata": {},
   "outputs": [
    {
     "data": {
      "text/plain": [
       "[10, 9, 8, 7, 6, 5, 4, 3, 2, 1]"
      ]
     },
     "execution_count": 41,
     "metadata": {},
     "output_type": "execute_result"
    }
   ],
   "source": [
    "list(range(10,0,-1))"
   ]
  },
  {
   "cell_type": "code",
   "execution_count": 42,
   "id": "4bb15801",
   "metadata": {},
   "outputs": [
    {
     "data": {
      "text/plain": [
       "'Kolkata'"
      ]
     },
     "execution_count": 42,
     "metadata": {},
     "output_type": "execute_result"
    }
   ],
   "source": [
    "#sequence\n",
    "#string\n",
    "\n",
    "\"Kolkata\""
   ]
  },
  {
   "cell_type": "code",
   "execution_count": 43,
   "id": "213df47d",
   "metadata": {},
   "outputs": [
    {
     "data": {
      "text/plain": [
       "['Kolkata', 'Delhi', 'Mumbai']"
      ]
     },
     "execution_count": 43,
     "metadata": {},
     "output_type": "execute_result"
    }
   ],
   "source": [
    "[\"Kolkata\",\"Delhi\",\"Mumbai\"]"
   ]
  },
  {
   "cell_type": "markdown",
   "id": "c9290bbf",
   "metadata": {},
   "source": [
    "### So, for-loop basically iterrates over a range or sequence as shown above."
   ]
  },
  {
   "cell_type": "code",
   "execution_count": 44,
   "id": "6f0842a5",
   "metadata": {},
   "outputs": [
    {
     "name": "stdout",
     "output_type": "stream",
     "text": [
      "k\n",
      "o\n",
      "l\n",
      "k\n",
      "a\n",
      "t\n",
      "a\n"
     ]
    }
   ],
   "source": [
    "for i in \"kolkata\":\n",
    "    print(i)"
   ]
  },
  {
   "cell_type": "code",
   "execution_count": 45,
   "id": "b0cb6316",
   "metadata": {},
   "outputs": [
    {
     "name": "stdout",
     "output_type": "stream",
     "text": [
      "100\n",
      "81\n",
      "64\n",
      "49\n",
      "36\n",
      "25\n",
      "16\n",
      "9\n",
      "4\n",
      "1\n"
     ]
    }
   ],
   "source": [
    "for i in range(10,0,-1):\n",
    "    print(i*i)"
   ]
  },
  {
   "cell_type": "code",
   "execution_count": 46,
   "id": "5f101a62",
   "metadata": {},
   "outputs": [
    {
     "name": "stdout",
     "output_type": "stream",
     "text": [
      "1\n",
      "2\n",
      "3\n",
      "5\n"
     ]
    }
   ],
   "source": [
    "for i in [1,2,3,5]:\n",
    "    print(i)"
   ]
  },
  {
   "cell_type": "code",
   "execution_count": 47,
   "id": "29c3f53f",
   "metadata": {},
   "outputs": [
    {
     "name": "stdout",
     "output_type": "stream",
     "text": [
      "1\n",
      "2\n",
      "3\n",
      "5\n"
     ]
    }
   ],
   "source": [
    "for i in (1,2,3,5):\n",
    "    print(i)"
   ]
  },
  {
   "cell_type": "code",
   "execution_count": 48,
   "id": "26f061a1",
   "metadata": {},
   "outputs": [],
   "source": [
    "# How to know which loop to use?\n",
    "# If you know that how many times the loop will run \"use for-loop\"\n",
    "# Else use while loop (Just like for guessing game)"
   ]
  },
  {
   "cell_type": "markdown",
   "id": "a837a2d8",
   "metadata": {},
   "source": [
    "## Nested loops "
   ]
  },
  {
   "cell_type": "code",
   "execution_count": 49,
   "id": "d899667e",
   "metadata": {},
   "outputs": [
    {
     "name": "stdout",
     "output_type": "stream",
     "text": [
      "Enter the number of rows2\n"
     ]
    }
   ],
   "source": [
    "rows=int(input(\"Enter the number of rows\"))\n"
   ]
  },
  {
   "cell_type": "code",
   "execution_count": 54,
   "id": "6333f2a3",
   "metadata": {},
   "outputs": [
    {
     "name": "stdout",
     "output_type": "stream",
     "text": [
      "Enter the number of rows10\n",
      "* \n",
      "* * \n",
      "* * * \n",
      "* * * * \n",
      "* * * * * \n",
      "* * * * * * \n",
      "* * * * * * * \n",
      "* * * * * * * * \n",
      "* * * * * * * * * \n",
      "* * * * * * * * * * \n"
     ]
    }
   ],
   "source": [
    "rows=int(input(\"Enter the number of rows\"))\n",
    "\n",
    "for i in range(1,rows+1):\n",
    "    for j in range(0,i):\n",
    "        print(\"*\",end=\" \")\n",
    "    print(\"\")    \n",
    "    "
   ]
  },
  {
   "cell_type": "markdown",
   "id": "41174081",
   "metadata": {},
   "source": [
    "## Break and continue"
   ]
  },
  {
   "cell_type": "code",
   "execution_count": 56,
   "id": "89d15902",
   "metadata": {},
   "outputs": [
    {
     "name": "stdout",
     "output_type": "stream",
     "text": [
      "2\n",
      "3\n",
      "4\n"
     ]
    }
   ],
   "source": [
    "##break statement comes out of the loop once the statement of break is matched\n",
    "\n",
    "for i in range(2,11):\n",
    "    if i==5:\n",
    "        break\n",
    "    print(i)    "
   ]
  },
  {
   "cell_type": "code",
   "execution_count": 59,
   "id": "a767f488",
   "metadata": {},
   "outputs": [
    {
     "name": "stdout",
     "output_type": "stream",
     "text": [
      "2\n",
      "3\n",
      "4\n",
      "6\n",
      "7\n",
      "8\n",
      "9\n",
      "10\n"
     ]
    }
   ],
   "source": [
    "## when condition will be matched for 'continue' then for that iteration the code will not get executed\n",
    "## And the loop will again run then\n",
    "\n",
    "## Example when we want to display all the items that are in stock, we can have statement like if==\"outofstock\"\n",
    "## above the continue statement and for items that are not in stock the print item part will be skipped and loop will continue\n",
    "\n",
    "for i in range(2,11):\n",
    "    if i==5:\n",
    "        continue\n",
    "    print(i)   "
   ]
  },
  {
   "cell_type": "markdown",
   "id": "68d532c5",
   "metadata": {},
   "source": [
    "## Built-in functions"
   ]
  },
  {
   "cell_type": "code",
   "execution_count": 60,
   "id": "7d053b4a",
   "metadata": {},
   "outputs": [],
   "source": [
    "## https://github.com/campusx-official/100-days-of-python-programming/blob/main/day9-built-in-functions-and-modules/built-in-functions.ipynb"
   ]
  },
  {
   "cell_type": "markdown",
   "id": "e9182c54",
   "metadata": {},
   "source": [
    "## Built-in modules"
   ]
  },
  {
   "cell_type": "code",
   "execution_count": 61,
   "id": "b885216f",
   "metadata": {},
   "outputs": [],
   "source": [
    "## https://github.com/campusx-official/100-days-of-python-programming/blob/main/day9-built-in-functions-and-modules/built-in-modules.ipynb"
   ]
  },
  {
   "cell_type": "markdown",
   "id": "590bf0c4",
   "metadata": {},
   "source": [
    "## String Operations"
   ]
  },
  {
   "cell_type": "code",
   "execution_count": 63,
   "id": "fc4fb859",
   "metadata": {},
   "outputs": [
    {
     "data": {
      "text/plain": [
       "'Hello()World'"
      ]
     },
     "execution_count": 63,
     "metadata": {},
     "output_type": "execute_result"
    }
   ],
   "source": [
    "\"Hello\"+ \"()\"+ \"World\""
   ]
  },
  {
   "cell_type": "code",
   "execution_count": 65,
   "id": "aef74796",
   "metadata": {},
   "outputs": [
    {
     "name": "stdout",
     "output_type": "stream",
     "text": [
      "Hello world Hello world Hello world Hello world Hello world \n"
     ]
    }
   ],
   "source": [
    "print(\"Hello world \"*5)"
   ]
  },
  {
   "cell_type": "code",
   "execution_count": 67,
   "id": "b7d06865",
   "metadata": {},
   "outputs": [
    {
     "data": {
      "text/plain": [
       "True"
      ]
     },
     "execution_count": 67,
     "metadata": {},
     "output_type": "execute_result"
    }
   ],
   "source": [
    "\"Kolkata\">\"Goa\"  \n",
    "# The logic here is , whichever words comes later in dictionary has higher value"
   ]
  },
  {
   "cell_type": "code",
   "execution_count": 69,
   "id": "ef023ccf",
   "metadata": {},
   "outputs": [
    {
     "data": {
      "text/plain": [
       "False"
      ]
     },
     "execution_count": 69,
     "metadata": {},
     "output_type": "execute_result"
    }
   ],
   "source": [
    "\"hello\"==\"World\""
   ]
  },
  {
   "cell_type": "code",
   "execution_count": 70,
   "id": "c0fd85ca",
   "metadata": {},
   "outputs": [
    {
     "data": {
      "text/plain": [
       "True"
      ]
     },
     "execution_count": 70,
     "metadata": {},
     "output_type": "execute_result"
    }
   ],
   "source": [
    "\"hello\"!=\"World\""
   ]
  },
  {
   "cell_type": "code",
   "execution_count": 71,
   "id": "90deac31",
   "metadata": {},
   "outputs": [
    {
     "data": {
      "text/plain": [
       "False"
      ]
     },
     "execution_count": 71,
     "metadata": {},
     "output_type": "execute_result"
    }
   ],
   "source": [
    "\"hello\"==\"Hello\""
   ]
  },
  {
   "cell_type": "code",
   "execution_count": 72,
   "id": "18c90807",
   "metadata": {},
   "outputs": [],
   "source": [
    "# In python the empty string is treated as false and string is treated as true"
   ]
  },
  {
   "cell_type": "code",
   "execution_count": 73,
   "id": "7245ba8f",
   "metadata": {},
   "outputs": [
    {
     "data": {
      "text/plain": [
       "''"
      ]
     },
     "execution_count": 73,
     "metadata": {},
     "output_type": "execute_result"
    }
   ],
   "source": [
    "\"\" and \"Pankaj\""
   ]
  },
  {
   "cell_type": "code",
   "execution_count": 74,
   "id": "b6e64b20",
   "metadata": {},
   "outputs": [
    {
     "data": {
      "text/plain": [
       "'Pankaj'"
      ]
     },
     "execution_count": 74,
     "metadata": {},
     "output_type": "execute_result"
    }
   ],
   "source": [
    "\"\" or \"Pankaj\""
   ]
  },
  {
   "cell_type": "code",
   "execution_count": 77,
   "id": "7c271e1a",
   "metadata": {},
   "outputs": [
    {
     "data": {
      "text/plain": [
       "'Bhatt'"
      ]
     },
     "execution_count": 77,
     "metadata": {},
     "output_type": "execute_result"
    }
   ],
   "source": [
    "\"Pankaj\" and \"Bhatt\"\n",
    "## Here both are true but second string decided if it will be true or not "
   ]
  },
  {
   "cell_type": "code",
   "execution_count": 79,
   "id": "bd8e562f",
   "metadata": {},
   "outputs": [
    {
     "data": {
      "text/plain": [
       "'Pankaj'"
      ]
     },
     "execution_count": 79,
     "metadata": {},
     "output_type": "execute_result"
    }
   ],
   "source": [
    "\"Pankaj\" or \"Bhatt\""
   ]
  },
  {
   "cell_type": "code",
   "execution_count": 80,
   "id": "5e600c0e",
   "metadata": {},
   "outputs": [
    {
     "name": "stdout",
     "output_type": "stream",
     "text": [
      "H\n",
      "e\n",
      "l\n",
      "l\n",
      "o\n",
      " \n",
      "w\n",
      "o\n",
      "r\n",
      "l\n",
      "d\n"
     ]
    }
   ],
   "source": [
    "c=\"Hello world\"\n",
    "\n",
    "for i in c:\n",
    "    print(i)"
   ]
  },
  {
   "cell_type": "code",
   "execution_count": 83,
   "id": "79bea20b",
   "metadata": {},
   "outputs": [
    {
     "data": {
      "text/plain": [
       "False"
      ]
     },
     "execution_count": 83,
     "metadata": {},
     "output_type": "execute_result"
    }
   ],
   "source": [
    "\"h\" in c #membership operators"
   ]
  },
  {
   "cell_type": "code",
   "execution_count": 82,
   "id": "039d186e",
   "metadata": {},
   "outputs": [
    {
     "data": {
      "text/plain": [
       "True"
      ]
     },
     "execution_count": 82,
     "metadata": {},
     "output_type": "execute_result"
    }
   ],
   "source": [
    "\"H\" in c"
   ]
  },
  {
   "cell_type": "markdown",
   "id": "ff946f39",
   "metadata": {},
   "source": [
    " ## Lists"
   ]
  },
  {
   "cell_type": "code",
   "execution_count": 84,
   "id": "a238bf39",
   "metadata": {},
   "outputs": [],
   "source": [
    "# What is a list?\n",
    "\n",
    "# List is a data type where we can store multiple things. It is different from arrays because it is heterogeneous\n",
    "# means that a list can have multiple data types inside the same list , but can't be in array"
   ]
  },
  {
   "cell_type": "code",
   "execution_count": 85,
   "id": "681026b0",
   "metadata": {},
   "outputs": [],
   "source": [
    "L=[]"
   ]
  },
  {
   "cell_type": "code",
   "execution_count": 86,
   "id": "585db50b",
   "metadata": {},
   "outputs": [],
   "source": [
    "L=[1,2,3,4,5]"
   ]
  },
  {
   "cell_type": "code",
   "execution_count": 87,
   "id": "7b81a989",
   "metadata": {},
   "outputs": [],
   "source": [
    "L=[1,2,4,5,\"Array\"]"
   ]
  },
  {
   "cell_type": "code",
   "execution_count": 91,
   "id": "f22fba95",
   "metadata": {},
   "outputs": [
    {
     "data": {
      "text/plain": [
       "[1, 2, 3, [4, 5]]"
      ]
     },
     "execution_count": 91,
     "metadata": {},
     "output_type": "execute_result"
    }
   ],
   "source": [
    "L1=[1,2,3,[4,5]]\n",
    "L1\n",
    "##Multi dimensional list"
   ]
  },
  {
   "cell_type": "code",
   "execution_count": 92,
   "id": "3f1d4593",
   "metadata": {},
   "outputs": [
    {
     "data": {
      "text/plain": [
       "['H', 'a', 'l', 'd', 'i', 'a']"
      ]
     },
     "execution_count": 92,
     "metadata": {},
     "output_type": "execute_result"
    }
   ],
   "source": [
    "L5=list(\"Haldia\")\n",
    "L5"
   ]
  },
  {
   "cell_type": "code",
   "execution_count": 93,
   "id": "4fbe249e",
   "metadata": {},
   "outputs": [],
   "source": [
    "L5[0]=\"k\""
   ]
  },
  {
   "cell_type": "code",
   "execution_count": 94,
   "id": "3fdda7ae",
   "metadata": {},
   "outputs": [
    {
     "data": {
      "text/plain": [
       "['k', 'a', 'l', 'd', 'i', 'a']"
      ]
     },
     "execution_count": 94,
     "metadata": {},
     "output_type": "execute_result"
    }
   ],
   "source": [
    "L5"
   ]
  },
  {
   "cell_type": "code",
   "execution_count": 95,
   "id": "1345f88d",
   "metadata": {},
   "outputs": [
    {
     "data": {
      "text/plain": [
       "[1, 100, 200, 300, 'Array']"
      ]
     },
     "execution_count": 95,
     "metadata": {},
     "output_type": "execute_result"
    }
   ],
   "source": [
    "L[1:4]=[100,200,300]\n",
    "L"
   ]
  },
  {
   "cell_type": "markdown",
   "id": "964f2ad6",
   "metadata": {},
   "source": [
    "## Add functions"
   ]
  },
  {
   "cell_type": "code",
   "execution_count": 96,
   "id": "82378719",
   "metadata": {},
   "outputs": [],
   "source": [
    "L.append(100)"
   ]
  },
  {
   "cell_type": "code",
   "execution_count": 97,
   "id": "7c4d598c",
   "metadata": {},
   "outputs": [
    {
     "data": {
      "text/plain": [
       "[1, 100, 200, 300, 'Array', 100]"
      ]
     },
     "execution_count": 97,
     "metadata": {},
     "output_type": "execute_result"
    }
   ],
   "source": [
    "L"
   ]
  },
  {
   "cell_type": "code",
   "execution_count": 100,
   "id": "1c985537",
   "metadata": {},
   "outputs": [
    {
     "data": {
      "text/plain": [
       "[1, 100, 200, 300, 'Array', 100, [100, 200], [100, 200]]"
      ]
     },
     "execution_count": 100,
     "metadata": {},
     "output_type": "execute_result"
    }
   ],
   "source": [
    "L.append([100,200])\n",
    "L"
   ]
  },
  {
   "cell_type": "code",
   "execution_count": 118,
   "id": "80e9ee7b",
   "metadata": {},
   "outputs": [],
   "source": [
    "L.extend([100,20]) ## when multiple entries need to be added "
   ]
  },
  {
   "cell_type": "code",
   "execution_count": 103,
   "id": "d1eebf0c",
   "metadata": {},
   "outputs": [
    {
     "data": {
      "text/plain": [
       "[1, 100, 200, 300, 'Array', 100, [100, 200], [100, 200], 100, 20]"
      ]
     },
     "execution_count": 103,
     "metadata": {},
     "output_type": "execute_result"
    }
   ],
   "source": [
    "L"
   ]
  },
  {
   "cell_type": "code",
   "execution_count": 119,
   "id": "410c16c8",
   "metadata": {},
   "outputs": [
    {
     "data": {
      "text/plain": [
       "[100, 20, 'World']"
      ]
     },
     "execution_count": 119,
     "metadata": {},
     "output_type": "execute_result"
    }
   ],
   "source": [
    "L.insert(2,\"World\") ## When entries need to be added on a particular index\n",
    "L"
   ]
  },
  {
   "cell_type": "markdown",
   "id": "93d8af49",
   "metadata": {},
   "source": [
    "## Delete functions"
   ]
  },
  {
   "cell_type": "code",
   "execution_count": 105,
   "id": "f0dcb4c8",
   "metadata": {},
   "outputs": [],
   "source": [
    "del(L5)"
   ]
  },
  {
   "cell_type": "code",
   "execution_count": 107,
   "id": "67fd6e92",
   "metadata": {},
   "outputs": [
    {
     "ename": "NameError",
     "evalue": "name 'L5' is not defined",
     "output_type": "error",
     "traceback": [
      "\u001b[0;31m---------------------------------------------------------------------------\u001b[0m",
      "\u001b[0;31mNameError\u001b[0m                                 Traceback (most recent call last)",
      "\u001b[0;32m<ipython-input-107-fd664006adac>\u001b[0m in \u001b[0;36m<module>\u001b[0;34m\u001b[0m\n\u001b[0;32m----> 1\u001b[0;31m \u001b[0mL5\u001b[0m\u001b[0;34m\u001b[0m\u001b[0;34m\u001b[0m\u001b[0m\n\u001b[0m",
      "\u001b[0;31mNameError\u001b[0m: name 'L5' is not defined"
     ]
    }
   ],
   "source": [
    "L5"
   ]
  },
  {
   "cell_type": "code",
   "execution_count": 108,
   "id": "a166e667",
   "metadata": {},
   "outputs": [],
   "source": [
    "del(L[0])"
   ]
  },
  {
   "cell_type": "code",
   "execution_count": 109,
   "id": "22a91454",
   "metadata": {},
   "outputs": [
    {
     "data": {
      "text/plain": [
       "[100, 'World', 200, 300, 'Array', 100, [100, 200], [100, 200], 100, 20]"
      ]
     },
     "execution_count": 109,
     "metadata": {},
     "output_type": "execute_result"
    }
   ],
   "source": [
    "L"
   ]
  },
  {
   "cell_type": "code",
   "execution_count": 110,
   "id": "73058c2d",
   "metadata": {},
   "outputs": [
    {
     "data": {
      "text/plain": [
       "[100, 'World', 200, 300, 'Array', 100, [100, 200], [100, 200], 100]"
      ]
     },
     "execution_count": 110,
     "metadata": {},
     "output_type": "execute_result"
    }
   ],
   "source": [
    "del(L[-1])\n",
    "L"
   ]
  },
  {
   "cell_type": "code",
   "execution_count": 120,
   "id": "20e3c740",
   "metadata": {},
   "outputs": [
    {
     "ename": "ValueError",
     "evalue": "list.remove(x): x not in list",
     "output_type": "error",
     "traceback": [
      "\u001b[0;31m---------------------------------------------------------------------------\u001b[0m",
      "\u001b[0;31mValueError\u001b[0m                                Traceback (most recent call last)",
      "\u001b[0;32m<ipython-input-120-d8309519cc93>\u001b[0m in \u001b[0;36m<module>\u001b[0;34m\u001b[0m\n\u001b[0;32m----> 1\u001b[0;31m \u001b[0mL\u001b[0m\u001b[0;34m.\u001b[0m\u001b[0mremove\u001b[0m\u001b[0;34m(\u001b[0m\u001b[0;34m\"Array\"\u001b[0m\u001b[0;34m)\u001b[0m \u001b[0;31m# removing specific item from the list\u001b[0m\u001b[0;34m\u001b[0m\u001b[0;34m\u001b[0m\u001b[0m\n\u001b[0m",
      "\u001b[0;31mValueError\u001b[0m: list.remove(x): x not in list"
     ]
    }
   ],
   "source": [
    "L.remove(\"Array\") # removing specific item from the list "
   ]
  },
  {
   "cell_type": "code",
   "execution_count": 112,
   "id": "556a3dcd",
   "metadata": {},
   "outputs": [
    {
     "data": {
      "text/plain": [
       "[100, 'World', 200, 300, 100, [100, 200], [100, 200], 100]"
      ]
     },
     "execution_count": 112,
     "metadata": {},
     "output_type": "execute_result"
    }
   ],
   "source": [
    "L"
   ]
  },
  {
   "cell_type": "code",
   "execution_count": 114,
   "id": "2dfb091a",
   "metadata": {},
   "outputs": [
    {
     "data": {
      "text/plain": [
       "100"
      ]
     },
     "execution_count": 114,
     "metadata": {},
     "output_type": "execute_result"
    }
   ],
   "source": [
    "L.pop() ## Pop removes the last item from the list"
   ]
  },
  {
   "cell_type": "code",
   "execution_count": 115,
   "id": "a4710def",
   "metadata": {},
   "outputs": [
    {
     "data": {
      "text/plain": [
       "[100, 'World', 200, 300, 100, [100, 200], [100, 200]]"
      ]
     },
     "execution_count": 115,
     "metadata": {},
     "output_type": "execute_result"
    }
   ],
   "source": [
    "L"
   ]
  },
  {
   "cell_type": "code",
   "execution_count": 116,
   "id": "1a33325c",
   "metadata": {},
   "outputs": [],
   "source": [
    "L.clear() ## clear clears the entire list and makes it empty"
   ]
  },
  {
   "cell_type": "code",
   "execution_count": 117,
   "id": "32ccff50",
   "metadata": {},
   "outputs": [
    {
     "data": {
      "text/plain": [
       "[]"
      ]
     },
     "execution_count": 117,
     "metadata": {},
     "output_type": "execute_result"
    }
   ],
   "source": [
    "L"
   ]
  },
  {
   "cell_type": "markdown",
   "id": "4032d49f",
   "metadata": {},
   "source": [
    "## Markdown"
   ]
  },
  {
   "cell_type": "code",
   "execution_count": 121,
   "id": "f517a795",
   "metadata": {},
   "outputs": [],
   "source": [
    "L=[1,2,3,4,5]\n",
    "M=[4,5,6,7,8]"
   ]
  },
  {
   "cell_type": "code",
   "execution_count": 123,
   "id": "a6111089",
   "metadata": {},
   "outputs": [
    {
     "data": {
      "text/plain": [
       "[1, 2, 3, 4, 5, 4, 5, 6, 7, 8]"
      ]
     },
     "execution_count": 123,
     "metadata": {},
     "output_type": "execute_result"
    }
   ],
   "source": [
    "L+M ##Concatenates"
   ]
  },
  {
   "cell_type": "code",
   "execution_count": 125,
   "id": "bef916da",
   "metadata": {},
   "outputs": [
    {
     "data": {
      "text/plain": [
       "[1, 2, 3, 4, 5, 1, 2, 3, 4, 5]"
      ]
     },
     "execution_count": 125,
     "metadata": {},
     "output_type": "execute_result"
    }
   ],
   "source": [
    "L*2"
   ]
  },
  {
   "cell_type": "code",
   "execution_count": 126,
   "id": "b37d2836",
   "metadata": {},
   "outputs": [
    {
     "name": "stdout",
     "output_type": "stream",
     "text": [
      "1\n",
      "2\n",
      "3\n",
      "4\n",
      "5\n"
     ]
    }
   ],
   "source": [
    "for i in L:\n",
    "    print(i)"
   ]
  },
  {
   "cell_type": "code",
   "execution_count": 127,
   "id": "dedcb927",
   "metadata": {},
   "outputs": [
    {
     "data": {
      "text/plain": [
       "False"
      ]
     },
     "execution_count": 127,
     "metadata": {},
     "output_type": "execute_result"
    }
   ],
   "source": [
    "7 in L"
   ]
  },
  {
   "cell_type": "markdown",
   "id": "c924fae4",
   "metadata": {},
   "source": [
    "## Functions"
   ]
  },
  {
   "cell_type": "code",
   "execution_count": 128,
   "id": "4aa94762",
   "metadata": {},
   "outputs": [
    {
     "data": {
      "text/plain": [
       "5"
      ]
     },
     "execution_count": 128,
     "metadata": {},
     "output_type": "execute_result"
    }
   ],
   "source": [
    "len(L)"
   ]
  },
  {
   "cell_type": "code",
   "execution_count": 129,
   "id": "b99b4e05",
   "metadata": {},
   "outputs": [
    {
     "data": {
      "text/plain": [
       "5"
      ]
     },
     "execution_count": 129,
     "metadata": {},
     "output_type": "execute_result"
    }
   ],
   "source": [
    "max(L)"
   ]
  },
  {
   "cell_type": "code",
   "execution_count": 130,
   "id": "62c09d0a",
   "metadata": {},
   "outputs": [
    {
     "data": {
      "text/plain": [
       "1"
      ]
     },
     "execution_count": 130,
     "metadata": {},
     "output_type": "execute_result"
    }
   ],
   "source": [
    "min(L)"
   ]
  },
  {
   "cell_type": "code",
   "execution_count": 133,
   "id": "d691294d",
   "metadata": {},
   "outputs": [
    {
     "data": {
      "text/plain": [
       "[1, 2, 3, 4, 5]"
      ]
     },
     "execution_count": 133,
     "metadata": {},
     "output_type": "execute_result"
    }
   ],
   "source": [
    "sorted(L) ## it will create a new list ( not in the orignal)"
   ]
  },
  {
   "cell_type": "code",
   "execution_count": 134,
   "id": "28a0a5e8",
   "metadata": {},
   "outputs": [
    {
     "data": {
      "text/plain": [
       "[5, 4, 3, 2, 1]"
      ]
     },
     "execution_count": 134,
     "metadata": {},
     "output_type": "execute_result"
    }
   ],
   "source": [
    "sorted(L,reverse=True) ## it will create a new list ( not in the orignal)"
   ]
  },
  {
   "cell_type": "code",
   "execution_count": 136,
   "id": "5acda96e",
   "metadata": {},
   "outputs": [
    {
     "data": {
      "text/plain": [
       "[1, 2, 3, 4, 5]"
      ]
     },
     "execution_count": 136,
     "metadata": {},
     "output_type": "execute_result"
    }
   ],
   "source": [
    "L.sort()\n",
    "L"
   ]
  },
  {
   "cell_type": "code",
   "execution_count": 138,
   "id": "c3f718a1",
   "metadata": {},
   "outputs": [
    {
     "data": {
      "text/plain": [
       "[5, 4, 3, 2, 1]"
      ]
     },
     "execution_count": 138,
     "metadata": {},
     "output_type": "execute_result"
    }
   ],
   "source": [
    "L.sort(reverse=True)\n",
    "L"
   ]
  },
  {
   "cell_type": "code",
   "execution_count": 139,
   "id": "fa300ee2",
   "metadata": {},
   "outputs": [
    {
     "data": {
      "text/plain": [
       "[1, 2, 3, 4, 5]"
      ]
     },
     "execution_count": 139,
     "metadata": {},
     "output_type": "execute_result"
    }
   ],
   "source": [
    "L.sort()\n",
    "L"
   ]
  },
  {
   "cell_type": "markdown",
   "id": "f605c65f",
   "metadata": {},
   "source": [
    "## Example"
   ]
  },
  {
   "cell_type": "code",
   "execution_count": 142,
   "id": "ba996ef5",
   "metadata": {},
   "outputs": [
    {
     "name": "stdout",
     "output_type": "stream",
     "text": [
      "['today', 'has', 'been', 'great', 'day']\n"
     ]
    }
   ],
   "source": [
    "sample=\"today has been great day\"\n",
    "print(sample.split())"
   ]
  },
  {
   "cell_type": "code",
   "execution_count": 145,
   "id": "0e45b839",
   "metadata": {},
   "outputs": [
    {
     "name": "stdout",
     "output_type": "stream",
     "text": [
      "['Today', 'Has', 'Been', 'Great', 'Day']\n",
      "Today Has Been Great Day\n"
     ]
    }
   ],
   "source": [
    "L=[]\n",
    "for x in sample.split():\n",
    "    x.capitalize()\n",
    "    L.append(x.capitalize())\n",
    "    \n",
    "print(L)\n",
    "print(\" \".join(L))"
   ]
  },
  {
   "cell_type": "code",
   "execution_count": 149,
   "id": "4bbfe374",
   "metadata": {},
   "outputs": [
    {
     "name": "stdout",
     "output_type": "stream",
     "text": [
      "How\n",
      "Are\n",
      "You\n",
      "Today\n",
      "['How', 'Are', 'You', 'Today']\n",
      "How#Are#You#Today\n"
     ]
    }
   ],
   "source": [
    "L1=[]\n",
    "s=\"how are you today\"\n",
    "for x in s.split():\n",
    "    print(x.capitalize())\n",
    "    L1.append(x.capitalize())\n",
    "    \n",
    "print(L1)\n",
    "print(\"#\".join(L1))"
   ]
  },
  {
   "cell_type": "code",
   "execution_count": 150,
   "id": "f61d8b82",
   "metadata": {},
   "outputs": [
    {
     "name": "stdout",
     "output_type": "stream",
     "text": [
      "['abc@gmail.com']\n"
     ]
    }
   ],
   "source": [
    "email=\"abc@gmail.com\"\n",
    "print(email.split())"
   ]
  },
  {
   "cell_type": "code",
   "execution_count": 153,
   "id": "e57f7abe",
   "metadata": {},
   "outputs": [
    {
     "name": "stdout",
     "output_type": "stream",
     "text": [
      "abc"
     ]
    }
   ],
   "source": [
    "a=\"\"\n",
    "for x in email:\n",
    "    if x==\"@\":\n",
    "        break\n",
    "    else:\n",
    "        print(x,end=\"\")     "
   ]
  },
  {
   "cell_type": "code",
   "execution_count": 154,
   "id": "e209fdf7",
   "metadata": {},
   "outputs": [
    {
     "name": "stdout",
     "output_type": "stream",
     "text": [
      "abc\n"
     ]
    }
   ],
   "source": [
    "print(email[:email.find(\"@\")])"
   ]
  },
  {
   "cell_type": "code",
   "execution_count": 155,
   "id": "298c6b80",
   "metadata": {},
   "outputs": [],
   "source": [
    "b=[1,1,2,2,3,3,4,4]\n",
    "## remove duplicates\n"
   ]
  },
  {
   "cell_type": "code",
   "execution_count": 156,
   "id": "bfd9b88a",
   "metadata": {},
   "outputs": [],
   "source": [
    "c=[]\n",
    "\n",
    "for x in b:\n",
    "    if x not in c:\n",
    "        c.append(x)\n",
    "        "
   ]
  },
  {
   "cell_type": "code",
   "execution_count": 157,
   "id": "29605b5b",
   "metadata": {},
   "outputs": [
    {
     "data": {
      "text/plain": [
       "[1, 2, 3, 4]"
      ]
     },
     "execution_count": 157,
     "metadata": {},
     "output_type": "execute_result"
    }
   ],
   "source": [
    "c"
   ]
  },
  {
   "cell_type": "markdown",
   "id": "9ce464e6",
   "metadata": {},
   "source": [
    "# Tuples"
   ]
  },
  {
   "cell_type": "code",
   "execution_count": 158,
   "id": "ce0b4338",
   "metadata": {},
   "outputs": [],
   "source": [
    "## Its a read only data type\n",
    "## All the functionality of read of lists are applied here , except for right operations."
   ]
  },
  {
   "cell_type": "code",
   "execution_count": 160,
   "id": "e2035f04",
   "metadata": {},
   "outputs": [],
   "source": [
    "## Tuples are immutable and hence changes can't be made inside tuple, adding , deletion , editing can't be done.\n",
    "## Only deletion of whole tuple is possible not deleting particular items"
   ]
  },
  {
   "cell_type": "code",
   "execution_count": 166,
   "id": "2c2293cc",
   "metadata": {},
   "outputs": [],
   "source": [
    "T=(1,2,3,4,5)"
   ]
  },
  {
   "cell_type": "code",
   "execution_count": 167,
   "id": "bee5213d",
   "metadata": {},
   "outputs": [
    {
     "ename": "TypeError",
     "evalue": "'tuple' object doesn't support item deletion",
     "output_type": "error",
     "traceback": [
      "\u001b[0;31m---------------------------------------------------------------------------\u001b[0m",
      "\u001b[0;31mTypeError\u001b[0m                                 Traceback (most recent call last)",
      "\u001b[0;32m<ipython-input-167-b0f3b1880785>\u001b[0m in \u001b[0;36m<module>\u001b[0;34m\u001b[0m\n\u001b[0;32m----> 1\u001b[0;31m \u001b[0;32mdel\u001b[0m \u001b[0mT\u001b[0m\u001b[0;34m[\u001b[0m\u001b[0;36m0\u001b[0m\u001b[0;34m]\u001b[0m \u001b[0;31m## part of tuple can't be deleted\u001b[0m\u001b[0;34m\u001b[0m\u001b[0;34m\u001b[0m\u001b[0m\n\u001b[0m",
      "\u001b[0;31mTypeError\u001b[0m: 'tuple' object doesn't support item deletion"
     ]
    }
   ],
   "source": [
    "del T[0] ## part of tuple can't be deleted"
   ]
  },
  {
   "cell_type": "code",
   "execution_count": 168,
   "id": "f94dad18",
   "metadata": {},
   "outputs": [],
   "source": [
    "del T ## whole tuple deleted "
   ]
  },
  {
   "cell_type": "code",
   "execution_count": 169,
   "id": "8d9ed1a3",
   "metadata": {},
   "outputs": [
    {
     "ename": "NameError",
     "evalue": "name 'T' is not defined",
     "output_type": "error",
     "traceback": [
      "\u001b[0;31m---------------------------------------------------------------------------\u001b[0m",
      "\u001b[0;31mNameError\u001b[0m                                 Traceback (most recent call last)",
      "\u001b[0;32m<ipython-input-169-29704cb91324>\u001b[0m in \u001b[0;36m<module>\u001b[0;34m\u001b[0m\n\u001b[0;32m----> 1\u001b[0;31m \u001b[0mT\u001b[0m\u001b[0;34m\u001b[0m\u001b[0;34m\u001b[0m\u001b[0m\n\u001b[0m",
      "\u001b[0;31mNameError\u001b[0m: name 'T' is not defined"
     ]
    }
   ],
   "source": [
    "T"
   ]
  },
  {
   "cell_type": "markdown",
   "id": "deb8798c",
   "metadata": {},
   "source": [
    "# Functions"
   ]
  },
  {
   "cell_type": "code",
   "execution_count": 170,
   "id": "3a55d000",
   "metadata": {},
   "outputs": [],
   "source": [
    "def odd_even(i):\n",
    "    if i%2==0:\n",
    "        return \"Even\"\n",
    "    else:\n",
    "       return \"Odd\""
   ]
  },
  {
   "cell_type": "code",
   "execution_count": 171,
   "id": "dce93de2",
   "metadata": {},
   "outputs": [
    {
     "data": {
      "text/plain": [
       "'Odd'"
      ]
     },
     "execution_count": 171,
     "metadata": {},
     "output_type": "execute_result"
    }
   ],
   "source": [
    "odd_even(11)"
   ]
  },
  {
   "cell_type": "code",
   "execution_count": 175,
   "id": "a82258a8",
   "metadata": {},
   "outputs": [],
   "source": [
    "def odd_even(i):\n",
    "    if i%2==0:\n",
    "        print(\"Even\")\n",
    "    else:\n",
    "        print(\"Odd\")\n",
    "        \n",
    "## This function is not returning anything , but printing Even         "
   ]
  },
  {
   "cell_type": "code",
   "execution_count": 173,
   "id": "962949cb",
   "metadata": {},
   "outputs": [
    {
     "name": "stdout",
     "output_type": "stream",
     "text": [
      "Even\n",
      "None\n"
     ]
    }
   ],
   "source": [
    "x=odd_even(4)\n",
    "print(x)"
   ]
  },
  {
   "cell_type": "code",
   "execution_count": 174,
   "id": "39462d8d",
   "metadata": {},
   "outputs": [
    {
     "name": "stdout",
     "output_type": "stream",
     "text": [
      "Even\n"
     ]
    }
   ],
   "source": [
    "odd_even(4)"
   ]
  },
  {
   "cell_type": "code",
   "execution_count": 182,
   "id": "53b26ccc",
   "metadata": {},
   "outputs": [
    {
     "name": "stdout",
     "output_type": "stream",
     "text": [
      "Even\n",
      "None\n"
     ]
    }
   ],
   "source": [
    "print(odd_even(4))"
   ]
  },
  {
   "cell_type": "code",
   "execution_count": 179,
   "id": "80af3ccf",
   "metadata": {},
   "outputs": [],
   "source": [
    "# The asterisk defines that any flexible number of arguments can come in and it converts it into tuple \n",
    "# Then we can just run a loop over it.\n",
    "\n",
    "def flexi(*number):\n",
    "    product=1\n",
    "    print(number)\n",
    "    for x in number:\n",
    "        product=x*product\n",
    "    print(product)    "
   ]
  },
  {
   "cell_type": "code",
   "execution_count": 180,
   "id": "946b633c",
   "metadata": {},
   "outputs": [
    {
     "name": "stdout",
     "output_type": "stream",
     "text": [
      "(1, 2)\n",
      "2\n"
     ]
    }
   ],
   "source": [
    "flexi(1,2)"
   ]
  },
  {
   "cell_type": "code",
   "execution_count": 181,
   "id": "7ad31713",
   "metadata": {},
   "outputs": [
    {
     "name": "stdout",
     "output_type": "stream",
     "text": [
      "(1, 2, 3, 4, 5)\n",
      "120\n"
     ]
    }
   ],
   "source": [
    "flexi(1,2,3,4,5)"
   ]
  },
  {
   "cell_type": "code",
   "execution_count": null,
   "id": "587068da",
   "metadata": {},
   "outputs": [],
   "source": []
  }
 ],
 "metadata": {
  "kernelspec": {
   "display_name": "Python 3 (ipykernel)",
   "language": "python",
   "name": "python3"
  },
  "language_info": {
   "codemirror_mode": {
    "name": "ipython",
    "version": 3
   },
   "file_extension": ".py",
   "mimetype": "text/x-python",
   "name": "python",
   "nbconvert_exporter": "python",
   "pygments_lexer": "ipython3",
   "version": "3.10.5"
  }
 },
 "nbformat": 4,
 "nbformat_minor": 5
}
